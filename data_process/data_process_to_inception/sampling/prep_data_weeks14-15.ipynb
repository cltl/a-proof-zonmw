{
 "metadata": {
  "language_info": {
   "codemirror_mode": {
    "name": "ipython",
    "version": 3
   },
   "file_extension": ".py",
   "mimetype": "text/x-python",
   "name": "python",
   "nbconvert_exporter": "python",
   "pygments_lexer": "ipython3",
   "version": "3.8.5-final"
  },
  "orig_nbformat": 2,
  "kernelspec": {
   "name": "python3",
   "display_name": "Python 3.8.5 64-bit ('zonmw': conda)",
   "metadata": {
    "interpreter": {
     "hash": "5a0a696a2c4562c805ef24bd77b26c70704f51e5d276869b3745fd7123bf8c36"
    }
   }
  }
 },
 "nbformat": 4,
 "nbformat_minor": 2,
 "cells": [
  {
   "cell_type": "code",
   "execution_count": 1,
   "metadata": {},
   "outputs": [],
   "source": [
    "import spacy\n",
    "import pandas as pd\n",
    "from pathlib import Path\n",
    "from datetime import datetime\n",
    "\n",
    "import sys\n",
    "sys.path.insert(0, '../..')\n",
    "from src.data_process.keyword_search import get_regex, get_reg_dict, find_keywords\n",
    "from src.data_process.select_batch_for_annotation import select_notes\n",
    "from src.data_process.text_to_conll import row_to_conllfile\n",
    "from src.utils.df_funcs import remove_on_multikeys"
   ]
  },
  {
   "source": [
    "# Load data"
   ],
   "cell_type": "markdown",
   "metadata": {}
  },
  {
   "cell_type": "code",
   "execution_count": 3,
   "metadata": {},
   "outputs": [],
   "source": [
    "path = Path('../../data')"
   ]
  },
  {
   "cell_type": "code",
   "execution_count": 2,
   "metadata": {},
   "outputs": [],
   "source": [
    "all_2017 = pd.read_pickle(path / '2017_raw/processed.pkl')\n",
    "all_2018 = pd.read_pickle(path / '2018_raw/processed.pkl')\n",
    "all_2020 = pd.read_pickle(path / '2020_raw/processed.pkl')\n",
    "cov_2020 = pd.read_pickle(path / '2020_raw/ICD_U07.1/notes_[U07.1]_2020_q1_q2_q3.pkl')\n",
    "non_cov_2020 = remove_on_multikeys(all_2020, cov_2020, ['MDN', 'NotitieID'])"
   ]
  },
  {
   "cell_type": "code",
   "execution_count": 4,
   "metadata": {},
   "outputs": [],
   "source": [
    "annotated = pd.read_csv(path / 'annotated_notes_ids.csv', dtype={'MDN': str, 'NotitieID': str})"
   ]
  },
  {
   "cell_type": "code",
   "execution_count": 5,
   "metadata": {},
   "outputs": [],
   "source": [
    "keywords = pd.read_excel('../../keywords/keywords_v2.xlsx')"
   ]
  },
  {
   "source": [
    "# Exclude annotated and sample"
   ],
   "cell_type": "markdown",
   "metadata": {}
  },
  {
   "cell_type": "code",
   "execution_count": 10,
   "metadata": {},
   "outputs": [
    {
     "output_type": "stream",
     "name": "stdout",
     "text": [
      "2017:\n",
      "Before exclusion: len(df)=4244705\n",
      "After exclusion: len(df)=4240944\n",
      "2018:\n",
      "Before exclusion: len(df)=2451973\n",
      "After exclusion: len(df)=2451973\n",
      "cov_2020:\n",
      "Before exclusion: len(df)=44938\n",
      "After exclusion: len(df)=43182\n",
      "non_cov_2020:\n",
      "Before exclusion: len(df)=2603090\n",
      "After exclusion: len(df)=2603090\n"
     ]
    }
   ],
   "source": [
    "data = {'2017': all_2017, '2018': all_2018, 'cov_2020': cov_2020, 'non_cov_2020': non_cov_2020}\n",
    "\n",
    "def exclude_annotated_and_sample(df, annotated, n_sample=50000, random_state=20):\n",
    "    print(f\"Before exclusion: {len(df)=}\")\n",
    "    df = df.loc[~df.NotitieID.isin(annotated.NotitieID)].copy()\n",
    "    print(f\"After exclusion: {len(df)=}\")\n",
    "    if len(df) > n_sample:\n",
    "        df = df.sample(n_sample, random_state=random_state)\n",
    "    return df\n",
    "\n",
    "for source, df in data.items():\n",
    "    print(f\"{source}:\")\n",
    "    data[source] = exclude_annotated_and_sample(df, annotated)"
   ]
  },
  {
   "source": [
    "# Keyword search"
   ],
   "cell_type": "markdown",
   "metadata": {}
  },
  {
   "cell_type": "code",
   "execution_count": 13,
   "metadata": {},
   "outputs": [
    {
     "output_type": "stream",
     "name": "stdout",
     "text": [
      "2017: len(df)=50000\n",
      "0:01:11.106147\n",
      "2018: len(df)=50000\n",
      "0:01:16.138884\n",
      "cov_2020: len(df)=43182\n",
      "../../src/data_process/keyword_search.py:81: SettingWithCopyWarning: \n",
      "A value is trying to be set on a copy of a slice from a DataFrame.\n",
      "Try using .loc[row_indexer,col_indexer] = value instead\n",
      "\n",
      "See the caveats in the documentation: https://pandas.pydata.org/pandas-docs/stable/user_guide/indexing.html#returning-a-view-versus-a-copy\n",
      "  df[k] = df.all_text.str.findall(v, flags=re.IGNORECASE)\n",
      "0:01:11.273365\n",
      "non_cov_2020: len(df)=50000\n",
      "0:01:20.571392\n"
     ]
    }
   ],
   "source": [
    "keywords['regex'] = keywords.apply(lambda row: get_regex(row.keyword, row.regex_template_id), axis=1)\n",
    "reg_dict = get_reg_dict(keywords)\n",
    "\n",
    "for source, df in data.items():\n",
    "    print(f\"{source}: {len(df)=}\")   \n",
    "    start_time = datetime.now()\n",
    "    data[source] = find_keywords(df, reg_dict)\n",
    "    print(datetime.now() - start_time)"
   ]
  },
  {
   "source": [
    "# Select notes"
   ],
   "cell_type": "markdown",
   "metadata": {}
  },
  {
   "cell_type": "code",
   "execution_count": 21,
   "metadata": {},
   "outputs": [],
   "source": [
    "week_14 = select_notes(data)"
   ]
  },
  {
   "cell_type": "code",
   "execution_count": 23,
   "metadata": {},
   "outputs": [
    {
     "output_type": "execute_result",
     "data": {
      "text/plain": [
       "source    2017      2018      cov_2020              non_cov_2020      Total\n",
       "samp_meth  kwd rndm  kwd rndm      kwd kwd_iaa rndm          kwd rndm      \n",
       "annotator                                                                  \n",
       "avelli       8    2    8    2       20       5    5            8    2    60\n",
       "katsburg     8    2    8    2       20       5    5            8    2    60\n",
       "meskers      8    2    8    2       20       5    5            8    2    60\n",
       "opsomer      8    2    8    2       20       5    5            8    2    60\n",
       "swartjes     8    2    8    2       20       5    5            8    2    60\n",
       "vervaart     8    2    8    2       20       5    5            8    2    60\n",
       "ze_edith     8    2    8    2       20       5    5            8    2    60\n",
       "ze_hinke     8    2    8    2       20       5    5            8    2    60\n",
       "ze_ron       8    2    8    2       20       5    5            8    2    60\n",
       "Total       72   18   72   18      180      45   45           72   18   540"
      ],
      "text/html": "<div>\n<style scoped>\n    .dataframe tbody tr th:only-of-type {\n        vertical-align: middle;\n    }\n\n    .dataframe tbody tr th {\n        vertical-align: top;\n    }\n\n    .dataframe thead tr th {\n        text-align: left;\n    }\n\n    .dataframe thead tr:last-of-type th {\n        text-align: right;\n    }\n</style>\n<table border=\"1\" class=\"dataframe\">\n  <thead>\n    <tr>\n      <th>source</th>\n      <th colspan=\"2\" halign=\"left\">2017</th>\n      <th colspan=\"2\" halign=\"left\">2018</th>\n      <th colspan=\"3\" halign=\"left\">cov_2020</th>\n      <th colspan=\"2\" halign=\"left\">non_cov_2020</th>\n      <th>Total</th>\n    </tr>\n    <tr>\n      <th>samp_meth</th>\n      <th>kwd</th>\n      <th>rndm</th>\n      <th>kwd</th>\n      <th>rndm</th>\n      <th>kwd</th>\n      <th>kwd_iaa</th>\n      <th>rndm</th>\n      <th>kwd</th>\n      <th>rndm</th>\n      <th></th>\n    </tr>\n    <tr>\n      <th>annotator</th>\n      <th></th>\n      <th></th>\n      <th></th>\n      <th></th>\n      <th></th>\n      <th></th>\n      <th></th>\n      <th></th>\n      <th></th>\n      <th></th>\n    </tr>\n  </thead>\n  <tbody>\n    <tr>\n      <th>avelli</th>\n      <td>8</td>\n      <td>2</td>\n      <td>8</td>\n      <td>2</td>\n      <td>20</td>\n      <td>5</td>\n      <td>5</td>\n      <td>8</td>\n      <td>2</td>\n      <td>60</td>\n    </tr>\n    <tr>\n      <th>katsburg</th>\n      <td>8</td>\n      <td>2</td>\n      <td>8</td>\n      <td>2</td>\n      <td>20</td>\n      <td>5</td>\n      <td>5</td>\n      <td>8</td>\n      <td>2</td>\n      <td>60</td>\n    </tr>\n    <tr>\n      <th>meskers</th>\n      <td>8</td>\n      <td>2</td>\n      <td>8</td>\n      <td>2</td>\n      <td>20</td>\n      <td>5</td>\n      <td>5</td>\n      <td>8</td>\n      <td>2</td>\n      <td>60</td>\n    </tr>\n    <tr>\n      <th>opsomer</th>\n      <td>8</td>\n      <td>2</td>\n      <td>8</td>\n      <td>2</td>\n      <td>20</td>\n      <td>5</td>\n      <td>5</td>\n      <td>8</td>\n      <td>2</td>\n      <td>60</td>\n    </tr>\n    <tr>\n      <th>swartjes</th>\n      <td>8</td>\n      <td>2</td>\n      <td>8</td>\n      <td>2</td>\n      <td>20</td>\n      <td>5</td>\n      <td>5</td>\n      <td>8</td>\n      <td>2</td>\n      <td>60</td>\n    </tr>\n    <tr>\n      <th>vervaart</th>\n      <td>8</td>\n      <td>2</td>\n      <td>8</td>\n      <td>2</td>\n      <td>20</td>\n      <td>5</td>\n      <td>5</td>\n      <td>8</td>\n      <td>2</td>\n      <td>60</td>\n    </tr>\n    <tr>\n      <th>ze_edith</th>\n      <td>8</td>\n      <td>2</td>\n      <td>8</td>\n      <td>2</td>\n      <td>20</td>\n      <td>5</td>\n      <td>5</td>\n      <td>8</td>\n      <td>2</td>\n      <td>60</td>\n    </tr>\n    <tr>\n      <th>ze_hinke</th>\n      <td>8</td>\n      <td>2</td>\n      <td>8</td>\n      <td>2</td>\n      <td>20</td>\n      <td>5</td>\n      <td>5</td>\n      <td>8</td>\n      <td>2</td>\n      <td>60</td>\n    </tr>\n    <tr>\n      <th>ze_ron</th>\n      <td>8</td>\n      <td>2</td>\n      <td>8</td>\n      <td>2</td>\n      <td>20</td>\n      <td>5</td>\n      <td>5</td>\n      <td>8</td>\n      <td>2</td>\n      <td>60</td>\n    </tr>\n    <tr>\n      <th>Total</th>\n      <td>72</td>\n      <td>18</td>\n      <td>72</td>\n      <td>18</td>\n      <td>180</td>\n      <td>45</td>\n      <td>45</td>\n      <td>72</td>\n      <td>18</td>\n      <td>540</td>\n    </tr>\n  </tbody>\n</table>\n</div>"
     },
     "metadata": {},
     "execution_count": 23
    }
   ],
   "source": [
    "week_14.pivot_table(\n",
    "    index=['annotator'],\n",
    "    columns=['source', 'samp_meth'],\n",
    "    values='NotitieID',\n",
    "    aggfunc='count',\n",
    "    margins=True,\n",
    "    margins_name='Total',\n",
    ")"
   ]
  },
  {
   "cell_type": "code",
   "execution_count": 25,
   "metadata": {},
   "outputs": [],
   "source": [
    "# exclude week 14 sample from data before selecting notes for week 15\n",
    "data = {source:df.query(\"NotitieID not in @week_14.NotitieID\") for source, df in data.items()}\n",
    "week_15 = select_notes(data, iaa_sources=['2018'])"
   ]
  },
  {
   "cell_type": "code",
   "execution_count": 26,
   "metadata": {},
   "outputs": [
    {
     "output_type": "execute_result",
     "data": {
      "text/plain": [
       "source    2017      2018              cov_2020      non_cov_2020      Total\n",
       "samp_meth  kwd rndm  kwd kwd_iaa rndm      kwd rndm          kwd rndm      \n",
       "annotator                                                                  \n",
       "avelli       8    2    4       5    1       24    6            8    2    60\n",
       "katsburg     8    2    4       5    1       24    6            8    2    60\n",
       "meskers      8    2    4       5    1       24    6            8    2    60\n",
       "opsomer      8    2    4       5    1       24    6            8    2    60\n",
       "swartjes     8    2    4       5    1       24    6            8    2    60\n",
       "vervaart     8    2    4       5    1       24    6            8    2    60\n",
       "ze_edith     8    2    4       5    1       24    6            8    2    60\n",
       "ze_hinke     8    2    4       5    1       24    6            8    2    60\n",
       "ze_ron       8    2    4       5    1       24    6            8    2    60\n",
       "Total       72   18   36      45    9      216   54           72   18   540"
      ],
      "text/html": "<div>\n<style scoped>\n    .dataframe tbody tr th:only-of-type {\n        vertical-align: middle;\n    }\n\n    .dataframe tbody tr th {\n        vertical-align: top;\n    }\n\n    .dataframe thead tr th {\n        text-align: left;\n    }\n\n    .dataframe thead tr:last-of-type th {\n        text-align: right;\n    }\n</style>\n<table border=\"1\" class=\"dataframe\">\n  <thead>\n    <tr>\n      <th>source</th>\n      <th colspan=\"2\" halign=\"left\">2017</th>\n      <th colspan=\"3\" halign=\"left\">2018</th>\n      <th colspan=\"2\" halign=\"left\">cov_2020</th>\n      <th colspan=\"2\" halign=\"left\">non_cov_2020</th>\n      <th>Total</th>\n    </tr>\n    <tr>\n      <th>samp_meth</th>\n      <th>kwd</th>\n      <th>rndm</th>\n      <th>kwd</th>\n      <th>kwd_iaa</th>\n      <th>rndm</th>\n      <th>kwd</th>\n      <th>rndm</th>\n      <th>kwd</th>\n      <th>rndm</th>\n      <th></th>\n    </tr>\n    <tr>\n      <th>annotator</th>\n      <th></th>\n      <th></th>\n      <th></th>\n      <th></th>\n      <th></th>\n      <th></th>\n      <th></th>\n      <th></th>\n      <th></th>\n      <th></th>\n    </tr>\n  </thead>\n  <tbody>\n    <tr>\n      <th>avelli</th>\n      <td>8</td>\n      <td>2</td>\n      <td>4</td>\n      <td>5</td>\n      <td>1</td>\n      <td>24</td>\n      <td>6</td>\n      <td>8</td>\n      <td>2</td>\n      <td>60</td>\n    </tr>\n    <tr>\n      <th>katsburg</th>\n      <td>8</td>\n      <td>2</td>\n      <td>4</td>\n      <td>5</td>\n      <td>1</td>\n      <td>24</td>\n      <td>6</td>\n      <td>8</td>\n      <td>2</td>\n      <td>60</td>\n    </tr>\n    <tr>\n      <th>meskers</th>\n      <td>8</td>\n      <td>2</td>\n      <td>4</td>\n      <td>5</td>\n      <td>1</td>\n      <td>24</td>\n      <td>6</td>\n      <td>8</td>\n      <td>2</td>\n      <td>60</td>\n    </tr>\n    <tr>\n      <th>opsomer</th>\n      <td>8</td>\n      <td>2</td>\n      <td>4</td>\n      <td>5</td>\n      <td>1</td>\n      <td>24</td>\n      <td>6</td>\n      <td>8</td>\n      <td>2</td>\n      <td>60</td>\n    </tr>\n    <tr>\n      <th>swartjes</th>\n      <td>8</td>\n      <td>2</td>\n      <td>4</td>\n      <td>5</td>\n      <td>1</td>\n      <td>24</td>\n      <td>6</td>\n      <td>8</td>\n      <td>2</td>\n      <td>60</td>\n    </tr>\n    <tr>\n      <th>vervaart</th>\n      <td>8</td>\n      <td>2</td>\n      <td>4</td>\n      <td>5</td>\n      <td>1</td>\n      <td>24</td>\n      <td>6</td>\n      <td>8</td>\n      <td>2</td>\n      <td>60</td>\n    </tr>\n    <tr>\n      <th>ze_edith</th>\n      <td>8</td>\n      <td>2</td>\n      <td>4</td>\n      <td>5</td>\n      <td>1</td>\n      <td>24</td>\n      <td>6</td>\n      <td>8</td>\n      <td>2</td>\n      <td>60</td>\n    </tr>\n    <tr>\n      <th>ze_hinke</th>\n      <td>8</td>\n      <td>2</td>\n      <td>4</td>\n      <td>5</td>\n      <td>1</td>\n      <td>24</td>\n      <td>6</td>\n      <td>8</td>\n      <td>2</td>\n      <td>60</td>\n    </tr>\n    <tr>\n      <th>ze_ron</th>\n      <td>8</td>\n      <td>2</td>\n      <td>4</td>\n      <td>5</td>\n      <td>1</td>\n      <td>24</td>\n      <td>6</td>\n      <td>8</td>\n      <td>2</td>\n      <td>60</td>\n    </tr>\n    <tr>\n      <th>Total</th>\n      <td>72</td>\n      <td>18</td>\n      <td>36</td>\n      <td>45</td>\n      <td>9</td>\n      <td>216</td>\n      <td>54</td>\n      <td>72</td>\n      <td>18</td>\n      <td>540</td>\n    </tr>\n  </tbody>\n</table>\n</div>"
     },
     "metadata": {},
     "execution_count": 26
    }
   ],
   "source": [
    "week_15.pivot_table(\n",
    "    index=['annotator'],\n",
    "    columns=['source', 'samp_meth'],\n",
    "    values='NotitieID',\n",
    "    aggfunc='count',\n",
    "    margins=True,\n",
    "    margins_name='Total',\n",
    ")"
   ]
  },
  {
   "cell_type": "code",
   "execution_count": 27,
   "metadata": {},
   "outputs": [],
   "source": [
    "week_14.to_pickle(path / 'to_inception_conll/week_14.pkl')\n",
    "week_15.to_pickle(path / 'to_inception_conll/week_15.pkl')"
   ]
  },
  {
   "source": [
    "# Convert to CoNLL"
   ],
   "cell_type": "markdown",
   "metadata": {}
  },
  {
   "cell_type": "code",
   "execution_count": 4,
   "metadata": {},
   "outputs": [],
   "source": [
    "week_14 = pd.read_pickle(path / 'to_inception_conll/week_14.pkl')\n",
    "week_15 = pd.read_pickle(path / 'to_inception_conll/week_15.pkl')"
   ]
  },
  {
   "cell_type": "code",
   "execution_count": 12,
   "metadata": {},
   "outputs": [],
   "source": [
    "annotators    = ['avelli', 'katsburg', 'meskers', 'opsomer', 'swartjes', 'vervaart']\n",
    "ze = ['ze_edith', 'ze_hinke', 'ze_ron']\n",
    "\n",
    "conllpath = path / 'to_inception_conll'\n",
    "\n",
    "nlp = spacy.load('nl_core_news_sm')\n",
    "\n",
    "for annotator in annotators:\n",
    "\n",
    "    outdir_w14 = conllpath / 'week_14' / annotator\n",
    "    outdir_w14.mkdir(exist_ok=True, parents=True)\n",
    "\n",
    "    outdir_w15 = conllpath / 'week_15' / annotator\n",
    "    outdir_w15.mkdir(exist_ok=True, parents=True)\n",
    "\n",
    "    df = week_14.query(\"annotator == @annotator\")\n",
    "    df.apply(row_to_conllfile, axis=1, nlp=nlp, outdir=outdir_w14, batch='week_14')\n",
    "\n",
    "    df = week_15.query(\"annotator == @annotator\")\n",
    "    df.apply(row_to_conllfile, axis=1, nlp=nlp, outdir=outdir_w15, batch='week_15')\n",
    "\n",
    "for annotator in ze:\n",
    "\n",
    "    outdir = conllpath / 'ze_batch1' / annotator\n",
    "    outdir.mkdir(exist_ok=True, parents=True)\n",
    "\n",
    "    df = week_14.query(\"annotator == @annotator\")\n",
    "    df.apply(row_to_conllfile, axis=1, nlp=nlp, outdir=outdir, batch='ze_batch1')\n",
    "\n",
    "    df = week_15.query(\"annotator == @annotator\")\n",
    "    df.apply(row_to_conllfile, axis=1, nlp=nlp, outdir=outdir, batch='ze_batch1')"
   ]
  },
  {
   "cell_type": "code",
   "execution_count": null,
   "metadata": {},
   "outputs": [],
   "source": []
  }
 ]
}