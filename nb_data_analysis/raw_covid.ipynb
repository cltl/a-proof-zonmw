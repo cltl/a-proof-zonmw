{
 "metadata": {
  "language_info": {
   "codemirror_mode": {
    "name": "ipython",
    "version": 3
   },
   "file_extension": ".py",
   "mimetype": "text/x-python",
   "name": "python",
   "nbconvert_exporter": "python",
   "pygments_lexer": "ipython3",
   "version": "3.8.5"
  },
  "orig_nbformat": 2,
  "kernelspec": {
   "name": "python3",
   "display_name": "Python 3.8.5 64-bit ('zonmw': conda)"
  },
  "interpreter": {
   "hash": "5a0a696a2c4562c805ef24bd77b26c70704f51e5d276869b3745fd7123bf8c36"
  }
 },
 "nbformat": 4,
 "nbformat_minor": 2,
 "cells": [
  {
   "cell_type": "markdown",
   "source": [
    "# COVID-19 data\n",
    "\n",
    "- Notes of patients with the diagnosis `COVID-19, virus geïdentificeerd \\[U07.1]`.\n",
    "- The data is from 2020 and Q1 of 2021.\n",
    "- The data is from the two locations of the Amsterdam UMC: `amc` and `vumc`."
   ],
   "metadata": {}
  },
  {
   "cell_type": "code",
   "execution_count": 1,
   "source": [
    "import pandas as pd\n",
    "\n",
    "import sys\n",
    "sys.path.insert(0, '..')\n",
    "from utils.latex import show_latex\n",
    "from utils.config import PATHS"
   ],
   "outputs": [],
   "metadata": {}
  },
  {
   "cell_type": "markdown",
   "source": [
    "# Load data"
   ],
   "metadata": {}
  },
  {
   "cell_type": "code",
   "execution_count": 2,
   "source": [
    "datapath = PATHS.getpath('data')\n",
    "\n",
    "cov1 = pd.read_pickle(datapath / '2020_raw/ICD_U07.1/notes_[U07.1]_2020_q1_q2_q3.pkl')\n",
    "cov2 = pd.read_pickle(datapath / '2020-Q4_2021-Q1_raw/ICD_U07.1/notes_[U07.1]_2020_q4_2021_q1.pkl')\n",
    "\n",
    "df = pd.concat([cov1, cov2], ignore_index=True).drop_duplicates(subset=['MDN', 'NotitieID', 'all_text'])"
   ],
   "outputs": [],
   "metadata": {}
  },
  {
   "cell_type": "markdown",
   "source": [
    "# Mark annotated"
   ],
   "metadata": {}
  },
  {
   "cell_type": "code",
   "execution_count": 3,
   "source": [
    "def isin_multicol(\n",
    "    df1 : pd.DataFrame,\n",
    "    df2 : pd.DataFrame,\n",
    "    *args\n",
    ") -> pd.Series:\n",
    "    cols = list(args)\n",
    "    return df1.set_index(cols).index.isin(df2.set_index(cols).index)"
   ],
   "outputs": [],
   "metadata": {}
  },
  {
   "cell_type": "code",
   "execution_count": 4,
   "source": [
    "annotated = pd.read_csv(datapath / 'annotated_notes_ids.csv', dtype={'MDN': str, 'NotitieID': str})\n",
    "\n",
    "df['annotated'] = df.pipe(isin_multicol, annotated, 'institution', 'MDN', 'NotitieID')"
   ],
   "outputs": [],
   "metadata": {}
  },
  {
   "cell_type": "markdown",
   "source": [
    "# Stats"
   ],
   "metadata": {}
  },
  {
   "cell_type": "code",
   "execution_count": 5,
   "source": [
    "df.pivot_table(\n",
    "    index=['institution'],\n",
    "    columns=['annotated'],\n",
    "    values=['NotitieID', 'MDN'],\n",
    "    aggfunc={'MDN': 'nunique', 'NotitieID': 'count'},\n",
    "    margins=True,\n",
    "    margins_name='Total',\n",
    ").iloc[:,2:].pipe(show_latex, caption='na', label='na')"
   ],
   "outputs": [
    {
     "output_type": "execute_result",
     "data": {
      "text/plain": [
       "               MDN NotitieID                \n",
       "annotated    Total     False   True    Total\n",
       "institution                                 \n",
       "amc            719    60,678  1,314   61,992\n",
       "vumc           577    47,722  1,067   48,789\n",
       "Total        1,290   108,400  2,381  110,781"
      ],
      "text/html": [
       "<div>\n",
       "<style scoped>\n",
       "    .dataframe tbody tr th:only-of-type {\n",
       "        vertical-align: middle;\n",
       "    }\n",
       "\n",
       "    .dataframe tbody tr th {\n",
       "        vertical-align: top;\n",
       "    }\n",
       "\n",
       "    .dataframe thead tr th {\n",
       "        text-align: left;\n",
       "    }\n",
       "\n",
       "    .dataframe thead tr:last-of-type th {\n",
       "        text-align: right;\n",
       "    }\n",
       "</style>\n",
       "<table border=\"1\" class=\"dataframe\">\n",
       "  <thead>\n",
       "    <tr>\n",
       "      <th></th>\n",
       "      <th>MDN</th>\n",
       "      <th colspan=\"3\" halign=\"left\">NotitieID</th>\n",
       "    </tr>\n",
       "    <tr>\n",
       "      <th>annotated</th>\n",
       "      <th>Total</th>\n",
       "      <th>False</th>\n",
       "      <th>True</th>\n",
       "      <th>Total</th>\n",
       "    </tr>\n",
       "    <tr>\n",
       "      <th>institution</th>\n",
       "      <th></th>\n",
       "      <th></th>\n",
       "      <th></th>\n",
       "      <th></th>\n",
       "    </tr>\n",
       "  </thead>\n",
       "  <tbody>\n",
       "    <tr>\n",
       "      <th>amc</th>\n",
       "      <td>719</td>\n",
       "      <td>60,678</td>\n",
       "      <td>1,314</td>\n",
       "      <td>61,992</td>\n",
       "    </tr>\n",
       "    <tr>\n",
       "      <th>vumc</th>\n",
       "      <td>577</td>\n",
       "      <td>47,722</td>\n",
       "      <td>1,067</td>\n",
       "      <td>48,789</td>\n",
       "    </tr>\n",
       "    <tr>\n",
       "      <th>Total</th>\n",
       "      <td>1,290</td>\n",
       "      <td>108,400</td>\n",
       "      <td>2,381</td>\n",
       "      <td>110,781</td>\n",
       "    </tr>\n",
       "  </tbody>\n",
       "</table>\n",
       "</div>"
      ]
     },
     "metadata": {},
     "execution_count": 5
    }
   ],
   "metadata": {}
  },
  {
   "cell_type": "markdown",
   "source": [
    "# Save"
   ],
   "metadata": {}
  },
  {
   "cell_type": "code",
   "execution_count": 6,
   "source": [
    "df.drop(columns='all_text').to_pickle('covid_data.pkl')"
   ],
   "outputs": [],
   "metadata": {}
  },
  {
   "cell_type": "code",
   "execution_count": 7,
   "source": [
    "df.drop(columns='all_text').to_csv('covid_data.tsv', sep='\\t', index=False)"
   ],
   "outputs": [],
   "metadata": {}
  },
  {
   "cell_type": "code",
   "execution_count": null,
   "source": [],
   "outputs": [],
   "metadata": {}
  }
 ]
}