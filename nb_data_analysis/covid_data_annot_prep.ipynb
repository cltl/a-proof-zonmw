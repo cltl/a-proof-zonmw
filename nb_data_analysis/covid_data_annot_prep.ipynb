{
 "cells": [
  {
   "cell_type": "markdown",
   "metadata": {},
   "source": [
    "# COVID-19 data\n",
    "\n",
    "- Notes of patients with the diagnosis `COVID-19, virus geïdentificeerd \\[U07.1]`.\n",
    "- The data is from 2020 and Q1 of 2021.\n",
    "- The data is from the two locations of the Amsterdam UMC: `amc` and `vumc`."
   ]
  },
  {
   "cell_type": "code",
   "execution_count": 1,
   "metadata": {},
   "outputs": [],
   "source": [
    "import pandas as pd\n",
    "\n",
    "import sys\n",
    "sys.path.insert(0, '..')\n",
    "from utils.latex import show_latex\n",
    "from utils.config import PATHS"
   ]
  },
  {
   "cell_type": "code",
   "execution_count": 2,
   "metadata": {},
   "outputs": [],
   "source": [
    "pd.set_option('max_colwidth', None)"
   ]
  },
  {
   "cell_type": "markdown",
   "metadata": {},
   "source": [
    "# Load data\n",
    "\n",
    "- To see how the `covid_data_with_text.pkl` file was created, see `covid_data_prep.ipynb`.\n",
    "- For stats about the data see `covid_data_stats.ipynb`."
   ]
  },
  {
   "cell_type": "code",
   "execution_count": 3,
   "metadata": {},
   "outputs": [],
   "source": [
    "datapath = PATHS.getpath('data_covid')\n",
    "df = pd.read_pickle(datapath / 'covid_data_with_text.pkl')\n",
    "\n",
    "df.Notitiedatum = pd.to_datetime(df.Notitiedatum)"
   ]
  },
  {
   "cell_type": "code",
   "execution_count": 4,
   "metadata": {},
   "outputs": [],
   "source": [
    "domains=['ADM', 'ATT', 'BER', 'ENR', 'ETN', 'FAC', 'INS', 'MBW', 'STM']\n",
    "levels = [f\"{domain}_lvl\" for domain in domains]"
   ]
  },
  {
   "cell_type": "markdown",
   "metadata": {},
   "source": [
    "# Data selection for annotation\n",
    "\n",
    "## Definitions\n",
    "- Discharge date: after this date there are at least 2 days without any notes\n",
    "- 1st follow-up: between 70-110 days after discharge\n",
    "- 2nd follow-up: between 160-200 days after discharge"
   ]
  },
  {
   "cell_type": "markdown",
   "metadata": {},
   "source": [
    "## BATCH 1"
   ]
  },
  {
   "cell_type": "markdown",
   "metadata": {},
   "source": [
    "### Patient selection\n",
    "1. Have notes on at least 5 unique dates\n",
    "1. Have both the 1st and the 2nd follow-ups\n",
    "1. No more than 100 notes per patient"
   ]
  },
  {
   "cell_type": "code",
   "execution_count": 5,
   "metadata": {},
   "outputs": [],
   "source": [
    "# create time_df with discharge date, first follo-up, second follow-up\n",
    "\n",
    "timedelta = pd.Timedelta(2, unit='D')\n",
    "subset = ['MDN', 'Notitiedatum']\n",
    "\n",
    "def get_discharge_date(df):\n",
    "    cond = lambda df: df.delta_note_dates > timedelta\n",
    "    s = df[cond].groupby('MDN').Notitiedatum.min()\n",
    "    return df.MDN.replace(s)\n",
    "\n",
    "def has_follow_up(df, start, end):\n",
    "    start = pd.Timedelta(start, unit='D')\n",
    "    end = pd.Timedelta(end, unit='D')\n",
    "    within_period = lambda i: start <= i <= end\n",
    "    has_period = lambda s: s.apply(within_period).any()\n",
    "    return df.groupby('MDN').delta_discharge_date.transform(has_period)\n",
    "\n",
    "s = df.groupby('MDN').Notitiedatum.nunique()[lambda s: s >= 5]\n",
    "time_df = df.query(\n",
    "    'MDN in @s.index'\n",
    ").drop_duplicates(subset=subset)[subset].sort_values(subset).assign(\n",
    "    date_next_note = lambda df: df.groupby('MDN').Notitiedatum.shift(-1),\n",
    "    delta_note_dates = lambda df: df.date_next_note - df.Notitiedatum,\n",
    ").loc[\n",
    "    lambda df: df.groupby('MDN').delta_note_dates.transform(max) > timedelta\n",
    "].assign(\n",
    "    discharge_date = get_discharge_date,\n",
    "    delta_discharge_date = lambda df: df.Notitiedatum - df.discharge_date,\n",
    "    first_follow_up = lambda df: df.pipe(has_follow_up, start=70, end=110),\n",
    "    second_follow_up = lambda df: df.pipe(has_follow_up, start=160, end=200),\n",
    ")"
   ]
  },
  {
   "cell_type": "code",
   "execution_count": 6,
   "metadata": {},
   "outputs": [
    {
     "data": {
      "text/plain": [
       "153"
      ]
     },
     "execution_count": 6,
     "metadata": {},
     "output_type": "execute_result"
    }
   ],
   "source": [
    "# select patients with both follow-ups and no more than 100 notes\n",
    "\n",
    "both_follow_ups = time_df.first_follow_up & time_df.second_follow_up\n",
    "pts = time_df.loc[both_follow_ups].MDN.unique()\n",
    "s = df.query(\"MDN in @pts\").groupby('MDN').NotitieID.size()\n",
    "s = s.loc[lambda s: s <= 100]\n",
    "len(s)"
   ]
  },
  {
   "cell_type": "code",
   "execution_count": 7,
   "metadata": {},
   "outputs": [
    {
     "data": {
      "text/plain": [
       "<AxesSubplot:>"
      ]
     },
     "execution_count": 7,
     "metadata": {},
     "output_type": "execute_result"
    },
    {
     "data": {
      "image/png": "[encoded data removed]",
      "text/plain": [
       "<Figure size 576x360 with 1 Axes>"
      ]
     },
     "metadata": {
      "needs_background": "light"
     },
     "output_type": "display_data"
    }
   ],
   "source": [
    "# distribution\n",
    "\n",
    "bins = range(0,110,10)\n",
    "pd.cut(s, bins=bins).value_counts(sort=False).plot.bar(figsize=(8,5))"
   ]
  },
  {
   "cell_type": "markdown",
   "metadata": {},
   "source": [
    "### Notes"
   ]
  },
  {
   "cell_type": "code",
   "execution_count": 8,
   "metadata": {},
   "outputs": [
    {
     "data": {
      "text/plain": [
       "8416"
      ]
     },
     "execution_count": 8,
     "metadata": {},
     "output_type": "execute_result"
    }
   ],
   "source": [
    "# total number of notes\n",
    "\n",
    "selection = df.query(\"MDN in @s.index\")\n",
    "selection.shape[0]"
   ]
  },
  {
   "cell_type": "code",
   "execution_count": 9,
   "metadata": {},
   "outputs": [
    {
     "data": {
      "text/html": [
       "<div>\n",
       "<style scoped>\n",
       "    .dataframe tbody tr th:only-of-type {\n",
       "        vertical-align: middle;\n",
       "    }\n",
       "\n",
       "    .dataframe tbody tr th {\n",
       "        vertical-align: top;\n",
       "    }\n",
       "\n",
       "    .dataframe thead th {\n",
       "        text-align: right;\n",
       "    }\n",
       "</style>\n",
       "<table border=\"1\" class=\"dataframe\">\n",
       "  <thead>\n",
       "    <tr style=\"text-align: right;\">\n",
       "      <th>annotated</th>\n",
       "      <th>False</th>\n",
       "      <th>True</th>\n",
       "      <th>Total</th>\n",
       "    </tr>\n",
       "  </thead>\n",
       "  <tbody>\n",
       "    <tr>\n",
       "      <th>ADM_lvl</th>\n",
       "      <td>3,813</td>\n",
       "      <td>173</td>\n",
       "      <td>3,986</td>\n",
       "    </tr>\n",
       "    <tr>\n",
       "      <th>ATT_lvl</th>\n",
       "      <td>108</td>\n",
       "      <td>17</td>\n",
       "      <td>125</td>\n",
       "    </tr>\n",
       "    <tr>\n",
       "      <th>BER_lvl</th>\n",
       "      <td>301</td>\n",
       "      <td>16</td>\n",
       "      <td>317</td>\n",
       "    </tr>\n",
       "    <tr>\n",
       "      <th>ENR_lvl</th>\n",
       "      <td>909</td>\n",
       "      <td>67</td>\n",
       "      <td>976</td>\n",
       "    </tr>\n",
       "    <tr>\n",
       "      <th>ETN_lvl</th>\n",
       "      <td>1,079</td>\n",
       "      <td>50</td>\n",
       "      <td>1,129</td>\n",
       "    </tr>\n",
       "    <tr>\n",
       "      <th>FAC_lvl</th>\n",
       "      <td>934</td>\n",
       "      <td>45</td>\n",
       "      <td>979</td>\n",
       "    </tr>\n",
       "    <tr>\n",
       "      <th>INS_lvl</th>\n",
       "      <td>708</td>\n",
       "      <td>69</td>\n",
       "      <td>777</td>\n",
       "    </tr>\n",
       "    <tr>\n",
       "      <th>MBW_lvl</th>\n",
       "      <td>535</td>\n",
       "      <td>43</td>\n",
       "      <td>578</td>\n",
       "    </tr>\n",
       "    <tr>\n",
       "      <th>STM_lvl</th>\n",
       "      <td>981</td>\n",
       "      <td>38</td>\n",
       "      <td>1,019</td>\n",
       "    </tr>\n",
       "    <tr>\n",
       "      <th>Total notes with label(s)</th>\n",
       "      <td>4,782</td>\n",
       "      <td>207</td>\n",
       "      <td>4,989</td>\n",
       "    </tr>\n",
       "  </tbody>\n",
       "</table>\n",
       "</div>"
      ],
      "text/plain": [
       "annotated                  False True  Total\n",
       "ADM_lvl                    3,813  173  3,986\n",
       "ATT_lvl                      108   17    125\n",
       "BER_lvl                      301   16    317\n",
       "ENR_lvl                      909   67    976\n",
       "ETN_lvl                    1,079   50  1,129\n",
       "FAC_lvl                      934   45    979\n",
       "INS_lvl                      708   69    777\n",
       "MBW_lvl                      535   43    578\n",
       "STM_lvl                      981   38  1,019\n",
       "Total notes with label(s)  4,782  207  4,989"
      ]
     },
     "execution_count": 9,
     "metadata": {},
     "output_type": "execute_result"
    }
   ],
   "source": [
    "# notes with labels (gold / predicted)\n",
    "\n",
    "df_any_lvl = selection.assign(any_lvl = selection[levels].any(axis=1))\n",
    "totals = df_any_lvl.groupby('annotated').any_lvl.sum().rename('Total notes with label(s)')\n",
    "totals['Total'] = df_any_lvl.any_lvl.sum()\n",
    "\n",
    "table = selection.pivot_table(\n",
    "    index = 'annotated',\n",
    "    values = levels,\n",
    "    aggfunc = 'count',\n",
    ").T\n",
    "table['Total'] = table.sum(axis=1)\n",
    "table = table.append(totals)\n",
    "table.pipe(show_latex, caption='na', label='na')"
   ]
  },
  {
   "cell_type": "markdown",
   "metadata": {},
   "source": [
    "### Save files\n",
    "\n",
    "- Every Excel file contains the notes of one patient, in a chronological order.\n",
    "- The `levels` columns (e.g. `ADM_lvl`) are empty."
   ]
  },
  {
   "cell_type": "code",
   "execution_count": 46,
   "metadata": {},
   "outputs": [],
   "source": [
    "for mdn in selection.MDN.unique():\n",
    "    recs = selection.query(\"MDN == @mdn\").sort_values('Notitiedatum').iloc[:, :7].join(pd.DataFrame(columns=levels))\n",
    "    filename = f'{mdn}-n.recs-{recs.shape[0]}.xlsx'\n",
    "\n",
    "    path = PATHS.getpath('data_timeseries_annot')\n",
    "    recs.to_excel(path / filename, index=False)"
   ]
  },
  {
   "cell_type": "code",
   "execution_count": null,
   "metadata": {},
   "outputs": [],
   "source": []
  }
 ],
 "metadata": {
  "interpreter": {
   "hash": "0a745a5ce24bf0564702fada073f7ad5f0343784cd5c9c24dd58300f36d6ec01"
  },
  "kernelspec": {
   "display_name": "Python 3.8.5 64-bit ('zonmw': conda)",
   "language": "python",
   "name": "python3"
  },
  "language_info": {
   "codemirror_mode": {
    "name": "ipython",
    "version": 3
   },
   "file_extension": ".py",
   "mimetype": "text/x-python",
   "name": "python",
   "nbconvert_exporter": "python",
   "pygments_lexer": "ipython3",
   "version": "3.8.5"
  },
  "orig_nbformat": 4
 },
 "nbformat": 4,
 "nbformat_minor": 2
}
