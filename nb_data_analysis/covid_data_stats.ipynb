{
 "metadata": {
  "language_info": {
   "codemirror_mode": {
    "name": "ipython",
    "version": 3
   },
   "file_extension": ".py",
   "mimetype": "text/x-python",
   "name": "python",
   "nbconvert_exporter": "python",
   "pygments_lexer": "ipython3",
   "version": "3.8.5"
  },
  "orig_nbformat": 2,
  "kernelspec": {
   "name": "python3",
   "display_name": "Python 3.8.5 64-bit ('zonmw': conda)"
  },
  "interpreter": {
   "hash": "5a0a696a2c4562c805ef24bd77b26c70704f51e5d276869b3745fd7123bf8c36"
  }
 },
 "nbformat": 4,
 "nbformat_minor": 2,
 "cells": [
  {
   "cell_type": "markdown",
   "source": [
    "# COVID-19 data\n",
    "\n",
    "- Notes of patients with the diagnosis `COVID-19, virus geïdentificeerd \\[U07.1]`.\n",
    "- The data is from 2020 and Q1 of 2021.\n",
    "- The data is from the two locations of the Amsterdam UMC: `amc` and `vumc`."
   ],
   "metadata": {}
  },
  {
   "cell_type": "code",
   "execution_count": 1,
   "source": [
    "import pandas as pd\n",
    "\n",
    "import sys\n",
    "sys.path.insert(0, '..')\n",
    "from utils.latex import show_latex\n",
    "from utils.config import PATHS"
   ],
   "outputs": [],
   "metadata": {}
  },
  {
   "cell_type": "markdown",
   "source": [
    "# Load data\n",
    "\n",
    "To see how the `covid_data.pkl` file was created, see `covid_data_prep.ipynb`."
   ],
   "metadata": {}
  },
  {
   "cell_type": "code",
   "execution_count": 2,
   "source": [
    "datapath = PATHS.getpath('data_covid')\n",
    "df = pd.read_pickle(datapath / 'covid_data.pkl')"
   ],
   "outputs": [],
   "metadata": {}
  },
  {
   "cell_type": "code",
   "execution_count": 3,
   "source": [
    "domains=['ADM', 'ATT', 'BER', 'ENR', 'ETN', 'FAC', 'INS', 'MBW', 'STM']\n",
    "levels = [f\"{domain}_lvl\" for domain in domains]"
   ],
   "outputs": [],
   "metadata": {}
  },
  {
   "cell_type": "markdown",
   "source": [
    "# Number of patients and notes\n",
    "\n",
    "Overview of the data:\n",
    "- Number of patients ('MDN')\n",
    "- Number of notes ('NotitieID'); the notes are divided into annotated and not annotated"
   ],
   "metadata": {}
  },
  {
   "cell_type": "code",
   "execution_count": 4,
   "source": [
    "df.pivot_table(\n",
    "    index=['institution'],\n",
    "    columns=['annotated'],\n",
    "    values=['NotitieID', 'MDN'],\n",
    "    aggfunc={'MDN': 'nunique', 'NotitieID': 'count'},\n",
    "    margins=True,\n",
    "    margins_name='Total',\n",
    ").iloc[:,2:].pipe(show_latex, caption='na', label='na')"
   ],
   "outputs": [
    {
     "output_type": "execute_result",
     "data": {
      "text/plain": [
       "               MDN NotitieID                \n",
       "annotated    Total     False   True    Total\n",
       "institution                                 \n",
       "amc            719    60,678  1,314   61,992\n",
       "vumc           577    47,722  1,067   48,789\n",
       "Total        1,290   108,400  2,381  110,781"
      ],
      "text/html": [
       "<div>\n",
       "<style scoped>\n",
       "    .dataframe tbody tr th:only-of-type {\n",
       "        vertical-align: middle;\n",
       "    }\n",
       "\n",
       "    .dataframe tbody tr th {\n",
       "        vertical-align: top;\n",
       "    }\n",
       "\n",
       "    .dataframe thead tr th {\n",
       "        text-align: left;\n",
       "    }\n",
       "\n",
       "    .dataframe thead tr:last-of-type th {\n",
       "        text-align: right;\n",
       "    }\n",
       "</style>\n",
       "<table border=\"1\" class=\"dataframe\">\n",
       "  <thead>\n",
       "    <tr>\n",
       "      <th></th>\n",
       "      <th>MDN</th>\n",
       "      <th colspan=\"3\" halign=\"left\">NotitieID</th>\n",
       "    </tr>\n",
       "    <tr>\n",
       "      <th>annotated</th>\n",
       "      <th>Total</th>\n",
       "      <th>False</th>\n",
       "      <th>True</th>\n",
       "      <th>Total</th>\n",
       "    </tr>\n",
       "    <tr>\n",
       "      <th>institution</th>\n",
       "      <th></th>\n",
       "      <th></th>\n",
       "      <th></th>\n",
       "      <th></th>\n",
       "    </tr>\n",
       "  </thead>\n",
       "  <tbody>\n",
       "    <tr>\n",
       "      <th>amc</th>\n",
       "      <td>719</td>\n",
       "      <td>60,678</td>\n",
       "      <td>1,314</td>\n",
       "      <td>61,992</td>\n",
       "    </tr>\n",
       "    <tr>\n",
       "      <th>vumc</th>\n",
       "      <td>577</td>\n",
       "      <td>47,722</td>\n",
       "      <td>1,067</td>\n",
       "      <td>48,789</td>\n",
       "    </tr>\n",
       "    <tr>\n",
       "      <th>Total</th>\n",
       "      <td>1,290</td>\n",
       "      <td>108,400</td>\n",
       "      <td>2,381</td>\n",
       "      <td>110,781</td>\n",
       "    </tr>\n",
       "  </tbody>\n",
       "</table>\n",
       "</div>"
      ]
     },
     "metadata": {},
     "execution_count": 4
    }
   ],
   "metadata": {}
  },
  {
   "cell_type": "markdown",
   "source": [
    "# Labels\n",
    "\n",
    "Number of notes with labels.\n",
    "- For annotated==True, the labels are gold labels from annotations\n",
    "- For annotated==False, the labels are predictions generated by the ML models"
   ],
   "metadata": {}
  },
  {
   "cell_type": "code",
   "execution_count": 6,
   "source": [
    "df_any_lvl = df.assign(any_lvl = df[levels].any(axis=1))\n",
    "totals = df_any_lvl.groupby('annotated').any_lvl.sum().rename('Total notes with label(s)')\n",
    "totals['Total'] = df_any_lvl.any_lvl.sum()\n",
    "\n",
    "table = df.pivot_table(\n",
    "    index = 'annotated',\n",
    "    values = levels,\n",
    "    aggfunc = 'count',\n",
    ").T\n",
    "table['Total'] = table.sum(axis=1)\n",
    "table = table.append(totals)\n",
    "table.pipe(show_latex, caption='na', label='na')"
   ],
   "outputs": [
    {
     "output_type": "execute_result",
     "data": {
      "text/plain": [
       "annotated                   False   True   Total\n",
       "ADM_lvl                    53,320  1,613  54,933\n",
       "ATT_lvl                       939     97   1,036\n",
       "BER_lvl                     1,973     71   2,044\n",
       "ENR_lvl                     8,481    415   8,896\n",
       "ETN_lvl                    24,089    829  24,918\n",
       "FAC_lvl                    12,771    352  13,123\n",
       "INS_lvl                     7,719    417   8,136\n",
       "MBW_lvl                     3,864    209   4,073\n",
       "STM_lvl                    14,111    377  14,488\n",
       "Total notes with label(s)  69,320  1,760  71,080"
      ],
      "text/html": [
       "<div>\n",
       "<style scoped>\n",
       "    .dataframe tbody tr th:only-of-type {\n",
       "        vertical-align: middle;\n",
       "    }\n",
       "\n",
       "    .dataframe tbody tr th {\n",
       "        vertical-align: top;\n",
       "    }\n",
       "\n",
       "    .dataframe thead th {\n",
       "        text-align: right;\n",
       "    }\n",
       "</style>\n",
       "<table border=\"1\" class=\"dataframe\">\n",
       "  <thead>\n",
       "    <tr style=\"text-align: right;\">\n",
       "      <th>annotated</th>\n",
       "      <th>False</th>\n",
       "      <th>True</th>\n",
       "      <th>Total</th>\n",
       "    </tr>\n",
       "  </thead>\n",
       "  <tbody>\n",
       "    <tr>\n",
       "      <th>ADM_lvl</th>\n",
       "      <td>53,320</td>\n",
       "      <td>1,613</td>\n",
       "      <td>54,933</td>\n",
       "    </tr>\n",
       "    <tr>\n",
       "      <th>ATT_lvl</th>\n",
       "      <td>939</td>\n",
       "      <td>97</td>\n",
       "      <td>1,036</td>\n",
       "    </tr>\n",
       "    <tr>\n",
       "      <th>BER_lvl</th>\n",
       "      <td>1,973</td>\n",
       "      <td>71</td>\n",
       "      <td>2,044</td>\n",
       "    </tr>\n",
       "    <tr>\n",
       "      <th>ENR_lvl</th>\n",
       "      <td>8,481</td>\n",
       "      <td>415</td>\n",
       "      <td>8,896</td>\n",
       "    </tr>\n",
       "    <tr>\n",
       "      <th>ETN_lvl</th>\n",
       "      <td>24,089</td>\n",
       "      <td>829</td>\n",
       "      <td>24,918</td>\n",
       "    </tr>\n",
       "    <tr>\n",
       "      <th>FAC_lvl</th>\n",
       "      <td>12,771</td>\n",
       "      <td>352</td>\n",
       "      <td>13,123</td>\n",
       "    </tr>\n",
       "    <tr>\n",
       "      <th>INS_lvl</th>\n",
       "      <td>7,719</td>\n",
       "      <td>417</td>\n",
       "      <td>8,136</td>\n",
       "    </tr>\n",
       "    <tr>\n",
       "      <th>MBW_lvl</th>\n",
       "      <td>3,864</td>\n",
       "      <td>209</td>\n",
       "      <td>4,073</td>\n",
       "    </tr>\n",
       "    <tr>\n",
       "      <th>STM_lvl</th>\n",
       "      <td>14,111</td>\n",
       "      <td>377</td>\n",
       "      <td>14,488</td>\n",
       "    </tr>\n",
       "    <tr>\n",
       "      <th>Total notes with label(s)</th>\n",
       "      <td>69,320</td>\n",
       "      <td>1,760</td>\n",
       "      <td>71,080</td>\n",
       "    </tr>\n",
       "  </tbody>\n",
       "</table>\n",
       "</div>"
      ]
     },
     "metadata": {},
     "execution_count": 6
    }
   ],
   "metadata": {}
  },
  {
   "cell_type": "code",
   "execution_count": null,
   "source": [],
   "outputs": [],
   "metadata": {}
  }
 ]
}