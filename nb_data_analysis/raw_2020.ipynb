{
 "metadata": {
  "language_info": {
   "codemirror_mode": {
    "name": "ipython",
    "version": 3
   },
   "file_extension": ".py",
   "mimetype": "text/x-python",
   "name": "python",
   "nbconvert_exporter": "python",
   "pygments_lexer": "ipython3",
   "version": "3.8.5-final"
  },
  "orig_nbformat": 2,
  "kernelspec": {
   "name": "python3",
   "display_name": "Python 3.8.5 64-bit ('zonmw': conda)",
   "metadata": {
    "interpreter": {
     "hash": "5a0a696a2c4562c805ef24bd77b26c70704f51e5d276869b3745fd7123bf8c36"
    }
   }
  }
 },
 "nbformat": 4,
 "nbformat_minor": 2,
 "cells": [
  {
   "cell_type": "code",
   "execution_count": 1,
   "metadata": {},
   "outputs": [],
   "source": [
    "import pandas as pd\n",
    "from pathlib import Path\n",
    "\n",
    "import sys\n",
    "sys.path.insert(0, '../..')\n",
    "from scripts.utils.latex import show_latex, TABLES"
   ]
  },
  {
   "source": [
    "# Load data"
   ],
   "cell_type": "markdown",
   "metadata": {}
  },
  {
   "cell_type": "code",
   "execution_count": 2,
   "metadata": {},
   "outputs": [],
   "source": [
    "datapath = Path('../../data')\n",
    "\n",
    "notes = pd.read_pickle(datapath / '2020_raw/processed.pkl')\n",
    "cov = pd.read_pickle(datapath / '2020_raw/ICD_U07.1/notes_[U07.1]_2020_q1_q2_q3.pkl')\n",
    "annotated = pd.read_csv(path / 'annotated_notes_ids.csv', dtype={'MDN': str, 'NotitieID': str})"
   ]
  },
  {
   "cell_type": "code",
   "execution_count": 3,
   "metadata": {},
   "outputs": [],
   "source": [
    "cols = ['MDN', 'CSN', 'typecontact', 'DBC-id', 'specialisme', 'episodenaam', 'DBC_diagnose', 'ICD10_diagnose']\n",
    "settings = dict(sep=';', names=cols, encoding = 'utf-8')\n",
    "extract_name = lambda f: str(f).split(' ')[1].lower()\n",
    "dfs = {extract_name(f):pd.read_csv(f, **settings) for f in datapath.glob('Diagnoses*.csv')}\n",
    "diag = pd.concat(dfs.values(), keys=dfs.keys()\n",
    ").astype({'MDN':str}).reset_index(level=0\n",
    ").rename(columns={'level_0': 'institution'})"
   ]
  },
  {
   "source": [
    "# All data"
   ],
   "cell_type": "markdown",
   "metadata": {}
  },
  {
   "cell_type": "code",
   "execution_count": 4,
   "metadata": {},
   "outputs": [
    {
     "output_type": "execute_result",
     "data": {
      "text/plain": [
       "institution                 amc    vumc    total\n",
       "n_unique                                        \n",
       "patients in `Notities`   56,662  43,658  100,320\n",
       "patients in `Diagnoses`  45,154  35,654   80,808"
      ],
      "text/html": "<div>\n<style scoped>\n    .dataframe tbody tr th:only-of-type {\n        vertical-align: middle;\n    }\n\n    .dataframe tbody tr th {\n        vertical-align: top;\n    }\n\n    .dataframe thead th {\n        text-align: right;\n    }\n</style>\n<table border=\"1\" class=\"dataframe\">\n  <thead>\n    <tr style=\"text-align: right;\">\n      <th>institution</th>\n      <th>amc</th>\n      <th>vumc</th>\n      <th>total</th>\n    </tr>\n    <tr>\n      <th>n_unique</th>\n      <th></th>\n      <th></th>\n      <th></th>\n    </tr>\n  </thead>\n  <tbody>\n    <tr>\n      <th>patients in `Notities`</th>\n      <td>56,662</td>\n      <td>43,658</td>\n      <td>100,320</td>\n    </tr>\n    <tr>\n      <th>patients in `Diagnoses`</th>\n      <td>45,154</td>\n      <td>35,654</td>\n      <td>80,808</td>\n    </tr>\n  </tbody>\n</table>\n</div>"
     },
     "metadata": {},
     "execution_count": 4
    }
   ],
   "source": [
    "caption = \"Number of unique patients in `Diagnoses` and `Notities` files\"\n",
    "label = \"2020_n_pat_diag_note\"\n",
    "\n",
    "pd.concat([\n",
    "    notes.groupby('institution').MDN.nunique().rename('patients in `Notities`'),\n",
    "    diag.groupby('institution').MDN.nunique().rename('patients in `Diagnoses`'),\n",
    "    ], axis=1\n",
    ").T.assign(total=lambda df: df.sum(axis=1)).rename_axis('n_unique').pipe(show_latex, caption, label)"
   ]
  },
  {
   "cell_type": "code",
   "execution_count": 5,
   "metadata": {},
   "outputs": [
    {
     "output_type": "execute_result",
     "data": {
      "text/plain": [
       "institution        amc     vumc      total\n",
       "n_unique                                  \n",
       "patients        45,427   36,072     81,499\n",
       "notes        1,287,903  987,870  2,275,773\n",
       "diagnoses        3,272    2,783      6,055"
      ],
      "text/html": "<div>\n<style scoped>\n    .dataframe tbody tr th:only-of-type {\n        vertical-align: middle;\n    }\n\n    .dataframe tbody tr th {\n        vertical-align: top;\n    }\n\n    .dataframe thead th {\n        text-align: right;\n    }\n</style>\n<table border=\"1\" class=\"dataframe\">\n  <thead>\n    <tr style=\"text-align: right;\">\n      <th>institution</th>\n      <th>amc</th>\n      <th>vumc</th>\n      <th>total</th>\n    </tr>\n    <tr>\n      <th>n_unique</th>\n      <th></th>\n      <th></th>\n      <th></th>\n    </tr>\n  </thead>\n  <tbody>\n    <tr>\n      <th>patients</th>\n      <td>45,427</td>\n      <td>36,072</td>\n      <td>81,499</td>\n    </tr>\n    <tr>\n      <th>notes</th>\n      <td>1,287,903</td>\n      <td>987,870</td>\n      <td>2,275,773</td>\n    </tr>\n    <tr>\n      <th>diagnoses</th>\n      <td>3,272</td>\n      <td>2,783</td>\n      <td>6,055</td>\n    </tr>\n  </tbody>\n</table>\n</div>"
     },
     "metadata": {},
     "execution_count": 5
    }
   ],
   "source": [
    "caption = \"All data: num patients, num notes, num diagnoses\"\n",
    "label = \"2020_all_overview\"\n",
    "\n",
    "pd.concat([\n",
    "    notes.query(\"MDN.isin(@diag.MDN)\").groupby('institution').MDN.nunique().rename('patients'),\n",
    "    notes.query(\"MDN.isin(@diag.MDN)\").groupby('institution').NotitieID.nunique().rename('notes'),\n",
    "    diag.groupby('institution').ICD10_diagnose.nunique().rename('diagnoses'),\n",
    "    ], axis=1\n",
    ").T.assign(total=lambda df: df.sum(axis=1)).rename_axis('n_unique').pipe(show_latex, caption, label)"
   ]
  },
  {
   "source": [
    "# COVID\n",
    "\n",
    "### COVID-19, virus geïdentificeerd \\[U07.1]"
   ],
   "cell_type": "markdown",
   "metadata": {}
  },
  {
   "cell_type": "code",
   "execution_count": 6,
   "metadata": {},
   "outputs": [
    {
     "output_type": "execute_result",
     "data": {
      "text/plain": [
       "                         all annotated    rest\n",
       "institution                                   \n",
       "amc         notes     22,220       941  21,279\n",
       "            patients     261        31     230\n",
       "vumc        notes     22,292       746  21,546\n",
       "            patients     233        29     204\n",
       "total       notes     44,512     1,687  42,825\n",
       "            patients     494        60     434"
      ],
      "text/html": "<div>\n<style scoped>\n    .dataframe tbody tr th:only-of-type {\n        vertical-align: middle;\n    }\n\n    .dataframe tbody tr th {\n        vertical-align: top;\n    }\n\n    .dataframe thead th {\n        text-align: right;\n    }\n</style>\n<table border=\"1\" class=\"dataframe\">\n  <thead>\n    <tr style=\"text-align: right;\">\n      <th></th>\n      <th></th>\n      <th>all</th>\n      <th>annotated</th>\n      <th>rest</th>\n    </tr>\n    <tr>\n      <th>institution</th>\n      <th></th>\n      <th></th>\n      <th></th>\n      <th></th>\n    </tr>\n  </thead>\n  <tbody>\n    <tr>\n      <th rowspan=\"2\" valign=\"top\">amc</th>\n      <th>notes</th>\n      <td>22,220</td>\n      <td>941</td>\n      <td>21,279</td>\n    </tr>\n    <tr>\n      <th>patients</th>\n      <td>261</td>\n      <td>31</td>\n      <td>230</td>\n    </tr>\n    <tr>\n      <th rowspan=\"2\" valign=\"top\">vumc</th>\n      <th>notes</th>\n      <td>22,292</td>\n      <td>746</td>\n      <td>21,546</td>\n    </tr>\n    <tr>\n      <th>patients</th>\n      <td>233</td>\n      <td>29</td>\n      <td>204</td>\n    </tr>\n    <tr>\n      <th rowspan=\"2\" valign=\"top\">total</th>\n      <th>notes</th>\n      <td>44,512</td>\n      <td>1,687</td>\n      <td>42,825</td>\n    </tr>\n    <tr>\n      <th>patients</th>\n      <td>494</td>\n      <td>60</td>\n      <td>434</td>\n    </tr>\n  </tbody>\n</table>\n</div>"
     },
     "metadata": {},
     "execution_count": 6
    }
   ],
   "source": [
    "caption = \"COVID data overview ('COVID-19, virus geïdentificeerd [U07.1]')\"\n",
    "label = \"2020_covid_overview\"\n",
    "\n",
    "selection = annotated.query(\"year==2020\")\n",
    "piv = pd.concat([\n",
    "    selection.groupby('institution')[['MDN', 'NotitieID']].nunique(),\n",
    "    cov.groupby('institution')[['MDN', 'NotitieID']].nunique(),\n",
    "], keys=['annotated', 'all']).rename(columns={'MDN':'patients', 'NotitieID':'notes'}\n",
    ").unstack(0).stack(0).assign(rest=lambda df: df['all'] - df.annotated)\n",
    "\n",
    "piv.append(pd.concat([piv.xs('amc') + piv.xs('vumc')], keys=['total'])).pipe(show_latex, caption, label)"
   ]
  },
  {
   "cell_type": "code",
   "execution_count": 7,
   "metadata": {},
   "outputs": [],
   "source": [
    "prefix = '2020'\n",
    "for idx, table in enumerate(TABLES):\n",
    "    with open(f'./tables/{prefix}_{idx}.tex', 'w', encoding='utf8') as f:\n",
    "        f.write(table)"
   ]
  },
  {
   "cell_type": "code",
   "execution_count": null,
   "metadata": {},
   "outputs": [],
   "source": []
  }
 ]
}