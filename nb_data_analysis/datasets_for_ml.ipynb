{
 "cells": [
  {
   "cell_type": "markdown",
   "source": [
    "# Stats about Train / Dev / Test sets"
   ],
   "metadata": {}
  },
  {
   "cell_type": "code",
   "execution_count": 1,
   "source": [
    "import pandas as pd\n",
    "\n",
    "import sys\n",
    "sys.path.insert(0, '../')\n",
    "from utils.config import PATHS"
   ],
   "outputs": [],
   "metadata": {}
  },
  {
   "cell_type": "markdown",
   "source": [
    "## Load data"
   ],
   "metadata": {}
  },
  {
   "cell_type": "code",
   "execution_count": 2,
   "source": [
    "datapath = PATHS.getpath('data_expr_sept')\n",
    "train = pd.read_pickle(datapath / 'clf_domains/train.pkl')\n",
    "test = pd.read_pickle(datapath / 'clf_domains/test.pkl')\n",
    "dev = pd.read_pickle(datapath / 'clf_domains/dev.pkl')"
   ],
   "outputs": [],
   "metadata": {}
  },
  {
   "cell_type": "code",
   "execution_count": 3,
   "source": [
    "domains=['ADM', 'ATT', 'BER', 'ENR', 'ETN', 'FAC', 'INS', 'MBW', 'STM']"
   ],
   "outputs": [],
   "metadata": {}
  },
  {
   "cell_type": "markdown",
   "source": [
    "## Check correct split\n",
    "\n",
    "i.e. there are no notes that appear in more than one set"
   ],
   "metadata": {}
  },
  {
   "cell_type": "code",
   "execution_count": 4,
   "source": [
    "print(test.NotitieID.isin(train.NotitieID).any())\n",
    "print(dev.NotitieID.isin(train.NotitieID).any())\n",
    "print(dev.NotitieID.isin(test.NotitieID).any())"
   ],
   "outputs": [
    {
     "output_type": "stream",
     "name": "stdout",
     "text": [
      "False\n",
      "False\n",
      "False\n"
     ]
    }
   ],
   "metadata": {}
  },
  {
   "cell_type": "markdown",
   "source": [
    "## Number of sentences per domain\n",
    "\n",
    "- A sentence can contain more than one domain and therefore be counted more than once.\n",
    "- The last column is the total number of sentences in the dataset (incl. all negative examples)"
   ],
   "metadata": {}
  },
  {
   "cell_type": "code",
   "execution_count": 5,
   "source": [
    "data = pd.concat([\n",
    "    train.assign(dataset = 'train'),\n",
    "    test.assign(dataset = 'test'),\n",
    "    dev.assign(dataset = 'dev'),\n",
    "])\n",
    "\n",
    "balance = pd.DataFrame(\n",
    "    index = pd.MultiIndex.from_frame(data[['dataset', 'pad_sen_id']]),\n",
    "    columns = domains,\n",
    "    data = data.labels.to_list()\n",
    ")\n",
    "\n",
    "dataset_sizes = balance.pivot_table(\n",
    "    index='dataset',\n",
    "    aggfunc='size',\n",
    ").rename('n_sentences')\n",
    "\n",
    "piv = balance.pivot_table(\n",
    "    index='dataset',\n",
    "    aggfunc='sum',\n",
    ").join(dataset_sizes)\n",
    "piv.loc['total'] = piv.sum()\n",
    "\n",
    "piv"
   ],
   "outputs": [
    {
     "output_type": "execute_result",
     "data": {
      "text/plain": [
       "          ADM  ATT  BER   ENR   ETN   FAC   INS  MBW   STM  n_sentences\n",
       "dataset                                                                \n",
       "dev       411   22   29   105   225   119   127   96   147        21742\n",
       "test      405   32   26    98   178   136   133   64   155        22082\n",
       "train    4988  247  213   989  2420  1063  1067  755  1416       242291\n",
       "total    5804  301  268  1192  2823  1318  1327  915  1718       286115"
      ],
      "text/html": [
       "<div>\n",
       "<style scoped>\n",
       "    .dataframe tbody tr th:only-of-type {\n",
       "        vertical-align: middle;\n",
       "    }\n",
       "\n",
       "    .dataframe tbody tr th {\n",
       "        vertical-align: top;\n",
       "    }\n",
       "\n",
       "    .dataframe thead th {\n",
       "        text-align: right;\n",
       "    }\n",
       "</style>\n",
       "<table border=\"1\" class=\"dataframe\">\n",
       "  <thead>\n",
       "    <tr style=\"text-align: right;\">\n",
       "      <th></th>\n",
       "      <th>ADM</th>\n",
       "      <th>ATT</th>\n",
       "      <th>BER</th>\n",
       "      <th>ENR</th>\n",
       "      <th>ETN</th>\n",
       "      <th>FAC</th>\n",
       "      <th>INS</th>\n",
       "      <th>MBW</th>\n",
       "      <th>STM</th>\n",
       "      <th>n_sentences</th>\n",
       "    </tr>\n",
       "    <tr>\n",
       "      <th>dataset</th>\n",
       "      <th></th>\n",
       "      <th></th>\n",
       "      <th></th>\n",
       "      <th></th>\n",
       "      <th></th>\n",
       "      <th></th>\n",
       "      <th></th>\n",
       "      <th></th>\n",
       "      <th></th>\n",
       "      <th></th>\n",
       "    </tr>\n",
       "  </thead>\n",
       "  <tbody>\n",
       "    <tr>\n",
       "      <th>dev</th>\n",
       "      <td>411</td>\n",
       "      <td>22</td>\n",
       "      <td>29</td>\n",
       "      <td>105</td>\n",
       "      <td>225</td>\n",
       "      <td>119</td>\n",
       "      <td>127</td>\n",
       "      <td>96</td>\n",
       "      <td>147</td>\n",
       "      <td>21742</td>\n",
       "    </tr>\n",
       "    <tr>\n",
       "      <th>test</th>\n",
       "      <td>405</td>\n",
       "      <td>32</td>\n",
       "      <td>26</td>\n",
       "      <td>98</td>\n",
       "      <td>178</td>\n",
       "      <td>136</td>\n",
       "      <td>133</td>\n",
       "      <td>64</td>\n",
       "      <td>155</td>\n",
       "      <td>22082</td>\n",
       "    </tr>\n",
       "    <tr>\n",
       "      <th>train</th>\n",
       "      <td>4988</td>\n",
       "      <td>247</td>\n",
       "      <td>213</td>\n",
       "      <td>989</td>\n",
       "      <td>2420</td>\n",
       "      <td>1063</td>\n",
       "      <td>1067</td>\n",
       "      <td>755</td>\n",
       "      <td>1416</td>\n",
       "      <td>242291</td>\n",
       "    </tr>\n",
       "    <tr>\n",
       "      <th>total</th>\n",
       "      <td>5804</td>\n",
       "      <td>301</td>\n",
       "      <td>268</td>\n",
       "      <td>1192</td>\n",
       "      <td>2823</td>\n",
       "      <td>1318</td>\n",
       "      <td>1327</td>\n",
       "      <td>915</td>\n",
       "      <td>1718</td>\n",
       "      <td>286115</td>\n",
       "    </tr>\n",
       "  </tbody>\n",
       "</table>\n",
       "</div>"
      ]
     },
     "metadata": {},
     "execution_count": 5
    }
   ],
   "metadata": {}
  },
  {
   "cell_type": "markdown",
   "source": [
    "## % of domain sentences out of total "
   ],
   "metadata": {}
  },
  {
   "cell_type": "code",
   "execution_count": 6,
   "source": [
    "piv.div(piv.n_sentences, axis=0).mul(100).round(2)"
   ],
   "outputs": [
    {
     "output_type": "execute_result",
     "data": {
      "text/plain": [
       "          ADM   ATT   BER   ENR   ETN   FAC   INS   MBW   STM  n_sentences\n",
       "dataset                                                                   \n",
       "dev      1.89  0.10  0.13  0.48  1.03  0.55  0.58  0.44  0.68        100.0\n",
       "test     1.83  0.14  0.12  0.44  0.81  0.62  0.60  0.29  0.70        100.0\n",
       "train    2.06  0.10  0.09  0.41  1.00  0.44  0.44  0.31  0.58        100.0\n",
       "total    2.03  0.11  0.09  0.42  0.99  0.46  0.46  0.32  0.60        100.0"
      ],
      "text/html": [
       "<div>\n",
       "<style scoped>\n",
       "    .dataframe tbody tr th:only-of-type {\n",
       "        vertical-align: middle;\n",
       "    }\n",
       "\n",
       "    .dataframe tbody tr th {\n",
       "        vertical-align: top;\n",
       "    }\n",
       "\n",
       "    .dataframe thead th {\n",
       "        text-align: right;\n",
       "    }\n",
       "</style>\n",
       "<table border=\"1\" class=\"dataframe\">\n",
       "  <thead>\n",
       "    <tr style=\"text-align: right;\">\n",
       "      <th></th>\n",
       "      <th>ADM</th>\n",
       "      <th>ATT</th>\n",
       "      <th>BER</th>\n",
       "      <th>ENR</th>\n",
       "      <th>ETN</th>\n",
       "      <th>FAC</th>\n",
       "      <th>INS</th>\n",
       "      <th>MBW</th>\n",
       "      <th>STM</th>\n",
       "      <th>n_sentences</th>\n",
       "    </tr>\n",
       "    <tr>\n",
       "      <th>dataset</th>\n",
       "      <th></th>\n",
       "      <th></th>\n",
       "      <th></th>\n",
       "      <th></th>\n",
       "      <th></th>\n",
       "      <th></th>\n",
       "      <th></th>\n",
       "      <th></th>\n",
       "      <th></th>\n",
       "      <th></th>\n",
       "    </tr>\n",
       "  </thead>\n",
       "  <tbody>\n",
       "    <tr>\n",
       "      <th>dev</th>\n",
       "      <td>1.89</td>\n",
       "      <td>0.10</td>\n",
       "      <td>0.13</td>\n",
       "      <td>0.48</td>\n",
       "      <td>1.03</td>\n",
       "      <td>0.55</td>\n",
       "      <td>0.58</td>\n",
       "      <td>0.44</td>\n",
       "      <td>0.68</td>\n",
       "      <td>100.0</td>\n",
       "    </tr>\n",
       "    <tr>\n",
       "      <th>test</th>\n",
       "      <td>1.83</td>\n",
       "      <td>0.14</td>\n",
       "      <td>0.12</td>\n",
       "      <td>0.44</td>\n",
       "      <td>0.81</td>\n",
       "      <td>0.62</td>\n",
       "      <td>0.60</td>\n",
       "      <td>0.29</td>\n",
       "      <td>0.70</td>\n",
       "      <td>100.0</td>\n",
       "    </tr>\n",
       "    <tr>\n",
       "      <th>train</th>\n",
       "      <td>2.06</td>\n",
       "      <td>0.10</td>\n",
       "      <td>0.09</td>\n",
       "      <td>0.41</td>\n",
       "      <td>1.00</td>\n",
       "      <td>0.44</td>\n",
       "      <td>0.44</td>\n",
       "      <td>0.31</td>\n",
       "      <td>0.58</td>\n",
       "      <td>100.0</td>\n",
       "    </tr>\n",
       "    <tr>\n",
       "      <th>total</th>\n",
       "      <td>2.03</td>\n",
       "      <td>0.11</td>\n",
       "      <td>0.09</td>\n",
       "      <td>0.42</td>\n",
       "      <td>0.99</td>\n",
       "      <td>0.46</td>\n",
       "      <td>0.46</td>\n",
       "      <td>0.32</td>\n",
       "      <td>0.60</td>\n",
       "      <td>100.0</td>\n",
       "    </tr>\n",
       "  </tbody>\n",
       "</table>\n",
       "</div>"
      ]
     },
     "metadata": {},
     "execution_count": 6
    }
   ],
   "metadata": {}
  }
 ],
 "metadata": {
  "orig_nbformat": 4,
  "language_info": {
   "name": "python",
   "version": "3.8.5",
   "mimetype": "text/x-python",
   "codemirror_mode": {
    "name": "ipython",
    "version": 3
   },
   "pygments_lexer": "ipython3",
   "nbconvert_exporter": "python",
   "file_extension": ".py"
  },
  "kernelspec": {
   "name": "python3",
   "display_name": "Python 3.8.5 64-bit ('zonmw': conda)"
  },
  "interpreter": {
   "hash": "5a0a696a2c4562c805ef24bd77b26c70704f51e5d276869b3745fd7123bf8c36"
  }
 },
 "nbformat": 4,
 "nbformat_minor": 2
}