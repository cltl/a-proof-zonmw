{
 "cells": [
  {
   "cell_type": "code",
   "execution_count": 16,
   "id": "independent-planning",
   "metadata": {},
   "outputs": [],
   "source": [
    "import pickle\n",
    "import pandas as pd\n",
    "from pathlib import Path"
   ]
  },
  {
   "cell_type": "markdown",
   "id": "experienced-compiler",
   "metadata": {},
   "source": [
    "# Sample data"
   ]
  },
  {
   "cell_type": "code",
   "execution_count": 2,
   "id": "surface-hampton",
   "metadata": {},
   "outputs": [],
   "source": [
    "label_df = '../sample_data_anonym/label_level_df.pkl'\n",
    "token_df = '../sample_data_anonym/token_level_df.pkl'\n",
    "container = '../sample_data_anonym/BERTContainers/Container_notities_2017_deel1_cleaned.csv---25032_avelli.pkl'"
   ]
  },
  {
   "cell_type": "code",
   "execution_count": 3,
   "id": "precious-sierra",
   "metadata": {},
   "outputs": [
    {
     "data": {
      "text/plain": [
       "(21, 6)"
      ]
     },
     "execution_count": 3,
     "metadata": {},
     "output_type": "execute_result"
    }
   ],
   "source": [
    "label_df = pd.read_pickle(label_df)\n",
    "label_df.shape"
   ]
  },
  {
   "cell_type": "code",
   "execution_count": 8,
   "id": "binding-morris",
   "metadata": {},
   "outputs": [
    {
     "data": {
      "text/html": [
       "<div>\n",
       "<style scoped>\n",
       "    .dataframe tbody tr th:only-of-type {\n",
       "        vertical-align: middle;\n",
       "    }\n",
       "\n",
       "    .dataframe tbody tr th {\n",
       "        vertical-align: top;\n",
       "    }\n",
       "\n",
       "    .dataframe thead th {\n",
       "        text-align: right;\n",
       "    }\n",
       "</style>\n",
       "<table border=\"1\" class=\"dataframe\">\n",
       "  <thead>\n",
       "    <tr style=\"text-align: right;\">\n",
       "      <th></th>\n",
       "      <th>file_id</th>\n",
       "      <th>start_index</th>\n",
       "      <th>end_index</th>\n",
       "      <th>tokens</th>\n",
       "      <th>annotators</th>\n",
       "      <th>annotator_count</th>\n",
       "    </tr>\n",
       "  </thead>\n",
       "  <tbody>\n",
       "    <tr>\n",
       "      <th>2503_16.0_16.0_.B152: Stemming</th>\n",
       "      <td>2503</td>\n",
       "      <td>16.0</td>\n",
       "      <td>16.0</td>\n",
       "      <td>[emotioneel]</td>\n",
       "      <td>{avelli, bos}</td>\n",
       "      <td>2</td>\n",
       "    </tr>\n",
       "    <tr>\n",
       "      <th>2503_16.0_16.0_STM 1</th>\n",
       "      <td>2503</td>\n",
       "      <td>16.0</td>\n",
       "      <td>16.0</td>\n",
       "      <td>[emotioneel]</td>\n",
       "      <td>{avelli, bos}</td>\n",
       "      <td>2</td>\n",
       "    </tr>\n",
       "    <tr>\n",
       "      <th>2503_18.0_26.0_stm\\_reaction</th>\n",
       "      <td>2503</td>\n",
       "      <td>18.0</td>\n",
       "      <td>26.0</td>\n",
       "      <td>[schoonzoon, hoort, morgen, de, uitslag, van, ...</td>\n",
       "      <td>{avelli}</td>\n",
       "      <td>1</td>\n",
       "    </tr>\n",
       "    <tr>\n",
       "      <th>2503_29.0_33.0_.B152: Stemming</th>\n",
       "      <td>2503</td>\n",
       "      <td>29.0</td>\n",
       "      <td>33.0</td>\n",
       "      <td>[maakt, zich, hier, veel, zorgen]</td>\n",
       "      <td>{avelli}</td>\n",
       "      <td>1</td>\n",
       "    </tr>\n",
       "    <tr>\n",
       "      <th>2503_29.0_34.0_.B152: Stemming</th>\n",
       "      <td>2503</td>\n",
       "      <td>29.0</td>\n",
       "      <td>34.0</td>\n",
       "      <td>[maakt, zich, hier, veel, zorgen, om]</td>\n",
       "      <td>{bos}</td>\n",
       "      <td>1</td>\n",
       "    </tr>\n",
       "  </tbody>\n",
       "</table>\n",
       "</div>"
      ],
      "text/plain": [
       "                               file_id  start_index  end_index  \\\n",
       "2503_16.0_16.0_.B152: Stemming    2503         16.0       16.0   \n",
       "2503_16.0_16.0_STM 1              2503         16.0       16.0   \n",
       "2503_18.0_26.0_stm\\_reaction      2503         18.0       26.0   \n",
       "2503_29.0_33.0_.B152: Stemming    2503         29.0       33.0   \n",
       "2503_29.0_34.0_.B152: Stemming    2503         29.0       34.0   \n",
       "\n",
       "                                                                           tokens  \\\n",
       "2503_16.0_16.0_.B152: Stemming                                       [emotioneel]   \n",
       "2503_16.0_16.0_STM 1                                                 [emotioneel]   \n",
       "2503_18.0_26.0_stm\\_reaction    [schoonzoon, hoort, morgen, de, uitslag, van, ...   \n",
       "2503_29.0_33.0_.B152: Stemming                  [maakt, zich, hier, veel, zorgen]   \n",
       "2503_29.0_34.0_.B152: Stemming              [maakt, zich, hier, veel, zorgen, om]   \n",
       "\n",
       "                                   annotators  annotator_count  \n",
       "2503_16.0_16.0_.B152: Stemming  {avelli, bos}                2  \n",
       "2503_16.0_16.0_STM 1            {avelli, bos}                2  \n",
       "2503_18.0_26.0_stm\\_reaction         {avelli}                1  \n",
       "2503_29.0_33.0_.B152: Stemming       {avelli}                1  \n",
       "2503_29.0_34.0_.B152: Stemming          {bos}                1  "
      ]
     },
     "execution_count": 8,
     "metadata": {},
     "output_type": "execute_result"
    }
   ],
   "source": [
    "label_df.head()"
   ]
  },
  {
   "cell_type": "code",
   "execution_count": 9,
   "id": "retained-delivery",
   "metadata": {},
   "outputs": [
    {
     "data": {
      "text/plain": [
       "(127, 14)"
      ]
     },
     "execution_count": 9,
     "metadata": {},
     "output_type": "execute_result"
    }
   ],
   "source": [
    "token_df = pd.read_pickle(token_df)\n",
    "token_df.shape"
   ]
  },
  {
   "cell_type": "code",
   "execution_count": 10,
   "id": "outside-blanket",
   "metadata": {},
   "outputs": [
    {
     "data": {
      "text/html": [
       "<div>\n",
       "<style scoped>\n",
       "    .dataframe tbody tr th:only-of-type {\n",
       "        vertical-align: middle;\n",
       "    }\n",
       "\n",
       "    .dataframe tbody tr th {\n",
       "        vertical-align: top;\n",
       "    }\n",
       "\n",
       "    .dataframe thead th {\n",
       "        text-align: right;\n",
       "    }\n",
       "</style>\n",
       "<table border=\"1\" class=\"dataframe\">\n",
       "  <thead>\n",
       "    <tr style=\"text-align: right;\">\n",
       "      <th></th>\n",
       "      <th>token_d_id</th>\n",
       "      <th>token</th>\n",
       "      <th>labels_avelli</th>\n",
       "      <th>relation_avelli</th>\n",
       "      <th>temp</th>\n",
       "      <th>file_id</th>\n",
       "      <th>sent_id</th>\n",
       "      <th>token_s_id</th>\n",
       "      <th>labels_bos</th>\n",
       "      <th>relation_bos</th>\n",
       "      <th>temp</th>\n",
       "      <th>labels_meskers</th>\n",
       "      <th>relation_meskers</th>\n",
       "      <th>temp</th>\n",
       "    </tr>\n",
       "  </thead>\n",
       "  <tbody>\n",
       "    <tr>\n",
       "      <th>2503_0</th>\n",
       "      <td>0.0</td>\n",
       "      <td>NF</td>\n",
       "      <td>_</td>\n",
       "      <td>_</td>\n",
       "      <td>_</td>\n",
       "      <td>2503</td>\n",
       "      <td>1</td>\n",
       "      <td>1</td>\n",
       "      <td>_</td>\n",
       "      <td>_</td>\n",
       "      <td>_</td>\n",
       "      <td>_</td>\n",
       "      <td>_</td>\n",
       "      <td>_</td>\n",
       "    </tr>\n",
       "    <tr>\n",
       "      <th>2503_1</th>\n",
       "      <td>1.0</td>\n",
       "      <td>:</td>\n",
       "      <td>_</td>\n",
       "      <td>_</td>\n",
       "      <td>_</td>\n",
       "      <td>2503</td>\n",
       "      <td>1</td>\n",
       "      <td>2</td>\n",
       "      <td>_</td>\n",
       "      <td>_</td>\n",
       "      <td>_</td>\n",
       "      <td>_</td>\n",
       "      <td>_</td>\n",
       "      <td>_</td>\n",
       "    </tr>\n",
       "    <tr>\n",
       "      <th>2503_2</th>\n",
       "      <td>2.0</td>\n",
       "      <td>Pijn</td>\n",
       "      <td>_</td>\n",
       "      <td>_</td>\n",
       "      <td>_</td>\n",
       "      <td>2503</td>\n",
       "      <td>1</td>\n",
       "      <td>3</td>\n",
       "      <td>_</td>\n",
       "      <td>_</td>\n",
       "      <td>_</td>\n",
       "      <td>_</td>\n",
       "      <td>_</td>\n",
       "      <td>_</td>\n",
       "    </tr>\n",
       "    <tr>\n",
       "      <th>2503_3</th>\n",
       "      <td>3.0</td>\n",
       "      <td>in</td>\n",
       "      <td>_</td>\n",
       "      <td>_</td>\n",
       "      <td>_</td>\n",
       "      <td>2503</td>\n",
       "      <td>1</td>\n",
       "      <td>4</td>\n",
       "      <td>_</td>\n",
       "      <td>_</td>\n",
       "      <td>_</td>\n",
       "      <td>_</td>\n",
       "      <td>_</td>\n",
       "      <td>_</td>\n",
       "    </tr>\n",
       "    <tr>\n",
       "      <th>2503_4</th>\n",
       "      <td>4.0</td>\n",
       "      <td>de</td>\n",
       "      <td>_</td>\n",
       "      <td>_</td>\n",
       "      <td>_</td>\n",
       "      <td>2503</td>\n",
       "      <td>1</td>\n",
       "      <td>5</td>\n",
       "      <td>_</td>\n",
       "      <td>_</td>\n",
       "      <td>_</td>\n",
       "      <td>_</td>\n",
       "      <td>_</td>\n",
       "      <td>_</td>\n",
       "    </tr>\n",
       "  </tbody>\n",
       "</table>\n",
       "</div>"
      ],
      "text/plain": [
       "        token_d_id token labels_avelli relation_avelli temp file_id sent_id  \\\n",
       "2503_0         0.0    NF             _               _    _    2503       1   \n",
       "2503_1         1.0     :             _               _    _    2503       1   \n",
       "2503_2         2.0  Pijn             _               _    _    2503       1   \n",
       "2503_3         3.0    in             _               _    _    2503       1   \n",
       "2503_4         4.0    de             _               _    _    2503       1   \n",
       "\n",
       "       token_s_id labels_bos relation_bos temp labels_meskers  \\\n",
       "2503_0          1          _            _    _              _   \n",
       "2503_1          2          _            _    _              _   \n",
       "2503_2          3          _            _    _              _   \n",
       "2503_3          4          _            _    _              _   \n",
       "2503_4          5          _            _    _              _   \n",
       "\n",
       "       relation_meskers temp  \n",
       "2503_0                _    _  \n",
       "2503_1                _    _  \n",
       "2503_2                _    _  \n",
       "2503_3                _    _  \n",
       "2503_4                _    _  "
      ]
     },
     "execution_count": 10,
     "metadata": {},
     "output_type": "execute_result"
    }
   ],
   "source": [
    "token_df.head()"
   ]
  },
  {
   "cell_type": "code",
   "execution_count": 12,
   "id": "fatty-detroit",
   "metadata": {},
   "outputs": [
    {
     "data": {
      "text/plain": [
       "[<class_definitions.BertContainer at 0x7f0c100ed4c0>,\n",
       " <class_definitions.BertContainer at 0x7f0c1015bd90>]"
      ]
     },
     "execution_count": 12,
     "metadata": {},
     "output_type": "execute_result"
    }
   ],
   "source": [
    "with open(container, \"rb\") as pkl_file:\n",
    "    container = pickle.load(pkl_file)\n",
    "    \n",
    "container"
   ]
  },
  {
   "cell_type": "code",
   "execution_count": 13,
   "id": "julian-bumper",
   "metadata": {},
   "outputs": [
    {
     "data": {
      "text/plain": [
       "{'key': 'notities_2017_deel1_cleaned.csv---25031',\n",
       " 'annotator': 'avelli',\n",
       " 'sen_id': '1',\n",
       " 'sen': 'NF : Pijn in de rug , verlicht met warme handdoek en pcm .',\n",
       " 'encoding': 12345,\n",
       " 'annot': []}"
      ]
     },
     "execution_count": 13,
     "metadata": {},
     "output_type": "execute_result"
    }
   ],
   "source": [
    "sent1 = vars(container[0])\n",
    "sent1"
   ]
  },
  {
   "cell_type": "code",
   "execution_count": 14,
   "id": "mental-affair",
   "metadata": {},
   "outputs": [
    {
     "data": {
      "text/plain": [
       "{'key': 'notities_2017_deel1_cleaned.csv---25032',\n",
       " 'annotator': 'avelli',\n",
       " 'sen_id': '2',\n",
       " 'sen': 'Mw was emotioneel , schoonzoon hoort morgen de uitslag van een aantal onderzoeken en mw maakt zich hier veel zorgen om .',\n",
       " 'encoding': 12345,\n",
       " 'annot': [<class_definitions.Annotation at 0x7f0c100fa880>,\n",
       "  <class_definitions.Annotation at 0x7f0be6253a00>,\n",
       "  <class_definitions.Annotation at 0x7f0be62538b0>,\n",
       "  <class_definitions.Annotation at 0x7f0be6253550>,\n",
       "  <class_definitions.Annotation at 0x7f0c100fef40>]}"
      ]
     },
     "execution_count": 14,
     "metadata": {},
     "output_type": "execute_result"
    }
   ],
   "source": [
    "sent2 = vars(container[1])\n",
    "sent2"
   ]
  },
  {
   "cell_type": "code",
   "execution_count": 15,
   "id": "jewish-amsterdam",
   "metadata": {},
   "outputs": [
    {
     "name": "stdout",
     "output_type": "stream",
     "text": [
      "{'tokens': [('t3', 'emotioneel')], 'label': '.B152: Stemming'}\n",
      "{'tokens': [('t19', 'veel'), ('t20', 'zorgen')], 'label': 'STM 0'}\n",
      "{'tokens': [('t3', 'emotioneel')], 'label': 'STM 1'}\n",
      "{'tokens': [('t5', 'schoonzoon'), ('t6', 'hoort'), ('t7', 'morgen'), ('t8', 'de'), ('t9', 'uitslag'), ('t10', 'van'), ('t11', 'een'), ('t12', 'aantal'), ('t13', 'onderzoeken')], 'label': 'stm\\\\_reaction'}\n",
      "{'tokens': [('t16', 'maakt'), ('t17', 'zich'), ('t18', 'hier'), ('t19', 'veel'), ('t20', 'zorgen')], 'label': '.B152: Stemming'}\n"
     ]
    }
   ],
   "source": [
    "for annot in sent2['annot']:\n",
    "    print(vars(annot))"
   ]
  },
  {
   "cell_type": "markdown",
   "id": "accredited-cabin",
   "metadata": {},
   "source": [
    "## Output from INCEpTION"
   ]
  },
  {
   "cell_type": "code",
   "execution_count": 17,
   "id": "isolated-missouri",
   "metadata": {},
   "outputs": [],
   "source": [
    "incept_dir = '../sample_data_anonym/INCEpTION_output/'"
   ]
  },
  {
   "cell_type": "code",
   "execution_count": null,
   "id": "brilliant-median",
   "metadata": {},
   "outputs": [],
   "source": []
  }
 ],
 "metadata": {
  "kernelspec": {
   "display_name": "zonmw",
   "language": "python",
   "name": "zonmw"
  },
  "language_info": {
   "codemirror_mode": {
    "name": "ipython",
    "version": 3
   },
   "file_extension": ".py",
   "mimetype": "text/x-python",
   "name": "python",
   "nbconvert_exporter": "python",
   "pygments_lexer": "ipython3",
   "version": "3.8.5"
  }
 },
 "nbformat": 4,
 "nbformat_minor": 5
}
