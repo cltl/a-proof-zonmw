{
 "cells": [
  {
   "cell_type": "code",
   "execution_count": 1,
   "id": "independent-planning",
   "metadata": {},
   "outputs": [],
   "source": [
    "import pickle\n",
    "import pandas as pd\n",
    "from pathlib import Path"
   ]
  },
  {
   "cell_type": "markdown",
   "id": "experienced-compiler",
   "metadata": {},
   "source": [
    "# Sample data"
   ]
  },
  {
   "cell_type": "code",
   "execution_count": 2,
   "id": "surface-hampton",
   "metadata": {},
   "outputs": [],
   "source": [
    "label_df = '../sample_data_anonym/label_level_df.pkl'\n",
    "token_df = '../sample_data_anonym/token_level_df.pkl'\n",
    "container = '../sample_data_anonym/BERTContainers/Container_notities_2017_deel1_cleaned.csv---25032_avelli.pkl'"
   ]
  },
  {
   "cell_type": "code",
   "execution_count": 3,
   "id": "precious-sierra",
   "metadata": {},
   "outputs": [
    {
     "output_type": "execute_result",
     "data": {
      "text/plain": [
       "(21, 6)"
      ]
     },
     "metadata": {},
     "execution_count": 3
    }
   ],
   "source": [
    "label_df = pd.read_pickle(label_df)\n",
    "label_df.shape"
   ]
  },
  {
   "cell_type": "code",
   "execution_count": 4,
   "id": "binding-morris",
   "metadata": {},
   "outputs": [
    {
     "output_type": "execute_result",
     "data": {
      "text/plain": [
       "                               file_id  start_index  end_index  \\\n",
       "2503_16.0_16.0_.B152: Stemming    2503         16.0       16.0   \n",
       "2503_16.0_16.0_STM 1              2503         16.0       16.0   \n",
       "2503_18.0_26.0_stm\\_reaction      2503         18.0       26.0   \n",
       "2503_29.0_33.0_.B152: Stemming    2503         29.0       33.0   \n",
       "2503_29.0_34.0_.B152: Stemming    2503         29.0       34.0   \n",
       "\n",
       "                                                                           tokens  \\\n",
       "2503_16.0_16.0_.B152: Stemming                                       [emotioneel]   \n",
       "2503_16.0_16.0_STM 1                                                 [emotioneel]   \n",
       "2503_18.0_26.0_stm\\_reaction    [schoonzoon, hoort, morgen, de, uitslag, van, ...   \n",
       "2503_29.0_33.0_.B152: Stemming                  [maakt, zich, hier, veel, zorgen]   \n",
       "2503_29.0_34.0_.B152: Stemming              [maakt, zich, hier, veel, zorgen, om]   \n",
       "\n",
       "                                   annotators  annotator_count  \n",
       "2503_16.0_16.0_.B152: Stemming  {avelli, bos}                2  \n",
       "2503_16.0_16.0_STM 1            {avelli, bos}                2  \n",
       "2503_18.0_26.0_stm\\_reaction         {avelli}                1  \n",
       "2503_29.0_33.0_.B152: Stemming       {avelli}                1  \n",
       "2503_29.0_34.0_.B152: Stemming          {bos}                1  "
      ],
      "text/html": "<div>\n<style scoped>\n    .dataframe tbody tr th:only-of-type {\n        vertical-align: middle;\n    }\n\n    .dataframe tbody tr th {\n        vertical-align: top;\n    }\n\n    .dataframe thead th {\n        text-align: right;\n    }\n</style>\n<table border=\"1\" class=\"dataframe\">\n  <thead>\n    <tr style=\"text-align: right;\">\n      <th></th>\n      <th>file_id</th>\n      <th>start_index</th>\n      <th>end_index</th>\n      <th>tokens</th>\n      <th>annotators</th>\n      <th>annotator_count</th>\n    </tr>\n  </thead>\n  <tbody>\n    <tr>\n      <th>2503_16.0_16.0_.B152: Stemming</th>\n      <td>2503</td>\n      <td>16.0</td>\n      <td>16.0</td>\n      <td>[emotioneel]</td>\n      <td>{avelli, bos}</td>\n      <td>2</td>\n    </tr>\n    <tr>\n      <th>2503_16.0_16.0_STM 1</th>\n      <td>2503</td>\n      <td>16.0</td>\n      <td>16.0</td>\n      <td>[emotioneel]</td>\n      <td>{avelli, bos}</td>\n      <td>2</td>\n    </tr>\n    <tr>\n      <th>2503_18.0_26.0_stm\\_reaction</th>\n      <td>2503</td>\n      <td>18.0</td>\n      <td>26.0</td>\n      <td>[schoonzoon, hoort, morgen, de, uitslag, van, ...</td>\n      <td>{avelli}</td>\n      <td>1</td>\n    </tr>\n    <tr>\n      <th>2503_29.0_33.0_.B152: Stemming</th>\n      <td>2503</td>\n      <td>29.0</td>\n      <td>33.0</td>\n      <td>[maakt, zich, hier, veel, zorgen]</td>\n      <td>{avelli}</td>\n      <td>1</td>\n    </tr>\n    <tr>\n      <th>2503_29.0_34.0_.B152: Stemming</th>\n      <td>2503</td>\n      <td>29.0</td>\n      <td>34.0</td>\n      <td>[maakt, zich, hier, veel, zorgen, om]</td>\n      <td>{bos}</td>\n      <td>1</td>\n    </tr>\n  </tbody>\n</table>\n</div>"
     },
     "metadata": {},
     "execution_count": 4
    }
   ],
   "source": [
    "label_df.head()"
   ]
  },
  {
   "cell_type": "code",
   "execution_count": 5,
   "id": "retained-delivery",
   "metadata": {},
   "outputs": [
    {
     "output_type": "execute_result",
     "data": {
      "text/plain": [
       "(127, 14)"
      ]
     },
     "metadata": {},
     "execution_count": 5
    }
   ],
   "source": [
    "token_df = pd.read_pickle(token_df)\n",
    "token_df.shape"
   ]
  },
  {
   "cell_type": "code",
   "execution_count": 20,
   "id": "outside-blanket",
   "metadata": {},
   "outputs": [
    {
     "output_type": "execute_result",
     "data": {
      "text/plain": [
       "         token_d_id       token                labels_avelli relation_avelli  \\\n",
       "2503_0          0.0          NF                            _               _   \n",
       "2503_1          1.0           :                            _               _   \n",
       "2503_2          2.0        Pijn                            _               _   \n",
       "2503_3          3.0          in                            _               _   \n",
       "2503_4          4.0          de                            _               _   \n",
       "2503_5          5.0         rug                            _               _   \n",
       "2503_6          6.0           ,                            _               _   \n",
       "2503_7          7.0    verlicht                            _               _   \n",
       "2503_8          8.0         met                            _               _   \n",
       "2503_9          9.0       warme                            _               _   \n",
       "2503_10        10.0    handdoek                            _               _   \n",
       "2503_11        11.0          en                            _               _   \n",
       "2503_12        12.0         pcm                            _               _   \n",
       "2503_13        13.0           .                            _               _   \n",
       "2503_14        14.0          Mw                            _               _   \n",
       "2503_15        15.0         was                            _               _   \n",
       "2503_16        16.0  emotioneel  .B152: Stemming[1]|STM 1[2]       14-3[2_1]   \n",
       "2503_17        17.0           ,                            _               _   \n",
       "2503_18        18.0  schoonzoon             stm\\_reaction[3]               _   \n",
       "2503_19        19.0       hoort             stm\\_reaction[3]               _   \n",
       "\n",
       "        temp file_id sent_id token_s_id                   labels_bos  \\\n",
       "2503_0     _    2503       1          1                            _   \n",
       "2503_1     _    2503       1          2                            _   \n",
       "2503_2     _    2503       1          3                            _   \n",
       "2503_3     _    2503       1          4                            _   \n",
       "2503_4     _    2503       1          5                            _   \n",
       "2503_5     _    2503       1          6                            _   \n",
       "2503_6     _    2503       1          7                            _   \n",
       "2503_7     _    2503       1          8                            _   \n",
       "2503_8     _    2503       1          9                            _   \n",
       "2503_9     _    2503       1         10                            _   \n",
       "2503_10    _    2503       1         11                            _   \n",
       "2503_11    _    2503       1         12                            _   \n",
       "2503_12    _    2503       1         13                            _   \n",
       "2503_13    _    2503       1         14                            _   \n",
       "2503_14    _    2503       2          1                            _   \n",
       "2503_15    _    2503       2          2                            _   \n",
       "2503_16    _    2503       2          3  .B152: Stemming[1]|STM 1[2]   \n",
       "2503_17    _    2503       2          4                            _   \n",
       "2503_18    _    2503       2          5                            _   \n",
       "2503_19    _    2503       2          6                            _   \n",
       "\n",
       "        relation_bos temp labels_meskers relation_meskers temp  \n",
       "2503_0             _    _              _                _    _  \n",
       "2503_1             _    _              _                _    _  \n",
       "2503_2             _    _              _                _    _  \n",
       "2503_3             _    _              _                _    _  \n",
       "2503_4             _    _              _                _    _  \n",
       "2503_5             _    _              _                _    _  \n",
       "2503_6             _    _              _                _    _  \n",
       "2503_7             _    _              _                _    _  \n",
       "2503_8             _    _              _                _    _  \n",
       "2503_9             _    _              _                _    _  \n",
       "2503_10            _    _              _                _    _  \n",
       "2503_11            _    _              _                _    _  \n",
       "2503_12            _    _              _                _    _  \n",
       "2503_13            _    _              _                _    _  \n",
       "2503_14            _    _              _                _    _  \n",
       "2503_15            _    _              _                _    _  \n",
       "2503_16    14-3[2_1]    _              _                _    _  \n",
       "2503_17            _    _              _                _    _  \n",
       "2503_18            _    _              _                _    _  \n",
       "2503_19            _    _              _                _    _  "
      ],
      "text/html": "<div>\n<style scoped>\n    .dataframe tbody tr th:only-of-type {\n        vertical-align: middle;\n    }\n\n    .dataframe tbody tr th {\n        vertical-align: top;\n    }\n\n    .dataframe thead th {\n        text-align: right;\n    }\n</style>\n<table border=\"1\" class=\"dataframe\">\n  <thead>\n    <tr style=\"text-align: right;\">\n      <th></th>\n      <th>token_d_id</th>\n      <th>token</th>\n      <th>labels_avelli</th>\n      <th>relation_avelli</th>\n      <th>temp</th>\n      <th>file_id</th>\n      <th>sent_id</th>\n      <th>token_s_id</th>\n      <th>labels_bos</th>\n      <th>relation_bos</th>\n      <th>temp</th>\n      <th>labels_meskers</th>\n      <th>relation_meskers</th>\n      <th>temp</th>\n    </tr>\n  </thead>\n  <tbody>\n    <tr>\n      <th>2503_0</th>\n      <td>0.0</td>\n      <td>NF</td>\n      <td>_</td>\n      <td>_</td>\n      <td>_</td>\n      <td>2503</td>\n      <td>1</td>\n      <td>1</td>\n      <td>_</td>\n      <td>_</td>\n      <td>_</td>\n      <td>_</td>\n      <td>_</td>\n      <td>_</td>\n    </tr>\n    <tr>\n      <th>2503_1</th>\n      <td>1.0</td>\n      <td>:</td>\n      <td>_</td>\n      <td>_</td>\n      <td>_</td>\n      <td>2503</td>\n      <td>1</td>\n      <td>2</td>\n      <td>_</td>\n      <td>_</td>\n      <td>_</td>\n      <td>_</td>\n      <td>_</td>\n      <td>_</td>\n    </tr>\n    <tr>\n      <th>2503_2</th>\n      <td>2.0</td>\n      <td>Pijn</td>\n      <td>_</td>\n      <td>_</td>\n      <td>_</td>\n      <td>2503</td>\n      <td>1</td>\n      <td>3</td>\n      <td>_</td>\n      <td>_</td>\n      <td>_</td>\n      <td>_</td>\n      <td>_</td>\n      <td>_</td>\n    </tr>\n    <tr>\n      <th>2503_3</th>\n      <td>3.0</td>\n      <td>in</td>\n      <td>_</td>\n      <td>_</td>\n      <td>_</td>\n      <td>2503</td>\n      <td>1</td>\n      <td>4</td>\n      <td>_</td>\n      <td>_</td>\n      <td>_</td>\n      <td>_</td>\n      <td>_</td>\n      <td>_</td>\n    </tr>\n    <tr>\n      <th>2503_4</th>\n      <td>4.0</td>\n      <td>de</td>\n      <td>_</td>\n      <td>_</td>\n      <td>_</td>\n      <td>2503</td>\n      <td>1</td>\n      <td>5</td>\n      <td>_</td>\n      <td>_</td>\n      <td>_</td>\n      <td>_</td>\n      <td>_</td>\n      <td>_</td>\n    </tr>\n    <tr>\n      <th>2503_5</th>\n      <td>5.0</td>\n      <td>rug</td>\n      <td>_</td>\n      <td>_</td>\n      <td>_</td>\n      <td>2503</td>\n      <td>1</td>\n      <td>6</td>\n      <td>_</td>\n      <td>_</td>\n      <td>_</td>\n      <td>_</td>\n      <td>_</td>\n      <td>_</td>\n    </tr>\n    <tr>\n      <th>2503_6</th>\n      <td>6.0</td>\n      <td>,</td>\n      <td>_</td>\n      <td>_</td>\n      <td>_</td>\n      <td>2503</td>\n      <td>1</td>\n      <td>7</td>\n      <td>_</td>\n      <td>_</td>\n      <td>_</td>\n      <td>_</td>\n      <td>_</td>\n      <td>_</td>\n    </tr>\n    <tr>\n      <th>2503_7</th>\n      <td>7.0</td>\n      <td>verlicht</td>\n      <td>_</td>\n      <td>_</td>\n      <td>_</td>\n      <td>2503</td>\n      <td>1</td>\n      <td>8</td>\n      <td>_</td>\n      <td>_</td>\n      <td>_</td>\n      <td>_</td>\n      <td>_</td>\n      <td>_</td>\n    </tr>\n    <tr>\n      <th>2503_8</th>\n      <td>8.0</td>\n      <td>met</td>\n      <td>_</td>\n      <td>_</td>\n      <td>_</td>\n      <td>2503</td>\n      <td>1</td>\n      <td>9</td>\n      <td>_</td>\n      <td>_</td>\n      <td>_</td>\n      <td>_</td>\n      <td>_</td>\n      <td>_</td>\n    </tr>\n    <tr>\n      <th>2503_9</th>\n      <td>9.0</td>\n      <td>warme</td>\n      <td>_</td>\n      <td>_</td>\n      <td>_</td>\n      <td>2503</td>\n      <td>1</td>\n      <td>10</td>\n      <td>_</td>\n      <td>_</td>\n      <td>_</td>\n      <td>_</td>\n      <td>_</td>\n      <td>_</td>\n    </tr>\n    <tr>\n      <th>2503_10</th>\n      <td>10.0</td>\n      <td>handdoek</td>\n      <td>_</td>\n      <td>_</td>\n      <td>_</td>\n      <td>2503</td>\n      <td>1</td>\n      <td>11</td>\n      <td>_</td>\n      <td>_</td>\n      <td>_</td>\n      <td>_</td>\n      <td>_</td>\n      <td>_</td>\n    </tr>\n    <tr>\n      <th>2503_11</th>\n      <td>11.0</td>\n      <td>en</td>\n      <td>_</td>\n      <td>_</td>\n      <td>_</td>\n      <td>2503</td>\n      <td>1</td>\n      <td>12</td>\n      <td>_</td>\n      <td>_</td>\n      <td>_</td>\n      <td>_</td>\n      <td>_</td>\n      <td>_</td>\n    </tr>\n    <tr>\n      <th>2503_12</th>\n      <td>12.0</td>\n      <td>pcm</td>\n      <td>_</td>\n      <td>_</td>\n      <td>_</td>\n      <td>2503</td>\n      <td>1</td>\n      <td>13</td>\n      <td>_</td>\n      <td>_</td>\n      <td>_</td>\n      <td>_</td>\n      <td>_</td>\n      <td>_</td>\n    </tr>\n    <tr>\n      <th>2503_13</th>\n      <td>13.0</td>\n      <td>.</td>\n      <td>_</td>\n      <td>_</td>\n      <td>_</td>\n      <td>2503</td>\n      <td>1</td>\n      <td>14</td>\n      <td>_</td>\n      <td>_</td>\n      <td>_</td>\n      <td>_</td>\n      <td>_</td>\n      <td>_</td>\n    </tr>\n    <tr>\n      <th>2503_14</th>\n      <td>14.0</td>\n      <td>Mw</td>\n      <td>_</td>\n      <td>_</td>\n      <td>_</td>\n      <td>2503</td>\n      <td>2</td>\n      <td>1</td>\n      <td>_</td>\n      <td>_</td>\n      <td>_</td>\n      <td>_</td>\n      <td>_</td>\n      <td>_</td>\n    </tr>\n    <tr>\n      <th>2503_15</th>\n      <td>15.0</td>\n      <td>was</td>\n      <td>_</td>\n      <td>_</td>\n      <td>_</td>\n      <td>2503</td>\n      <td>2</td>\n      <td>2</td>\n      <td>_</td>\n      <td>_</td>\n      <td>_</td>\n      <td>_</td>\n      <td>_</td>\n      <td>_</td>\n    </tr>\n    <tr>\n      <th>2503_16</th>\n      <td>16.0</td>\n      <td>emotioneel</td>\n      <td>.B152: Stemming[1]|STM 1[2]</td>\n      <td>14-3[2_1]</td>\n      <td>_</td>\n      <td>2503</td>\n      <td>2</td>\n      <td>3</td>\n      <td>.B152: Stemming[1]|STM 1[2]</td>\n      <td>14-3[2_1]</td>\n      <td>_</td>\n      <td>_</td>\n      <td>_</td>\n      <td>_</td>\n    </tr>\n    <tr>\n      <th>2503_17</th>\n      <td>17.0</td>\n      <td>,</td>\n      <td>_</td>\n      <td>_</td>\n      <td>_</td>\n      <td>2503</td>\n      <td>2</td>\n      <td>4</td>\n      <td>_</td>\n      <td>_</td>\n      <td>_</td>\n      <td>_</td>\n      <td>_</td>\n      <td>_</td>\n    </tr>\n    <tr>\n      <th>2503_18</th>\n      <td>18.0</td>\n      <td>schoonzoon</td>\n      <td>stm\\_reaction[3]</td>\n      <td>_</td>\n      <td>_</td>\n      <td>2503</td>\n      <td>2</td>\n      <td>5</td>\n      <td>_</td>\n      <td>_</td>\n      <td>_</td>\n      <td>_</td>\n      <td>_</td>\n      <td>_</td>\n    </tr>\n    <tr>\n      <th>2503_19</th>\n      <td>19.0</td>\n      <td>hoort</td>\n      <td>stm\\_reaction[3]</td>\n      <td>_</td>\n      <td>_</td>\n      <td>2503</td>\n      <td>2</td>\n      <td>6</td>\n      <td>_</td>\n      <td>_</td>\n      <td>_</td>\n      <td>_</td>\n      <td>_</td>\n      <td>_</td>\n    </tr>\n  </tbody>\n</table>\n</div>"
     },
     "metadata": {},
     "execution_count": 20
    }
   ],
   "source": [
    "token_df.head()"
   ]
  },
  {
   "cell_type": "code",
   "execution_count": 7,
   "id": "fatty-detroit",
   "metadata": {},
   "outputs": [
    {
     "output_type": "execute_result",
     "data": {
      "text/plain": [
       "[<class_definitions.BertContainer at 0x1e2152e1520>,\n",
       " <class_definitions.BertContainer at 0x1e21737be80>]"
      ]
     },
     "metadata": {},
     "execution_count": 7
    }
   ],
   "source": [
    "with open(container, \"rb\") as pkl_file:\n",
    "    container = pickle.load(pkl_file)\n",
    "    \n",
    "container"
   ]
  },
  {
   "cell_type": "code",
   "execution_count": 8,
   "id": "julian-bumper",
   "metadata": {},
   "outputs": [
    {
     "output_type": "execute_result",
     "data": {
      "text/plain": [
       "{'key': 'notities_2017_deel1_cleaned.csv---25031',\n",
       " 'annotator': 'avelli',\n",
       " 'sen_id': '1',\n",
       " 'sen': 'NF : Pijn in de rug , verlicht met warme handdoek en pcm .',\n",
       " 'encoding': 12345,\n",
       " 'annot': []}"
      ]
     },
     "metadata": {},
     "execution_count": 8
    }
   ],
   "source": [
    "sent1 = vars(container[0])\n",
    "sent1"
   ]
  },
  {
   "cell_type": "code",
   "execution_count": 9,
   "id": "mental-affair",
   "metadata": {},
   "outputs": [
    {
     "output_type": "execute_result",
     "data": {
      "text/plain": [
       "{'key': 'notities_2017_deel1_cleaned.csv---25032',\n",
       " 'annotator': 'avelli',\n",
       " 'sen_id': '2',\n",
       " 'sen': 'Mw was emotioneel , schoonzoon hoort morgen de uitslag van een aantal onderzoeken en mw maakt zich hier veel zorgen om .',\n",
       " 'encoding': 12345,\n",
       " 'annot': [<class_definitions.Annotation at 0x1e21737be50>,\n",
       "  <class_definitions.Annotation at 0x1e2173eb6a0>,\n",
       "  <class_definitions.Annotation at 0x1e2173eb7f0>,\n",
       "  <class_definitions.Annotation at 0x1e2173eb880>,\n",
       "  <class_definitions.Annotation at 0x1e2173eb370>]}"
      ]
     },
     "metadata": {},
     "execution_count": 9
    }
   ],
   "source": [
    "sent2 = vars(container[1])\n",
    "sent2"
   ]
  },
  {
   "cell_type": "code",
   "execution_count": 10,
   "id": "jewish-amsterdam",
   "metadata": {},
   "outputs": [
    {
     "output_type": "stream",
     "name": "stdout",
     "text": [
      "{'tokens': [('t3', 'emotioneel')], 'label': '.B152: Stemming'}\n{'tokens': [('t19', 'veel'), ('t20', 'zorgen')], 'label': 'STM 0'}\n{'tokens': [('t3', 'emotioneel')], 'label': 'STM 1'}\n{'tokens': [('t5', 'schoonzoon'), ('t6', 'hoort'), ('t7', 'morgen'), ('t8', 'de'), ('t9', 'uitslag'), ('t10', 'van'), ('t11', 'een'), ('t12', 'aantal'), ('t13', 'onderzoeken')], 'label': 'stm\\\\_reaction'}\n{'tokens': [('t16', 'maakt'), ('t17', 'zich'), ('t18', 'hier'), ('t19', 'veel'), ('t20', 'zorgen')], 'label': '.B152: Stemming'}\n"
     ]
    }
   ],
   "source": [
    "for annot in sent2['annot']:\n",
    "    print(vars(annot))"
   ]
  },
  {
   "cell_type": "markdown",
   "id": "accredited-cabin",
   "metadata": {},
   "source": [
    "## Output from INCEpTION"
   ]
  },
  {
   "cell_type": "code",
   "execution_count": 13,
   "id": "isolated-missouri",
   "metadata": {},
   "outputs": [],
   "source": [
    "incept_dir = Path('../sample_data_anonym/INCEpTION_output/')"
   ]
  },
  {
   "cell_type": "code",
   "execution_count": 47,
   "metadata": {},
   "outputs": [],
   "source": [
    "def tsv_to_df(filepath):\n",
    "    names = ['sen_tok', 'char', 'token', 'label', 'relation']\n",
    "    raw_file, note_id = filepath.parent.stem.split('---')\n",
    "    annotator = filepath.stem\n",
    "    return pd.read_csv(\n",
    "        filepath,\n",
    "        sep='\\t',\n",
    "        skiprows=5,\n",
    "        names=names\n",
    "    ).dropna(how='all').query(\"sen_tok.str[0] != '#'\").assign(\n",
    "        raw_file=raw_file,\n",
    "        note_id=note_id,\n",
    "        annotator=annotator,\n",
    "    )"
   ]
  },
  {
   "cell_type": "code",
   "execution_count": 48,
   "metadata": {},
   "outputs": [
    {
     "output_type": "execute_result",
     "data": {
      "text/plain": [
       "   sen_tok       char         token     label relation  \\\n",
       "1      1-1        0-2            NF         _        _   \n",
       "2      1-2        3-4             :         _        _   \n",
       "3      1-3        5-9          Pijn         _        _   \n",
       "4      1-4      10-12            in         _        _   \n",
       "5      1-5      13-15            de         _        _   \n",
       "..     ...        ...           ...       ...      ...   \n",
       "55     3-6  2118-2129   buitenshuis  FAC 4[2]        _   \n",
       "56     3-7  2130-2131             ,         _        _   \n",
       "57     3-8  2132-2144  Persoonlijke         _        _   \n",
       "58     3-9  2145-2155    verzorging         _        _   \n",
       "59    3-10  2156-2157             :         _        _   \n",
       "\n",
       "                           raw_file note_id annotator  \n",
       "1   notities_2017_deel1_cleaned.csv    2503    avelli  \n",
       "2   notities_2017_deel1_cleaned.csv    2503    avelli  \n",
       "3   notities_2017_deel1_cleaned.csv    2503    avelli  \n",
       "4   notities_2017_deel1_cleaned.csv    2503    avelli  \n",
       "5   notities_2017_deel1_cleaned.csv    2503    avelli  \n",
       "..                              ...     ...       ...  \n",
       "55  notities_2017_deel1_cleaned.csv    2570   meskers  \n",
       "56  notities_2017_deel1_cleaned.csv    2570   meskers  \n",
       "57  notities_2017_deel1_cleaned.csv    2570   meskers  \n",
       "58  notities_2017_deel1_cleaned.csv    2570   meskers  \n",
       "59  notities_2017_deel1_cleaned.csv    2570   meskers  \n",
       "\n",
       "[380 rows x 8 columns]"
      ],
      "text/html": "<div>\n<style scoped>\n    .dataframe tbody tr th:only-of-type {\n        vertical-align: middle;\n    }\n\n    .dataframe tbody tr th {\n        vertical-align: top;\n    }\n\n    .dataframe thead th {\n        text-align: right;\n    }\n</style>\n<table border=\"1\" class=\"dataframe\">\n  <thead>\n    <tr style=\"text-align: right;\">\n      <th></th>\n      <th>sen_tok</th>\n      <th>char</th>\n      <th>token</th>\n      <th>label</th>\n      <th>relation</th>\n      <th>raw_file</th>\n      <th>note_id</th>\n      <th>annotator</th>\n    </tr>\n  </thead>\n  <tbody>\n    <tr>\n      <th>1</th>\n      <td>1-1</td>\n      <td>0-2</td>\n      <td>NF</td>\n      <td>_</td>\n      <td>_</td>\n      <td>notities_2017_deel1_cleaned.csv</td>\n      <td>2503</td>\n      <td>avelli</td>\n    </tr>\n    <tr>\n      <th>2</th>\n      <td>1-2</td>\n      <td>3-4</td>\n      <td>:</td>\n      <td>_</td>\n      <td>_</td>\n      <td>notities_2017_deel1_cleaned.csv</td>\n      <td>2503</td>\n      <td>avelli</td>\n    </tr>\n    <tr>\n      <th>3</th>\n      <td>1-3</td>\n      <td>5-9</td>\n      <td>Pijn</td>\n      <td>_</td>\n      <td>_</td>\n      <td>notities_2017_deel1_cleaned.csv</td>\n      <td>2503</td>\n      <td>avelli</td>\n    </tr>\n    <tr>\n      <th>4</th>\n      <td>1-4</td>\n      <td>10-12</td>\n      <td>in</td>\n      <td>_</td>\n      <td>_</td>\n      <td>notities_2017_deel1_cleaned.csv</td>\n      <td>2503</td>\n      <td>avelli</td>\n    </tr>\n    <tr>\n      <th>5</th>\n      <td>1-5</td>\n      <td>13-15</td>\n      <td>de</td>\n      <td>_</td>\n      <td>_</td>\n      <td>notities_2017_deel1_cleaned.csv</td>\n      <td>2503</td>\n      <td>avelli</td>\n    </tr>\n    <tr>\n      <th>...</th>\n      <td>...</td>\n      <td>...</td>\n      <td>...</td>\n      <td>...</td>\n      <td>...</td>\n      <td>...</td>\n      <td>...</td>\n      <td>...</td>\n    </tr>\n    <tr>\n      <th>55</th>\n      <td>3-6</td>\n      <td>2118-2129</td>\n      <td>buitenshuis</td>\n      <td>FAC 4[2]</td>\n      <td>_</td>\n      <td>notities_2017_deel1_cleaned.csv</td>\n      <td>2570</td>\n      <td>meskers</td>\n    </tr>\n    <tr>\n      <th>56</th>\n      <td>3-7</td>\n      <td>2130-2131</td>\n      <td>,</td>\n      <td>_</td>\n      <td>_</td>\n      <td>notities_2017_deel1_cleaned.csv</td>\n      <td>2570</td>\n      <td>meskers</td>\n    </tr>\n    <tr>\n      <th>57</th>\n      <td>3-8</td>\n      <td>2132-2144</td>\n      <td>Persoonlijke</td>\n      <td>_</td>\n      <td>_</td>\n      <td>notities_2017_deel1_cleaned.csv</td>\n      <td>2570</td>\n      <td>meskers</td>\n    </tr>\n    <tr>\n      <th>58</th>\n      <td>3-9</td>\n      <td>2145-2155</td>\n      <td>verzorging</td>\n      <td>_</td>\n      <td>_</td>\n      <td>notities_2017_deel1_cleaned.csv</td>\n      <td>2570</td>\n      <td>meskers</td>\n    </tr>\n    <tr>\n      <th>59</th>\n      <td>3-10</td>\n      <td>2156-2157</td>\n      <td>:</td>\n      <td>_</td>\n      <td>_</td>\n      <td>notities_2017_deel1_cleaned.csv</td>\n      <td>2570</td>\n      <td>meskers</td>\n    </tr>\n  </tbody>\n</table>\n<p>380 rows × 8 columns</p>\n</div>"
     },
     "metadata": {},
     "execution_count": 48
    }
   ],
   "source": [
    "pd.concat(tsv_to_df(fp) for fp in incept_dir.glob('**/*.tsv'))"
   ]
  },
  {
   "cell_type": "code",
   "execution_count": null,
   "metadata": {},
   "outputs": [],
   "source": []
  }
 ],
 "metadata": {
  "kernelspec": {
   "display_name": "zonmw",
   "language": "python",
   "name": "zonmw"
  },
  "language_info": {
   "codemirror_mode": {
    "name": "ipython",
    "version": 3
   },
   "file_extension": ".py",
   "mimetype": "text/x-python",
   "name": "python",
   "nbconvert_exporter": "python",
   "pygments_lexer": "ipython3",
   "version": "3.8.5-final"
  }
 },
 "nbformat": 4,
 "nbformat_minor": 5
}