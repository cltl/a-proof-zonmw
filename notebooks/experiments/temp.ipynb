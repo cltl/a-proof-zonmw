{
 "metadata": {
  "language_info": {
   "codemirror_mode": {
    "name": "ipython",
    "version": 3
   },
   "file_extension": ".py",
   "mimetype": "text/x-python",
   "name": "python",
   "nbconvert_exporter": "python",
   "pygments_lexer": "ipython3",
   "version": "3.8.5"
  },
  "orig_nbformat": 4,
  "kernelspec": {
   "name": "python3",
   "display_name": "Python 3.8.5 64-bit ('zonmw': conda)"
  },
  "interpreter": {
   "hash": "5a0a696a2c4562c805ef24bd77b26c70704f51e5d276869b3745fd7123bf8c36"
  }
 },
 "nbformat": 4,
 "nbformat_minor": 2,
 "cells": [
  {
   "cell_type": "code",
   "execution_count": 1,
   "metadata": {},
   "outputs": [],
   "source": [
    "import random\n",
    "import pandas as pd\n",
    "from pathlib import Path"
   ]
  },
  {
   "cell_type": "code",
   "execution_count": 2,
   "metadata": {},
   "outputs": [],
   "source": [
    "pd.set_option(\"max_columns\", None)"
   ]
  },
  {
   "source": [
    "# Load data"
   ],
   "cell_type": "markdown",
   "metadata": {}
  },
  {
   "cell_type": "code",
   "execution_count": 3,
   "metadata": {},
   "outputs": [],
   "source": [
    "path = Path('../../data/expr_july')"
   ]
  },
  {
   "source": [
    "### ZonMw annotations (VUmc + AMC)"
   ],
   "cell_type": "markdown",
   "metadata": {}
  },
  {
   "cell_type": "code",
   "execution_count": 4,
   "metadata": {},
   "outputs": [],
   "source": [
    "# load core team annotations; pickles are deduplicated during processing\n",
    "annot = pd.concat([pd.read_pickle(fp) for fp in path.glob('*_dedup.pkl')], ignore_index=True)\n",
    "\n",
    "# load ze annotations and remove IAA files\n",
    "ze = pd.concat(\n",
    "    [pd.read_pickle(fp) for fp in path.glob('annotated_df_ze_*.pkl')], ignore_index=True\n",
    ").query(\"~NotitieID.isin(@annot.NotitieID)\")\n",
    "\n",
    "# concat and remove `disregard` files\n",
    "df = pd.concat([annot, ze], ignore_index=True).assign(\n",
    "    disregard_note = lambda df: df.groupby('NotitieID').disregard.transform('max'),\n",
    ").query(\"disregard_note != True\").drop(columns='disregard_note')"
   ]
  },
  {
   "source": [
    "### Pilot annotations (VUmc + AMC)"
   ],
   "cell_type": "markdown",
   "metadata": {}
  },
  {
   "cell_type": "code",
   "execution_count": 5,
   "metadata": {},
   "outputs": [],
   "source": [
    "# load pilot annotations and remove `disregard` files\n",
    "pilot = pd.concat([pd.read_pickle(fp) for fp in path.glob('pilot_*.pkl')], ignore_index=True).assign(\n",
    "    disregard_note = lambda df: df.groupby('NotitieID').disregard.transform('max'),\n",
    ").query(\"disregard_note != True\").drop(columns='disregard_note')"
   ]
  },
  {
   "source": [
    "# Stats"
   ],
   "cell_type": "markdown",
   "metadata": {}
  },
  {
   "source": [
    "### Annotated notes"
   ],
   "cell_type": "markdown",
   "metadata": {}
  },
  {
   "cell_type": "code",
   "execution_count": 12,
   "metadata": {},
   "outputs": [
    {
     "output_type": "execute_result",
     "data": {
      "text/plain": [
       "       n_notes_zonmw  n_notes_pilot\n",
       "year                               \n",
       "2017             455           3048\n",
       "2018             445              0\n",
       "2020            1691           1583\n",
       "total           2591           4631"
      ],
      "text/html": "<div>\n<style scoped>\n    .dataframe tbody tr th:only-of-type {\n        vertical-align: middle;\n    }\n\n    .dataframe tbody tr th {\n        vertical-align: top;\n    }\n\n    .dataframe thead th {\n        text-align: right;\n    }\n</style>\n<table border=\"1\" class=\"dataframe\">\n  <thead>\n    <tr style=\"text-align: right;\">\n      <th></th>\n      <th>n_notes_zonmw</th>\n      <th>n_notes_pilot</th>\n    </tr>\n    <tr>\n      <th>year</th>\n      <th></th>\n      <th></th>\n    </tr>\n  </thead>\n  <tbody>\n    <tr>\n      <th>2017</th>\n      <td>455</td>\n      <td>3048</td>\n    </tr>\n    <tr>\n      <th>2018</th>\n      <td>445</td>\n      <td>0</td>\n    </tr>\n    <tr>\n      <th>2020</th>\n      <td>1691</td>\n      <td>1583</td>\n    </tr>\n    <tr>\n      <th>total</th>\n      <td>2591</td>\n      <td>4631</td>\n    </tr>\n  </tbody>\n</table>\n</div>"
     },
     "metadata": {},
     "execution_count": 12
    }
   ],
   "source": [
    "df.pivot_table(\n",
    "    index='year',\n",
    "    values='NotitieID',\n",
    "    aggfunc='nunique',\n",
    "    margins=True,\n",
    "    margins_name='total',\n",
    ").rename(columns={'NotitieID': 'n_notes_zonmw'}\n",
    ").join(\n",
    "        pilot.pivot_table(\n",
    "        index='year',\n",
    "        values='NotitieID',\n",
    "        aggfunc='nunique',\n",
    "        margins=True,\n",
    "        margins_name='total',\n",
    "    ).rename(columns={'NotitieID': 'n_notes_pilot'})\n",
    ").fillna(0).astype(int)"
   ]
  },
  {
   "source": [
    "### Annotated sentences (ZonMw): domains, background & target"
   ],
   "cell_type": "markdown",
   "metadata": {}
  },
  {
   "cell_type": "code",
   "execution_count": 18,
   "metadata": {},
   "outputs": [
    {
     "output_type": "execute_result",
     "data": {
      "text/plain": [
       "       n_all_sents  n_sents_with_labels  n_bckgrnd_sents  \\\n",
       "year                                                       \n",
       "2017         22786                 1145              811   \n",
       "2018         21789                 1065              556   \n",
       "2020         92465                 5688             3510   \n",
       "total       137040                 7898             4877   \n",
       "\n",
       "       prc_sents_with_labels  prc_bckgrnd_sents  \n",
       "year                                             \n",
       "2017                     5.0                3.6  \n",
       "2018                     4.9                2.6  \n",
       "2020                     6.2                3.8  \n",
       "total                    5.8                3.6  "
      ],
      "text/html": "<div>\n<style scoped>\n    .dataframe tbody tr th:only-of-type {\n        vertical-align: middle;\n    }\n\n    .dataframe tbody tr th {\n        vertical-align: top;\n    }\n\n    .dataframe thead th {\n        text-align: right;\n    }\n</style>\n<table border=\"1\" class=\"dataframe\">\n  <thead>\n    <tr style=\"text-align: right;\">\n      <th></th>\n      <th>n_all_sents</th>\n      <th>n_sents_with_labels</th>\n      <th>n_bckgrnd_sents</th>\n      <th>prc_sents_with_labels</th>\n      <th>prc_bckgrnd_sents</th>\n    </tr>\n    <tr>\n      <th>year</th>\n      <th></th>\n      <th></th>\n      <th></th>\n      <th></th>\n      <th></th>\n    </tr>\n  </thead>\n  <tbody>\n    <tr>\n      <th>2017</th>\n      <td>22786</td>\n      <td>1145</td>\n      <td>811</td>\n      <td>5.0</td>\n      <td>3.6</td>\n    </tr>\n    <tr>\n      <th>2018</th>\n      <td>21789</td>\n      <td>1065</td>\n      <td>556</td>\n      <td>4.9</td>\n      <td>2.6</td>\n    </tr>\n    <tr>\n      <th>2020</th>\n      <td>92465</td>\n      <td>5688</td>\n      <td>3510</td>\n      <td>6.2</td>\n      <td>3.8</td>\n    </tr>\n    <tr>\n      <th>total</th>\n      <td>137040</td>\n      <td>7898</td>\n      <td>4877</td>\n      <td>5.8</td>\n      <td>3.6</td>\n    </tr>\n  </tbody>\n</table>\n</div>"
     },
     "metadata": {},
     "execution_count": 18
    }
   ],
   "source": [
    "domains = ['ENR', 'ATT', 'STM', 'ADM', 'INS', 'MBW', 'FAC', 'BER', 'ETN']\n",
    "rows_with_domain = df.loc[df[domains].any(axis=1)]\n",
    "domain_totals_per_sen_id = rows_with_domain.groupby(['year', 'sen_id'])[domains].any()\n",
    "\n",
    "n_sent = df.groupby('year').sen_id.nunique()\n",
    "\n",
    "n_sent_with_label = df.assign(\n",
    "    has_domain = lambda df: df[domains].any(axis=1),\n",
    ").query(\"has_domain == True\").groupby('year').sen_id.nunique()\n",
    "\n",
    "n_backgrnd = df.query(\"(background == True) | (target == True)\").groupby('year').sen_id.nunique()\n",
    "\n",
    "table = pd.concat([\n",
    "    n_sent.rename('n_all_sents'),\n",
    "    n_sent_with_label.rename('n_sents_with_labels'),\n",
    "    n_backgrnd.rename('n_bckgrnd_sents'),\n",
    "], axis=1)\n",
    "table.loc['total'] = table.sum()\n",
    "table.assign(\n",
    "    prc_sents_with_labels=lambda df: (df.n_sents_with_labels / df.n_all_sents).mul(100).round(1),\n",
    "    prc_bckgrnd_sents=lambda df: (df.n_bckgrnd_sents / df.n_all_sents).mul(100).round(1),\n",
    ")"
   ]
  },
  {
   "source": [
    "### Annotated sentences (pilot): background & target"
   ],
   "cell_type": "markdown",
   "metadata": {}
  },
  {
   "cell_type": "code",
   "execution_count": 19,
   "metadata": {},
   "outputs": [
    {
     "output_type": "execute_result",
     "data": {
      "text/plain": [
       "       n_all_sents  n_bckgrnd_sents  prc_bckgrnd_sents\n",
       "year                                                  \n",
       "2017        189049            31182               16.5\n",
       "2020         86451            16226               18.8\n",
       "total       275500            47408               17.2"
      ],
      "text/html": "<div>\n<style scoped>\n    .dataframe tbody tr th:only-of-type {\n        vertical-align: middle;\n    }\n\n    .dataframe tbody tr th {\n        vertical-align: top;\n    }\n\n    .dataframe thead th {\n        text-align: right;\n    }\n</style>\n<table border=\"1\" class=\"dataframe\">\n  <thead>\n    <tr style=\"text-align: right;\">\n      <th></th>\n      <th>n_all_sents</th>\n      <th>n_bckgrnd_sents</th>\n      <th>prc_bckgrnd_sents</th>\n    </tr>\n    <tr>\n      <th>year</th>\n      <th></th>\n      <th></th>\n      <th></th>\n    </tr>\n  </thead>\n  <tbody>\n    <tr>\n      <th>2017</th>\n      <td>189049</td>\n      <td>31182</td>\n      <td>16.5</td>\n    </tr>\n    <tr>\n      <th>2020</th>\n      <td>86451</td>\n      <td>16226</td>\n      <td>18.8</td>\n    </tr>\n    <tr>\n      <th>total</th>\n      <td>275500</td>\n      <td>47408</td>\n      <td>17.2</td>\n    </tr>\n  </tbody>\n</table>\n</div>"
     },
     "metadata": {},
     "execution_count": 19
    }
   ],
   "source": [
    "n_sent = pilot.groupby('year').sen_id.nunique()\n",
    "\n",
    "n_backgrnd = pilot.query(\"(background == True) | (target == True)\").groupby('year').sen_id.nunique()\n",
    "\n",
    "table = pd.concat([\n",
    "    n_sent.rename('n_all_sents'),\n",
    "    n_backgrnd.rename('n_bckgrnd_sents'),\n",
    "], axis=1)\n",
    "table.loc['total'] = table.sum()\n",
    "table.assign(\n",
    "    prc_bckgrnd_sents=lambda df: (df.n_bckgrnd_sents / df.n_all_sents).mul(100).round(1),\n",
    ")"
   ]
  },
  {
   "cell_type": "code",
   "execution_count": null,
   "metadata": {},
   "outputs": [],
   "source": []
  }
 ]
}