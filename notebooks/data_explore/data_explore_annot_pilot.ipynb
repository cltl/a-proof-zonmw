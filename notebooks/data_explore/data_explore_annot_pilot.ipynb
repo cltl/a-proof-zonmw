{
 "cells": [
  {
   "cell_type": "code",
   "execution_count": 1,
   "metadata": {},
   "outputs": [],
   "source": [
    "import sys\n",
    "sys.path.insert(0, '../..')\n",
    "from src.utils.latex import add_colname, show_latex, TABLES"
   ]
  },
  {
   "cell_type": "code",
   "execution_count": 2,
   "id": "independent-planning",
   "metadata": {},
   "outputs": [],
   "source": [
    "import json\n",
    "import re\n",
    "import pandas as pd\n",
    "from pathlib import Path"
   ]
  },
  {
   "source": [
    "# Annotated data"
   ],
   "cell_type": "markdown",
   "metadata": {}
  },
  {
   "source": [
    "## Parse labels"
   ],
   "cell_type": "markdown",
   "metadata": {}
  },
  {
   "cell_type": "code",
   "execution_count": 3,
   "metadata": {},
   "outputs": [],
   "source": [
    "with open('../../tagsets/legacy_stella.json', 'r') as f:\n",
    "    tagset = json.load(f)['tags']"
   ]
  },
  {
   "cell_type": "code",
   "execution_count": 38,
   "metadata": {},
   "outputs": [],
   "source": [
    "def categorize_tags(tagset):\n",
    "    \"tbd\"\n",
    "    tag_names = [i['tag_name'].split(':')[0] for i in tagset]\n",
    "    # define regexes\n",
    "    rdomain = re.compile('\\..*')\n",
    "    rlevel = re.compile('[A-Z]{3} \\d')\n",
    "    rdisregard = re.compile('disregard_file')\n",
    "    # find categories\n",
    "    domains = [tag for tag in tag_names if rdomain.match(tag)]\n",
    "    levels = [tag for tag in tag_names if rlevel.match(tag)]\n",
    "    disregard = [tag for tag in tag_names if rdisregard.match(tag)]\n",
    "    other = [tag for tag in tag_names if tag not in domains + levels + disregard]\n",
    "    return dict(\n",
    "        domains=domains,\n",
    "        levels=levels,\n",
    "        disregard=disregard,\n",
    "        other=other,\n",
    "    )\n",
    "\n",
    "def create_parse_index(conversions):\n",
    "    domainlevels = zip(conversions.values(), [f\"{i}_lvl\" for i in conversions.values()])\n",
    "    domainlevels = [i for domlev in domainlevels for i in domlev]\n",
    "    return  pd.Index(domainlevels+['disregard', 'other'])\n",
    "\n",
    "def parse_label(label, parse_index, cols_to_lbl, reg_others):\n",
    "    s = pd.Series(index=parse_index)\n",
    "    for idx in s.index:\n",
    "        if idx in cols_to_lbl:\n",
    "            s[idx] = cols_to_lbl[idx] in label\n",
    "        elif '_lvl' in idx:\n",
    "            regex = re.compile(f\"{idx[:3]} (\\d)\")\n",
    "            if regex.search(label):\n",
    "                s[idx] = int(regex.search(label).group(1))\n",
    "        else:\n",
    "            s[idx] = reg_others.findall(label)\n",
    "    return s\n",
    "\n",
    "def parse_df(df, tagset):\n",
    "    cat_tags = categorize_tags(tagset)\n",
    "    conversions = {\n",
    "        '.B152': 'STM',\n",
    "        '.B455': 'INS',\n",
    "        '.D450': 'FAC',\n",
    "        '.D840-859': 'BER',\n",
    "    }\n",
    "    parse_index = create_parse_index(conversions)\n",
    "    reg_others = re.compile('|'.join(cat_tags['other']))\n",
    "    cols_to_lbl = {v:k for k,v in conversions.items()}\n",
    "    cols_to_lbl['disregard'] = 'disregard\\\\_file'\n",
    "\n",
    "    parse_label_from_row = lambda row: parse_label(row.label, parse_index, cols_to_lbl, reg_others)\n",
    "    select_labels = (df.label != '_') & df.label.notna()\n",
    "    parsed = df.loc[select_labels].apply(parse_label_from_row, result_type='expand', axis=1)\n",
    "    return df.join(parsed)"
   ]
  },
  {
   "cell_type": "code",
   "execution_count": 5,
   "metadata": {},
   "outputs": [],
   "source": [
    "# TO DO: drop duplicate notes\n",
    "\n",
    "def preprocessing(df):\n",
    "    return df.assign(\n",
    "        sen_id = lambda df: df.NotitieID.astype(str) + '_' + df.sen_tok.str.split('-').str[0],\n",
    "        tok = lambda df: df.sen_tok.str.split('-').str[1],\n",
    "    )"
   ]
  },
  {
   "source": [
    "## Non-COVID (2017)"
   ],
   "cell_type": "markdown",
   "metadata": {}
  },
  {
   "cell_type": "code",
   "execution_count": 4,
   "metadata": {},
   "outputs": [],
   "source": [
    "noncovpath = Path('../../../Non_covid_data_15oct/from_inception_tsv')"
   ]
  },
  {
   "cell_type": "code",
   "execution_count": 32,
   "metadata": {},
   "outputs": [],
   "source": [
    "# noncov = pd.read_pickle(noncovpath / 'annotated_df_Batch1_pilot.pkl').pipe(preprocessing).pipe(parse_df, tagset)\n",
    "# noncov.to_pickle(noncovpath / 'annotated_df_Batch1_pilot_parsed.pkl')"
   ]
  },
  {
   "cell_type": "code",
   "execution_count": 5,
   "metadata": {},
   "outputs": [],
   "source": [
    "noncov = pd.read_pickle(noncovpath / 'annotated_df_Batch1_pilot_parsed.pkl')"
   ]
  },
  {
   "cell_type": "code",
   "execution_count": 6,
   "metadata": {},
   "outputs": [
    {
     "output_type": "execute_result",
     "data": {
      "text/plain": [
       "(1589820, 24)"
      ]
     },
     "metadata": {},
     "execution_count": 6
    }
   ],
   "source": [
    "noncov.shape"
   ]
  },
  {
   "cell_type": "code",
   "execution_count": 6,
   "metadata": {},
   "outputs": [
    {
     "output_type": "execute_result",
     "data": {
      "text/plain": [
       "Index(['sen_tok', 'char', 'token', 'label', 'relation', 'annotator',\n",
       "       'institution', 'MDN', 'NotitieID', 'NotitieCSN', 'batch',\n",
       "       'legacy_rawfile', 'sen_id', 'tok', 'STM', 'STM_lvl', 'INS', 'INS_lvl',\n",
       "       'FAC', 'FAC_lvl', 'BER', 'BER_lvl', 'disregard', 'other'],\n",
       "      dtype='object')"
      ]
     },
     "metadata": {},
     "execution_count": 6
    }
   ],
   "source": [
    "noncov.columns"
   ]
  },
  {
   "cell_type": "code",
   "execution_count": 22,
   "metadata": {},
   "outputs": [],
   "source": [
    "regex = re.compile(r'.B152: Stemming(?!\\[)')\n",
    "x = \".B152: Stemming\"\n",
    "regex.search(x)"
   ]
  },
  {
   "cell_type": "code",
   "execution_count": 23,
   "metadata": {},
   "outputs": [
    {
     "output_type": "execute_result",
     "data": {
      "text/plain": [
       "        sen_tok       char        token            label        relation  \\\n",
       "2083       48-8  2835-2841       somber  .B152: Stemming            48-7   \n",
       "9020        7-2    250-261  onzekerheid  .B152: Stemming        7-3[3_0]   \n",
       "11609      24-9  1065-1071       stress  .B152: Stemming  24-7|24-1[2_0]   \n",
       "11617      25-7  1100-1106       stress  .B152: Stemming  24-1[2_0]|25-6   \n",
       "11731      38-3  1739-1745       stress  .B152: Stemming               _   \n",
       "...         ...        ...          ...              ...             ...   \n",
       "1572647    7-15    462-468       gevoel  .B152: Stemming            7-14   \n",
       "1575716   133-2  5105-5113     stemming  .B152: Stemming           133-4   \n",
       "1575723   133-9  5152-5158       affect  .B152: Stemming           133-8   \n",
       "1575863   148-2  6024-6032     stemming  .B152: Stemming           148-4   \n",
       "1587719   38-12  1246-1252       stress  .B152: Stemming               _   \n",
       "\n",
       "        annotator institution   MDN  NotitieID NotitieCSN  ...   STM STM_lvl  \\\n",
       "2083        edwin        VUMC  None  148700779       None  ...  True     NaN   \n",
       "9020        edwin        VUMC  None  161847304       None  ...  True     NaN   \n",
       "11609       edwin        VUMC  None  192507400       None  ...  True     NaN   \n",
       "11617       edwin        VUMC  None  192507400       None  ...  True     NaN   \n",
       "11731       edwin        VUMC  None  192507400       None  ...  True     NaN   \n",
       "...           ...         ...   ...        ...        ...  ...   ...     ...   \n",
       "1572647   meskers        VUMC  None  201544848       None  ...  True     NaN   \n",
       "1575716   meskers        VUMC  None  183067319       None  ...  True     NaN   \n",
       "1575723   meskers        VUMC  None  183067319       None  ...  True     NaN   \n",
       "1575863   meskers        VUMC  None  183067319       None  ...  True     NaN   \n",
       "1587719   meskers        VUMC  None  208234917       None  ...  True     NaN   \n",
       "\n",
       "           INS INS_lvl    FAC  FAC_lvl    BER  BER_lvl disregard  other  \n",
       "2083     False     NaN  False      NaN  False      NaN     False     []  \n",
       "9020     False     NaN  False      NaN  False      NaN     False     []  \n",
       "11609    False     NaN  False      NaN  False      NaN     False     []  \n",
       "11617    False     NaN  False      NaN  False      NaN     False     []  \n",
       "11731    False     NaN  False      NaN  False      NaN     False     []  \n",
       "...        ...     ...    ...      ...    ...      ...       ...    ...  \n",
       "1572647  False     NaN  False      NaN  False      NaN     False     []  \n",
       "1575716  False     NaN  False      NaN  False      NaN     False     []  \n",
       "1575723  False     NaN  False      NaN  False      NaN     False     []  \n",
       "1575863  False     NaN  False      NaN  False      NaN     False     []  \n",
       "1587719  False     NaN  False      NaN  False      NaN     False     []  \n",
       "\n",
       "[396 rows x 24 columns]"
      ],
      "text/html": "<div>\n<style scoped>\n    .dataframe tbody tr th:only-of-type {\n        vertical-align: middle;\n    }\n\n    .dataframe tbody tr th {\n        vertical-align: top;\n    }\n\n    .dataframe thead th {\n        text-align: right;\n    }\n</style>\n<table border=\"1\" class=\"dataframe\">\n  <thead>\n    <tr style=\"text-align: right;\">\n      <th></th>\n      <th>sen_tok</th>\n      <th>char</th>\n      <th>token</th>\n      <th>label</th>\n      <th>relation</th>\n      <th>annotator</th>\n      <th>institution</th>\n      <th>MDN</th>\n      <th>NotitieID</th>\n      <th>NotitieCSN</th>\n      <th>...</th>\n      <th>STM</th>\n      <th>STM_lvl</th>\n      <th>INS</th>\n      <th>INS_lvl</th>\n      <th>FAC</th>\n      <th>FAC_lvl</th>\n      <th>BER</th>\n      <th>BER_lvl</th>\n      <th>disregard</th>\n      <th>other</th>\n    </tr>\n  </thead>\n  <tbody>\n    <tr>\n      <th>2083</th>\n      <td>48-8</td>\n      <td>2835-2841</td>\n      <td>somber</td>\n      <td>.B152: Stemming</td>\n      <td>48-7</td>\n      <td>edwin</td>\n      <td>VUMC</td>\n      <td>None</td>\n      <td>148700779</td>\n      <td>None</td>\n      <td>...</td>\n      <td>True</td>\n      <td>NaN</td>\n      <td>False</td>\n      <td>NaN</td>\n      <td>False</td>\n      <td>NaN</td>\n      <td>False</td>\n      <td>NaN</td>\n      <td>False</td>\n      <td>[]</td>\n    </tr>\n    <tr>\n      <th>9020</th>\n      <td>7-2</td>\n      <td>250-261</td>\n      <td>onzekerheid</td>\n      <td>.B152: Stemming</td>\n      <td>7-3[3_0]</td>\n      <td>edwin</td>\n      <td>VUMC</td>\n      <td>None</td>\n      <td>161847304</td>\n      <td>None</td>\n      <td>...</td>\n      <td>True</td>\n      <td>NaN</td>\n      <td>False</td>\n      <td>NaN</td>\n      <td>False</td>\n      <td>NaN</td>\n      <td>False</td>\n      <td>NaN</td>\n      <td>False</td>\n      <td>[]</td>\n    </tr>\n    <tr>\n      <th>11609</th>\n      <td>24-9</td>\n      <td>1065-1071</td>\n      <td>stress</td>\n      <td>.B152: Stemming</td>\n      <td>24-7|24-1[2_0]</td>\n      <td>edwin</td>\n      <td>VUMC</td>\n      <td>None</td>\n      <td>192507400</td>\n      <td>None</td>\n      <td>...</td>\n      <td>True</td>\n      <td>NaN</td>\n      <td>False</td>\n      <td>NaN</td>\n      <td>False</td>\n      <td>NaN</td>\n      <td>False</td>\n      <td>NaN</td>\n      <td>False</td>\n      <td>[]</td>\n    </tr>\n    <tr>\n      <th>11617</th>\n      <td>25-7</td>\n      <td>1100-1106</td>\n      <td>stress</td>\n      <td>.B152: Stemming</td>\n      <td>24-1[2_0]|25-6</td>\n      <td>edwin</td>\n      <td>VUMC</td>\n      <td>None</td>\n      <td>192507400</td>\n      <td>None</td>\n      <td>...</td>\n      <td>True</td>\n      <td>NaN</td>\n      <td>False</td>\n      <td>NaN</td>\n      <td>False</td>\n      <td>NaN</td>\n      <td>False</td>\n      <td>NaN</td>\n      <td>False</td>\n      <td>[]</td>\n    </tr>\n    <tr>\n      <th>11731</th>\n      <td>38-3</td>\n      <td>1739-1745</td>\n      <td>stress</td>\n      <td>.B152: Stemming</td>\n      <td>_</td>\n      <td>edwin</td>\n      <td>VUMC</td>\n      <td>None</td>\n      <td>192507400</td>\n      <td>None</td>\n      <td>...</td>\n      <td>True</td>\n      <td>NaN</td>\n      <td>False</td>\n      <td>NaN</td>\n      <td>False</td>\n      <td>NaN</td>\n      <td>False</td>\n      <td>NaN</td>\n      <td>False</td>\n      <td>[]</td>\n    </tr>\n    <tr>\n      <th>...</th>\n      <td>...</td>\n      <td>...</td>\n      <td>...</td>\n      <td>...</td>\n      <td>...</td>\n      <td>...</td>\n      <td>...</td>\n      <td>...</td>\n      <td>...</td>\n      <td>...</td>\n      <td>...</td>\n      <td>...</td>\n      <td>...</td>\n      <td>...</td>\n      <td>...</td>\n      <td>...</td>\n      <td>...</td>\n      <td>...</td>\n      <td>...</td>\n      <td>...</td>\n      <td>...</td>\n    </tr>\n    <tr>\n      <th>1572647</th>\n      <td>7-15</td>\n      <td>462-468</td>\n      <td>gevoel</td>\n      <td>.B152: Stemming</td>\n      <td>7-14</td>\n      <td>meskers</td>\n      <td>VUMC</td>\n      <td>None</td>\n      <td>201544848</td>\n      <td>None</td>\n      <td>...</td>\n      <td>True</td>\n      <td>NaN</td>\n      <td>False</td>\n      <td>NaN</td>\n      <td>False</td>\n      <td>NaN</td>\n      <td>False</td>\n      <td>NaN</td>\n      <td>False</td>\n      <td>[]</td>\n    </tr>\n    <tr>\n      <th>1575716</th>\n      <td>133-2</td>\n      <td>5105-5113</td>\n      <td>stemming</td>\n      <td>.B152: Stemming</td>\n      <td>133-4</td>\n      <td>meskers</td>\n      <td>VUMC</td>\n      <td>None</td>\n      <td>183067319</td>\n      <td>None</td>\n      <td>...</td>\n      <td>True</td>\n      <td>NaN</td>\n      <td>False</td>\n      <td>NaN</td>\n      <td>False</td>\n      <td>NaN</td>\n      <td>False</td>\n      <td>NaN</td>\n      <td>False</td>\n      <td>[]</td>\n    </tr>\n    <tr>\n      <th>1575723</th>\n      <td>133-9</td>\n      <td>5152-5158</td>\n      <td>affect</td>\n      <td>.B152: Stemming</td>\n      <td>133-8</td>\n      <td>meskers</td>\n      <td>VUMC</td>\n      <td>None</td>\n      <td>183067319</td>\n      <td>None</td>\n      <td>...</td>\n      <td>True</td>\n      <td>NaN</td>\n      <td>False</td>\n      <td>NaN</td>\n      <td>False</td>\n      <td>NaN</td>\n      <td>False</td>\n      <td>NaN</td>\n      <td>False</td>\n      <td>[]</td>\n    </tr>\n    <tr>\n      <th>1575863</th>\n      <td>148-2</td>\n      <td>6024-6032</td>\n      <td>stemming</td>\n      <td>.B152: Stemming</td>\n      <td>148-4</td>\n      <td>meskers</td>\n      <td>VUMC</td>\n      <td>None</td>\n      <td>183067319</td>\n      <td>None</td>\n      <td>...</td>\n      <td>True</td>\n      <td>NaN</td>\n      <td>False</td>\n      <td>NaN</td>\n      <td>False</td>\n      <td>NaN</td>\n      <td>False</td>\n      <td>NaN</td>\n      <td>False</td>\n      <td>[]</td>\n    </tr>\n    <tr>\n      <th>1587719</th>\n      <td>38-12</td>\n      <td>1246-1252</td>\n      <td>stress</td>\n      <td>.B152: Stemming</td>\n      <td>_</td>\n      <td>meskers</td>\n      <td>VUMC</td>\n      <td>None</td>\n      <td>208234917</td>\n      <td>None</td>\n      <td>...</td>\n      <td>True</td>\n      <td>NaN</td>\n      <td>False</td>\n      <td>NaN</td>\n      <td>False</td>\n      <td>NaN</td>\n      <td>False</td>\n      <td>NaN</td>\n      <td>False</td>\n      <td>[]</td>\n    </tr>\n  </tbody>\n</table>\n<p>396 rows × 24 columns</p>\n</div>"
     },
     "metadata": {},
     "execution_count": 23
    }
   ],
   "source": [
    "noncov.loc[noncov.label.str.contains(r'.B152: Stemming(?!\\[)', na=False)]"
   ]
  },
  {
   "cell_type": "code",
   "execution_count": 29,
   "metadata": {},
   "outputs": [
    {
     "output_type": "execute_result",
     "data": {
      "text/plain": [
       "        sen_tok       char         token            label     relation  \\\n",
       "141859    133-1  5102-5104            De                _            _   \n",
       "141860    133-2  5105-5113      stemming                _            _   \n",
       "141861    133-3  5114-5123     imponeert                _            _   \n",
       "141862    133-4  5124-5136  neerslachtig                _            _   \n",
       "141863    133-5  5137-5138             ,                _            _   \n",
       "141864    133-6  5139-5142           met                _            _   \n",
       "141865    133-7  5143-5146           een                _            _   \n",
       "141866    133-8  5147-5151          vlak                _            _   \n",
       "141867    133-9  5152-5158        affect                _            _   \n",
       "141868   133-10  5159-5160             .                _            _   \n",
       "723938    133-1  5102-5104            De                _            _   \n",
       "723939    133-2  5105-5113      stemming  .B152: Stemming  133-4[16_0]   \n",
       "723940    133-3  5114-5123     imponeert                _            _   \n",
       "723941    133-4  5124-5136  neerslachtig        STM 1[16]            _   \n",
       "723942    133-5  5137-5138             ,        STM 1[16]            _   \n",
       "723943    133-6  5139-5142           met        STM 1[16]            _   \n",
       "723944    133-7  5143-5146           een        STM 1[16]            _   \n",
       "723945    133-8  5147-5151          vlak        STM 1[16]            _   \n",
       "723946    133-9  5152-5158        affect        STM 1[16]            _   \n",
       "723947   133-10  5159-5160             .                _            _   \n",
       "1575715   133-1  5102-5104            De                _            _   \n",
       "1575716   133-2  5105-5113      stemming  .B152: Stemming        133-4   \n",
       "1575717   133-3  5114-5123     imponeert                _            _   \n",
       "1575718   133-4  5124-5136  neerslachtig            STM 1            _   \n",
       "1575719   133-5  5137-5138             ,                _            _   \n",
       "1575720   133-6  5139-5142           met                _            _   \n",
       "1575721   133-7  5143-5146           een                _            _   \n",
       "1575722   133-8  5147-5151          vlak            STM 1            _   \n",
       "1575723   133-9  5152-5158        affect  .B152: Stemming        133-8   \n",
       "1575724  133-10  5159-5160             .                _            _   \n",
       "\n",
       "        annotator institution   MDN  NotitieID NotitieCSN  ...    STM STM_lvl  \\\n",
       "141859      edwin        VUMC  None  183067319       None  ...    NaN     NaN   \n",
       "141860      edwin        VUMC  None  183067319       None  ...    NaN     NaN   \n",
       "141861      edwin        VUMC  None  183067319       None  ...    NaN     NaN   \n",
       "141862      edwin        VUMC  None  183067319       None  ...    NaN     NaN   \n",
       "141863      edwin        VUMC  None  183067319       None  ...    NaN     NaN   \n",
       "141864      edwin        VUMC  None  183067319       None  ...    NaN     NaN   \n",
       "141865      edwin        VUMC  None  183067319       None  ...    NaN     NaN   \n",
       "141866      edwin        VUMC  None  183067319       None  ...    NaN     NaN   \n",
       "141867      edwin        VUMC  None  183067319       None  ...    NaN     NaN   \n",
       "141868      edwin        VUMC  None  183067319       None  ...    NaN     NaN   \n",
       "723938   vervaart        VUMC  None  183067319       None  ...    NaN     NaN   \n",
       "723939   vervaart        VUMC  None  183067319       None  ...   True     NaN   \n",
       "723940   vervaart        VUMC  None  183067319       None  ...    NaN     NaN   \n",
       "723941   vervaart        VUMC  None  183067319       None  ...  False     1.0   \n",
       "723942   vervaart        VUMC  None  183067319       None  ...  False     1.0   \n",
       "723943   vervaart        VUMC  None  183067319       None  ...  False     1.0   \n",
       "723944   vervaart        VUMC  None  183067319       None  ...  False     1.0   \n",
       "723945   vervaart        VUMC  None  183067319       None  ...  False     1.0   \n",
       "723946   vervaart        VUMC  None  183067319       None  ...  False     1.0   \n",
       "723947   vervaart        VUMC  None  183067319       None  ...    NaN     NaN   \n",
       "1575715   meskers        VUMC  None  183067319       None  ...    NaN     NaN   \n",
       "1575716   meskers        VUMC  None  183067319       None  ...   True     NaN   \n",
       "1575717   meskers        VUMC  None  183067319       None  ...    NaN     NaN   \n",
       "1575718   meskers        VUMC  None  183067319       None  ...  False     1.0   \n",
       "1575719   meskers        VUMC  None  183067319       None  ...    NaN     NaN   \n",
       "1575720   meskers        VUMC  None  183067319       None  ...    NaN     NaN   \n",
       "1575721   meskers        VUMC  None  183067319       None  ...    NaN     NaN   \n",
       "1575722   meskers        VUMC  None  183067319       None  ...  False     1.0   \n",
       "1575723   meskers        VUMC  None  183067319       None  ...   True     NaN   \n",
       "1575724   meskers        VUMC  None  183067319       None  ...    NaN     NaN   \n",
       "\n",
       "           INS INS_lvl    FAC  FAC_lvl    BER  BER_lvl disregard  other  \n",
       "141859     NaN     NaN    NaN      NaN    NaN      NaN       NaN    NaN  \n",
       "141860     NaN     NaN    NaN      NaN    NaN      NaN       NaN    NaN  \n",
       "141861     NaN     NaN    NaN      NaN    NaN      NaN       NaN    NaN  \n",
       "141862     NaN     NaN    NaN      NaN    NaN      NaN       NaN    NaN  \n",
       "141863     NaN     NaN    NaN      NaN    NaN      NaN       NaN    NaN  \n",
       "141864     NaN     NaN    NaN      NaN    NaN      NaN       NaN    NaN  \n",
       "141865     NaN     NaN    NaN      NaN    NaN      NaN       NaN    NaN  \n",
       "141866     NaN     NaN    NaN      NaN    NaN      NaN       NaN    NaN  \n",
       "141867     NaN     NaN    NaN      NaN    NaN      NaN       NaN    NaN  \n",
       "141868     NaN     NaN    NaN      NaN    NaN      NaN       NaN    NaN  \n",
       "723938     NaN     NaN    NaN      NaN    NaN      NaN       NaN    NaN  \n",
       "723939   False     NaN  False      NaN  False      NaN     False     []  \n",
       "723940     NaN     NaN    NaN      NaN    NaN      NaN       NaN    NaN  \n",
       "723941   False     NaN  False      NaN  False      NaN     False     []  \n",
       "723942   False     NaN  False      NaN  False      NaN     False     []  \n",
       "723943   False     NaN  False      NaN  False      NaN     False     []  \n",
       "723944   False     NaN  False      NaN  False      NaN     False     []  \n",
       "723945   False     NaN  False      NaN  False      NaN     False     []  \n",
       "723946   False     NaN  False      NaN  False      NaN     False     []  \n",
       "723947     NaN     NaN    NaN      NaN    NaN      NaN       NaN    NaN  \n",
       "1575715    NaN     NaN    NaN      NaN    NaN      NaN       NaN    NaN  \n",
       "1575716  False     NaN  False      NaN  False      NaN     False     []  \n",
       "1575717    NaN     NaN    NaN      NaN    NaN      NaN       NaN    NaN  \n",
       "1575718  False     NaN  False      NaN  False      NaN     False     []  \n",
       "1575719    NaN     NaN    NaN      NaN    NaN      NaN       NaN    NaN  \n",
       "1575720    NaN     NaN    NaN      NaN    NaN      NaN       NaN    NaN  \n",
       "1575721    NaN     NaN    NaN      NaN    NaN      NaN       NaN    NaN  \n",
       "1575722  False     NaN  False      NaN  False      NaN     False     []  \n",
       "1575723  False     NaN  False      NaN  False      NaN     False     []  \n",
       "1575724    NaN     NaN    NaN      NaN    NaN      NaN       NaN    NaN  \n",
       "\n",
       "[30 rows x 24 columns]"
      ],
      "text/html": "<div>\n<style scoped>\n    .dataframe tbody tr th:only-of-type {\n        vertical-align: middle;\n    }\n\n    .dataframe tbody tr th {\n        vertical-align: top;\n    }\n\n    .dataframe thead th {\n        text-align: right;\n    }\n</style>\n<table border=\"1\" class=\"dataframe\">\n  <thead>\n    <tr style=\"text-align: right;\">\n      <th></th>\n      <th>sen_tok</th>\n      <th>char</th>\n      <th>token</th>\n      <th>label</th>\n      <th>relation</th>\n      <th>annotator</th>\n      <th>institution</th>\n      <th>MDN</th>\n      <th>NotitieID</th>\n      <th>NotitieCSN</th>\n      <th>...</th>\n      <th>STM</th>\n      <th>STM_lvl</th>\n      <th>INS</th>\n      <th>INS_lvl</th>\n      <th>FAC</th>\n      <th>FAC_lvl</th>\n      <th>BER</th>\n      <th>BER_lvl</th>\n      <th>disregard</th>\n      <th>other</th>\n    </tr>\n  </thead>\n  <tbody>\n    <tr>\n      <th>141859</th>\n      <td>133-1</td>\n      <td>5102-5104</td>\n      <td>De</td>\n      <td>_</td>\n      <td>_</td>\n      <td>edwin</td>\n      <td>VUMC</td>\n      <td>None</td>\n      <td>183067319</td>\n      <td>None</td>\n      <td>...</td>\n      <td>NaN</td>\n      <td>NaN</td>\n      <td>NaN</td>\n      <td>NaN</td>\n      <td>NaN</td>\n      <td>NaN</td>\n      <td>NaN</td>\n      <td>NaN</td>\n      <td>NaN</td>\n      <td>NaN</td>\n    </tr>\n    <tr>\n      <th>141860</th>\n      <td>133-2</td>\n      <td>5105-5113</td>\n      <td>stemming</td>\n      <td>_</td>\n      <td>_</td>\n      <td>edwin</td>\n      <td>VUMC</td>\n      <td>None</td>\n      <td>183067319</td>\n      <td>None</td>\n      <td>...</td>\n      <td>NaN</td>\n      <td>NaN</td>\n      <td>NaN</td>\n      <td>NaN</td>\n      <td>NaN</td>\n      <td>NaN</td>\n      <td>NaN</td>\n      <td>NaN</td>\n      <td>NaN</td>\n      <td>NaN</td>\n    </tr>\n    <tr>\n      <th>141861</th>\n      <td>133-3</td>\n      <td>5114-5123</td>\n      <td>imponeert</td>\n      <td>_</td>\n      <td>_</td>\n      <td>edwin</td>\n      <td>VUMC</td>\n      <td>None</td>\n      <td>183067319</td>\n      <td>None</td>\n      <td>...</td>\n      <td>NaN</td>\n      <td>NaN</td>\n      <td>NaN</td>\n      <td>NaN</td>\n      <td>NaN</td>\n      <td>NaN</td>\n      <td>NaN</td>\n      <td>NaN</td>\n      <td>NaN</td>\n      <td>NaN</td>\n    </tr>\n    <tr>\n      <th>141862</th>\n      <td>133-4</td>\n      <td>5124-5136</td>\n      <td>neerslachtig</td>\n      <td>_</td>\n      <td>_</td>\n      <td>edwin</td>\n      <td>VUMC</td>\n      <td>None</td>\n      <td>183067319</td>\n      <td>None</td>\n      <td>...</td>\n      <td>NaN</td>\n      <td>NaN</td>\n      <td>NaN</td>\n      <td>NaN</td>\n      <td>NaN</td>\n      <td>NaN</td>\n      <td>NaN</td>\n      <td>NaN</td>\n      <td>NaN</td>\n      <td>NaN</td>\n    </tr>\n    <tr>\n      <th>141863</th>\n      <td>133-5</td>\n      <td>5137-5138</td>\n      <td>,</td>\n      <td>_</td>\n      <td>_</td>\n      <td>edwin</td>\n      <td>VUMC</td>\n      <td>None</td>\n      <td>183067319</td>\n      <td>None</td>\n      <td>...</td>\n      <td>NaN</td>\n      <td>NaN</td>\n      <td>NaN</td>\n      <td>NaN</td>\n      <td>NaN</td>\n      <td>NaN</td>\n      <td>NaN</td>\n      <td>NaN</td>\n      <td>NaN</td>\n      <td>NaN</td>\n    </tr>\n    <tr>\n      <th>141864</th>\n      <td>133-6</td>\n      <td>5139-5142</td>\n      <td>met</td>\n      <td>_</td>\n      <td>_</td>\n      <td>edwin</td>\n      <td>VUMC</td>\n      <td>None</td>\n      <td>183067319</td>\n      <td>None</td>\n      <td>...</td>\n      <td>NaN</td>\n      <td>NaN</td>\n      <td>NaN</td>\n      <td>NaN</td>\n      <td>NaN</td>\n      <td>NaN</td>\n      <td>NaN</td>\n      <td>NaN</td>\n      <td>NaN</td>\n      <td>NaN</td>\n    </tr>\n    <tr>\n      <th>141865</th>\n      <td>133-7</td>\n      <td>5143-5146</td>\n      <td>een</td>\n      <td>_</td>\n      <td>_</td>\n      <td>edwin</td>\n      <td>VUMC</td>\n      <td>None</td>\n      <td>183067319</td>\n      <td>None</td>\n      <td>...</td>\n      <td>NaN</td>\n      <td>NaN</td>\n      <td>NaN</td>\n      <td>NaN</td>\n      <td>NaN</td>\n      <td>NaN</td>\n      <td>NaN</td>\n      <td>NaN</td>\n      <td>NaN</td>\n      <td>NaN</td>\n    </tr>\n    <tr>\n      <th>141866</th>\n      <td>133-8</td>\n      <td>5147-5151</td>\n      <td>vlak</td>\n      <td>_</td>\n      <td>_</td>\n      <td>edwin</td>\n      <td>VUMC</td>\n      <td>None</td>\n      <td>183067319</td>\n      <td>None</td>\n      <td>...</td>\n      <td>NaN</td>\n      <td>NaN</td>\n      <td>NaN</td>\n      <td>NaN</td>\n      <td>NaN</td>\n      <td>NaN</td>\n      <td>NaN</td>\n      <td>NaN</td>\n      <td>NaN</td>\n      <td>NaN</td>\n    </tr>\n    <tr>\n      <th>141867</th>\n      <td>133-9</td>\n      <td>5152-5158</td>\n      <td>affect</td>\n      <td>_</td>\n      <td>_</td>\n      <td>edwin</td>\n      <td>VUMC</td>\n      <td>None</td>\n      <td>183067319</td>\n      <td>None</td>\n      <td>...</td>\n      <td>NaN</td>\n      <td>NaN</td>\n      <td>NaN</td>\n      <td>NaN</td>\n      <td>NaN</td>\n      <td>NaN</td>\n      <td>NaN</td>\n      <td>NaN</td>\n      <td>NaN</td>\n      <td>NaN</td>\n    </tr>\n    <tr>\n      <th>141868</th>\n      <td>133-10</td>\n      <td>5159-5160</td>\n      <td>.</td>\n      <td>_</td>\n      <td>_</td>\n      <td>edwin</td>\n      <td>VUMC</td>\n      <td>None</td>\n      <td>183067319</td>\n      <td>None</td>\n      <td>...</td>\n      <td>NaN</td>\n      <td>NaN</td>\n      <td>NaN</td>\n      <td>NaN</td>\n      <td>NaN</td>\n      <td>NaN</td>\n      <td>NaN</td>\n      <td>NaN</td>\n      <td>NaN</td>\n      <td>NaN</td>\n    </tr>\n    <tr>\n      <th>723938</th>\n      <td>133-1</td>\n      <td>5102-5104</td>\n      <td>De</td>\n      <td>_</td>\n      <td>_</td>\n      <td>vervaart</td>\n      <td>VUMC</td>\n      <td>None</td>\n      <td>183067319</td>\n      <td>None</td>\n      <td>...</td>\n      <td>NaN</td>\n      <td>NaN</td>\n      <td>NaN</td>\n      <td>NaN</td>\n      <td>NaN</td>\n      <td>NaN</td>\n      <td>NaN</td>\n      <td>NaN</td>\n      <td>NaN</td>\n      <td>NaN</td>\n    </tr>\n    <tr>\n      <th>723939</th>\n      <td>133-2</td>\n      <td>5105-5113</td>\n      <td>stemming</td>\n      <td>.B152: Stemming</td>\n      <td>133-4[16_0]</td>\n      <td>vervaart</td>\n      <td>VUMC</td>\n      <td>None</td>\n      <td>183067319</td>\n      <td>None</td>\n      <td>...</td>\n      <td>True</td>\n      <td>NaN</td>\n      <td>False</td>\n      <td>NaN</td>\n      <td>False</td>\n      <td>NaN</td>\n      <td>False</td>\n      <td>NaN</td>\n      <td>False</td>\n      <td>[]</td>\n    </tr>\n    <tr>\n      <th>723940</th>\n      <td>133-3</td>\n      <td>5114-5123</td>\n      <td>imponeert</td>\n      <td>_</td>\n      <td>_</td>\n      <td>vervaart</td>\n      <td>VUMC</td>\n      <td>None</td>\n      <td>183067319</td>\n      <td>None</td>\n      <td>...</td>\n      <td>NaN</td>\n      <td>NaN</td>\n      <td>NaN</td>\n      <td>NaN</td>\n      <td>NaN</td>\n      <td>NaN</td>\n      <td>NaN</td>\n      <td>NaN</td>\n      <td>NaN</td>\n      <td>NaN</td>\n    </tr>\n    <tr>\n      <th>723941</th>\n      <td>133-4</td>\n      <td>5124-5136</td>\n      <td>neerslachtig</td>\n      <td>STM 1[16]</td>\n      <td>_</td>\n      <td>vervaart</td>\n      <td>VUMC</td>\n      <td>None</td>\n      <td>183067319</td>\n      <td>None</td>\n      <td>...</td>\n      <td>False</td>\n      <td>1.0</td>\n      <td>False</td>\n      <td>NaN</td>\n      <td>False</td>\n      <td>NaN</td>\n      <td>False</td>\n      <td>NaN</td>\n      <td>False</td>\n      <td>[]</td>\n    </tr>\n    <tr>\n      <th>723942</th>\n      <td>133-5</td>\n      <td>5137-5138</td>\n      <td>,</td>\n      <td>STM 1[16]</td>\n      <td>_</td>\n      <td>vervaart</td>\n      <td>VUMC</td>\n      <td>None</td>\n      <td>183067319</td>\n      <td>None</td>\n      <td>...</td>\n      <td>False</td>\n      <td>1.0</td>\n      <td>False</td>\n      <td>NaN</td>\n      <td>False</td>\n      <td>NaN</td>\n      <td>False</td>\n      <td>NaN</td>\n      <td>False</td>\n      <td>[]</td>\n    </tr>\n    <tr>\n      <th>723943</th>\n      <td>133-6</td>\n      <td>5139-5142</td>\n      <td>met</td>\n      <td>STM 1[16]</td>\n      <td>_</td>\n      <td>vervaart</td>\n      <td>VUMC</td>\n      <td>None</td>\n      <td>183067319</td>\n      <td>None</td>\n      <td>...</td>\n      <td>False</td>\n      <td>1.0</td>\n      <td>False</td>\n      <td>NaN</td>\n      <td>False</td>\n      <td>NaN</td>\n      <td>False</td>\n      <td>NaN</td>\n      <td>False</td>\n      <td>[]</td>\n    </tr>\n    <tr>\n      <th>723944</th>\n      <td>133-7</td>\n      <td>5143-5146</td>\n      <td>een</td>\n      <td>STM 1[16]</td>\n      <td>_</td>\n      <td>vervaart</td>\n      <td>VUMC</td>\n      <td>None</td>\n      <td>183067319</td>\n      <td>None</td>\n      <td>...</td>\n      <td>False</td>\n      <td>1.0</td>\n      <td>False</td>\n      <td>NaN</td>\n      <td>False</td>\n      <td>NaN</td>\n      <td>False</td>\n      <td>NaN</td>\n      <td>False</td>\n      <td>[]</td>\n    </tr>\n    <tr>\n      <th>723945</th>\n      <td>133-8</td>\n      <td>5147-5151</td>\n      <td>vlak</td>\n      <td>STM 1[16]</td>\n      <td>_</td>\n      <td>vervaart</td>\n      <td>VUMC</td>\n      <td>None</td>\n      <td>183067319</td>\n      <td>None</td>\n      <td>...</td>\n      <td>False</td>\n      <td>1.0</td>\n      <td>False</td>\n      <td>NaN</td>\n      <td>False</td>\n      <td>NaN</td>\n      <td>False</td>\n      <td>NaN</td>\n      <td>False</td>\n      <td>[]</td>\n    </tr>\n    <tr>\n      <th>723946</th>\n      <td>133-9</td>\n      <td>5152-5158</td>\n      <td>affect</td>\n      <td>STM 1[16]</td>\n      <td>_</td>\n      <td>vervaart</td>\n      <td>VUMC</td>\n      <td>None</td>\n      <td>183067319</td>\n      <td>None</td>\n      <td>...</td>\n      <td>False</td>\n      <td>1.0</td>\n      <td>False</td>\n      <td>NaN</td>\n      <td>False</td>\n      <td>NaN</td>\n      <td>False</td>\n      <td>NaN</td>\n      <td>False</td>\n      <td>[]</td>\n    </tr>\n    <tr>\n      <th>723947</th>\n      <td>133-10</td>\n      <td>5159-5160</td>\n      <td>.</td>\n      <td>_</td>\n      <td>_</td>\n      <td>vervaart</td>\n      <td>VUMC</td>\n      <td>None</td>\n      <td>183067319</td>\n      <td>None</td>\n      <td>...</td>\n      <td>NaN</td>\n      <td>NaN</td>\n      <td>NaN</td>\n      <td>NaN</td>\n      <td>NaN</td>\n      <td>NaN</td>\n      <td>NaN</td>\n      <td>NaN</td>\n      <td>NaN</td>\n      <td>NaN</td>\n    </tr>\n    <tr>\n      <th>1575715</th>\n      <td>133-1</td>\n      <td>5102-5104</td>\n      <td>De</td>\n      <td>_</td>\n      <td>_</td>\n      <td>meskers</td>\n      <td>VUMC</td>\n      <td>None</td>\n      <td>183067319</td>\n      <td>None</td>\n      <td>...</td>\n      <td>NaN</td>\n      <td>NaN</td>\n      <td>NaN</td>\n      <td>NaN</td>\n      <td>NaN</td>\n      <td>NaN</td>\n      <td>NaN</td>\n      <td>NaN</td>\n      <td>NaN</td>\n      <td>NaN</td>\n    </tr>\n    <tr>\n      <th>1575716</th>\n      <td>133-2</td>\n      <td>5105-5113</td>\n      <td>stemming</td>\n      <td>.B152: Stemming</td>\n      <td>133-4</td>\n      <td>meskers</td>\n      <td>VUMC</td>\n      <td>None</td>\n      <td>183067319</td>\n      <td>None</td>\n      <td>...</td>\n      <td>True</td>\n      <td>NaN</td>\n      <td>False</td>\n      <td>NaN</td>\n      <td>False</td>\n      <td>NaN</td>\n      <td>False</td>\n      <td>NaN</td>\n      <td>False</td>\n      <td>[]</td>\n    </tr>\n    <tr>\n      <th>1575717</th>\n      <td>133-3</td>\n      <td>5114-5123</td>\n      <td>imponeert</td>\n      <td>_</td>\n      <td>_</td>\n      <td>meskers</td>\n      <td>VUMC</td>\n      <td>None</td>\n      <td>183067319</td>\n      <td>None</td>\n      <td>...</td>\n      <td>NaN</td>\n      <td>NaN</td>\n      <td>NaN</td>\n      <td>NaN</td>\n      <td>NaN</td>\n      <td>NaN</td>\n      <td>NaN</td>\n      <td>NaN</td>\n      <td>NaN</td>\n      <td>NaN</td>\n    </tr>\n    <tr>\n      <th>1575718</th>\n      <td>133-4</td>\n      <td>5124-5136</td>\n      <td>neerslachtig</td>\n      <td>STM 1</td>\n      <td>_</td>\n      <td>meskers</td>\n      <td>VUMC</td>\n      <td>None</td>\n      <td>183067319</td>\n      <td>None</td>\n      <td>...</td>\n      <td>False</td>\n      <td>1.0</td>\n      <td>False</td>\n      <td>NaN</td>\n      <td>False</td>\n      <td>NaN</td>\n      <td>False</td>\n      <td>NaN</td>\n      <td>False</td>\n      <td>[]</td>\n    </tr>\n    <tr>\n      <th>1575719</th>\n      <td>133-5</td>\n      <td>5137-5138</td>\n      <td>,</td>\n      <td>_</td>\n      <td>_</td>\n      <td>meskers</td>\n      <td>VUMC</td>\n      <td>None</td>\n      <td>183067319</td>\n      <td>None</td>\n      <td>...</td>\n      <td>NaN</td>\n      <td>NaN</td>\n      <td>NaN</td>\n      <td>NaN</td>\n      <td>NaN</td>\n      <td>NaN</td>\n      <td>NaN</td>\n      <td>NaN</td>\n      <td>NaN</td>\n      <td>NaN</td>\n    </tr>\n    <tr>\n      <th>1575720</th>\n      <td>133-6</td>\n      <td>5139-5142</td>\n      <td>met</td>\n      <td>_</td>\n      <td>_</td>\n      <td>meskers</td>\n      <td>VUMC</td>\n      <td>None</td>\n      <td>183067319</td>\n      <td>None</td>\n      <td>...</td>\n      <td>NaN</td>\n      <td>NaN</td>\n      <td>NaN</td>\n      <td>NaN</td>\n      <td>NaN</td>\n      <td>NaN</td>\n      <td>NaN</td>\n      <td>NaN</td>\n      <td>NaN</td>\n      <td>NaN</td>\n    </tr>\n    <tr>\n      <th>1575721</th>\n      <td>133-7</td>\n      <td>5143-5146</td>\n      <td>een</td>\n      <td>_</td>\n      <td>_</td>\n      <td>meskers</td>\n      <td>VUMC</td>\n      <td>None</td>\n      <td>183067319</td>\n      <td>None</td>\n      <td>...</td>\n      <td>NaN</td>\n      <td>NaN</td>\n      <td>NaN</td>\n      <td>NaN</td>\n      <td>NaN</td>\n      <td>NaN</td>\n      <td>NaN</td>\n      <td>NaN</td>\n      <td>NaN</td>\n      <td>NaN</td>\n    </tr>\n    <tr>\n      <th>1575722</th>\n      <td>133-8</td>\n      <td>5147-5151</td>\n      <td>vlak</td>\n      <td>STM 1</td>\n      <td>_</td>\n      <td>meskers</td>\n      <td>VUMC</td>\n      <td>None</td>\n      <td>183067319</td>\n      <td>None</td>\n      <td>...</td>\n      <td>False</td>\n      <td>1.0</td>\n      <td>False</td>\n      <td>NaN</td>\n      <td>False</td>\n      <td>NaN</td>\n      <td>False</td>\n      <td>NaN</td>\n      <td>False</td>\n      <td>[]</td>\n    </tr>\n    <tr>\n      <th>1575723</th>\n      <td>133-9</td>\n      <td>5152-5158</td>\n      <td>affect</td>\n      <td>.B152: Stemming</td>\n      <td>133-8</td>\n      <td>meskers</td>\n      <td>VUMC</td>\n      <td>None</td>\n      <td>183067319</td>\n      <td>None</td>\n      <td>...</td>\n      <td>True</td>\n      <td>NaN</td>\n      <td>False</td>\n      <td>NaN</td>\n      <td>False</td>\n      <td>NaN</td>\n      <td>False</td>\n      <td>NaN</td>\n      <td>False</td>\n      <td>[]</td>\n    </tr>\n    <tr>\n      <th>1575724</th>\n      <td>133-10</td>\n      <td>5159-5160</td>\n      <td>.</td>\n      <td>_</td>\n      <td>_</td>\n      <td>meskers</td>\n      <td>VUMC</td>\n      <td>None</td>\n      <td>183067319</td>\n      <td>None</td>\n      <td>...</td>\n      <td>NaN</td>\n      <td>NaN</td>\n      <td>NaN</td>\n      <td>NaN</td>\n      <td>NaN</td>\n      <td>NaN</td>\n      <td>NaN</td>\n      <td>NaN</td>\n      <td>NaN</td>\n      <td>NaN</td>\n    </tr>\n  </tbody>\n</table>\n<p>30 rows × 24 columns</p>\n</div>"
     },
     "metadata": {},
     "execution_count": 29
    }
   ],
   "source": [
    "noncov.loc[noncov.sen_id == '183067319_133']\n",
    "# .query(\"label.notna() and label != '_'\")"
   ]
  },
  {
   "cell_type": "code",
   "execution_count": 20,
   "metadata": {},
   "outputs": [
    {
     "output_type": "execute_result",
     "data": {
      "text/plain": [
       "        sen_tok              token  \\\n",
       "1589643    49-1            Bemerkt   \n",
       "1589644    49-2  spiermassaverlies   \n",
       "1589645    49-3                  (   \n",
       "1589646    49-4               niet   \n",
       "1589647    49-5     geobjectiveerd   \n",
       "1589648    49-6                  ,   \n",
       "1589649    49-7        verminderde   \n",
       "1589650    49-8            energie   \n",
       "1589651    49-9                  ,   \n",
       "1589652   49-10              grote   \n",
       "1589653   49-11            stukken   \n",
       "1589654   49-12              lopen   \n",
       "1589655   49-13               gaat   \n",
       "1589656   49-14               niet   \n",
       "1589657   49-15               meer   \n",
       "1589658   49-16                  )   \n",
       "1589659   49-17                  .   \n",
       "1589696    53-1            Bewegen   \n",
       "1589697    53-2                 is   \n",
       "1589698    53-3           moeilijk   \n",
       "1589699    53-4                  ,   \n",
       "1589700    53-5                erg   \n",
       "1589701    53-6           vermoeid   \n",
       "1589702    53-7                  .   \n",
       "\n",
       "                                                     label    relation  \\\n",
       "1589643                                                  _           _   \n",
       "1589644                                                  _           _   \n",
       "1589645                                                  _           _   \n",
       "1589646                                                  _           _   \n",
       "1589647                                                  _           _   \n",
       "1589648                                                  _           _   \n",
       "1589649                                                  _           _   \n",
       "1589650                                                  _           _   \n",
       "1589651                                                  _           _   \n",
       "1589652           .B455: Inspanningstolerantie[4]|INS 2[5]  49-10[5_4]   \n",
       "1589653           .B455: Inspanningstolerantie[4]|INS 2[5]           _   \n",
       "1589654  .B455: Inspanningstolerantie[4]|INS 2[5]|.D450...           _   \n",
       "1589655           .B455: Inspanningstolerantie[4]|INS 2[5]           _   \n",
       "1589656           .B455: Inspanningstolerantie[4]|INS 2[5]           _   \n",
       "1589657           .B455: Inspanningstolerantie[4]|INS 2[5]           _   \n",
       "1589658                                                  _           _   \n",
       "1589659                                                  _           _   \n",
       "1589696           .B455: Inspanningstolerantie[7]|INS 2[8]   53-1[8_7]   \n",
       "1589697           .B455: Inspanningstolerantie[7]|INS 2[8]           _   \n",
       "1589698           .B455: Inspanningstolerantie[7]|INS 2[8]           _   \n",
       "1589699           .B455: Inspanningstolerantie[7]|INS 2[8]           _   \n",
       "1589700           .B455: Inspanningstolerantie[7]|INS 2[8]           _   \n",
       "1589701           .B455: Inspanningstolerantie[7]|INS 2[8]           _   \n",
       "1589702                                                  _           _   \n",
       "\n",
       "               sen_id tok    STM  STM_lvl   INS  INS_lvl    FAC  FAC_lvl  \\\n",
       "1589643  201738071_49   1    NaN      NaN   NaN      NaN    NaN      NaN   \n",
       "1589644  201738071_49   2    NaN      NaN   NaN      NaN    NaN      NaN   \n",
       "1589645  201738071_49   3    NaN      NaN   NaN      NaN    NaN      NaN   \n",
       "1589646  201738071_49   4    NaN      NaN   NaN      NaN    NaN      NaN   \n",
       "1589647  201738071_49   5    NaN      NaN   NaN      NaN    NaN      NaN   \n",
       "1589648  201738071_49   6    NaN      NaN   NaN      NaN    NaN      NaN   \n",
       "1589649  201738071_49   7    NaN      NaN   NaN      NaN    NaN      NaN   \n",
       "1589650  201738071_49   8    NaN      NaN   NaN      NaN    NaN      NaN   \n",
       "1589651  201738071_49   9    NaN      NaN   NaN      NaN    NaN      NaN   \n",
       "1589652  201738071_49  10  False      NaN  True      2.0  False      NaN   \n",
       "1589653  201738071_49  11  False      NaN  True      2.0  False      NaN   \n",
       "1589654  201738071_49  12  False      NaN  True      2.0   True      NaN   \n",
       "1589655  201738071_49  13  False      NaN  True      2.0  False      NaN   \n",
       "1589656  201738071_49  14  False      NaN  True      2.0  False      NaN   \n",
       "1589657  201738071_49  15  False      NaN  True      2.0  False      NaN   \n",
       "1589658  201738071_49  16    NaN      NaN   NaN      NaN    NaN      NaN   \n",
       "1589659  201738071_49  17    NaN      NaN   NaN      NaN    NaN      NaN   \n",
       "1589696  201738071_53   1  False      NaN  True      2.0  False      NaN   \n",
       "1589697  201738071_53   2  False      NaN  True      2.0  False      NaN   \n",
       "1589698  201738071_53   3  False      NaN  True      2.0  False      NaN   \n",
       "1589699  201738071_53   4  False      NaN  True      2.0  False      NaN   \n",
       "1589700  201738071_53   5  False      NaN  True      2.0  False      NaN   \n",
       "1589701  201738071_53   6  False      NaN  True      2.0  False      NaN   \n",
       "1589702  201738071_53   7    NaN      NaN   NaN      NaN    NaN      NaN   \n",
       "\n",
       "           BER  BER_lvl disregard other  \n",
       "1589643    NaN      NaN       NaN   NaN  \n",
       "1589644    NaN      NaN       NaN   NaN  \n",
       "1589645    NaN      NaN       NaN   NaN  \n",
       "1589646    NaN      NaN       NaN   NaN  \n",
       "1589647    NaN      NaN       NaN   NaN  \n",
       "1589648    NaN      NaN       NaN   NaN  \n",
       "1589649    NaN      NaN       NaN   NaN  \n",
       "1589650    NaN      NaN       NaN   NaN  \n",
       "1589651    NaN      NaN       NaN   NaN  \n",
       "1589652  False      NaN     False    []  \n",
       "1589653  False      NaN     False    []  \n",
       "1589654  False      NaN     False    []  \n",
       "1589655  False      NaN     False    []  \n",
       "1589656  False      NaN     False    []  \n",
       "1589657  False      NaN     False    []  \n",
       "1589658    NaN      NaN       NaN   NaN  \n",
       "1589659    NaN      NaN       NaN   NaN  \n",
       "1589696  False      NaN     False    []  \n",
       "1589697  False      NaN     False    []  \n",
       "1589698  False      NaN     False    []  \n",
       "1589699  False      NaN     False    []  \n",
       "1589700  False      NaN     False    []  \n",
       "1589701  False      NaN     False    []  \n",
       "1589702    NaN      NaN       NaN   NaN  "
      ],
      "text/html": "<div>\n<style scoped>\n    .dataframe tbody tr th:only-of-type {\n        vertical-align: middle;\n    }\n\n    .dataframe tbody tr th {\n        vertical-align: top;\n    }\n\n    .dataframe thead th {\n        text-align: right;\n    }\n</style>\n<table border=\"1\" class=\"dataframe\">\n  <thead>\n    <tr style=\"text-align: right;\">\n      <th></th>\n      <th>sen_tok</th>\n      <th>token</th>\n      <th>label</th>\n      <th>relation</th>\n      <th>sen_id</th>\n      <th>tok</th>\n      <th>STM</th>\n      <th>STM_lvl</th>\n      <th>INS</th>\n      <th>INS_lvl</th>\n      <th>FAC</th>\n      <th>FAC_lvl</th>\n      <th>BER</th>\n      <th>BER_lvl</th>\n      <th>disregard</th>\n      <th>other</th>\n    </tr>\n  </thead>\n  <tbody>\n    <tr>\n      <th>1589643</th>\n      <td>49-1</td>\n      <td>Bemerkt</td>\n      <td>_</td>\n      <td>_</td>\n      <td>201738071_49</td>\n      <td>1</td>\n      <td>NaN</td>\n      <td>NaN</td>\n      <td>NaN</td>\n      <td>NaN</td>\n      <td>NaN</td>\n      <td>NaN</td>\n      <td>NaN</td>\n      <td>NaN</td>\n      <td>NaN</td>\n      <td>NaN</td>\n    </tr>\n    <tr>\n      <th>1589644</th>\n      <td>49-2</td>\n      <td>spiermassaverlies</td>\n      <td>_</td>\n      <td>_</td>\n      <td>201738071_49</td>\n      <td>2</td>\n      <td>NaN</td>\n      <td>NaN</td>\n      <td>NaN</td>\n      <td>NaN</td>\n      <td>NaN</td>\n      <td>NaN</td>\n      <td>NaN</td>\n      <td>NaN</td>\n      <td>NaN</td>\n      <td>NaN</td>\n    </tr>\n    <tr>\n      <th>1589645</th>\n      <td>49-3</td>\n      <td>(</td>\n      <td>_</td>\n      <td>_</td>\n      <td>201738071_49</td>\n      <td>3</td>\n      <td>NaN</td>\n      <td>NaN</td>\n      <td>NaN</td>\n      <td>NaN</td>\n      <td>NaN</td>\n      <td>NaN</td>\n      <td>NaN</td>\n      <td>NaN</td>\n      <td>NaN</td>\n      <td>NaN</td>\n    </tr>\n    <tr>\n      <th>1589646</th>\n      <td>49-4</td>\n      <td>niet</td>\n      <td>_</td>\n      <td>_</td>\n      <td>201738071_49</td>\n      <td>4</td>\n      <td>NaN</td>\n      <td>NaN</td>\n      <td>NaN</td>\n      <td>NaN</td>\n      <td>NaN</td>\n      <td>NaN</td>\n      <td>NaN</td>\n      <td>NaN</td>\n      <td>NaN</td>\n      <td>NaN</td>\n    </tr>\n    <tr>\n      <th>1589647</th>\n      <td>49-5</td>\n      <td>geobjectiveerd</td>\n      <td>_</td>\n      <td>_</td>\n      <td>201738071_49</td>\n      <td>5</td>\n      <td>NaN</td>\n      <td>NaN</td>\n      <td>NaN</td>\n      <td>NaN</td>\n      <td>NaN</td>\n      <td>NaN</td>\n      <td>NaN</td>\n      <td>NaN</td>\n      <td>NaN</td>\n      <td>NaN</td>\n    </tr>\n    <tr>\n      <th>1589648</th>\n      <td>49-6</td>\n      <td>,</td>\n      <td>_</td>\n      <td>_</td>\n      <td>201738071_49</td>\n      <td>6</td>\n      <td>NaN</td>\n      <td>NaN</td>\n      <td>NaN</td>\n      <td>NaN</td>\n      <td>NaN</td>\n      <td>NaN</td>\n      <td>NaN</td>\n      <td>NaN</td>\n      <td>NaN</td>\n      <td>NaN</td>\n    </tr>\n    <tr>\n      <th>1589649</th>\n      <td>49-7</td>\n      <td>verminderde</td>\n      <td>_</td>\n      <td>_</td>\n      <td>201738071_49</td>\n      <td>7</td>\n      <td>NaN</td>\n      <td>NaN</td>\n      <td>NaN</td>\n      <td>NaN</td>\n      <td>NaN</td>\n      <td>NaN</td>\n      <td>NaN</td>\n      <td>NaN</td>\n      <td>NaN</td>\n      <td>NaN</td>\n    </tr>\n    <tr>\n      <th>1589650</th>\n      <td>49-8</td>\n      <td>energie</td>\n      <td>_</td>\n      <td>_</td>\n      <td>201738071_49</td>\n      <td>8</td>\n      <td>NaN</td>\n      <td>NaN</td>\n      <td>NaN</td>\n      <td>NaN</td>\n      <td>NaN</td>\n      <td>NaN</td>\n      <td>NaN</td>\n      <td>NaN</td>\n      <td>NaN</td>\n      <td>NaN</td>\n    </tr>\n    <tr>\n      <th>1589651</th>\n      <td>49-9</td>\n      <td>,</td>\n      <td>_</td>\n      <td>_</td>\n      <td>201738071_49</td>\n      <td>9</td>\n      <td>NaN</td>\n      <td>NaN</td>\n      <td>NaN</td>\n      <td>NaN</td>\n      <td>NaN</td>\n      <td>NaN</td>\n      <td>NaN</td>\n      <td>NaN</td>\n      <td>NaN</td>\n      <td>NaN</td>\n    </tr>\n    <tr>\n      <th>1589652</th>\n      <td>49-10</td>\n      <td>grote</td>\n      <td>.B455: Inspanningstolerantie[4]|INS 2[5]</td>\n      <td>49-10[5_4]</td>\n      <td>201738071_49</td>\n      <td>10</td>\n      <td>False</td>\n      <td>NaN</td>\n      <td>True</td>\n      <td>2.0</td>\n      <td>False</td>\n      <td>NaN</td>\n      <td>False</td>\n      <td>NaN</td>\n      <td>False</td>\n      <td>[]</td>\n    </tr>\n    <tr>\n      <th>1589653</th>\n      <td>49-11</td>\n      <td>stukken</td>\n      <td>.B455: Inspanningstolerantie[4]|INS 2[5]</td>\n      <td>_</td>\n      <td>201738071_49</td>\n      <td>11</td>\n      <td>False</td>\n      <td>NaN</td>\n      <td>True</td>\n      <td>2.0</td>\n      <td>False</td>\n      <td>NaN</td>\n      <td>False</td>\n      <td>NaN</td>\n      <td>False</td>\n      <td>[]</td>\n    </tr>\n    <tr>\n      <th>1589654</th>\n      <td>49-12</td>\n      <td>lopen</td>\n      <td>.B455: Inspanningstolerantie[4]|INS 2[5]|.D450...</td>\n      <td>_</td>\n      <td>201738071_49</td>\n      <td>12</td>\n      <td>False</td>\n      <td>NaN</td>\n      <td>True</td>\n      <td>2.0</td>\n      <td>True</td>\n      <td>NaN</td>\n      <td>False</td>\n      <td>NaN</td>\n      <td>False</td>\n      <td>[]</td>\n    </tr>\n    <tr>\n      <th>1589655</th>\n      <td>49-13</td>\n      <td>gaat</td>\n      <td>.B455: Inspanningstolerantie[4]|INS 2[5]</td>\n      <td>_</td>\n      <td>201738071_49</td>\n      <td>13</td>\n      <td>False</td>\n      <td>NaN</td>\n      <td>True</td>\n      <td>2.0</td>\n      <td>False</td>\n      <td>NaN</td>\n      <td>False</td>\n      <td>NaN</td>\n      <td>False</td>\n      <td>[]</td>\n    </tr>\n    <tr>\n      <th>1589656</th>\n      <td>49-14</td>\n      <td>niet</td>\n      <td>.B455: Inspanningstolerantie[4]|INS 2[5]</td>\n      <td>_</td>\n      <td>201738071_49</td>\n      <td>14</td>\n      <td>False</td>\n      <td>NaN</td>\n      <td>True</td>\n      <td>2.0</td>\n      <td>False</td>\n      <td>NaN</td>\n      <td>False</td>\n      <td>NaN</td>\n      <td>False</td>\n      <td>[]</td>\n    </tr>\n    <tr>\n      <th>1589657</th>\n      <td>49-15</td>\n      <td>meer</td>\n      <td>.B455: Inspanningstolerantie[4]|INS 2[5]</td>\n      <td>_</td>\n      <td>201738071_49</td>\n      <td>15</td>\n      <td>False</td>\n      <td>NaN</td>\n      <td>True</td>\n      <td>2.0</td>\n      <td>False</td>\n      <td>NaN</td>\n      <td>False</td>\n      <td>NaN</td>\n      <td>False</td>\n      <td>[]</td>\n    </tr>\n    <tr>\n      <th>1589658</th>\n      <td>49-16</td>\n      <td>)</td>\n      <td>_</td>\n      <td>_</td>\n      <td>201738071_49</td>\n      <td>16</td>\n      <td>NaN</td>\n      <td>NaN</td>\n      <td>NaN</td>\n      <td>NaN</td>\n      <td>NaN</td>\n      <td>NaN</td>\n      <td>NaN</td>\n      <td>NaN</td>\n      <td>NaN</td>\n      <td>NaN</td>\n    </tr>\n    <tr>\n      <th>1589659</th>\n      <td>49-17</td>\n      <td>.</td>\n      <td>_</td>\n      <td>_</td>\n      <td>201738071_49</td>\n      <td>17</td>\n      <td>NaN</td>\n      <td>NaN</td>\n      <td>NaN</td>\n      <td>NaN</td>\n      <td>NaN</td>\n      <td>NaN</td>\n      <td>NaN</td>\n      <td>NaN</td>\n      <td>NaN</td>\n      <td>NaN</td>\n    </tr>\n    <tr>\n      <th>1589696</th>\n      <td>53-1</td>\n      <td>Bewegen</td>\n      <td>.B455: Inspanningstolerantie[7]|INS 2[8]</td>\n      <td>53-1[8_7]</td>\n      <td>201738071_53</td>\n      <td>1</td>\n      <td>False</td>\n      <td>NaN</td>\n      <td>True</td>\n      <td>2.0</td>\n      <td>False</td>\n      <td>NaN</td>\n      <td>False</td>\n      <td>NaN</td>\n      <td>False</td>\n      <td>[]</td>\n    </tr>\n    <tr>\n      <th>1589697</th>\n      <td>53-2</td>\n      <td>is</td>\n      <td>.B455: Inspanningstolerantie[7]|INS 2[8]</td>\n      <td>_</td>\n      <td>201738071_53</td>\n      <td>2</td>\n      <td>False</td>\n      <td>NaN</td>\n      <td>True</td>\n      <td>2.0</td>\n      <td>False</td>\n      <td>NaN</td>\n      <td>False</td>\n      <td>NaN</td>\n      <td>False</td>\n      <td>[]</td>\n    </tr>\n    <tr>\n      <th>1589698</th>\n      <td>53-3</td>\n      <td>moeilijk</td>\n      <td>.B455: Inspanningstolerantie[7]|INS 2[8]</td>\n      <td>_</td>\n      <td>201738071_53</td>\n      <td>3</td>\n      <td>False</td>\n      <td>NaN</td>\n      <td>True</td>\n      <td>2.0</td>\n      <td>False</td>\n      <td>NaN</td>\n      <td>False</td>\n      <td>NaN</td>\n      <td>False</td>\n      <td>[]</td>\n    </tr>\n    <tr>\n      <th>1589699</th>\n      <td>53-4</td>\n      <td>,</td>\n      <td>.B455: Inspanningstolerantie[7]|INS 2[8]</td>\n      <td>_</td>\n      <td>201738071_53</td>\n      <td>4</td>\n      <td>False</td>\n      <td>NaN</td>\n      <td>True</td>\n      <td>2.0</td>\n      <td>False</td>\n      <td>NaN</td>\n      <td>False</td>\n      <td>NaN</td>\n      <td>False</td>\n      <td>[]</td>\n    </tr>\n    <tr>\n      <th>1589700</th>\n      <td>53-5</td>\n      <td>erg</td>\n      <td>.B455: Inspanningstolerantie[7]|INS 2[8]</td>\n      <td>_</td>\n      <td>201738071_53</td>\n      <td>5</td>\n      <td>False</td>\n      <td>NaN</td>\n      <td>True</td>\n      <td>2.0</td>\n      <td>False</td>\n      <td>NaN</td>\n      <td>False</td>\n      <td>NaN</td>\n      <td>False</td>\n      <td>[]</td>\n    </tr>\n    <tr>\n      <th>1589701</th>\n      <td>53-6</td>\n      <td>vermoeid</td>\n      <td>.B455: Inspanningstolerantie[7]|INS 2[8]</td>\n      <td>_</td>\n      <td>201738071_53</td>\n      <td>6</td>\n      <td>False</td>\n      <td>NaN</td>\n      <td>True</td>\n      <td>2.0</td>\n      <td>False</td>\n      <td>NaN</td>\n      <td>False</td>\n      <td>NaN</td>\n      <td>False</td>\n      <td>[]</td>\n    </tr>\n    <tr>\n      <th>1589702</th>\n      <td>53-7</td>\n      <td>.</td>\n      <td>_</td>\n      <td>_</td>\n      <td>201738071_53</td>\n      <td>7</td>\n      <td>NaN</td>\n      <td>NaN</td>\n      <td>NaN</td>\n      <td>NaN</td>\n      <td>NaN</td>\n      <td>NaN</td>\n      <td>NaN</td>\n      <td>NaN</td>\n      <td>NaN</td>\n      <td>NaN</td>\n    </tr>\n  </tbody>\n</table>\n</div>"
     },
     "metadata": {},
     "execution_count": 20
    }
   ],
   "source": [
    "# select_labels = (noncov.label != '_') & noncov.label.notna()\n",
    "# noncov.loc[select_labels]\n",
    "\n",
    "cols = ['sen_tok', 'token', 'label','relation', 'sen_id', 'tok', 'STM', 'STM_lvl', 'INS', 'INS_lvl', 'FAC', 'FAC_lvl', 'BER', 'BER_lvl', 'disregard', 'other']\n",
    "noncov.loc[noncov.sen_id.isin(['201738071_49', '201738071_53']), cols]"
   ]
  },
  {
   "source": [
    "## COVID (2020)"
   ],
   "cell_type": "markdown",
   "metadata": {}
  },
  {
   "cell_type": "code",
   "execution_count": 3,
   "metadata": {},
   "outputs": [],
   "source": [
    "covpath = Path('../../../Covid_data_11nov/from_inception_tsv')"
   ]
  },
  {
   "cell_type": "code",
   "execution_count": 40,
   "metadata": {},
   "outputs": [],
   "source": [
    "# cov = pd.read_pickle(covpath / 'annotated_df_CovidBatch_pilot.pkl').pipe(preprocessing).pipe(parse_df, tagset)\n",
    "# cov.to_pickle(covpath / 'annotated_df_CovidBatch_pilot_parsed.pkl')"
   ]
  },
  {
   "cell_type": "code",
   "execution_count": 4,
   "metadata": {},
   "outputs": [],
   "source": [
    "cov = pd.read_pickle(covpath / 'annotated_df_CovidBatch_pilot_parsed.pkl')"
   ]
  },
  {
   "cell_type": "code",
   "execution_count": 7,
   "metadata": {},
   "outputs": [
    {
     "output_type": "execute_result",
     "data": {
      "text/plain": [
       "(589329, 24)"
      ]
     },
     "metadata": {},
     "execution_count": 7
    }
   ],
   "source": [
    "cov.shape"
   ]
  },
  {
   "cell_type": "code",
   "execution_count": 6,
   "metadata": {},
   "outputs": [
    {
     "output_type": "execute_result",
     "data": {
      "text/plain": [
       "       sen_tok     char          token                label relation  \\\n",
       "448687     1-1      0-9      Klinische                    _      NaN   \n",
       "448688     1-2    10-18       gegevens                    _      NaN   \n",
       "448689     1-3    19-20              :                    _      NaN   \n",
       "448690     2-1    21-27         nieuwe                    _      NaN   \n",
       "448691     2-2    28-37      maagsonde                    _      NaN   \n",
       "448692     2-3    38-47      geplaatst                    _      NaN   \n",
       "448693     2-4    48-49              ,                    _      NaN   \n",
       "448694     2-5    50-57        positie                    _      NaN   \n",
       "448695     2-6    58-65        onzeker                    _      NaN   \n",
       "448696     2-7    66-79  Vraagstelling                    _      NaN   \n",
       "448697     2-8    80-81              :                    _      NaN   \n",
       "448698     2-9    82-89        positie                    _      NaN   \n",
       "448699    2-10    90-99      maagzonde                    _      NaN   \n",
       "448700    2-11  100-101              ?                    _      NaN   \n",
       "448701    2-12  102-103              ?                    _      NaN   \n",
       "448702     3-1  104-112       X-thorax                    _      NaN   \n",
       "448703     3-2  113-114              :                    _      NaN   \n",
       "448704     3-3  115-124      Vergelijk                    _      NaN   \n",
       "448705     3-4  125-128            met                    _      NaN   \n",
       "448706     3-5  129-138      onderzoek                    _      NaN   \n",
       "448707     3-6  139-142            van                    _      NaN   \n",
       "448708     3-7  143-145             15                    _      NaN   \n",
       "448709     3-8  146-149            mei                    _      NaN   \n",
       "448710     3-9  150-154           2020                    _      NaN   \n",
       "448711    3-10  155-159           9.38                    _      NaN   \n",
       "448712    3-11  160-163            uur                    _      NaN   \n",
       "448713    3-12  164-165              .                    _      NaN   \n",
       "448714     4-1  166-175      Maagsonde                    _      NaN   \n",
       "448715     4-2  176-178             in                    _      NaN   \n",
       "448716     4-3  179-183           situ                    _      NaN   \n",
       "448717     4-4  184-185              .                    _      NaN   \n",
       "448718     5-1  186-191          Goede                    _      NaN   \n",
       "448719     5-2  192-199        positie                    _      NaN   \n",
       "448720     5-3  200-201              .                    _      NaN   \n",
       "448721     6-1  202-208         Thorax                    _      NaN   \n",
       "448722     6-2  209-216        slechts                    _      NaN   \n",
       "448723     6-3  217-220            ten                    _      NaN   \n",
       "448724     6-4  221-225           dele                    _      NaN   \n",
       "448725     6-5  226-235      afgebeeld                    _      NaN   \n",
       "448726     6-6  236-237              .                    _      NaN   \n",
       "448727     7-1  238-245        Bekende  type\\_Background[1]      NaN   \n",
       "448728     7-2  246-254       vlekkige  type\\_Background[1]      NaN   \n",
       "448729     7-3  255-268  consolidaties  type\\_Background[1]      NaN   \n",
       "448730     7-4  269-280    beiderzijds  type\\_Background[1]      NaN   \n",
       "448731     7-5  281-282              ,  type\\_Background[1]      NaN   \n",
       "448732     7-6  283-295   voornamelijk  type\\_Background[1]      NaN   \n",
       "448733     7-7  296-302         basaal  type\\_Background[1]      NaN   \n",
       "448734     7-8  303-304              .  type\\_Background[1]      NaN   \n",
       "448735     8-1  305-311         Bekend  type\\_Background[1]      NaN   \n",
       "448736     8-2  312-324   degeneratief  type\\_Background[1]      NaN   \n",
       "448737     8-3  325-331         skelet  type\\_Background[1]      NaN   \n",
       "448738     8-4  332-333              .  type\\_Background[1]      NaN   \n",
       "448739     9-1  334-343      Conclusie                    _      NaN   \n",
       "448740     9-2  344-345              :                    _      NaN   \n",
       "448741    10-1  346-351          Goede                    _      NaN   \n",
       "448742    10-2  352-359        positie                    _      NaN   \n",
       "448743    10-3  360-369      maagsonde                    _      NaN   \n",
       "448744    10-4  370-371              .                    _      NaN   \n",
       "\n",
       "       annotator institution      MDN  NotitieID NotitieCSN  ...    STM  \\\n",
       "448687   meskers         AMC  1830570  416426863  422658373  ...    NaN   \n",
       "448688   meskers         AMC  1830570  416426863  422658373  ...    NaN   \n",
       "448689   meskers         AMC  1830570  416426863  422658373  ...    NaN   \n",
       "448690   meskers         AMC  1830570  416426863  422658373  ...    NaN   \n",
       "448691   meskers         AMC  1830570  416426863  422658373  ...    NaN   \n",
       "448692   meskers         AMC  1830570  416426863  422658373  ...    NaN   \n",
       "448693   meskers         AMC  1830570  416426863  422658373  ...    NaN   \n",
       "448694   meskers         AMC  1830570  416426863  422658373  ...    NaN   \n",
       "448695   meskers         AMC  1830570  416426863  422658373  ...    NaN   \n",
       "448696   meskers         AMC  1830570  416426863  422658373  ...    NaN   \n",
       "448697   meskers         AMC  1830570  416426863  422658373  ...    NaN   \n",
       "448698   meskers         AMC  1830570  416426863  422658373  ...    NaN   \n",
       "448699   meskers         AMC  1830570  416426863  422658373  ...    NaN   \n",
       "448700   meskers         AMC  1830570  416426863  422658373  ...    NaN   \n",
       "448701   meskers         AMC  1830570  416426863  422658373  ...    NaN   \n",
       "448702   meskers         AMC  1830570  416426863  422658373  ...    NaN   \n",
       "448703   meskers         AMC  1830570  416426863  422658373  ...    NaN   \n",
       "448704   meskers         AMC  1830570  416426863  422658373  ...    NaN   \n",
       "448705   meskers         AMC  1830570  416426863  422658373  ...    NaN   \n",
       "448706   meskers         AMC  1830570  416426863  422658373  ...    NaN   \n",
       "448707   meskers         AMC  1830570  416426863  422658373  ...    NaN   \n",
       "448708   meskers         AMC  1830570  416426863  422658373  ...    NaN   \n",
       "448709   meskers         AMC  1830570  416426863  422658373  ...    NaN   \n",
       "448710   meskers         AMC  1830570  416426863  422658373  ...    NaN   \n",
       "448711   meskers         AMC  1830570  416426863  422658373  ...    NaN   \n",
       "448712   meskers         AMC  1830570  416426863  422658373  ...    NaN   \n",
       "448713   meskers         AMC  1830570  416426863  422658373  ...    NaN   \n",
       "448714   meskers         AMC  1830570  416426863  422658373  ...    NaN   \n",
       "448715   meskers         AMC  1830570  416426863  422658373  ...    NaN   \n",
       "448716   meskers         AMC  1830570  416426863  422658373  ...    NaN   \n",
       "448717   meskers         AMC  1830570  416426863  422658373  ...    NaN   \n",
       "448718   meskers         AMC  1830570  416426863  422658373  ...    NaN   \n",
       "448719   meskers         AMC  1830570  416426863  422658373  ...    NaN   \n",
       "448720   meskers         AMC  1830570  416426863  422658373  ...    NaN   \n",
       "448721   meskers         AMC  1830570  416426863  422658373  ...    NaN   \n",
       "448722   meskers         AMC  1830570  416426863  422658373  ...    NaN   \n",
       "448723   meskers         AMC  1830570  416426863  422658373  ...    NaN   \n",
       "448724   meskers         AMC  1830570  416426863  422658373  ...    NaN   \n",
       "448725   meskers         AMC  1830570  416426863  422658373  ...    NaN   \n",
       "448726   meskers         AMC  1830570  416426863  422658373  ...    NaN   \n",
       "448727   meskers         AMC  1830570  416426863  422658373  ...  False   \n",
       "448728   meskers         AMC  1830570  416426863  422658373  ...  False   \n",
       "448729   meskers         AMC  1830570  416426863  422658373  ...  False   \n",
       "448730   meskers         AMC  1830570  416426863  422658373  ...  False   \n",
       "448731   meskers         AMC  1830570  416426863  422658373  ...  False   \n",
       "448732   meskers         AMC  1830570  416426863  422658373  ...  False   \n",
       "448733   meskers         AMC  1830570  416426863  422658373  ...  False   \n",
       "448734   meskers         AMC  1830570  416426863  422658373  ...  False   \n",
       "448735   meskers         AMC  1830570  416426863  422658373  ...  False   \n",
       "448736   meskers         AMC  1830570  416426863  422658373  ...  False   \n",
       "448737   meskers         AMC  1830570  416426863  422658373  ...  False   \n",
       "448738   meskers         AMC  1830570  416426863  422658373  ...  False   \n",
       "448739   meskers         AMC  1830570  416426863  422658373  ...    NaN   \n",
       "448740   meskers         AMC  1830570  416426863  422658373  ...    NaN   \n",
       "448741   meskers         AMC  1830570  416426863  422658373  ...    NaN   \n",
       "448742   meskers         AMC  1830570  416426863  422658373  ...    NaN   \n",
       "448743   meskers         AMC  1830570  416426863  422658373  ...    NaN   \n",
       "448744   meskers         AMC  1830570  416426863  422658373  ...    NaN   \n",
       "\n",
       "       STM_lvl    INS INS_lvl    FAC  FAC_lvl    BER  BER_lvl disregard  other  \n",
       "448687     NaN    NaN     NaN    NaN      NaN    NaN      NaN       NaN    NaN  \n",
       "448688     NaN    NaN     NaN    NaN      NaN    NaN      NaN       NaN    NaN  \n",
       "448689     NaN    NaN     NaN    NaN      NaN    NaN      NaN       NaN    NaN  \n",
       "448690     NaN    NaN     NaN    NaN      NaN    NaN      NaN       NaN    NaN  \n",
       "448691     NaN    NaN     NaN    NaN      NaN    NaN      NaN       NaN    NaN  \n",
       "448692     NaN    NaN     NaN    NaN      NaN    NaN      NaN       NaN    NaN  \n",
       "448693     NaN    NaN     NaN    NaN      NaN    NaN      NaN       NaN    NaN  \n",
       "448694     NaN    NaN     NaN    NaN      NaN    NaN      NaN       NaN    NaN  \n",
       "448695     NaN    NaN     NaN    NaN      NaN    NaN      NaN       NaN    NaN  \n",
       "448696     NaN    NaN     NaN    NaN      NaN    NaN      NaN       NaN    NaN  \n",
       "448697     NaN    NaN     NaN    NaN      NaN    NaN      NaN       NaN    NaN  \n",
       "448698     NaN    NaN     NaN    NaN      NaN    NaN      NaN       NaN    NaN  \n",
       "448699     NaN    NaN     NaN    NaN      NaN    NaN      NaN       NaN    NaN  \n",
       "448700     NaN    NaN     NaN    NaN      NaN    NaN      NaN       NaN    NaN  \n",
       "448701     NaN    NaN     NaN    NaN      NaN    NaN      NaN       NaN    NaN  \n",
       "448702     NaN    NaN     NaN    NaN      NaN    NaN      NaN       NaN    NaN  \n",
       "448703     NaN    NaN     NaN    NaN      NaN    NaN      NaN       NaN    NaN  \n",
       "448704     NaN    NaN     NaN    NaN      NaN    NaN      NaN       NaN    NaN  \n",
       "448705     NaN    NaN     NaN    NaN      NaN    NaN      NaN       NaN    NaN  \n",
       "448706     NaN    NaN     NaN    NaN      NaN    NaN      NaN       NaN    NaN  \n",
       "448707     NaN    NaN     NaN    NaN      NaN    NaN      NaN       NaN    NaN  \n",
       "448708     NaN    NaN     NaN    NaN      NaN    NaN      NaN       NaN    NaN  \n",
       "448709     NaN    NaN     NaN    NaN      NaN    NaN      NaN       NaN    NaN  \n",
       "448710     NaN    NaN     NaN    NaN      NaN    NaN      NaN       NaN    NaN  \n",
       "448711     NaN    NaN     NaN    NaN      NaN    NaN      NaN       NaN    NaN  \n",
       "448712     NaN    NaN     NaN    NaN      NaN    NaN      NaN       NaN    NaN  \n",
       "448713     NaN    NaN     NaN    NaN      NaN    NaN      NaN       NaN    NaN  \n",
       "448714     NaN    NaN     NaN    NaN      NaN    NaN      NaN       NaN    NaN  \n",
       "448715     NaN    NaN     NaN    NaN      NaN    NaN      NaN       NaN    NaN  \n",
       "448716     NaN    NaN     NaN    NaN      NaN    NaN      NaN       NaN    NaN  \n",
       "448717     NaN    NaN     NaN    NaN      NaN    NaN      NaN       NaN    NaN  \n",
       "448718     NaN    NaN     NaN    NaN      NaN    NaN      NaN       NaN    NaN  \n",
       "448719     NaN    NaN     NaN    NaN      NaN    NaN      NaN       NaN    NaN  \n",
       "448720     NaN    NaN     NaN    NaN      NaN    NaN      NaN       NaN    NaN  \n",
       "448721     NaN    NaN     NaN    NaN      NaN    NaN      NaN       NaN    NaN  \n",
       "448722     NaN    NaN     NaN    NaN      NaN    NaN      NaN       NaN    NaN  \n",
       "448723     NaN    NaN     NaN    NaN      NaN    NaN      NaN       NaN    NaN  \n",
       "448724     NaN    NaN     NaN    NaN      NaN    NaN      NaN       NaN    NaN  \n",
       "448725     NaN    NaN     NaN    NaN      NaN    NaN      NaN       NaN    NaN  \n",
       "448726     NaN    NaN     NaN    NaN      NaN    NaN      NaN       NaN    NaN  \n",
       "448727     NaN  False     NaN  False      NaN  False      NaN     False     []  \n",
       "448728     NaN  False     NaN  False      NaN  False      NaN     False     []  \n",
       "448729     NaN  False     NaN  False      NaN  False      NaN     False     []  \n",
       "448730     NaN  False     NaN  False      NaN  False      NaN     False     []  \n",
       "448731     NaN  False     NaN  False      NaN  False      NaN     False     []  \n",
       "448732     NaN  False     NaN  False      NaN  False      NaN     False     []  \n",
       "448733     NaN  False     NaN  False      NaN  False      NaN     False     []  \n",
       "448734     NaN  False     NaN  False      NaN  False      NaN     False     []  \n",
       "448735     NaN  False     NaN  False      NaN  False      NaN     False     []  \n",
       "448736     NaN  False     NaN  False      NaN  False      NaN     False     []  \n",
       "448737     NaN  False     NaN  False      NaN  False      NaN     False     []  \n",
       "448738     NaN  False     NaN  False      NaN  False      NaN     False     []  \n",
       "448739     NaN    NaN     NaN    NaN      NaN    NaN      NaN       NaN    NaN  \n",
       "448740     NaN    NaN     NaN    NaN      NaN    NaN      NaN       NaN    NaN  \n",
       "448741     NaN    NaN     NaN    NaN      NaN    NaN      NaN       NaN    NaN  \n",
       "448742     NaN    NaN     NaN    NaN      NaN    NaN      NaN       NaN    NaN  \n",
       "448743     NaN    NaN     NaN    NaN      NaN    NaN      NaN       NaN    NaN  \n",
       "448744     NaN    NaN     NaN    NaN      NaN    NaN      NaN       NaN    NaN  \n",
       "\n",
       "[58 rows x 24 columns]"
      ],
      "text/html": "<div>\n<style scoped>\n    .dataframe tbody tr th:only-of-type {\n        vertical-align: middle;\n    }\n\n    .dataframe tbody tr th {\n        vertical-align: top;\n    }\n\n    .dataframe thead th {\n        text-align: right;\n    }\n</style>\n<table border=\"1\" class=\"dataframe\">\n  <thead>\n    <tr style=\"text-align: right;\">\n      <th></th>\n      <th>sen_tok</th>\n      <th>char</th>\n      <th>token</th>\n      <th>label</th>\n      <th>relation</th>\n      <th>annotator</th>\n      <th>institution</th>\n      <th>MDN</th>\n      <th>NotitieID</th>\n      <th>NotitieCSN</th>\n      <th>...</th>\n      <th>STM</th>\n      <th>STM_lvl</th>\n      <th>INS</th>\n      <th>INS_lvl</th>\n      <th>FAC</th>\n      <th>FAC_lvl</th>\n      <th>BER</th>\n      <th>BER_lvl</th>\n      <th>disregard</th>\n      <th>other</th>\n    </tr>\n  </thead>\n  <tbody>\n    <tr>\n      <th>448687</th>\n      <td>1-1</td>\n      <td>0-9</td>\n      <td>Klinische</td>\n      <td>_</td>\n      <td>NaN</td>\n      <td>meskers</td>\n      <td>AMC</td>\n      <td>1830570</td>\n      <td>416426863</td>\n      <td>422658373</td>\n      <td>...</td>\n      <td>NaN</td>\n      <td>NaN</td>\n      <td>NaN</td>\n      <td>NaN</td>\n      <td>NaN</td>\n      <td>NaN</td>\n      <td>NaN</td>\n      <td>NaN</td>\n      <td>NaN</td>\n      <td>NaN</td>\n    </tr>\n    <tr>\n      <th>448688</th>\n      <td>1-2</td>\n      <td>10-18</td>\n      <td>gegevens</td>\n      <td>_</td>\n      <td>NaN</td>\n      <td>meskers</td>\n      <td>AMC</td>\n      <td>1830570</td>\n      <td>416426863</td>\n      <td>422658373</td>\n      <td>...</td>\n      <td>NaN</td>\n      <td>NaN</td>\n      <td>NaN</td>\n      <td>NaN</td>\n      <td>NaN</td>\n      <td>NaN</td>\n      <td>NaN</td>\n      <td>NaN</td>\n      <td>NaN</td>\n      <td>NaN</td>\n    </tr>\n    <tr>\n      <th>448689</th>\n      <td>1-3</td>\n      <td>19-20</td>\n      <td>:</td>\n      <td>_</td>\n      <td>NaN</td>\n      <td>meskers</td>\n      <td>AMC</td>\n      <td>1830570</td>\n      <td>416426863</td>\n      <td>422658373</td>\n      <td>...</td>\n      <td>NaN</td>\n      <td>NaN</td>\n      <td>NaN</td>\n      <td>NaN</td>\n      <td>NaN</td>\n      <td>NaN</td>\n      <td>NaN</td>\n      <td>NaN</td>\n      <td>NaN</td>\n      <td>NaN</td>\n    </tr>\n    <tr>\n      <th>448690</th>\n      <td>2-1</td>\n      <td>21-27</td>\n      <td>nieuwe</td>\n      <td>_</td>\n      <td>NaN</td>\n      <td>meskers</td>\n      <td>AMC</td>\n      <td>1830570</td>\n      <td>416426863</td>\n      <td>422658373</td>\n      <td>...</td>\n      <td>NaN</td>\n      <td>NaN</td>\n      <td>NaN</td>\n      <td>NaN</td>\n      <td>NaN</td>\n      <td>NaN</td>\n      <td>NaN</td>\n      <td>NaN</td>\n      <td>NaN</td>\n      <td>NaN</td>\n    </tr>\n    <tr>\n      <th>448691</th>\n      <td>2-2</td>\n      <td>28-37</td>\n      <td>maagsonde</td>\n      <td>_</td>\n      <td>NaN</td>\n      <td>meskers</td>\n      <td>AMC</td>\n      <td>1830570</td>\n      <td>416426863</td>\n      <td>422658373</td>\n      <td>...</td>\n      <td>NaN</td>\n      <td>NaN</td>\n      <td>NaN</td>\n      <td>NaN</td>\n      <td>NaN</td>\n      <td>NaN</td>\n      <td>NaN</td>\n      <td>NaN</td>\n      <td>NaN</td>\n      <td>NaN</td>\n    </tr>\n    <tr>\n      <th>448692</th>\n      <td>2-3</td>\n      <td>38-47</td>\n      <td>geplaatst</td>\n      <td>_</td>\n      <td>NaN</td>\n      <td>meskers</td>\n      <td>AMC</td>\n      <td>1830570</td>\n      <td>416426863</td>\n      <td>422658373</td>\n      <td>...</td>\n      <td>NaN</td>\n      <td>NaN</td>\n      <td>NaN</td>\n      <td>NaN</td>\n      <td>NaN</td>\n      <td>NaN</td>\n      <td>NaN</td>\n      <td>NaN</td>\n      <td>NaN</td>\n      <td>NaN</td>\n    </tr>\n    <tr>\n      <th>448693</th>\n      <td>2-4</td>\n      <td>48-49</td>\n      <td>,</td>\n      <td>_</td>\n      <td>NaN</td>\n      <td>meskers</td>\n      <td>AMC</td>\n      <td>1830570</td>\n      <td>416426863</td>\n      <td>422658373</td>\n      <td>...</td>\n      <td>NaN</td>\n      <td>NaN</td>\n      <td>NaN</td>\n      <td>NaN</td>\n      <td>NaN</td>\n      <td>NaN</td>\n      <td>NaN</td>\n      <td>NaN</td>\n      <td>NaN</td>\n      <td>NaN</td>\n    </tr>\n    <tr>\n      <th>448694</th>\n      <td>2-5</td>\n      <td>50-57</td>\n      <td>positie</td>\n      <td>_</td>\n      <td>NaN</td>\n      <td>meskers</td>\n      <td>AMC</td>\n      <td>1830570</td>\n      <td>416426863</td>\n      <td>422658373</td>\n      <td>...</td>\n      <td>NaN</td>\n      <td>NaN</td>\n      <td>NaN</td>\n      <td>NaN</td>\n      <td>NaN</td>\n      <td>NaN</td>\n      <td>NaN</td>\n      <td>NaN</td>\n      <td>NaN</td>\n      <td>NaN</td>\n    </tr>\n    <tr>\n      <th>448695</th>\n      <td>2-6</td>\n      <td>58-65</td>\n      <td>onzeker</td>\n      <td>_</td>\n      <td>NaN</td>\n      <td>meskers</td>\n      <td>AMC</td>\n      <td>1830570</td>\n      <td>416426863</td>\n      <td>422658373</td>\n      <td>...</td>\n      <td>NaN</td>\n      <td>NaN</td>\n      <td>NaN</td>\n      <td>NaN</td>\n      <td>NaN</td>\n      <td>NaN</td>\n      <td>NaN</td>\n      <td>NaN</td>\n      <td>NaN</td>\n      <td>NaN</td>\n    </tr>\n    <tr>\n      <th>448696</th>\n      <td>2-7</td>\n      <td>66-79</td>\n      <td>Vraagstelling</td>\n      <td>_</td>\n      <td>NaN</td>\n      <td>meskers</td>\n      <td>AMC</td>\n      <td>1830570</td>\n      <td>416426863</td>\n      <td>422658373</td>\n      <td>...</td>\n      <td>NaN</td>\n      <td>NaN</td>\n      <td>NaN</td>\n      <td>NaN</td>\n      <td>NaN</td>\n      <td>NaN</td>\n      <td>NaN</td>\n      <td>NaN</td>\n      <td>NaN</td>\n      <td>NaN</td>\n    </tr>\n    <tr>\n      <th>448697</th>\n      <td>2-8</td>\n      <td>80-81</td>\n      <td>:</td>\n      <td>_</td>\n      <td>NaN</td>\n      <td>meskers</td>\n      <td>AMC</td>\n      <td>1830570</td>\n      <td>416426863</td>\n      <td>422658373</td>\n      <td>...</td>\n      <td>NaN</td>\n      <td>NaN</td>\n      <td>NaN</td>\n      <td>NaN</td>\n      <td>NaN</td>\n      <td>NaN</td>\n      <td>NaN</td>\n      <td>NaN</td>\n      <td>NaN</td>\n      <td>NaN</td>\n    </tr>\n    <tr>\n      <th>448698</th>\n      <td>2-9</td>\n      <td>82-89</td>\n      <td>positie</td>\n      <td>_</td>\n      <td>NaN</td>\n      <td>meskers</td>\n      <td>AMC</td>\n      <td>1830570</td>\n      <td>416426863</td>\n      <td>422658373</td>\n      <td>...</td>\n      <td>NaN</td>\n      <td>NaN</td>\n      <td>NaN</td>\n      <td>NaN</td>\n      <td>NaN</td>\n      <td>NaN</td>\n      <td>NaN</td>\n      <td>NaN</td>\n      <td>NaN</td>\n      <td>NaN</td>\n    </tr>\n    <tr>\n      <th>448699</th>\n      <td>2-10</td>\n      <td>90-99</td>\n      <td>maagzonde</td>\n      <td>_</td>\n      <td>NaN</td>\n      <td>meskers</td>\n      <td>AMC</td>\n      <td>1830570</td>\n      <td>416426863</td>\n      <td>422658373</td>\n      <td>...</td>\n      <td>NaN</td>\n      <td>NaN</td>\n      <td>NaN</td>\n      <td>NaN</td>\n      <td>NaN</td>\n      <td>NaN</td>\n      <td>NaN</td>\n      <td>NaN</td>\n      <td>NaN</td>\n      <td>NaN</td>\n    </tr>\n    <tr>\n      <th>448700</th>\n      <td>2-11</td>\n      <td>100-101</td>\n      <td>?</td>\n      <td>_</td>\n      <td>NaN</td>\n      <td>meskers</td>\n      <td>AMC</td>\n      <td>1830570</td>\n      <td>416426863</td>\n      <td>422658373</td>\n      <td>...</td>\n      <td>NaN</td>\n      <td>NaN</td>\n      <td>NaN</td>\n      <td>NaN</td>\n      <td>NaN</td>\n      <td>NaN</td>\n      <td>NaN</td>\n      <td>NaN</td>\n      <td>NaN</td>\n      <td>NaN</td>\n    </tr>\n    <tr>\n      <th>448701</th>\n      <td>2-12</td>\n      <td>102-103</td>\n      <td>?</td>\n      <td>_</td>\n      <td>NaN</td>\n      <td>meskers</td>\n      <td>AMC</td>\n      <td>1830570</td>\n      <td>416426863</td>\n      <td>422658373</td>\n      <td>...</td>\n      <td>NaN</td>\n      <td>NaN</td>\n      <td>NaN</td>\n      <td>NaN</td>\n      <td>NaN</td>\n      <td>NaN</td>\n      <td>NaN</td>\n      <td>NaN</td>\n      <td>NaN</td>\n      <td>NaN</td>\n    </tr>\n    <tr>\n      <th>448702</th>\n      <td>3-1</td>\n      <td>104-112</td>\n      <td>X-thorax</td>\n      <td>_</td>\n      <td>NaN</td>\n      <td>meskers</td>\n      <td>AMC</td>\n      <td>1830570</td>\n      <td>416426863</td>\n      <td>422658373</td>\n      <td>...</td>\n      <td>NaN</td>\n      <td>NaN</td>\n      <td>NaN</td>\n      <td>NaN</td>\n      <td>NaN</td>\n      <td>NaN</td>\n      <td>NaN</td>\n      <td>NaN</td>\n      <td>NaN</td>\n      <td>NaN</td>\n    </tr>\n    <tr>\n      <th>448703</th>\n      <td>3-2</td>\n      <td>113-114</td>\n      <td>:</td>\n      <td>_</td>\n      <td>NaN</td>\n      <td>meskers</td>\n      <td>AMC</td>\n      <td>1830570</td>\n      <td>416426863</td>\n      <td>422658373</td>\n      <td>...</td>\n      <td>NaN</td>\n      <td>NaN</td>\n      <td>NaN</td>\n      <td>NaN</td>\n      <td>NaN</td>\n      <td>NaN</td>\n      <td>NaN</td>\n      <td>NaN</td>\n      <td>NaN</td>\n      <td>NaN</td>\n    </tr>\n    <tr>\n      <th>448704</th>\n      <td>3-3</td>\n      <td>115-124</td>\n      <td>Vergelijk</td>\n      <td>_</td>\n      <td>NaN</td>\n      <td>meskers</td>\n      <td>AMC</td>\n      <td>1830570</td>\n      <td>416426863</td>\n      <td>422658373</td>\n      <td>...</td>\n      <td>NaN</td>\n      <td>NaN</td>\n      <td>NaN</td>\n      <td>NaN</td>\n      <td>NaN</td>\n      <td>NaN</td>\n      <td>NaN</td>\n      <td>NaN</td>\n      <td>NaN</td>\n      <td>NaN</td>\n    </tr>\n    <tr>\n      <th>448705</th>\n      <td>3-4</td>\n      <td>125-128</td>\n      <td>met</td>\n      <td>_</td>\n      <td>NaN</td>\n      <td>meskers</td>\n      <td>AMC</td>\n      <td>1830570</td>\n      <td>416426863</td>\n      <td>422658373</td>\n      <td>...</td>\n      <td>NaN</td>\n      <td>NaN</td>\n      <td>NaN</td>\n      <td>NaN</td>\n      <td>NaN</td>\n      <td>NaN</td>\n      <td>NaN</td>\n      <td>NaN</td>\n      <td>NaN</td>\n      <td>NaN</td>\n    </tr>\n    <tr>\n      <th>448706</th>\n      <td>3-5</td>\n      <td>129-138</td>\n      <td>onderzoek</td>\n      <td>_</td>\n      <td>NaN</td>\n      <td>meskers</td>\n      <td>AMC</td>\n      <td>1830570</td>\n      <td>416426863</td>\n      <td>422658373</td>\n      <td>...</td>\n      <td>NaN</td>\n      <td>NaN</td>\n      <td>NaN</td>\n      <td>NaN</td>\n      <td>NaN</td>\n      <td>NaN</td>\n      <td>NaN</td>\n      <td>NaN</td>\n      <td>NaN</td>\n      <td>NaN</td>\n    </tr>\n    <tr>\n      <th>448707</th>\n      <td>3-6</td>\n      <td>139-142</td>\n      <td>van</td>\n      <td>_</td>\n      <td>NaN</td>\n      <td>meskers</td>\n      <td>AMC</td>\n      <td>1830570</td>\n      <td>416426863</td>\n      <td>422658373</td>\n      <td>...</td>\n      <td>NaN</td>\n      <td>NaN</td>\n      <td>NaN</td>\n      <td>NaN</td>\n      <td>NaN</td>\n      <td>NaN</td>\n      <td>NaN</td>\n      <td>NaN</td>\n      <td>NaN</td>\n      <td>NaN</td>\n    </tr>\n    <tr>\n      <th>448708</th>\n      <td>3-7</td>\n      <td>143-145</td>\n      <td>15</td>\n      <td>_</td>\n      <td>NaN</td>\n      <td>meskers</td>\n      <td>AMC</td>\n      <td>1830570</td>\n      <td>416426863</td>\n      <td>422658373</td>\n      <td>...</td>\n      <td>NaN</td>\n      <td>NaN</td>\n      <td>NaN</td>\n      <td>NaN</td>\n      <td>NaN</td>\n      <td>NaN</td>\n      <td>NaN</td>\n      <td>NaN</td>\n      <td>NaN</td>\n      <td>NaN</td>\n    </tr>\n    <tr>\n      <th>448709</th>\n      <td>3-8</td>\n      <td>146-149</td>\n      <td>mei</td>\n      <td>_</td>\n      <td>NaN</td>\n      <td>meskers</td>\n      <td>AMC</td>\n      <td>1830570</td>\n      <td>416426863</td>\n      <td>422658373</td>\n      <td>...</td>\n      <td>NaN</td>\n      <td>NaN</td>\n      <td>NaN</td>\n      <td>NaN</td>\n      <td>NaN</td>\n      <td>NaN</td>\n      <td>NaN</td>\n      <td>NaN</td>\n      <td>NaN</td>\n      <td>NaN</td>\n    </tr>\n    <tr>\n      <th>448710</th>\n      <td>3-9</td>\n      <td>150-154</td>\n      <td>2020</td>\n      <td>_</td>\n      <td>NaN</td>\n      <td>meskers</td>\n      <td>AMC</td>\n      <td>1830570</td>\n      <td>416426863</td>\n      <td>422658373</td>\n      <td>...</td>\n      <td>NaN</td>\n      <td>NaN</td>\n      <td>NaN</td>\n      <td>NaN</td>\n      <td>NaN</td>\n      <td>NaN</td>\n      <td>NaN</td>\n      <td>NaN</td>\n      <td>NaN</td>\n      <td>NaN</td>\n    </tr>\n    <tr>\n      <th>448711</th>\n      <td>3-10</td>\n      <td>155-159</td>\n      <td>9.38</td>\n      <td>_</td>\n      <td>NaN</td>\n      <td>meskers</td>\n      <td>AMC</td>\n      <td>1830570</td>\n      <td>416426863</td>\n      <td>422658373</td>\n      <td>...</td>\n      <td>NaN</td>\n      <td>NaN</td>\n      <td>NaN</td>\n      <td>NaN</td>\n      <td>NaN</td>\n      <td>NaN</td>\n      <td>NaN</td>\n      <td>NaN</td>\n      <td>NaN</td>\n      <td>NaN</td>\n    </tr>\n    <tr>\n      <th>448712</th>\n      <td>3-11</td>\n      <td>160-163</td>\n      <td>uur</td>\n      <td>_</td>\n      <td>NaN</td>\n      <td>meskers</td>\n      <td>AMC</td>\n      <td>1830570</td>\n      <td>416426863</td>\n      <td>422658373</td>\n      <td>...</td>\n      <td>NaN</td>\n      <td>NaN</td>\n      <td>NaN</td>\n      <td>NaN</td>\n      <td>NaN</td>\n      <td>NaN</td>\n      <td>NaN</td>\n      <td>NaN</td>\n      <td>NaN</td>\n      <td>NaN</td>\n    </tr>\n    <tr>\n      <th>448713</th>\n      <td>3-12</td>\n      <td>164-165</td>\n      <td>.</td>\n      <td>_</td>\n      <td>NaN</td>\n      <td>meskers</td>\n      <td>AMC</td>\n      <td>1830570</td>\n      <td>416426863</td>\n      <td>422658373</td>\n      <td>...</td>\n      <td>NaN</td>\n      <td>NaN</td>\n      <td>NaN</td>\n      <td>NaN</td>\n      <td>NaN</td>\n      <td>NaN</td>\n      <td>NaN</td>\n      <td>NaN</td>\n      <td>NaN</td>\n      <td>NaN</td>\n    </tr>\n    <tr>\n      <th>448714</th>\n      <td>4-1</td>\n      <td>166-175</td>\n      <td>Maagsonde</td>\n      <td>_</td>\n      <td>NaN</td>\n      <td>meskers</td>\n      <td>AMC</td>\n      <td>1830570</td>\n      <td>416426863</td>\n      <td>422658373</td>\n      <td>...</td>\n      <td>NaN</td>\n      <td>NaN</td>\n      <td>NaN</td>\n      <td>NaN</td>\n      <td>NaN</td>\n      <td>NaN</td>\n      <td>NaN</td>\n      <td>NaN</td>\n      <td>NaN</td>\n      <td>NaN</td>\n    </tr>\n    <tr>\n      <th>448715</th>\n      <td>4-2</td>\n      <td>176-178</td>\n      <td>in</td>\n      <td>_</td>\n      <td>NaN</td>\n      <td>meskers</td>\n      <td>AMC</td>\n      <td>1830570</td>\n      <td>416426863</td>\n      <td>422658373</td>\n      <td>...</td>\n      <td>NaN</td>\n      <td>NaN</td>\n      <td>NaN</td>\n      <td>NaN</td>\n      <td>NaN</td>\n      <td>NaN</td>\n      <td>NaN</td>\n      <td>NaN</td>\n      <td>NaN</td>\n      <td>NaN</td>\n    </tr>\n    <tr>\n      <th>448716</th>\n      <td>4-3</td>\n      <td>179-183</td>\n      <td>situ</td>\n      <td>_</td>\n      <td>NaN</td>\n      <td>meskers</td>\n      <td>AMC</td>\n      <td>1830570</td>\n      <td>416426863</td>\n      <td>422658373</td>\n      <td>...</td>\n      <td>NaN</td>\n      <td>NaN</td>\n      <td>NaN</td>\n      <td>NaN</td>\n      <td>NaN</td>\n      <td>NaN</td>\n      <td>NaN</td>\n      <td>NaN</td>\n      <td>NaN</td>\n      <td>NaN</td>\n    </tr>\n    <tr>\n      <th>448717</th>\n      <td>4-4</td>\n      <td>184-185</td>\n      <td>.</td>\n      <td>_</td>\n      <td>NaN</td>\n      <td>meskers</td>\n      <td>AMC</td>\n      <td>1830570</td>\n      <td>416426863</td>\n      <td>422658373</td>\n      <td>...</td>\n      <td>NaN</td>\n      <td>NaN</td>\n      <td>NaN</td>\n      <td>NaN</td>\n      <td>NaN</td>\n      <td>NaN</td>\n      <td>NaN</td>\n      <td>NaN</td>\n      <td>NaN</td>\n      <td>NaN</td>\n    </tr>\n    <tr>\n      <th>448718</th>\n      <td>5-1</td>\n      <td>186-191</td>\n      <td>Goede</td>\n      <td>_</td>\n      <td>NaN</td>\n      <td>meskers</td>\n      <td>AMC</td>\n      <td>1830570</td>\n      <td>416426863</td>\n      <td>422658373</td>\n      <td>...</td>\n      <td>NaN</td>\n      <td>NaN</td>\n      <td>NaN</td>\n      <td>NaN</td>\n      <td>NaN</td>\n      <td>NaN</td>\n      <td>NaN</td>\n      <td>NaN</td>\n      <td>NaN</td>\n      <td>NaN</td>\n    </tr>\n    <tr>\n      <th>448719</th>\n      <td>5-2</td>\n      <td>192-199</td>\n      <td>positie</td>\n      <td>_</td>\n      <td>NaN</td>\n      <td>meskers</td>\n      <td>AMC</td>\n      <td>1830570</td>\n      <td>416426863</td>\n      <td>422658373</td>\n      <td>...</td>\n      <td>NaN</td>\n      <td>NaN</td>\n      <td>NaN</td>\n      <td>NaN</td>\n      <td>NaN</td>\n      <td>NaN</td>\n      <td>NaN</td>\n      <td>NaN</td>\n      <td>NaN</td>\n      <td>NaN</td>\n    </tr>\n    <tr>\n      <th>448720</th>\n      <td>5-3</td>\n      <td>200-201</td>\n      <td>.</td>\n      <td>_</td>\n      <td>NaN</td>\n      <td>meskers</td>\n      <td>AMC</td>\n      <td>1830570</td>\n      <td>416426863</td>\n      <td>422658373</td>\n      <td>...</td>\n      <td>NaN</td>\n      <td>NaN</td>\n      <td>NaN</td>\n      <td>NaN</td>\n      <td>NaN</td>\n      <td>NaN</td>\n      <td>NaN</td>\n      <td>NaN</td>\n      <td>NaN</td>\n      <td>NaN</td>\n    </tr>\n    <tr>\n      <th>448721</th>\n      <td>6-1</td>\n      <td>202-208</td>\n      <td>Thorax</td>\n      <td>_</td>\n      <td>NaN</td>\n      <td>meskers</td>\n      <td>AMC</td>\n      <td>1830570</td>\n      <td>416426863</td>\n      <td>422658373</td>\n      <td>...</td>\n      <td>NaN</td>\n      <td>NaN</td>\n      <td>NaN</td>\n      <td>NaN</td>\n      <td>NaN</td>\n      <td>NaN</td>\n      <td>NaN</td>\n      <td>NaN</td>\n      <td>NaN</td>\n      <td>NaN</td>\n    </tr>\n    <tr>\n      <th>448722</th>\n      <td>6-2</td>\n      <td>209-216</td>\n      <td>slechts</td>\n      <td>_</td>\n      <td>NaN</td>\n      <td>meskers</td>\n      <td>AMC</td>\n      <td>1830570</td>\n      <td>416426863</td>\n      <td>422658373</td>\n      <td>...</td>\n      <td>NaN</td>\n      <td>NaN</td>\n      <td>NaN</td>\n      <td>NaN</td>\n      <td>NaN</td>\n      <td>NaN</td>\n      <td>NaN</td>\n      <td>NaN</td>\n      <td>NaN</td>\n      <td>NaN</td>\n    </tr>\n    <tr>\n      <th>448723</th>\n      <td>6-3</td>\n      <td>217-220</td>\n      <td>ten</td>\n      <td>_</td>\n      <td>NaN</td>\n      <td>meskers</td>\n      <td>AMC</td>\n      <td>1830570</td>\n      <td>416426863</td>\n      <td>422658373</td>\n      <td>...</td>\n      <td>NaN</td>\n      <td>NaN</td>\n      <td>NaN</td>\n      <td>NaN</td>\n      <td>NaN</td>\n      <td>NaN</td>\n      <td>NaN</td>\n      <td>NaN</td>\n      <td>NaN</td>\n      <td>NaN</td>\n    </tr>\n    <tr>\n      <th>448724</th>\n      <td>6-4</td>\n      <td>221-225</td>\n      <td>dele</td>\n      <td>_</td>\n      <td>NaN</td>\n      <td>meskers</td>\n      <td>AMC</td>\n      <td>1830570</td>\n      <td>416426863</td>\n      <td>422658373</td>\n      <td>...</td>\n      <td>NaN</td>\n      <td>NaN</td>\n      <td>NaN</td>\n      <td>NaN</td>\n      <td>NaN</td>\n      <td>NaN</td>\n      <td>NaN</td>\n      <td>NaN</td>\n      <td>NaN</td>\n      <td>NaN</td>\n    </tr>\n    <tr>\n      <th>448725</th>\n      <td>6-5</td>\n      <td>226-235</td>\n      <td>afgebeeld</td>\n      <td>_</td>\n      <td>NaN</td>\n      <td>meskers</td>\n      <td>AMC</td>\n      <td>1830570</td>\n      <td>416426863</td>\n      <td>422658373</td>\n      <td>...</td>\n      <td>NaN</td>\n      <td>NaN</td>\n      <td>NaN</td>\n      <td>NaN</td>\n      <td>NaN</td>\n      <td>NaN</td>\n      <td>NaN</td>\n      <td>NaN</td>\n      <td>NaN</td>\n      <td>NaN</td>\n    </tr>\n    <tr>\n      <th>448726</th>\n      <td>6-6</td>\n      <td>236-237</td>\n      <td>.</td>\n      <td>_</td>\n      <td>NaN</td>\n      <td>meskers</td>\n      <td>AMC</td>\n      <td>1830570</td>\n      <td>416426863</td>\n      <td>422658373</td>\n      <td>...</td>\n      <td>NaN</td>\n      <td>NaN</td>\n      <td>NaN</td>\n      <td>NaN</td>\n      <td>NaN</td>\n      <td>NaN</td>\n      <td>NaN</td>\n      <td>NaN</td>\n      <td>NaN</td>\n      <td>NaN</td>\n    </tr>\n    <tr>\n      <th>448727</th>\n      <td>7-1</td>\n      <td>238-245</td>\n      <td>Bekende</td>\n      <td>type\\_Background[1]</td>\n      <td>NaN</td>\n      <td>meskers</td>\n      <td>AMC</td>\n      <td>1830570</td>\n      <td>416426863</td>\n      <td>422658373</td>\n      <td>...</td>\n      <td>False</td>\n      <td>NaN</td>\n      <td>False</td>\n      <td>NaN</td>\n      <td>False</td>\n      <td>NaN</td>\n      <td>False</td>\n      <td>NaN</td>\n      <td>False</td>\n      <td>[]</td>\n    </tr>\n    <tr>\n      <th>448728</th>\n      <td>7-2</td>\n      <td>246-254</td>\n      <td>vlekkige</td>\n      <td>type\\_Background[1]</td>\n      <td>NaN</td>\n      <td>meskers</td>\n      <td>AMC</td>\n      <td>1830570</td>\n      <td>416426863</td>\n      <td>422658373</td>\n      <td>...</td>\n      <td>False</td>\n      <td>NaN</td>\n      <td>False</td>\n      <td>NaN</td>\n      <td>False</td>\n      <td>NaN</td>\n      <td>False</td>\n      <td>NaN</td>\n      <td>False</td>\n      <td>[]</td>\n    </tr>\n    <tr>\n      <th>448729</th>\n      <td>7-3</td>\n      <td>255-268</td>\n      <td>consolidaties</td>\n      <td>type\\_Background[1]</td>\n      <td>NaN</td>\n      <td>meskers</td>\n      <td>AMC</td>\n      <td>1830570</td>\n      <td>416426863</td>\n      <td>422658373</td>\n      <td>...</td>\n      <td>False</td>\n      <td>NaN</td>\n      <td>False</td>\n      <td>NaN</td>\n      <td>False</td>\n      <td>NaN</td>\n      <td>False</td>\n      <td>NaN</td>\n      <td>False</td>\n      <td>[]</td>\n    </tr>\n    <tr>\n      <th>448730</th>\n      <td>7-4</td>\n      <td>269-280</td>\n      <td>beiderzijds</td>\n      <td>type\\_Background[1]</td>\n      <td>NaN</td>\n      <td>meskers</td>\n      <td>AMC</td>\n      <td>1830570</td>\n      <td>416426863</td>\n      <td>422658373</td>\n      <td>...</td>\n      <td>False</td>\n      <td>NaN</td>\n      <td>False</td>\n      <td>NaN</td>\n      <td>False</td>\n      <td>NaN</td>\n      <td>False</td>\n      <td>NaN</td>\n      <td>False</td>\n      <td>[]</td>\n    </tr>\n    <tr>\n      <th>448731</th>\n      <td>7-5</td>\n      <td>281-282</td>\n      <td>,</td>\n      <td>type\\_Background[1]</td>\n      <td>NaN</td>\n      <td>meskers</td>\n      <td>AMC</td>\n      <td>1830570</td>\n      <td>416426863</td>\n      <td>422658373</td>\n      <td>...</td>\n      <td>False</td>\n      <td>NaN</td>\n      <td>False</td>\n      <td>NaN</td>\n      <td>False</td>\n      <td>NaN</td>\n      <td>False</td>\n      <td>NaN</td>\n      <td>False</td>\n      <td>[]</td>\n    </tr>\n    <tr>\n      <th>448732</th>\n      <td>7-6</td>\n      <td>283-295</td>\n      <td>voornamelijk</td>\n      <td>type\\_Background[1]</td>\n      <td>NaN</td>\n      <td>meskers</td>\n      <td>AMC</td>\n      <td>1830570</td>\n      <td>416426863</td>\n      <td>422658373</td>\n      <td>...</td>\n      <td>False</td>\n      <td>NaN</td>\n      <td>False</td>\n      <td>NaN</td>\n      <td>False</td>\n      <td>NaN</td>\n      <td>False</td>\n      <td>NaN</td>\n      <td>False</td>\n      <td>[]</td>\n    </tr>\n    <tr>\n      <th>448733</th>\n      <td>7-7</td>\n      <td>296-302</td>\n      <td>basaal</td>\n      <td>type\\_Background[1]</td>\n      <td>NaN</td>\n      <td>meskers</td>\n      <td>AMC</td>\n      <td>1830570</td>\n      <td>416426863</td>\n      <td>422658373</td>\n      <td>...</td>\n      <td>False</td>\n      <td>NaN</td>\n      <td>False</td>\n      <td>NaN</td>\n      <td>False</td>\n      <td>NaN</td>\n      <td>False</td>\n      <td>NaN</td>\n      <td>False</td>\n      <td>[]</td>\n    </tr>\n    <tr>\n      <th>448734</th>\n      <td>7-8</td>\n      <td>303-304</td>\n      <td>.</td>\n      <td>type\\_Background[1]</td>\n      <td>NaN</td>\n      <td>meskers</td>\n      <td>AMC</td>\n      <td>1830570</td>\n      <td>416426863</td>\n      <td>422658373</td>\n      <td>...</td>\n      <td>False</td>\n      <td>NaN</td>\n      <td>False</td>\n      <td>NaN</td>\n      <td>False</td>\n      <td>NaN</td>\n      <td>False</td>\n      <td>NaN</td>\n      <td>False</td>\n      <td>[]</td>\n    </tr>\n    <tr>\n      <th>448735</th>\n      <td>8-1</td>\n      <td>305-311</td>\n      <td>Bekend</td>\n      <td>type\\_Background[1]</td>\n      <td>NaN</td>\n      <td>meskers</td>\n      <td>AMC</td>\n      <td>1830570</td>\n      <td>416426863</td>\n      <td>422658373</td>\n      <td>...</td>\n      <td>False</td>\n      <td>NaN</td>\n      <td>False</td>\n      <td>NaN</td>\n      <td>False</td>\n      <td>NaN</td>\n      <td>False</td>\n      <td>NaN</td>\n      <td>False</td>\n      <td>[]</td>\n    </tr>\n    <tr>\n      <th>448736</th>\n      <td>8-2</td>\n      <td>312-324</td>\n      <td>degeneratief</td>\n      <td>type\\_Background[1]</td>\n      <td>NaN</td>\n      <td>meskers</td>\n      <td>AMC</td>\n      <td>1830570</td>\n      <td>416426863</td>\n      <td>422658373</td>\n      <td>...</td>\n      <td>False</td>\n      <td>NaN</td>\n      <td>False</td>\n      <td>NaN</td>\n      <td>False</td>\n      <td>NaN</td>\n      <td>False</td>\n      <td>NaN</td>\n      <td>False</td>\n      <td>[]</td>\n    </tr>\n    <tr>\n      <th>448737</th>\n      <td>8-3</td>\n      <td>325-331</td>\n      <td>skelet</td>\n      <td>type\\_Background[1]</td>\n      <td>NaN</td>\n      <td>meskers</td>\n      <td>AMC</td>\n      <td>1830570</td>\n      <td>416426863</td>\n      <td>422658373</td>\n      <td>...</td>\n      <td>False</td>\n      <td>NaN</td>\n      <td>False</td>\n      <td>NaN</td>\n      <td>False</td>\n      <td>NaN</td>\n      <td>False</td>\n      <td>NaN</td>\n      <td>False</td>\n      <td>[]</td>\n    </tr>\n    <tr>\n      <th>448738</th>\n      <td>8-4</td>\n      <td>332-333</td>\n      <td>.</td>\n      <td>type\\_Background[1]</td>\n      <td>NaN</td>\n      <td>meskers</td>\n      <td>AMC</td>\n      <td>1830570</td>\n      <td>416426863</td>\n      <td>422658373</td>\n      <td>...</td>\n      <td>False</td>\n      <td>NaN</td>\n      <td>False</td>\n      <td>NaN</td>\n      <td>False</td>\n      <td>NaN</td>\n      <td>False</td>\n      <td>NaN</td>\n      <td>False</td>\n      <td>[]</td>\n    </tr>\n    <tr>\n      <th>448739</th>\n      <td>9-1</td>\n      <td>334-343</td>\n      <td>Conclusie</td>\n      <td>_</td>\n      <td>NaN</td>\n      <td>meskers</td>\n      <td>AMC</td>\n      <td>1830570</td>\n      <td>416426863</td>\n      <td>422658373</td>\n      <td>...</td>\n      <td>NaN</td>\n      <td>NaN</td>\n      <td>NaN</td>\n      <td>NaN</td>\n      <td>NaN</td>\n      <td>NaN</td>\n      <td>NaN</td>\n      <td>NaN</td>\n      <td>NaN</td>\n      <td>NaN</td>\n    </tr>\n    <tr>\n      <th>448740</th>\n      <td>9-2</td>\n      <td>344-345</td>\n      <td>:</td>\n      <td>_</td>\n      <td>NaN</td>\n      <td>meskers</td>\n      <td>AMC</td>\n      <td>1830570</td>\n      <td>416426863</td>\n      <td>422658373</td>\n      <td>...</td>\n      <td>NaN</td>\n      <td>NaN</td>\n      <td>NaN</td>\n      <td>NaN</td>\n      <td>NaN</td>\n      <td>NaN</td>\n      <td>NaN</td>\n      <td>NaN</td>\n      <td>NaN</td>\n      <td>NaN</td>\n    </tr>\n    <tr>\n      <th>448741</th>\n      <td>10-1</td>\n      <td>346-351</td>\n      <td>Goede</td>\n      <td>_</td>\n      <td>NaN</td>\n      <td>meskers</td>\n      <td>AMC</td>\n      <td>1830570</td>\n      <td>416426863</td>\n      <td>422658373</td>\n      <td>...</td>\n      <td>NaN</td>\n      <td>NaN</td>\n      <td>NaN</td>\n      <td>NaN</td>\n      <td>NaN</td>\n      <td>NaN</td>\n      <td>NaN</td>\n      <td>NaN</td>\n      <td>NaN</td>\n      <td>NaN</td>\n    </tr>\n    <tr>\n      <th>448742</th>\n      <td>10-2</td>\n      <td>352-359</td>\n      <td>positie</td>\n      <td>_</td>\n      <td>NaN</td>\n      <td>meskers</td>\n      <td>AMC</td>\n      <td>1830570</td>\n      <td>416426863</td>\n      <td>422658373</td>\n      <td>...</td>\n      <td>NaN</td>\n      <td>NaN</td>\n      <td>NaN</td>\n      <td>NaN</td>\n      <td>NaN</td>\n      <td>NaN</td>\n      <td>NaN</td>\n      <td>NaN</td>\n      <td>NaN</td>\n      <td>NaN</td>\n    </tr>\n    <tr>\n      <th>448743</th>\n      <td>10-3</td>\n      <td>360-369</td>\n      <td>maagsonde</td>\n      <td>_</td>\n      <td>NaN</td>\n      <td>meskers</td>\n      <td>AMC</td>\n      <td>1830570</td>\n      <td>416426863</td>\n      <td>422658373</td>\n      <td>...</td>\n      <td>NaN</td>\n      <td>NaN</td>\n      <td>NaN</td>\n      <td>NaN</td>\n      <td>NaN</td>\n      <td>NaN</td>\n      <td>NaN</td>\n      <td>NaN</td>\n      <td>NaN</td>\n      <td>NaN</td>\n    </tr>\n    <tr>\n      <th>448744</th>\n      <td>10-4</td>\n      <td>370-371</td>\n      <td>.</td>\n      <td>_</td>\n      <td>NaN</td>\n      <td>meskers</td>\n      <td>AMC</td>\n      <td>1830570</td>\n      <td>416426863</td>\n      <td>422658373</td>\n      <td>...</td>\n      <td>NaN</td>\n      <td>NaN</td>\n      <td>NaN</td>\n      <td>NaN</td>\n      <td>NaN</td>\n      <td>NaN</td>\n      <td>NaN</td>\n      <td>NaN</td>\n      <td>NaN</td>\n      <td>NaN</td>\n    </tr>\n  </tbody>\n</table>\n<p>58 rows × 24 columns</p>\n</div>"
     },
     "metadata": {},
     "execution_count": 6
    }
   ],
   "source": [
    "cov.loc[cov.NotitieID == '416426863']"
   ]
  },
  {
   "source": [
    "### Make tables"
   ],
   "cell_type": "markdown",
   "metadata": {}
  },
  {
   "cell_type": "code",
   "execution_count": 9,
   "metadata": {},
   "outputs": [],
   "source": [
    "total = noncov.assign(source='non-covid 2017'\n",
    ").append(\n",
    "    cov.assign(source='covid 2020'), ignore_index=True\n",
    ")\n",
    "del noncov\n",
    "del cov"
   ]
  },
  {
   "cell_type": "code",
   "execution_count": 15,
   "metadata": {},
   "outputs": [],
   "source": [
    "caption = \"\"\n",
    "label = \"\"\n",
    "\n",
    "total.pivot_table(\n",
    "    index='source',\n",
    "    values='NotitieID',\n",
    "    aggfunc='nunique',\n",
    "    margins=True,\n",
    "    margins_name='Total',\n",
    ").rename(columns={'NotitieID': 'n_notes'}\n",
    ").join(\n",
    "        total.query(\"disregard == True\").pivot_table(\n",
    "        index='source',\n",
    "        values='NotitieID',\n",
    "        aggfunc='nunique',\n",
    "        margins=True,\n",
    "        margins_name='total',\n",
    "    ).rename(columns={'NotitieID': 'n_disregard'})\n",
    ").pipe(show_latex, caption=caption, label=label)"
   ]
  },
  {
   "cell_type": "code",
   "execution_count": 25,
   "metadata": {},
   "outputs": [
    {
     "output_type": "execute_result",
     "data": {
      "text/plain": [
       "               mean median min  max\n",
       "source                             \n",
       "covid 2020       56     31   1  330\n",
       "non-covid 2017   64     42   1  364\n",
       "total            61     38   1  364"
      ],
      "text/html": "<div>\n<style scoped>\n    .dataframe tbody tr th:only-of-type {\n        vertical-align: middle;\n    }\n\n    .dataframe tbody tr th {\n        vertical-align: top;\n    }\n\n    .dataframe thead th {\n        text-align: right;\n    }\n</style>\n<table border=\"1\" class=\"dataframe\">\n  <thead>\n    <tr style=\"text-align: right;\">\n      <th></th>\n      <th>mean</th>\n      <th>median</th>\n      <th>min</th>\n      <th>max</th>\n    </tr>\n    <tr>\n      <th>source</th>\n      <th></th>\n      <th></th>\n      <th></th>\n      <th></th>\n    </tr>\n  </thead>\n  <tbody>\n    <tr>\n      <th>covid 2020</th>\n      <td>56</td>\n      <td>31</td>\n      <td>1</td>\n      <td>330</td>\n    </tr>\n    <tr>\n      <th>non-covid 2017</th>\n      <td>64</td>\n      <td>42</td>\n      <td>1</td>\n      <td>364</td>\n    </tr>\n    <tr>\n      <th>total</th>\n      <td>61</td>\n      <td>38</td>\n      <td>1</td>\n      <td>364</td>\n    </tr>\n  </tbody>\n</table>\n</div>"
     },
     "metadata": {},
     "execution_count": 25
    }
   ],
   "source": [
    "# mean/min/max number sentences per note\n",
    "caption = \"\"\n",
    "label = \"\"\n",
    "\n",
    "s = total.groupby(['source', 'NotitieID']).sen_id.nunique()\n",
    "by_source = s.groupby(level=0)\n",
    "by_source.agg(['mean', 'median', 'min', 'max']).astype(int).append(\n",
    "    s.agg(['mean', 'median', 'min', 'max']).astype(int).rename('total')\n",
    ").pipe(show_latex, caption=caption, label=label)"
   ]
  },
  {
   "cell_type": "code",
   "execution_count": 35,
   "metadata": {},
   "outputs": [
    {
     "output_type": "execute_result",
     "data": {
      "text/plain": [
       "                mean  median  min  max\n",
       "source                                \n",
       "covid 2020       211     200  171  307\n",
       "non-covid 2017   444     434  242  686"
      ],
      "text/html": "<div>\n<style scoped>\n    .dataframe tbody tr th:only-of-type {\n        vertical-align: middle;\n    }\n\n    .dataframe tbody tr th {\n        vertical-align: top;\n    }\n\n    .dataframe thead th {\n        text-align: right;\n    }\n</style>\n<table border=\"1\" class=\"dataframe\">\n  <thead>\n    <tr style=\"text-align: right;\">\n      <th></th>\n      <th>mean</th>\n      <th>median</th>\n      <th>min</th>\n      <th>max</th>\n    </tr>\n    <tr>\n      <th>source</th>\n      <th></th>\n      <th></th>\n      <th></th>\n      <th></th>\n    </tr>\n  </thead>\n  <tbody>\n    <tr>\n      <th>covid 2020</th>\n      <td>211</td>\n      <td>200</td>\n      <td>171</td>\n      <td>307</td>\n    </tr>\n    <tr>\n      <th>non-covid 2017</th>\n      <td>444</td>\n      <td>434</td>\n      <td>242</td>\n      <td>686</td>\n    </tr>\n  </tbody>\n</table>\n</div>"
     },
     "metadata": {},
     "execution_count": 35
    }
   ],
   "source": [
    "# mean/min/max number notes per annotator\n",
    "caption = \"\"\n",
    "label = \"\"\n",
    "\n",
    "s = total.groupby(['source', 'annotator']).NotitieID.nunique()\n",
    "s.groupby(level=0).agg(['mean', 'median', 'min', 'max']).astype(int\n",
    ").pipe(show_latex, caption=caption, label=label)"
   ]
  },
  {
   "cell_type": "code",
   "execution_count": 11,
   "metadata": {},
   "outputs": [
    {
     "output_type": "execute_result",
     "data": {
      "text/plain": [
       "Index(['sen_tok', 'char', 'token', 'label', 'relation', 'annotator',\n",
       "       'institution', 'MDN', 'NotitieID', 'NotitieCSN', 'batch',\n",
       "       'legacy_rawfile', 'sen_id', 'tok', 'STM', 'STM_lvl', 'INS', 'INS_lvl',\n",
       "       'FAC', 'FAC_lvl', 'BER', 'BER_lvl', 'disregard', 'other', 'source'],\n",
       "      dtype='object')"
      ]
     },
     "metadata": {},
     "execution_count": 11
    }
   ],
   "source": [
    "total.columns"
   ]
  },
  {
   "cell_type": "code",
   "execution_count": 86,
   "metadata": {},
   "outputs": [
    {
     "output_type": "execute_result",
     "data": {
      "text/plain": [
       "                BER       FAC        INS        STM       total     \n",
       "                  n  %      n   %      n   %      n   %       n    %\n",
       "source                                                              \n",
       "covid 2020       33  1    815  26  1,495  48    773  25   3,116  100\n",
       "non-covid 2017  907  9  2,346  24  3,014  31  3,516  36   9,783  100\n",
       "total           940  7  3,161  25  4,509  35  4,289  33  12,899  100"
      ],
      "text/html": "<div>\n<style scoped>\n    .dataframe tbody tr th:only-of-type {\n        vertical-align: middle;\n    }\n\n    .dataframe tbody tr th {\n        vertical-align: top;\n    }\n\n    .dataframe thead tr th {\n        text-align: left;\n    }\n\n    .dataframe thead tr:last-of-type th {\n        text-align: right;\n    }\n</style>\n<table border=\"1\" class=\"dataframe\">\n  <thead>\n    <tr>\n      <th></th>\n      <th colspan=\"2\" halign=\"left\">BER</th>\n      <th colspan=\"2\" halign=\"left\">FAC</th>\n      <th colspan=\"2\" halign=\"left\">INS</th>\n      <th colspan=\"2\" halign=\"left\">STM</th>\n      <th colspan=\"2\" halign=\"left\">total</th>\n    </tr>\n    <tr>\n      <th></th>\n      <th>n</th>\n      <th>%</th>\n      <th>n</th>\n      <th>%</th>\n      <th>n</th>\n      <th>%</th>\n      <th>n</th>\n      <th>%</th>\n      <th>n</th>\n      <th>%</th>\n    </tr>\n    <tr>\n      <th>source</th>\n      <th></th>\n      <th></th>\n      <th></th>\n      <th></th>\n      <th></th>\n      <th></th>\n      <th></th>\n      <th></th>\n      <th></th>\n      <th></th>\n    </tr>\n  </thead>\n  <tbody>\n    <tr>\n      <th>covid 2020</th>\n      <td>33</td>\n      <td>1</td>\n      <td>815</td>\n      <td>26</td>\n      <td>1,495</td>\n      <td>48</td>\n      <td>773</td>\n      <td>25</td>\n      <td>3,116</td>\n      <td>100</td>\n    </tr>\n    <tr>\n      <th>non-covid 2017</th>\n      <td>907</td>\n      <td>9</td>\n      <td>2,346</td>\n      <td>24</td>\n      <td>3,014</td>\n      <td>31</td>\n      <td>3,516</td>\n      <td>36</td>\n      <td>9,783</td>\n      <td>100</td>\n    </tr>\n    <tr>\n      <th>total</th>\n      <td>940</td>\n      <td>7</td>\n      <td>3,161</td>\n      <td>25</td>\n      <td>4,509</td>\n      <td>35</td>\n      <td>4,289</td>\n      <td>33</td>\n      <td>12,899</td>\n      <td>100</td>\n    </tr>\n  </tbody>\n</table>\n</div>"
     },
     "metadata": {},
     "execution_count": 86
    }
   ],
   "source": [
    "# label analysis | n_labels (total, by domain)\n",
    "caption = \"\"\n",
    "label = \"\"\n",
    "\n",
    "n_labels = total.pivot_table(\n",
    "    index='source',\n",
    "    values=['STM', 'INS', 'FAC', 'BER'],\n",
    "    aggfunc='sum',\n",
    "    margins=True,\n",
    "    margins_name='total',\n",
    ").assign(total=lambda df: df.sum(axis=1))\n",
    "\n",
    "p_labels = (n_labels.div(n_labels.iloc[:, -1], axis=0) * 100).round()\n",
    "\n",
    "n_labels.pipe(add_colname, 'n').join(\n",
    "    p_labels.pipe(add_colname, '%')\n",
    ").astype('Int64'\n",
    ").sort_index(axis=1, level=[0,1], ascending=[True, False]\n",
    ").pipe(show_latex, caption=caption, label=label)"
   ]
  },
  {
   "cell_type": "code",
   "execution_count": 76,
   "metadata": {},
   "outputs": [
    {
     "output_type": "execute_result",
     "data": {
      "text/plain": [
       "                       BER          FAC      INS        STM      \n",
       "                         n     %      n   %    n   %      n     %\n",
       "source         level                                             \n",
       "covid 2020     0         9    39    590  50  562  35    277    30\n",
       "               1      <NA>  <NA>     93   8  689  42    367    40\n",
       "               2      <NA>  <NA>    115  10  219  14    114    12\n",
       "               3      <NA>  <NA>    173  15  111   7    109    12\n",
       "               4        14    61    197  17   35   2     55     6\n",
       "               5      <NA>  <NA>      5   0    6   0   <NA>  <NA>\n",
       "non-covid 2017 0       316    26    355  10  187   6    882    22\n",
       "               1        46     4    181   5  741  22  2,073    52\n",
       "               2       199    17    319   9  729  22    472    12\n",
       "               3       301    25    489  13  711  21    427    11\n",
       "               4       344    29  1,959  54  450  14    132     3\n",
       "               5      <NA>  <NA>    354  10  495  15   <NA>  <NA>"
      ],
      "text/html": "<div>\n<style scoped>\n    .dataframe tbody tr th:only-of-type {\n        vertical-align: middle;\n    }\n\n    .dataframe tbody tr th {\n        vertical-align: top;\n    }\n\n    .dataframe thead tr th {\n        text-align: left;\n    }\n\n    .dataframe thead tr:last-of-type th {\n        text-align: right;\n    }\n</style>\n<table border=\"1\" class=\"dataframe\">\n  <thead>\n    <tr>\n      <th></th>\n      <th></th>\n      <th colspan=\"2\" halign=\"left\">BER</th>\n      <th colspan=\"2\" halign=\"left\">FAC</th>\n      <th colspan=\"2\" halign=\"left\">INS</th>\n      <th colspan=\"2\" halign=\"left\">STM</th>\n    </tr>\n    <tr>\n      <th></th>\n      <th></th>\n      <th>n</th>\n      <th>%</th>\n      <th>n</th>\n      <th>%</th>\n      <th>n</th>\n      <th>%</th>\n      <th>n</th>\n      <th>%</th>\n    </tr>\n    <tr>\n      <th>source</th>\n      <th>level</th>\n      <th></th>\n      <th></th>\n      <th></th>\n      <th></th>\n      <th></th>\n      <th></th>\n      <th></th>\n      <th></th>\n    </tr>\n  </thead>\n  <tbody>\n    <tr>\n      <th rowspan=\"6\" valign=\"top\">covid 2020</th>\n      <th>0</th>\n      <td>9</td>\n      <td>39</td>\n      <td>590</td>\n      <td>50</td>\n      <td>562</td>\n      <td>35</td>\n      <td>277</td>\n      <td>30</td>\n    </tr>\n    <tr>\n      <th>1</th>\n      <td>&lt;NA&gt;</td>\n      <td>&lt;NA&gt;</td>\n      <td>93</td>\n      <td>8</td>\n      <td>689</td>\n      <td>42</td>\n      <td>367</td>\n      <td>40</td>\n    </tr>\n    <tr>\n      <th>2</th>\n      <td>&lt;NA&gt;</td>\n      <td>&lt;NA&gt;</td>\n      <td>115</td>\n      <td>10</td>\n      <td>219</td>\n      <td>14</td>\n      <td>114</td>\n      <td>12</td>\n    </tr>\n    <tr>\n      <th>3</th>\n      <td>&lt;NA&gt;</td>\n      <td>&lt;NA&gt;</td>\n      <td>173</td>\n      <td>15</td>\n      <td>111</td>\n      <td>7</td>\n      <td>109</td>\n      <td>12</td>\n    </tr>\n    <tr>\n      <th>4</th>\n      <td>14</td>\n      <td>61</td>\n      <td>197</td>\n      <td>17</td>\n      <td>35</td>\n      <td>2</td>\n      <td>55</td>\n      <td>6</td>\n    </tr>\n    <tr>\n      <th>5</th>\n      <td>&lt;NA&gt;</td>\n      <td>&lt;NA&gt;</td>\n      <td>5</td>\n      <td>0</td>\n      <td>6</td>\n      <td>0</td>\n      <td>&lt;NA&gt;</td>\n      <td>&lt;NA&gt;</td>\n    </tr>\n    <tr>\n      <th rowspan=\"6\" valign=\"top\">non-covid 2017</th>\n      <th>0</th>\n      <td>316</td>\n      <td>26</td>\n      <td>355</td>\n      <td>10</td>\n      <td>187</td>\n      <td>6</td>\n      <td>882</td>\n      <td>22</td>\n    </tr>\n    <tr>\n      <th>1</th>\n      <td>46</td>\n      <td>4</td>\n      <td>181</td>\n      <td>5</td>\n      <td>741</td>\n      <td>22</td>\n      <td>2,073</td>\n      <td>52</td>\n    </tr>\n    <tr>\n      <th>2</th>\n      <td>199</td>\n      <td>17</td>\n      <td>319</td>\n      <td>9</td>\n      <td>729</td>\n      <td>22</td>\n      <td>472</td>\n      <td>12</td>\n    </tr>\n    <tr>\n      <th>3</th>\n      <td>301</td>\n      <td>25</td>\n      <td>489</td>\n      <td>13</td>\n      <td>711</td>\n      <td>21</td>\n      <td>427</td>\n      <td>11</td>\n    </tr>\n    <tr>\n      <th>4</th>\n      <td>344</td>\n      <td>29</td>\n      <td>1,959</td>\n      <td>54</td>\n      <td>450</td>\n      <td>14</td>\n      <td>132</td>\n      <td>3</td>\n    </tr>\n    <tr>\n      <th>5</th>\n      <td>&lt;NA&gt;</td>\n      <td>&lt;NA&gt;</td>\n      <td>354</td>\n      <td>10</td>\n      <td>495</td>\n      <td>15</td>\n      <td>&lt;NA&gt;</td>\n      <td>&lt;NA&gt;</td>\n    </tr>\n  </tbody>\n</table>\n</div>"
     },
     "metadata": {},
     "execution_count": 76
    }
   ],
   "source": [
    "# label analysis | for each domain, distribution of levels\n",
    "caption = \"\"\n",
    "label = \"\"\n",
    "\n",
    "level_cols = [col for col in total.columns if '_lvl' in col]\n",
    "by_source = total.astype({col:'Int64' for col in level_cols}).groupby('source')\n",
    "counts_by_level = [by_source[col].value_counts() for col in level_cols]\n",
    "level_counts = pd.concat(counts_by_level, axis=1\n",
    ").rename_axis(['source', 'level']\n",
    ").rename(lambda col: col[:3], axis=1)\n",
    "\n",
    "level_totals = level_counts.groupby(level=0).sum()\n",
    "level_percs = (level_counts / level_totals * 100).round()\n",
    "\n",
    "level_counts.pipe(add_colname, 'n').join(\n",
    "    level_percs.pipe(add_colname, '%')\n",
    ").sort_index(axis=1, level=[0,1], ascending=[True, False]\n",
    ").astype('Int64'\n",
    ").pipe(show_latex, caption=caption, label=label)"
   ]
  }
 ],
 "metadata": {
  "kernelspec": {
   "display_name": "zonmw",
   "language": "python",
   "name": "zonmw"
  },
  "language_info": {
   "codemirror_mode": {
    "name": "ipython",
    "version": 3
   },
   "file_extension": ".py",
   "mimetype": "text/x-python",
   "name": "python",
   "nbconvert_exporter": "python",
   "pygments_lexer": "ipython3",
   "version": "3.8.5-final"
  }
 },
 "nbformat": 4,
 "nbformat_minor": 5
}