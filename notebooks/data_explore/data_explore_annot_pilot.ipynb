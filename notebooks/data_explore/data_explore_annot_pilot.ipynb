{
 "cells": [
  {
   "cell_type": "code",
   "execution_count": 1,
   "metadata": {},
   "outputs": [],
   "source": [
    "import json\n",
    "import random\n",
    "import re\n",
    "import pandas as pd\n",
    "from pathlib import Path\n",
    "\n",
    "import sys\n",
    "sys.path.insert(0, '../..')\n",
    "from src.utils.latex import add_colname, show_latex, TABLES"
   ]
  },
  {
   "cell_type": "code",
   "execution_count": 2,
   "metadata": {},
   "outputs": [],
   "source": [
    "pd.set_option(\"max_columns\", None)"
   ]
  },
  {
   "source": [
    "# Parse labels"
   ],
   "cell_type": "markdown",
   "metadata": {}
  },
  {
   "cell_type": "code",
   "execution_count": 3,
   "metadata": {},
   "outputs": [],
   "source": [
    "with open('../../inception_config/tagset_legacy_stella.json', 'r') as f:\n",
    "    tagset = json.load(f)['tags']"
   ]
  },
  {
   "cell_type": "code",
   "execution_count": 4,
   "metadata": {},
   "outputs": [],
   "source": [
    "# Functions for parsing legacy annotations (pilot batch, \"legacy_stella\" tagset)\n",
    "# The new versions of these functions (zonmw tagset) can be found in `parse_annotations.py`\n",
    "\n",
    "def categorize_tags(tagset):\n",
    "    \"\"\"\n",
    "    Categorize the tags in `tagset` into: domains, levels, disregard, target, background, other.\n",
    "\n",
    "    Parameters\n",
    "    ----------\n",
    "    tagset: list\n",
    "        list of dicts; each dict has a 'tag_name' key\n",
    "    \n",
    "    Returns\n",
    "    -------\n",
    "    dict\n",
    "        dict of categories and the tags belonging to each of them\n",
    "    \"\"\"\n",
    "    tag_names = [i['tag_name'].split(':')[0] for i in tagset]\n",
    "    # define regexes\n",
    "    rdomain = re.compile('\\..*')\n",
    "    rlevel = re.compile('[A-Z]{3} \\d')\n",
    "    rdisregard = re.compile('disregard_file')\n",
    "    rtarget = re.compile('target')\n",
    "    rbackground = re.compile('type_Background')\n",
    "    # find categories\n",
    "    domains = [tag for tag in tag_names if rdomain.match(tag)]\n",
    "    levels = [tag for tag in tag_names if rlevel.match(tag)]\n",
    "    disregard = [tag for tag in tag_names if rdisregard.match(tag)]\n",
    "    target = [tag for tag in tag_names if rtarget.match(tag)]\n",
    "    background = [tag for tag in tag_names if rbackground.match(tag)]\n",
    "    other = [tag for tag in tag_names if tag not in domains + levels + disregard + target + background]\n",
    "    return dict(\n",
    "        domains=domains,\n",
    "        levels=levels,\n",
    "        disregard=disregard,\n",
    "        target=target,\n",
    "        background=background,\n",
    "        other=other,\n",
    "    )\n",
    "\n",
    "def create_parse_index(conversions):\n",
    "    domainlevels = zip(conversions.values(), [f\"{i}_lvl\" for i in conversions.values()])\n",
    "    domainlevels = [i for domlev in domainlevels for i in domlev]\n",
    "    return  pd.Index(domainlevels+['disregard', 'target', 'background', 'other'])\n",
    "\n",
    "def parse_label(label, parse_index, cols_to_lbl, reg_others):\n",
    "    s = pd.Series(index=parse_index, dtype=object)\n",
    "    for idx in s.index:\n",
    "        if idx in cols_to_lbl:\n",
    "            s[idx] = cols_to_lbl[idx] in label\n",
    "        elif '_lvl' in idx:\n",
    "            regex = re.compile(f\"{idx[:3]} (\\d)\")\n",
    "            if regex.search(label):\n",
    "                s[idx] = int(regex.search(label).group(1))\n",
    "        else:\n",
    "            s[idx] = reg_others.findall(label)\n",
    "    return s\n",
    "\n",
    "def parse_df(df, tagset):\n",
    "    cat_tags = categorize_tags(tagset)\n",
    "    conversions = {\n",
    "        '.B152':     'STM',\n",
    "        '.B455':     'INS',\n",
    "        '.D450':     'FAC',\n",
    "        '.D840-859': 'BER',\n",
    "    }\n",
    "    parse_index = create_parse_index(conversions)\n",
    "    reg_others = re.compile('|'.join(cat_tags['other']))\n",
    "    cols_to_lbl = {v:k for k,v in conversions.items()}\n",
    "    cols_to_lbl['disregard'] = 'disregard\\\\_file'\n",
    "    cols_to_lbl['target'] = 'target'\n",
    "    cols_to_lbl['background'] = 'type\\\\_Background'\n",
    "\n",
    "    parse_label_from_row = lambda row: parse_label(row.label, parse_index, cols_to_lbl, reg_others)\n",
    "    select_labels = (df.label != '_') & df.label.notna()\n",
    "    parsed = df.loc[select_labels].apply(parse_label_from_row, result_type='expand', axis=1)\n",
    "    return df.join(parsed)"
   ]
  },
  {
   "cell_type": "code",
   "execution_count": 5,
   "metadata": {},
   "outputs": [],
   "source": [
    "def deduplicate_notes(df):\n",
    "    \"\"\"disregard_file\n",
    "    Some notes are annotated more than once, by different annotators.\n",
    "    Select one of the annotators randomly per note and keep her/his annotation only.\n",
    "    \"\"\"\n",
    "    choices = df.groupby('NotitieID').annotator.unique().apply(random.choice).reset_index()\n",
    "    selected = list(choices.values)\n",
    "    return df.loc[df.set_index(['NotitieID', 'annotator']).index.isin(selected)]\n",
    "\n",
    "def preprocessing(df, deduplicate=False):\n",
    "    if deduplicate:\n",
    "        df = deduplicate_notes(df)\n",
    "    return df.assign(\n",
    "        sen_id = lambda df: df.NotitieID.astype(str) + '_' + df.sen_tok.str.split('-').str[0],\n",
    "        tok = lambda df: df.sen_tok.str.split('-').str[1].astype(int),\n",
    "    )"
   ]
  },
  {
   "cell_type": "code",
   "execution_count": 7,
   "metadata": {},
   "outputs": [],
   "source": [
    "df = pd.read_pickle('../../data/sample_data/annotated_df_iaa_sample.pkl').pipe(preprocessing).pipe(parse_df, tagset)\n",
    "df.to_pickle('../../data/sample_data/annotated_df_iaa_sample_parsed.pkl')"
   ]
  },
  {
   "source": [
    "## Non-COVID (2017)"
   ],
   "cell_type": "markdown",
   "metadata": {}
  },
  {
   "cell_type": "code",
   "execution_count": 6,
   "metadata": {},
   "outputs": [],
   "source": [
    "noncovpath = Path('../../../Non_covid_data_15oct/from_inception_tsv')"
   ]
  },
  {
   "cell_type": "code",
   "execution_count": 7,
   "metadata": {},
   "outputs": [
    {
     "output_type": "stream",
     "name": "stderr",
     "text": [
      "<ipython-input-4-fe83fd4fe3e7>:47: DeprecationWarning: The default dtype for empty Series will be 'object' instead of 'float64' in a future version. Specify a dtype explicitly to silence this warning.\n  s = pd.Series(index=parse_index)\n"
     ]
    }
   ],
   "source": [
    "# noncov = pd.read_pickle(noncovpath / 'annotated_df_Batch1_pilot.pkl'\n",
    "# ).pipe(preprocessing, deduplicate=True\n",
    "# ).pipe(parse_df, tagset)\n",
    "\n",
    "# noncov.to_pickle(noncovpath / 'annotated_df_Batch1_pilot_parsed.pkl')"
   ]
  },
  {
   "cell_type": "code",
   "execution_count": 11,
   "metadata": {},
   "outputs": [],
   "source": [
    "noncov = pd.read_pickle(noncovpath / 'annotated_df_Batch1_pilot_parsed.pkl')"
   ]
  },
  {
   "source": [
    "## COVID (2020)"
   ],
   "cell_type": "markdown",
   "metadata": {}
  },
  {
   "cell_type": "code",
   "execution_count": 12,
   "metadata": {},
   "outputs": [],
   "source": [
    "covpath = Path('../../../Covid_data_11nov/from_inception_tsv')"
   ]
  },
  {
   "cell_type": "code",
   "execution_count": 13,
   "metadata": {},
   "outputs": [
    {
     "output_type": "stream",
     "name": "stderr",
     "text": [
      "<ipython-input-4-fe83fd4fe3e7>:47: DeprecationWarning: The default dtype for empty Series will be 'object' instead of 'float64' in a future version. Specify a dtype explicitly to silence this warning.\n  s = pd.Series(index=parse_index)\n"
     ]
    }
   ],
   "source": [
    "# cov = pd.read_pickle(covpath / 'annotated_df_CovidBatch_pilot.pkl'\n",
    "# ).pipe(preprocessing, deduplicate=True\n",
    "# ).pipe(parse_df, tagset)\n",
    "\n",
    "# cov.to_pickle(covpath / 'annotated_df_CovidBatch_pilot_parsed.pkl')"
   ]
  },
  {
   "cell_type": "code",
   "execution_count": 14,
   "metadata": {},
   "outputs": [],
   "source": [
    "cov = pd.read_pickle(covpath / 'annotated_df_CovidBatch_pilot_parsed.pkl')"
   ]
  },
  {
   "source": [
    "# Stats"
   ],
   "cell_type": "markdown",
   "metadata": {}
  },
  {
   "cell_type": "code",
   "execution_count": 15,
   "metadata": {},
   "outputs": [],
   "source": [
    "total = noncov.assign(source='non-covid 2017'\n",
    ").append(\n",
    "    cov.assign(source='covid 2020'), ignore_index=True\n",
    ")\n",
    "del noncov\n",
    "del cov"
   ]
  },
  {
   "source": [
    "## General overview"
   ],
   "cell_type": "markdown",
   "metadata": {}
  },
  {
   "cell_type": "code",
   "execution_count": 17,
   "metadata": {},
   "outputs": [
    {
     "output_type": "execute_result",
     "data": {
      "text/plain": [
       "               n_notes n_disregard n_annotated prc_disregard\n",
       "source                                                      \n",
       "covid 2020       1,687         104       1,583           6.0\n",
       "non-covid 2017   3,377         329       3,048          10.0\n",
       "Total            5,064         433       4,631           9.0"
      ],
      "text/html": "<div>\n<style scoped>\n    .dataframe tbody tr th:only-of-type {\n        vertical-align: middle;\n    }\n\n    .dataframe tbody tr th {\n        vertical-align: top;\n    }\n\n    .dataframe thead th {\n        text-align: right;\n    }\n</style>\n<table border=\"1\" class=\"dataframe\">\n  <thead>\n    <tr style=\"text-align: right;\">\n      <th></th>\n      <th>n_notes</th>\n      <th>n_disregard</th>\n      <th>n_annotated</th>\n      <th>prc_disregard</th>\n    </tr>\n    <tr>\n      <th>source</th>\n      <th></th>\n      <th></th>\n      <th></th>\n      <th></th>\n    </tr>\n  </thead>\n  <tbody>\n    <tr>\n      <th>covid 2020</th>\n      <td>1,687</td>\n      <td>104</td>\n      <td>1,583</td>\n      <td>6.0</td>\n    </tr>\n    <tr>\n      <th>non-covid 2017</th>\n      <td>3,377</td>\n      <td>329</td>\n      <td>3,048</td>\n      <td>10.0</td>\n    </tr>\n    <tr>\n      <th>Total</th>\n      <td>5,064</td>\n      <td>433</td>\n      <td>4,631</td>\n      <td>9.0</td>\n    </tr>\n  </tbody>\n</table>\n</div>"
     },
     "metadata": {},
     "execution_count": 17
    }
   ],
   "source": [
    "caption = \"A-PROOF pilot: Number of annotated notes (incl. disregard)\"\n",
    "label = \"pilot_annot_n_notes\"\n",
    "\n",
    "total.pivot_table(\n",
    "    index='source',\n",
    "    values='NotitieID',\n",
    "    aggfunc='nunique',\n",
    "    margins=True,\n",
    "    margins_name='Total',\n",
    ").rename(columns={'NotitieID': 'n_notes'}\n",
    ").join(\n",
    "        total.query(\"disregard == True\").pivot_table(\n",
    "        index='source',\n",
    "        values='NotitieID',\n",
    "        aggfunc='nunique',\n",
    "        margins=True,\n",
    "        margins_name='Total',\n",
    "    ).rename(columns={'NotitieID': 'n_disregard'})\n",
    ").assign(\n",
    "    n_annotated=lambda df: df.n_notes - df.n_disregard,\n",
    "    prc_disregard=lambda df: (df.n_disregard / df.n_notes).mul(100).round(0),\n",
    ").pipe(show_latex, caption=caption, label=label)"
   ]
  },
  {
   "cell_type": "code",
   "execution_count": 18,
   "metadata": {},
   "outputs": [
    {
     "output_type": "execute_result",
     "data": {
      "text/plain": [
       "               mean median min  max\n",
       "source                             \n",
       "covid 2020       55     31   1  330\n",
       "non-covid 2017   64     42   1  364\n",
       "Total            61     38   1  364"
      ],
      "text/html": "<div>\n<style scoped>\n    .dataframe tbody tr th:only-of-type {\n        vertical-align: middle;\n    }\n\n    .dataframe tbody tr th {\n        vertical-align: top;\n    }\n\n    .dataframe thead th {\n        text-align: right;\n    }\n</style>\n<table border=\"1\" class=\"dataframe\">\n  <thead>\n    <tr style=\"text-align: right;\">\n      <th></th>\n      <th>mean</th>\n      <th>median</th>\n      <th>min</th>\n      <th>max</th>\n    </tr>\n    <tr>\n      <th>source</th>\n      <th></th>\n      <th></th>\n      <th></th>\n      <th></th>\n    </tr>\n  </thead>\n  <tbody>\n    <tr>\n      <th>covid 2020</th>\n      <td>55</td>\n      <td>31</td>\n      <td>1</td>\n      <td>330</td>\n    </tr>\n    <tr>\n      <th>non-covid 2017</th>\n      <td>64</td>\n      <td>42</td>\n      <td>1</td>\n      <td>364</td>\n    </tr>\n    <tr>\n      <th>Total</th>\n      <td>61</td>\n      <td>38</td>\n      <td>1</td>\n      <td>364</td>\n    </tr>\n  </tbody>\n</table>\n</div>"
     },
     "metadata": {},
     "execution_count": 18
    }
   ],
   "source": [
    "caption = \"A-PROOF pilot: Number of sentences per note\"\n",
    "label = \"pilot_annot_sent_per_note\"\n",
    "\n",
    "s = total.groupby(['source', 'NotitieID']).sen_id.nunique()\n",
    "by_source = s.groupby(level=0)\n",
    "by_source.agg(['mean', 'median', 'min', 'max']).astype(int).append(\n",
    "    s.agg(['mean', 'median', 'min', 'max']).astype(int).rename('Total')\n",
    ").pipe(show_latex, caption=caption, label=label)"
   ]
  },
  {
   "source": [
    "## Domains & Levels\n",
    "\n",
    "Analysis according to the following guidelines:\n",
    "\n",
    "- **domains**: group by sentence, count domain once in sentence if it occurs at least once\n",
    "- **levels**: group by sentence, same level per sentence is counted once, different levels are counted separately"
   ],
   "cell_type": "markdown",
   "metadata": {}
  },
  {
   "cell_type": "code",
   "execution_count": 19,
   "metadata": {},
   "outputs": [],
   "source": [
    "domains = ['STM', 'INS', 'FAC', 'BER',]\n",
    "rows_with_domain = total.loc[total[domains].notna().any(axis=1)]\n",
    "domain_totals_per_sen_id = rows_with_domain.groupby(['source', 'sen_id'])[domains].any()"
   ]
  },
  {
   "cell_type": "code",
   "execution_count": 20,
   "metadata": {},
   "outputs": [
    {
     "output_type": "execute_result",
     "data": {
      "text/plain": [
       "                BER       FAC      INS        STM      total     \n",
       "                  n  %      n   %    n   %      n   %      n    %\n",
       "source                                                           \n",
       "covid 2020        5  0    319  31  256  25    460  44  1,040  100\n",
       "non-covid 2017  268  8  1,112  31  646  18  1,532  43  3,558  100\n",
       "total           273  6  1,431  31  902  20  1,992  43  4,598  100"
      ],
      "text/html": "<div>\n<style scoped>\n    .dataframe tbody tr th:only-of-type {\n        vertical-align: middle;\n    }\n\n    .dataframe tbody tr th {\n        vertical-align: top;\n    }\n\n    .dataframe thead tr th {\n        text-align: left;\n    }\n\n    .dataframe thead tr:last-of-type th {\n        text-align: right;\n    }\n</style>\n<table border=\"1\" class=\"dataframe\">\n  <thead>\n    <tr>\n      <th></th>\n      <th colspan=\"2\" halign=\"left\">BER</th>\n      <th colspan=\"2\" halign=\"left\">FAC</th>\n      <th colspan=\"2\" halign=\"left\">INS</th>\n      <th colspan=\"2\" halign=\"left\">STM</th>\n      <th colspan=\"2\" halign=\"left\">total</th>\n    </tr>\n    <tr>\n      <th></th>\n      <th>n</th>\n      <th>%</th>\n      <th>n</th>\n      <th>%</th>\n      <th>n</th>\n      <th>%</th>\n      <th>n</th>\n      <th>%</th>\n      <th>n</th>\n      <th>%</th>\n    </tr>\n    <tr>\n      <th>source</th>\n      <th></th>\n      <th></th>\n      <th></th>\n      <th></th>\n      <th></th>\n      <th></th>\n      <th></th>\n      <th></th>\n      <th></th>\n      <th></th>\n    </tr>\n  </thead>\n  <tbody>\n    <tr>\n      <th>covid 2020</th>\n      <td>5</td>\n      <td>0</td>\n      <td>319</td>\n      <td>31</td>\n      <td>256</td>\n      <td>25</td>\n      <td>460</td>\n      <td>44</td>\n      <td>1,040</td>\n      <td>100</td>\n    </tr>\n    <tr>\n      <th>non-covid 2017</th>\n      <td>268</td>\n      <td>8</td>\n      <td>1,112</td>\n      <td>31</td>\n      <td>646</td>\n      <td>18</td>\n      <td>1,532</td>\n      <td>43</td>\n      <td>3,558</td>\n      <td>100</td>\n    </tr>\n    <tr>\n      <th>total</th>\n      <td>273</td>\n      <td>6</td>\n      <td>1,431</td>\n      <td>31</td>\n      <td>902</td>\n      <td>20</td>\n      <td>1,992</td>\n      <td>43</td>\n      <td>4,598</td>\n      <td>100</td>\n    </tr>\n  </tbody>\n</table>\n</div>"
     },
     "metadata": {},
     "execution_count": 20
    }
   ],
   "source": [
    "caption = \"A-PROOF pilot: Distribution of domains\"\n",
    "label = \"pilot_annot_domains\"\n",
    "\n",
    "n_labels = domain_totals_per_sen_id.pivot_table(\n",
    "    index='source',\n",
    "    values=['STM', 'INS', 'FAC', 'BER'],\n",
    "    aggfunc='sum',\n",
    "    margins=True,\n",
    "    margins_name='total',\n",
    ").assign(total=lambda df: df.sum(axis=1))\n",
    "\n",
    "p_labels = (n_labels.div(n_labels.iloc[:, -1], axis=0) * 100).round()\n",
    "\n",
    "n_labels.pipe(add_colname, 'n').join(\n",
    "    p_labels.pipe(add_colname, '%')\n",
    ").astype('Int64'\n",
    ").sort_index(axis=1, level=[0,1], ascending=[True, False]\n",
    ").pipe(show_latex, caption=caption, label=label)"
   ]
  },
  {
   "cell_type": "code",
   "execution_count": 21,
   "metadata": {},
   "outputs": [
    {
     "output_type": "execute_result",
     "data": {
      "text/plain": [
       "                     BER_lvl       FAC_lvl      INS_lvl      STM_lvl      \n",
       "                           n     %       n    %       n    %       n     %\n",
       "source         level                                                      \n",
       "covid 2020     0           1    33     156   52      71   29      93    20\n",
       "               1        <NA>  <NA>      25    8     111   45     215    45\n",
       "               2        <NA>  <NA>      22    7      40   16      75    16\n",
       "               3        <NA>  <NA>      37   12      21    8      62    13\n",
       "               4           2    67      61   20       4    2      29     6\n",
       "               5        <NA>  <NA>       1    0       2    1    <NA>  <NA>\n",
       "               Total       3   100     302  100     249  100     474   100\n",
       "non-covid 2017 0          64    32      77    9      26    4     270    17\n",
       "               1           6     3      27    3      95   16     876    57\n",
       "               2          30    15      53    6     108   19     158    10\n",
       "               3          28    14     106   12     128   22     179    12\n",
       "               4          69    35     532   59      95   16      63     4\n",
       "               5        <NA>  <NA>     108   12     126   22    <NA>  <NA>\n",
       "               Total     197   100     903  100     578  100   1,546   100"
      ],
      "text/html": "<div>\n<style scoped>\n    .dataframe tbody tr th:only-of-type {\n        vertical-align: middle;\n    }\n\n    .dataframe tbody tr th {\n        vertical-align: top;\n    }\n\n    .dataframe thead tr th {\n        text-align: left;\n    }\n\n    .dataframe thead tr:last-of-type th {\n        text-align: right;\n    }\n</style>\n<table border=\"1\" class=\"dataframe\">\n  <thead>\n    <tr>\n      <th></th>\n      <th></th>\n      <th colspan=\"2\" halign=\"left\">BER_lvl</th>\n      <th colspan=\"2\" halign=\"left\">FAC_lvl</th>\n      <th colspan=\"2\" halign=\"left\">INS_lvl</th>\n      <th colspan=\"2\" halign=\"left\">STM_lvl</th>\n    </tr>\n    <tr>\n      <th></th>\n      <th></th>\n      <th>n</th>\n      <th>%</th>\n      <th>n</th>\n      <th>%</th>\n      <th>n</th>\n      <th>%</th>\n      <th>n</th>\n      <th>%</th>\n    </tr>\n    <tr>\n      <th>source</th>\n      <th>level</th>\n      <th></th>\n      <th></th>\n      <th></th>\n      <th></th>\n      <th></th>\n      <th></th>\n      <th></th>\n      <th></th>\n    </tr>\n  </thead>\n  <tbody>\n    <tr>\n      <th rowspan=\"7\" valign=\"top\">covid 2020</th>\n      <th>0</th>\n      <td>1</td>\n      <td>33</td>\n      <td>156</td>\n      <td>52</td>\n      <td>71</td>\n      <td>29</td>\n      <td>93</td>\n      <td>20</td>\n    </tr>\n    <tr>\n      <th>1</th>\n      <td>&lt;NA&gt;</td>\n      <td>&lt;NA&gt;</td>\n      <td>25</td>\n      <td>8</td>\n      <td>111</td>\n      <td>45</td>\n      <td>215</td>\n      <td>45</td>\n    </tr>\n    <tr>\n      <th>2</th>\n      <td>&lt;NA&gt;</td>\n      <td>&lt;NA&gt;</td>\n      <td>22</td>\n      <td>7</td>\n      <td>40</td>\n      <td>16</td>\n      <td>75</td>\n      <td>16</td>\n    </tr>\n    <tr>\n      <th>3</th>\n      <td>&lt;NA&gt;</td>\n      <td>&lt;NA&gt;</td>\n      <td>37</td>\n      <td>12</td>\n      <td>21</td>\n      <td>8</td>\n      <td>62</td>\n      <td>13</td>\n    </tr>\n    <tr>\n      <th>4</th>\n      <td>2</td>\n      <td>67</td>\n      <td>61</td>\n      <td>20</td>\n      <td>4</td>\n      <td>2</td>\n      <td>29</td>\n      <td>6</td>\n    </tr>\n    <tr>\n      <th>5</th>\n      <td>&lt;NA&gt;</td>\n      <td>&lt;NA&gt;</td>\n      <td>1</td>\n      <td>0</td>\n      <td>2</td>\n      <td>1</td>\n      <td>&lt;NA&gt;</td>\n      <td>&lt;NA&gt;</td>\n    </tr>\n    <tr>\n      <th>Total</th>\n      <td>3</td>\n      <td>100</td>\n      <td>302</td>\n      <td>100</td>\n      <td>249</td>\n      <td>100</td>\n      <td>474</td>\n      <td>100</td>\n    </tr>\n    <tr>\n      <th rowspan=\"7\" valign=\"top\">non-covid 2017</th>\n      <th>0</th>\n      <td>64</td>\n      <td>32</td>\n      <td>77</td>\n      <td>9</td>\n      <td>26</td>\n      <td>4</td>\n      <td>270</td>\n      <td>17</td>\n    </tr>\n    <tr>\n      <th>1</th>\n      <td>6</td>\n      <td>3</td>\n      <td>27</td>\n      <td>3</td>\n      <td>95</td>\n      <td>16</td>\n      <td>876</td>\n      <td>57</td>\n    </tr>\n    <tr>\n      <th>2</th>\n      <td>30</td>\n      <td>15</td>\n      <td>53</td>\n      <td>6</td>\n      <td>108</td>\n      <td>19</td>\n      <td>158</td>\n      <td>10</td>\n    </tr>\n    <tr>\n      <th>3</th>\n      <td>28</td>\n      <td>14</td>\n      <td>106</td>\n      <td>12</td>\n      <td>128</td>\n      <td>22</td>\n      <td>179</td>\n      <td>12</td>\n    </tr>\n    <tr>\n      <th>4</th>\n      <td>69</td>\n      <td>35</td>\n      <td>532</td>\n      <td>59</td>\n      <td>95</td>\n      <td>16</td>\n      <td>63</td>\n      <td>4</td>\n    </tr>\n    <tr>\n      <th>5</th>\n      <td>&lt;NA&gt;</td>\n      <td>&lt;NA&gt;</td>\n      <td>108</td>\n      <td>12</td>\n      <td>126</td>\n      <td>22</td>\n      <td>&lt;NA&gt;</td>\n      <td>&lt;NA&gt;</td>\n    </tr>\n    <tr>\n      <th>Total</th>\n      <td>197</td>\n      <td>100</td>\n      <td>903</td>\n      <td>100</td>\n      <td>578</td>\n      <td>100</td>\n      <td>1,546</td>\n      <td>100</td>\n    </tr>\n  </tbody>\n</table>\n</div>"
     },
     "metadata": {},
     "execution_count": 21
    }
   ],
   "source": [
    "caption = \"A-PROOF pilot: Distribution of levels per domain\"\n",
    "label = \"pilot_annot_levels\"\n",
    "\n",
    "stats = []\n",
    "for lvl in [f\"{i}_lvl\" for i in domains]:\n",
    "    notna = total.loc[total[lvl].notna()]\n",
    "    stat = notna.groupby(['source', 'sen_id'])[lvl].apply(lambda s: {i for i in s if i==i})\n",
    "    stat = stat.explode().groupby(level=0).value_counts()\n",
    "    stats.append(stat)\n",
    "table = pd.concat(stats, axis=1)\n",
    "table.index = pd.MultiIndex.from_tuples([(i,int(j)) for i,j in table.index])\n",
    "sums = table.groupby(level=0).sum()\n",
    "sums.index = pd.MultiIndex.from_tuples([(i, 'Total') for i in sums.index])\n",
    "table = pd.concat([table, sums]).sort_index(level=0)\n",
    "\n",
    "prcs = table.div(sums.xs('Total', level=1), axis=1, level=0).mul(100).round()\n",
    "pd.concat(\n",
    "    [table, prcs], keys=['n', '%'], axis=1\n",
    ").rename_axis(['source', 'level']\n",
    ").swaplevel(axis=1\n",
    ").sort_index(axis=1, level=[0,1], ascending=[True,False]\n",
    ").astype('Int64'\n",
    ").pipe(show_latex, caption=caption, label=label)"
   ]
  },
  {
   "cell_type": "code",
   "execution_count": 22,
   "metadata": {},
   "outputs": [],
   "source": [
    "prefix = 'pilot_annot'\n",
    "for idx, table in enumerate(TABLES):\n",
    "    with open(f'./tables/{prefix}_{idx}.tex', 'w', encoding='utf8') as f:\n",
    "        f.write(table)"
   ]
  },
  {
   "cell_type": "code",
   "execution_count": null,
   "metadata": {},
   "outputs": [],
   "source": []
  }
 ],
 "metadata": {
  "kernelspec": {
   "display_name": "zonmw",
   "language": "python",
   "name": "zonmw"
  },
  "language_info": {
   "codemirror_mode": {
    "name": "ipython",
    "version": 3
   },
   "file_extension": ".py",
   "mimetype": "text/x-python",
   "name": "python",
   "nbconvert_exporter": "python",
   "pygments_lexer": "ipython3",
   "version": "3.8.5-final"
  }
 },
 "nbformat": 4,
 "nbformat_minor": 5
}