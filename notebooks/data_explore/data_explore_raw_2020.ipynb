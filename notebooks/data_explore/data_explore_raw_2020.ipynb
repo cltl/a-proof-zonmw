{
 "metadata": {
  "language_info": {
   "codemirror_mode": {
    "name": "ipython",
    "version": 3
   },
   "file_extension": ".py",
   "mimetype": "text/x-python",
   "name": "python",
   "nbconvert_exporter": "python",
   "pygments_lexer": "ipython3",
   "version": "3.8.5-final"
  },
  "orig_nbformat": 2,
  "kernelspec": {
   "name": "python3",
   "display_name": "Python 3.8.5 64-bit ('zonmw': conda)",
   "metadata": {
    "interpreter": {
     "hash": "5a0a696a2c4562c805ef24bd77b26c70704f51e5d276869b3745fd7123bf8c36"
    }
   }
  }
 },
 "nbformat": 4,
 "nbformat_minor": 2,
 "cells": [
  {
   "cell_type": "code",
   "execution_count": 1,
   "metadata": {},
   "outputs": [],
   "source": [
    "import sys\n",
    "sys.path.insert(0, '../..')\n",
    "from src.utils.latex import show_latex, TABLES"
   ]
  },
  {
   "cell_type": "code",
   "execution_count": 2,
   "metadata": {},
   "outputs": [],
   "source": [
    "import pandas as pd\n",
    "from pathlib import Path\n",
    "from string import Template\n",
    "from textwrap import indent"
   ]
  },
  {
   "source": [
    "# Load data"
   ],
   "cell_type": "markdown",
   "metadata": {}
  },
  {
   "cell_type": "code",
   "execution_count": 3,
   "metadata": {},
   "outputs": [
    {
     "output_type": "stream",
     "name": "stdout",
     "text": [
      "Loading all 'Notities' files from ../../../Covid_data_11nov/raw...\n",
      "DataFrames loaded: amc.shape=(1515300, 8), vumc.shape=(1132728, 8)\n",
      "Loading all 'Diagnoses' files from ../../../Covid_data_11nov/raw...\n",
      "DataFrames loaded: diag_amc.shape=(77788, 8), diag_vumc.shape=(60757, 8)\n"
     ]
    }
   ],
   "source": [
    "datapath = Path('../../../Covid_data_11nov/raw')\n",
    "\n",
    "### LOAD NOTES ###\n",
    "print(f\"Loading all 'Notities' files from {datapath}...\")\n",
    "\n",
    "cols = ['MDN', 'NotitieID', 'NotitieCSN', 'Typenotitie', 'Notitiedatum', 'Notitietekst1', 'Notitietekst2', 'Notitietekst3']\n",
    "amc = pd.concat(pd.read_csv(f, sep=';', names=cols, encoding='utf-8-sig') for f in datapath.glob('Notities AMC*.csv'))\n",
    "vumc = pd.concat(pd.read_csv(f, sep=';', names=cols, encoding='utf-8-sig') for f in datapath.glob('Notities VUMC*.csv'))\n",
    "\n",
    "print(f\"DataFrames loaded: {amc.shape=}, {vumc.shape=}\")\n",
    "\n",
    "\n",
    "### LOAD DIAGNOSES ###\n",
    "print(f\"Loading all 'Diagnoses' files from {datapath}...\")\n",
    "\n",
    "cols = ['MDN', 'CSN', 'typecontact', 'DBC-id', 'specialisme', 'episodenaam', 'DBC_diagnose', 'ICD10_diagnose']\n",
    "f = datapath / 'Diagnoses AMC 2020 sept.csv'\n",
    "diag_amc = pd.read_csv(f, sep=';', names=cols, encoding = 'utf-8')\n",
    "f = datapath / 'Diagnoses VUMC 2020 sept.csv'\n",
    "diag_vumc = pd.read_csv(f, sep=';', names=cols, encoding = 'utf-8')\n",
    "\n",
    "print(f\"DataFrames loaded: {diag_amc.shape=}, {diag_vumc.shape=}\")"
   ]
  },
  {
   "cell_type": "code",
   "execution_count": 4,
   "metadata": {},
   "outputs": [],
   "source": [
    "annotated = pd.read_csv('../../../Covid_data_11nov/from_inception_tsv/annotated_notes_ids.csv')"
   ]
  },
  {
   "source": [
    "# All data"
   ],
   "cell_type": "markdown",
   "metadata": {}
  },
  {
   "cell_type": "code",
   "execution_count": 5,
   "metadata": {},
   "outputs": [
    {
     "output_type": "execute_result",
     "data": {
      "text/plain": [
       "                            AMC    VUMC    total\n",
       "n_unique                                        \n",
       "patients in `Diagnoses`  45,154  35,654   80,808\n",
       "patients in `Notities`   56,662  43,658  100,320"
      ],
      "text/html": "<div>\n<style scoped>\n    .dataframe tbody tr th:only-of-type {\n        vertical-align: middle;\n    }\n\n    .dataframe tbody tr th {\n        vertical-align: top;\n    }\n\n    .dataframe thead th {\n        text-align: right;\n    }\n</style>\n<table border=\"1\" class=\"dataframe\">\n  <thead>\n    <tr style=\"text-align: right;\">\n      <th></th>\n      <th>AMC</th>\n      <th>VUMC</th>\n      <th>total</th>\n    </tr>\n    <tr>\n      <th>n_unique</th>\n      <th></th>\n      <th></th>\n      <th></th>\n    </tr>\n  </thead>\n  <tbody>\n    <tr>\n      <th>patients in `Diagnoses`</th>\n      <td>45,154</td>\n      <td>35,654</td>\n      <td>80,808</td>\n    </tr>\n    <tr>\n      <th>patients in `Notities`</th>\n      <td>56,662</td>\n      <td>43,658</td>\n      <td>100,320</td>\n    </tr>\n  </tbody>\n</table>\n</div>"
     },
     "metadata": {},
     "execution_count": 5
    }
   ],
   "source": [
    "caption = \"Number of unique patients in `Diagnoses` and `Notities` files\"\n",
    "label = \"2020_n_pat_diag_note\"\n",
    "\n",
    "def find_nunique(hospital, df, diag_df):\n",
    "    return pd.Series([\n",
    "        diag_df.MDN.nunique(),\n",
    "        df.MDN.nunique(),\n",
    "    ], index=['patients in `Diagnoses`', 'patients in `Notities`'],\n",
    "    name=hospital)\n",
    "\n",
    "pd.concat([\n",
    "    find_nunique('AMC', amc, diag_amc),\n",
    "    find_nunique('VUMC', vumc, diag_vumc),\n",
    "], axis=1).rename_axis('n_unique').assign(total=lambda df: df.sum(axis=1)).pipe(show_latex, caption, label)"
   ]
  },
  {
   "cell_type": "code",
   "execution_count": 6,
   "metadata": {},
   "outputs": [
    {
     "output_type": "execute_result",
     "data": {
      "text/plain": [
       "                 AMC     VUMC      total\n",
       "n_unique                                \n",
       "patients      45,154   35,654     80,808\n",
       "notes      1,268,517  963,970  2,232,487\n",
       "diagnoses      3,272    2,783      6,055"
      ],
      "text/html": "<div>\n<style scoped>\n    .dataframe tbody tr th:only-of-type {\n        vertical-align: middle;\n    }\n\n    .dataframe tbody tr th {\n        vertical-align: top;\n    }\n\n    .dataframe thead th {\n        text-align: right;\n    }\n</style>\n<table border=\"1\" class=\"dataframe\">\n  <thead>\n    <tr style=\"text-align: right;\">\n      <th></th>\n      <th>AMC</th>\n      <th>VUMC</th>\n      <th>total</th>\n    </tr>\n    <tr>\n      <th>n_unique</th>\n      <th></th>\n      <th></th>\n      <th></th>\n    </tr>\n  </thead>\n  <tbody>\n    <tr>\n      <th>patients</th>\n      <td>45,154</td>\n      <td>35,654</td>\n      <td>80,808</td>\n    </tr>\n    <tr>\n      <th>notes</th>\n      <td>1,268,517</td>\n      <td>963,970</td>\n      <td>2,232,487</td>\n    </tr>\n    <tr>\n      <th>diagnoses</th>\n      <td>3,272</td>\n      <td>2,783</td>\n      <td>6,055</td>\n    </tr>\n  </tbody>\n</table>\n</div>"
     },
     "metadata": {},
     "execution_count": 6
    }
   ],
   "source": [
    "caption = \"All data: num patients, num notes, num diagnoses\"\n",
    "label = \"2020_all_overview\"\n",
    "\n",
    "\n",
    "def find_nunique(hospital, df, diag_df):\n",
    "    return pd.Series([\n",
    "        diag_df.MDN.nunique(),\n",
    "        df.query(\"MDN.isin(@diag_df.MDN)\").NotitieID.nunique(),\n",
    "        diag_df.ICD10_diagnose.nunique(),\n",
    "    ], index=['patients', 'notes', 'diagnoses'],\n",
    "    name=hospital)\n",
    "\n",
    "pd.concat([\n",
    "    find_nunique('AMC', amc, diag_amc),\n",
    "    find_nunique('VUMC', vumc, diag_vumc),\n",
    "], axis=1).rename_axis('n_unique').assign(total=lambda df: df.sum(axis=1)).pipe(show_latex, caption, label)"
   ]
  },
  {
   "cell_type": "code",
   "execution_count": 7,
   "metadata": {},
   "outputs": [
    {
     "output_type": "execute_result",
     "data": {
      "text/plain": [
       "                                                             n\n",
       "     topten_diagnoses                                         \n",
       "AMC  Voorlichting en advies, niet gespecificeerd [Z7...  1,781\n",
       "     Overige en niet gespecificeerde buikpijn [R10.4]      822\n",
       "     Overige gespecificeerde medische zorg [Z51.8]         821\n",
       "     Observatie in verband met verdenking op andere ...    779\n",
       "     Hulpverlening in verband met voortplanting, nie...    706\n",
       "     Controle van normale zwangerschap, niet gespeci...    612\n",
       "     Angina pectoris, niet gespecificeerd [I20.9]          548\n",
       "     Pijn op borst, niet gespecificeerd [R07.4]            505\n",
       "     Niet gespecificeerd letsel van hoofd [S09.9]          503\n",
       "     Observatie in verband met verdenking op ziekte ...    464\n",
       "VUMC Voorlichting en advies, niet gespecificeerd [Z7...  1,758\n",
       "     Observatie in verband met verdenking op andere ...    732\n",
       "     Open wond van niet gespecificeerde lichaamsregi...    691\n",
       "     Genderidentiteitsstoornis, niet gespecificeerd ...    639\n",
       "     Hulpverlening in verband met voortplanting, nie...    609\n",
       "     Niet gespecificeerd letsel van hoofd [S09.9]          586\n",
       "     Overige en niet gespecificeerde buikpijn [R10.4]      585\n",
       "     Maligne neoplasma van mamma, niet gespecificeer...    536\n",
       "     Gehoorverlies, niet gespecificeerd [H91.9]            479\n",
       "     Pijn op borst, niet gespecificeerd [R07.4]            452"
      ],
      "text/html": "<div>\n<style scoped>\n    .dataframe tbody tr th:only-of-type {\n        vertical-align: middle;\n    }\n\n    .dataframe tbody tr th {\n        vertical-align: top;\n    }\n\n    .dataframe thead th {\n        text-align: right;\n    }\n</style>\n<table border=\"1\" class=\"dataframe\">\n  <thead>\n    <tr style=\"text-align: right;\">\n      <th></th>\n      <th></th>\n      <th>n</th>\n    </tr>\n    <tr>\n      <th></th>\n      <th>topten_diagnoses</th>\n      <th></th>\n    </tr>\n  </thead>\n  <tbody>\n    <tr>\n      <th rowspan=\"10\" valign=\"top\">AMC</th>\n      <th>Voorlichting en advies, niet gespecificeerd [Z71.9]</th>\n      <td>1,781</td>\n    </tr>\n    <tr>\n      <th>Overige en niet gespecificeerde buikpijn [R10.4]</th>\n      <td>822</td>\n    </tr>\n    <tr>\n      <th>Overige gespecificeerde medische zorg [Z51.8]</th>\n      <td>821</td>\n    </tr>\n    <tr>\n      <th>Observatie in verband met verdenking op andere gespecificeerde ziekten en aandoeningen [Z03.8]</th>\n      <td>779</td>\n    </tr>\n    <tr>\n      <th>Hulpverlening in verband met voortplanting, niet gespecificeerd [Z31.9]</th>\n      <td>706</td>\n    </tr>\n    <tr>\n      <th>Controle van normale zwangerschap, niet gespecificeerd [Z34.9]</th>\n      <td>612</td>\n    </tr>\n    <tr>\n      <th>Angina pectoris, niet gespecificeerd [I20.9]</th>\n      <td>548</td>\n    </tr>\n    <tr>\n      <th>Pijn op borst, niet gespecificeerd [R07.4]</th>\n      <td>505</td>\n    </tr>\n    <tr>\n      <th>Niet gespecificeerd letsel van hoofd [S09.9]</th>\n      <td>503</td>\n    </tr>\n    <tr>\n      <th>Observatie in verband met verdenking op ziekte of aandoening, niet gespecificeerd [Z03.9]</th>\n      <td>464</td>\n    </tr>\n    <tr>\n      <th rowspan=\"10\" valign=\"top\">VUMC</th>\n      <th>Voorlichting en advies, niet gespecificeerd [Z71.9]</th>\n      <td>1,758</td>\n    </tr>\n    <tr>\n      <th>Observatie in verband met verdenking op andere gespecificeerde ziekten en aandoeningen [Z03.8]</th>\n      <td>732</td>\n    </tr>\n    <tr>\n      <th>Open wond van niet gespecificeerde lichaamsregio [T14.1]</th>\n      <td>691</td>\n    </tr>\n    <tr>\n      <th>Genderidentiteitsstoornis, niet gespecificeerd [F64.9]</th>\n      <td>639</td>\n    </tr>\n    <tr>\n      <th>Hulpverlening in verband met voortplanting, niet gespecificeerd [Z31.9]</th>\n      <td>609</td>\n    </tr>\n    <tr>\n      <th>Niet gespecificeerd letsel van hoofd [S09.9]</th>\n      <td>586</td>\n    </tr>\n    <tr>\n      <th>Overige en niet gespecificeerde buikpijn [R10.4]</th>\n      <td>585</td>\n    </tr>\n    <tr>\n      <th>Maligne neoplasma van mamma, niet gespecificeerd [C50.9]</th>\n      <td>536</td>\n    </tr>\n    <tr>\n      <th>Gehoorverlies, niet gespecificeerd [H91.9]</th>\n      <td>479</td>\n    </tr>\n    <tr>\n      <th>Pijn op borst, niet gespecificeerd [R07.4]</th>\n      <td>452</td>\n    </tr>\n  </tbody>\n</table>\n</div>"
     },
     "metadata": {},
     "execution_count": 7
    }
   ],
   "source": [
    "caption = \"Top 10 most frequent diagnoses\"\n",
    "label = \"2020_top10_diag\"\n",
    "column_format = r\"{>{\\footnotesize}m{1.5cm}|>{\\footnotesize}m{9cm}|>{\\footnotesize}m{1.5cm}}\"\n",
    "\n",
    "def topten_diagnoses(hospital, diag_df):\n",
    "    diag_df = diag_df.drop_duplicates(subset=['MDN', 'ICD10_diagnose'])\n",
    "    return diag_df.groupby('ICD10_diagnose').size().sort_values(ascending=False).head(10)\n",
    "\n",
    "pd.concat([\n",
    "    topten_diagnoses('AMC', diag_amc),\n",
    "    topten_diagnoses('VUMC', diag_vumc),\n",
    "], keys=['AMC', 'VUMC']).rename('n').rename_axis(['', 'topten_diagnoses']).to_frame(\n",
    ").pipe(show_latex, caption, label, column_format=column_format)"
   ]
  },
  {
   "source": [
    "# COVID\n",
    "\n",
    "### COVID-19, virus geïdentificeerd \\[U07.1]"
   ],
   "cell_type": "markdown",
   "metadata": {}
  },
  {
   "cell_type": "code",
   "execution_count": 8,
   "metadata": {},
   "outputs": [],
   "source": [
    "def add_colname(df,lbl):\n",
    "    \"\"\"\n",
    "    TBD\n",
    "    \"\"\"\n",
    "    return pd.concat([df], keys=[lbl], axis=1).swaplevel(axis=1)"
   ]
  },
  {
   "cell_type": "code",
   "execution_count": 9,
   "metadata": {},
   "outputs": [
    {
     "output_type": "execute_result",
     "data": {
      "text/plain": [
       "n_unique    patients   notes\n",
       "AMC   all        255  21,181\n",
       "      annot       31     941\n",
       "      rest       224  20,240\n",
       "VUMC  all        227  21,435\n",
       "      annot       29     746\n",
       "      rest       198  20,689\n",
       "total all        482  42,616\n",
       "      annot       60   1,687\n",
       "      rest       422  40,929"
      ],
      "text/html": "<div>\n<style scoped>\n    .dataframe tbody tr th:only-of-type {\n        vertical-align: middle;\n    }\n\n    .dataframe tbody tr th {\n        vertical-align: top;\n    }\n\n    .dataframe thead th {\n        text-align: right;\n    }\n</style>\n<table border=\"1\" class=\"dataframe\">\n  <thead>\n    <tr style=\"text-align: right;\">\n      <th></th>\n      <th>n_unique</th>\n      <th>patients</th>\n      <th>notes</th>\n    </tr>\n  </thead>\n  <tbody>\n    <tr>\n      <th rowspan=\"3\" valign=\"top\">AMC</th>\n      <th>all</th>\n      <td>255</td>\n      <td>21,181</td>\n    </tr>\n    <tr>\n      <th>annot</th>\n      <td>31</td>\n      <td>941</td>\n    </tr>\n    <tr>\n      <th>rest</th>\n      <td>224</td>\n      <td>20,240</td>\n    </tr>\n    <tr>\n      <th rowspan=\"3\" valign=\"top\">VUMC</th>\n      <th>all</th>\n      <td>227</td>\n      <td>21,435</td>\n    </tr>\n    <tr>\n      <th>annot</th>\n      <td>29</td>\n      <td>746</td>\n    </tr>\n    <tr>\n      <th>rest</th>\n      <td>198</td>\n      <td>20,689</td>\n    </tr>\n    <tr>\n      <th rowspan=\"3\" valign=\"top\">total</th>\n      <th>all</th>\n      <td>482</td>\n      <td>42,616</td>\n    </tr>\n    <tr>\n      <th>annot</th>\n      <td>60</td>\n      <td>1,687</td>\n    </tr>\n    <tr>\n      <th>rest</th>\n      <td>422</td>\n      <td>40,929</td>\n    </tr>\n  </tbody>\n</table>\n</div>"
     },
     "metadata": {},
     "execution_count": 9
    }
   ],
   "source": [
    "caption = \"COVID data overview ('COVID-19, virus geïdentificeerd [U07.1]')\"\n",
    "label = \"2020_covid_overview\"\n",
    "\n",
    "def find_nunique(hospital, df, diag_df):\n",
    "    diag_df = diag_df.query(\"ICD10_diagnose == 'COVID-19, virus geïdentificeerd [U07.1]'\")\n",
    "    return pd.Series([\n",
    "        diag_df.MDN.nunique(),\n",
    "        df.query(\"MDN.isin(@diag_df.MDN)\").NotitieID.nunique(),\n",
    "    ], index=['patients', 'notes'],\n",
    "    name=hospital)\n",
    "\n",
    "add_label = lambda df,lbl: pd.concat([df], keys=[lbl], axis=1)\n",
    "\n",
    "all_covid = pd.concat([\n",
    "    find_nunique('AMC', amc, diag_amc),\n",
    "    find_nunique('VUMC', vumc, diag_vumc),\n",
    "], axis=1).rename_axis('n_unique').assign(total=lambda df: df.sum(axis=1))\n",
    "\n",
    "ann_covid = annotated.pivot_table(\n",
    "    index='institution',\n",
    "    values=['MDN', 'NotitieID'],\n",
    "    aggfunc='nunique',\n",
    ").T.rename({'MDN': 'patients', 'NotitieID': 'notes'}\n",
    ").rename(columns=str.upper\n",
    ").rename_axis('n_unique'\n",
    ").rename_axis(None, axis=1\n",
    ").assign(total=lambda df: df.sum(axis=1))\n",
    "\n",
    "rst_covid = all_covid - ann_covid\n",
    "\n",
    "pd.concat([\n",
    "    all_covid.pipe(add_label, 'all'),\n",
    "    ann_covid.pipe(add_label, 'annot'),\n",
    "    rst_covid.pipe(add_label, 'rest'),\n",
    "], axis=1).swaplevel(axis=1\n",
    ").reindex(['AMC', 'VUMC', 'total'], axis=1, level=0\n",
    ").T.pipe(show_latex, caption, label)"
   ]
  },
  {
   "cell_type": "code",
   "execution_count": 10,
   "metadata": {},
   "outputs": [],
   "source": [
    "prefix = '2020'\n",
    "for idx, table in enumerate(TABLES):\n",
    "    with open(f'./tables/{prefix}_{idx}.tex', 'w', encoding='utf8') as f:\n",
    "        f.write(table)"
   ]
  },
  {
   "cell_type": "code",
   "execution_count": null,
   "metadata": {},
   "outputs": [],
   "source": []
  }
 ]
}