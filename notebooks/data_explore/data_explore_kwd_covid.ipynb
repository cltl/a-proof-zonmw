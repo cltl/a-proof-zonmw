{
 "metadata": {
  "language_info": {
   "codemirror_mode": {
    "name": "ipython",
    "version": 3
   },
   "file_extension": ".py",
   "mimetype": "text/x-python",
   "name": "python",
   "nbconvert_exporter": "python",
   "pygments_lexer": "ipython3",
   "version": "3.8.5-final"
  },
  "orig_nbformat": 2,
  "kernelspec": {
   "name": "python3",
   "display_name": "Python 3",
   "language": "python"
  }
 },
 "nbformat": 4,
 "nbformat_minor": 2,
 "cells": [
  {
   "cell_type": "code",
   "execution_count": 1,
   "metadata": {},
   "outputs": [],
   "source": [
    "import sys\n",
    "sys.path.insert(0, '../..')\n",
    "from src.data_process.prep_batch_for_annot import *\n",
    "from src.utils.latex import show_latex, TABLES"
   ]
  },
  {
   "cell_type": "code",
   "execution_count": 2,
   "metadata": {},
   "outputs": [],
   "source": [
    "import pandas as pd\n",
    "from functools import partial\n",
    "from pathlib import Path"
   ]
  },
  {
   "source": [
    "# Load data"
   ],
   "cell_type": "markdown",
   "metadata": {}
  },
  {
   "cell_type": "code",
   "execution_count": 3,
   "metadata": {},
   "outputs": [],
   "source": [
    "cov_amc_path = '../../../Covid_data_11nov/raw/ICD_U07.1/a-proof-zonmw/amc_[U07.1]_2020_q1_q2_q3.csv'\n",
    "cov_vumc_path = '../../../Covid_data_11nov/raw/ICD_U07.1/a-proof-zonmw/vumc_[U07.1]_2020_q1_q2_q3.csv'\n",
    "annotated = '../../../Covid_data_11nov/from_inception_tsv/annotated_notes_ids.csv'"
   ]
  },
  {
   "cell_type": "code",
   "execution_count": 4,
   "metadata": {},
   "outputs": [],
   "source": [
    "cov_amc = pd.read_csv(cov_amc_path, index_col=0)\n",
    "cov_vumc = pd.read_csv(cov_vumc_path, index_col=0)"
   ]
  },
  {
   "cell_type": "code",
   "execution_count": 5,
   "metadata": {},
   "outputs": [],
   "source": [
    "cov_amc['all_text'] = cov_amc.iloc[:,-3:].apply(lambda s: ' '.join([i for i in s.values if i==i]), axis=1)\n",
    "cov_vumc['all_text'] = cov_vumc.iloc[:,-3:].apply(lambda s: ' '.join([i for i in s.values if i==i]), axis=1)"
   ]
  },
  {
   "cell_type": "code",
   "execution_count": 6,
   "metadata": {},
   "outputs": [],
   "source": [
    "annotated = pd.read_csv(annotated)"
   ]
  },
  {
   "source": [
    "# Load keywords"
   ],
   "cell_type": "markdown",
   "metadata": {}
  },
  {
   "cell_type": "code",
   "execution_count": 7,
   "metadata": {},
   "outputs": [
    {
     "output_type": "execute_result",
     "data": {
      "text/plain": [
       "    domain      keyword  regex_template_id               regex\n",
       "0      ENR      energie                  0      \\benergie.*?\\b\n",
       "1      ENR      vermoei                  0      \\bvermoei.*?\\b\n",
       "2      ENR  oververmoei                  0  \\boververmoei.*?\\b\n",
       "3      ENR          moe                  1             \\bmoe\\b\n",
       "4      ENR     uitgeput                  0     \\buitgeput.*?\\b\n",
       "..     ...          ...                ...                 ...\n",
       "120    BER       ontsla                  0       \\bontsla.*?\\b\n",
       "121    BER         baas                  1            \\bbaas\\b\n",
       "122    BER      manager                  1         \\bmanager\\b\n",
       "123    BER         stud                  0         \\bstud.*?\\b\n",
       "124    BER       school                  0       \\bschool.*?\\b\n",
       "\n",
       "[125 rows x 4 columns]"
      ],
      "text/html": "<div>\n<style scoped>\n    .dataframe tbody tr th:only-of-type {\n        vertical-align: middle;\n    }\n\n    .dataframe tbody tr th {\n        vertical-align: top;\n    }\n\n    .dataframe thead th {\n        text-align: right;\n    }\n</style>\n<table border=\"1\" class=\"dataframe\">\n  <thead>\n    <tr style=\"text-align: right;\">\n      <th></th>\n      <th>domain</th>\n      <th>keyword</th>\n      <th>regex_template_id</th>\n      <th>regex</th>\n    </tr>\n  </thead>\n  <tbody>\n    <tr>\n      <th>0</th>\n      <td>ENR</td>\n      <td>energie</td>\n      <td>0</td>\n      <td>\\benergie.*?\\b</td>\n    </tr>\n    <tr>\n      <th>1</th>\n      <td>ENR</td>\n      <td>vermoei</td>\n      <td>0</td>\n      <td>\\bvermoei.*?\\b</td>\n    </tr>\n    <tr>\n      <th>2</th>\n      <td>ENR</td>\n      <td>oververmoei</td>\n      <td>0</td>\n      <td>\\boververmoei.*?\\b</td>\n    </tr>\n    <tr>\n      <th>3</th>\n      <td>ENR</td>\n      <td>moe</td>\n      <td>1</td>\n      <td>\\bmoe\\b</td>\n    </tr>\n    <tr>\n      <th>4</th>\n      <td>ENR</td>\n      <td>uitgeput</td>\n      <td>0</td>\n      <td>\\buitgeput.*?\\b</td>\n    </tr>\n    <tr>\n      <th>...</th>\n      <td>...</td>\n      <td>...</td>\n      <td>...</td>\n      <td>...</td>\n    </tr>\n    <tr>\n      <th>120</th>\n      <td>BER</td>\n      <td>ontsla</td>\n      <td>0</td>\n      <td>\\bontsla.*?\\b</td>\n    </tr>\n    <tr>\n      <th>121</th>\n      <td>BER</td>\n      <td>baas</td>\n      <td>1</td>\n      <td>\\bbaas\\b</td>\n    </tr>\n    <tr>\n      <th>122</th>\n      <td>BER</td>\n      <td>manager</td>\n      <td>1</td>\n      <td>\\bmanager\\b</td>\n    </tr>\n    <tr>\n      <th>123</th>\n      <td>BER</td>\n      <td>stud</td>\n      <td>0</td>\n      <td>\\bstud.*?\\b</td>\n    </tr>\n    <tr>\n      <th>124</th>\n      <td>BER</td>\n      <td>school</td>\n      <td>0</td>\n      <td>\\bschool.*?\\b</td>\n    </tr>\n  </tbody>\n</table>\n<p>125 rows × 4 columns</p>\n</div>"
     },
     "metadata": {},
     "execution_count": 7
    }
   ],
   "source": [
    "kwd = pd.read_excel('../../keywords/keywords.xlsx')\n",
    "kwd['regex'] = kwd.apply(lambda row: get_regex(row.keyword, row.regex_template_id), axis=1)\n",
    "kwd"
   ]
  },
  {
   "cell_type": "code",
   "execution_count": 8,
   "metadata": {},
   "outputs": [],
   "source": [
    "reg_dict = get_reg_dict(kwd)"
   ]
  },
  {
   "source": [
    "# Find keywords"
   ],
   "cell_type": "markdown",
   "metadata": {}
  },
  {
   "cell_type": "code",
   "execution_count": 9,
   "metadata": {},
   "outputs": [],
   "source": [
    "cov_amc = find_keywords(cov_amc, reg_dict)"
   ]
  },
  {
   "cell_type": "code",
   "execution_count": 10,
   "metadata": {},
   "outputs": [],
   "source": [
    "cov_vumc = find_keywords(cov_vumc, reg_dict)"
   ]
  },
  {
   "source": [
    "# Stats"
   ],
   "cell_type": "markdown",
   "metadata": {}
  },
  {
   "cell_type": "code",
   "execution_count": 11,
   "metadata": {},
   "outputs": [],
   "source": [
    "def combine_dfs(list_of_dfs, list_of_hosp_names):\n",
    "    return pd.concat(list_of_dfs, keys=list_of_hosp_names, names=['institution', 'idx_source_file'])"
   ]
  },
  {
   "cell_type": "code",
   "execution_count": 12,
   "metadata": {},
   "outputs": [],
   "source": [
    "domains = ['ENR', 'ATT', 'STM', 'ADM', 'INS', 'MBW', 'FAC', 'BER']\n",
    "matched_domains = [f\"matched_{domain}\" for domain in domains]\n",
    "count_domains = [f\"n_{domain}\" for domain in domains]\n",
    "\n",
    "def op_count(df, domain):\n",
    "    \"Number of matches for `domain` keywords.\"\n",
    "    return df[domain].apply(len)\n",
    "\n",
    "def op_bool(df, domain):\n",
    "    \"Are there any matches for `domain` keywords (boolean).\"\n",
    "    return df[domain].apply(bool)\n",
    "\n",
    "ops_count = {f\"n_{domain}\":partial(op_count, domain=domain) for domain in domains}\n",
    "ops_bool = {f\"matched_{domain}\":partial(op_bool, domain=domain) for domain in domains}"
   ]
  },
  {
   "cell_type": "code",
   "execution_count": 24,
   "metadata": {},
   "outputs": [],
   "source": [
    "results = combine_dfs([cov_amc, cov_vumc], ['AMC', 'VUmc']\n",
    ").reset_index(\n",
    ").merge(annotated.iloc[:,:-1], on=['institution', 'MDN', 'NotitieID', 'NotitieCSN'], how='left'\n",
    ").set_index('idx_source_file'\n",
    ").drop_duplicates(subset=['MDN', 'NotitieID', 'all_text'], keep='first'\n",
    ").assign(**ops_count, **ops_bool\n",
    ").assign(\n",
    "    kwd_match=lambda df: df[domains].any(axis=1),\n",
    "    batch=lambda df: df.batch.fillna('not annotated'),\n",
    "    n_domains=lambda df: df[matched_domains].sum(axis=1)\n",
    ")"
   ]
  },
  {
   "cell_type": "code",
   "execution_count": 26,
   "metadata": {},
   "outputs": [
    {
     "output_type": "execute_result",
     "data": {
      "text/plain": [
       "kwd_match                     False    True  Totals\n",
       "batch            institution                       \n",
       "not annotated    AMC          4,486  15,976  20,462\n",
       "                 VUmc         4,591  16,037  20,628\n",
       "pilot_CovidBatch AMC             34     907     941\n",
       "                 VUmc            34     714     748\n",
       "Totals                        9,145  33,634  42,779"
      ],
      "text/html": "<div>\n<style scoped>\n    .dataframe tbody tr th:only-of-type {\n        vertical-align: middle;\n    }\n\n    .dataframe tbody tr th {\n        vertical-align: top;\n    }\n\n    .dataframe thead th {\n        text-align: right;\n    }\n</style>\n<table border=\"1\" class=\"dataframe\">\n  <thead>\n    <tr style=\"text-align: right;\">\n      <th></th>\n      <th>kwd_match</th>\n      <th>False</th>\n      <th>True</th>\n      <th>Totals</th>\n    </tr>\n    <tr>\n      <th>batch</th>\n      <th>institution</th>\n      <th></th>\n      <th></th>\n      <th></th>\n    </tr>\n  </thead>\n  <tbody>\n    <tr>\n      <th rowspan=\"2\" valign=\"top\">not annotated</th>\n      <th>AMC</th>\n      <td>4,486</td>\n      <td>15,976</td>\n      <td>20,462</td>\n    </tr>\n    <tr>\n      <th>VUmc</th>\n      <td>4,591</td>\n      <td>16,037</td>\n      <td>20,628</td>\n    </tr>\n    <tr>\n      <th rowspan=\"2\" valign=\"top\">pilot_CovidBatch</th>\n      <th>AMC</th>\n      <td>34</td>\n      <td>907</td>\n      <td>941</td>\n    </tr>\n    <tr>\n      <th>VUmc</th>\n      <td>34</td>\n      <td>714</td>\n      <td>748</td>\n    </tr>\n    <tr>\n      <th>Totals</th>\n      <th></th>\n      <td>9,145</td>\n      <td>33,634</td>\n      <td>42,779</td>\n    </tr>\n  </tbody>\n</table>\n</div>"
     },
     "metadata": {},
     "execution_count": 26
    }
   ],
   "source": [
    "caption = \"Num. notes with/without keyword matches in the COVID data\" \n",
    "label = \"kwd_covid_overview\"\n",
    "\n",
    "results.pivot_table(\n",
    "    index=['batch','institution',],\n",
    "    columns=['kwd_match'],\n",
    "    values='NotitieID',\n",
    "    aggfunc='count',\n",
    "    margins=True,\n",
    "    margins_name='Totals',\n",
    ").pipe(show_latex, caption, label)"
   ]
  },
  {
   "cell_type": "code",
   "execution_count": 27,
   "metadata": {},
   "outputs": [],
   "source": [
    "q_no_ann = \"batch == 'not annotated'\"\n",
    "q_match = \"n_domains > 0\""
   ]
  },
  {
   "cell_type": "code",
   "execution_count": 28,
   "metadata": {},
   "outputs": [
    {
     "output_type": "execute_result",
     "data": {
      "text/plain": [
       "institution     AMC    VUmc  Totals\n",
       "matched_ADM  11,542  10,768  22,310\n",
       "matched_MBW   8,899   8,824  17,723\n",
       "matched_BER   5,271   4,660   9,931\n",
       "matched_FAC   4,242   4,272   8,514\n",
       "matched_ENR   3,734   3,735   7,469\n",
       "matched_INS   2,705   3,424   6,129\n",
       "matched_STM   2,680   2,925   5,605\n",
       "matched_ATT   2,444   2,362   4,806"
      ],
      "text/html": "<div>\n<style scoped>\n    .dataframe tbody tr th:only-of-type {\n        vertical-align: middle;\n    }\n\n    .dataframe tbody tr th {\n        vertical-align: top;\n    }\n\n    .dataframe thead th {\n        text-align: right;\n    }\n</style>\n<table border=\"1\" class=\"dataframe\">\n  <thead>\n    <tr style=\"text-align: right;\">\n      <th>institution</th>\n      <th>AMC</th>\n      <th>VUmc</th>\n      <th>Totals</th>\n    </tr>\n  </thead>\n  <tbody>\n    <tr>\n      <th>matched_ADM</th>\n      <td>11,542</td>\n      <td>10,768</td>\n      <td>22,310</td>\n    </tr>\n    <tr>\n      <th>matched_MBW</th>\n      <td>8,899</td>\n      <td>8,824</td>\n      <td>17,723</td>\n    </tr>\n    <tr>\n      <th>matched_BER</th>\n      <td>5,271</td>\n      <td>4,660</td>\n      <td>9,931</td>\n    </tr>\n    <tr>\n      <th>matched_FAC</th>\n      <td>4,242</td>\n      <td>4,272</td>\n      <td>8,514</td>\n    </tr>\n    <tr>\n      <th>matched_ENR</th>\n      <td>3,734</td>\n      <td>3,735</td>\n      <td>7,469</td>\n    </tr>\n    <tr>\n      <th>matched_INS</th>\n      <td>2,705</td>\n      <td>3,424</td>\n      <td>6,129</td>\n    </tr>\n    <tr>\n      <th>matched_STM</th>\n      <td>2,680</td>\n      <td>2,925</td>\n      <td>5,605</td>\n    </tr>\n    <tr>\n      <th>matched_ATT</th>\n      <td>2,444</td>\n      <td>2,362</td>\n      <td>4,806</td>\n    </tr>\n  </tbody>\n</table>\n</div>"
     },
     "metadata": {},
     "execution_count": 28
    }
   ],
   "source": [
    "caption = \"Domains overview: num. notes with at least one keyword match\" \n",
    "label = \"kwd_covid_matched_domains\"\n",
    "\n",
    "results.query(q_no_ann).pivot_table(\n",
    "    index=['institution',],\n",
    "    values=matched_domains,\n",
    "    aggfunc='sum',\n",
    "    margins=True,\n",
    "    margins_name='Totals',\n",
    ").T.sort_values('Totals', ascending=False).pipe(show_latex, caption, label)"
   ]
  },
  {
   "cell_type": "code",
   "execution_count": 29,
   "metadata": {},
   "outputs": [
    {
     "output_type": "execute_result",
     "data": {
      "text/plain": [
       "     mean median  max\n",
       "ADM  3.32      2   39\n",
       "MBW  3.15      2  134\n",
       "BER  2.03      1   22\n",
       "INS  1.99      1   23\n",
       "FAC  1.87      1   27\n",
       "ENR  1.86      1   13\n",
       "STM  1.58      1   31\n",
       "ATT   1.4      1   13"
      ],
      "text/html": "<div>\n<style scoped>\n    .dataframe tbody tr th:only-of-type {\n        vertical-align: middle;\n    }\n\n    .dataframe tbody tr th {\n        vertical-align: top;\n    }\n\n    .dataframe thead th {\n        text-align: right;\n    }\n</style>\n<table border=\"1\" class=\"dataframe\">\n  <thead>\n    <tr style=\"text-align: right;\">\n      <th></th>\n      <th>mean</th>\n      <th>median</th>\n      <th>max</th>\n    </tr>\n  </thead>\n  <tbody>\n    <tr>\n      <th>ADM</th>\n      <td>3.32</td>\n      <td>2</td>\n      <td>39</td>\n    </tr>\n    <tr>\n      <th>MBW</th>\n      <td>3.15</td>\n      <td>2</td>\n      <td>134</td>\n    </tr>\n    <tr>\n      <th>BER</th>\n      <td>2.03</td>\n      <td>1</td>\n      <td>22</td>\n    </tr>\n    <tr>\n      <th>INS</th>\n      <td>1.99</td>\n      <td>1</td>\n      <td>23</td>\n    </tr>\n    <tr>\n      <th>FAC</th>\n      <td>1.87</td>\n      <td>1</td>\n      <td>27</td>\n    </tr>\n    <tr>\n      <th>ENR</th>\n      <td>1.86</td>\n      <td>1</td>\n      <td>13</td>\n    </tr>\n    <tr>\n      <th>STM</th>\n      <td>1.58</td>\n      <td>1</td>\n      <td>31</td>\n    </tr>\n    <tr>\n      <th>ATT</th>\n      <td>1.4</td>\n      <td>1</td>\n      <td>13</td>\n    </tr>\n  </tbody>\n</table>\n</div>"
     },
     "metadata": {},
     "execution_count": 29
    }
   ],
   "source": [
    "caption = \" Mean/median/max num. keyword matches per domain\" \n",
    "label = \"kwd_covid_kwd_per_dom\"\n",
    "\n",
    "dfs = [results.query(f\"n_{dom} > 0\")[f\"n_{dom}\"].agg(['mean', 'median', 'max']) for dom in domains]\n",
    "pd.concat(dfs, keys=domains).unstack(1).sort_values('mean', ascending=False).round(2\n",
    ").astype({\n",
    "    'median': int,\n",
    "    'max': int,\n",
    "}).pipe(show_latex, caption, label)"
   ]
  },
  {
   "cell_type": "code",
   "execution_count": 30,
   "metadata": {},
   "outputs": [
    {
     "output_type": "execute_result",
     "data": {
      "text/plain": [
       "institution     AMC    VUmc  Totals\n",
       "n_domains                          \n",
       "1             4,722   4,812   9,534\n",
       "2             4,183   4,272   8,455\n",
       "3             3,146   3,238   6,384\n",
       "4             2,011   1,913   3,924\n",
       "5             1,065   1,013   2,078\n",
       "6               473     453     926\n",
       "7               224     223     447\n",
       "8               152     113     265\n",
       "Totals       15,976  16,037  32,013"
      ],
      "text/html": "<div>\n<style scoped>\n    .dataframe tbody tr th:only-of-type {\n        vertical-align: middle;\n    }\n\n    .dataframe tbody tr th {\n        vertical-align: top;\n    }\n\n    .dataframe thead th {\n        text-align: right;\n    }\n</style>\n<table border=\"1\" class=\"dataframe\">\n  <thead>\n    <tr style=\"text-align: right;\">\n      <th>institution</th>\n      <th>AMC</th>\n      <th>VUmc</th>\n      <th>Totals</th>\n    </tr>\n    <tr>\n      <th>n_domains</th>\n      <th></th>\n      <th></th>\n      <th></th>\n    </tr>\n  </thead>\n  <tbody>\n    <tr>\n      <th>1</th>\n      <td>4,722</td>\n      <td>4,812</td>\n      <td>9,534</td>\n    </tr>\n    <tr>\n      <th>2</th>\n      <td>4,183</td>\n      <td>4,272</td>\n      <td>8,455</td>\n    </tr>\n    <tr>\n      <th>3</th>\n      <td>3,146</td>\n      <td>3,238</td>\n      <td>6,384</td>\n    </tr>\n    <tr>\n      <th>4</th>\n      <td>2,011</td>\n      <td>1,913</td>\n      <td>3,924</td>\n    </tr>\n    <tr>\n      <th>5</th>\n      <td>1,065</td>\n      <td>1,013</td>\n      <td>2,078</td>\n    </tr>\n    <tr>\n      <th>6</th>\n      <td>473</td>\n      <td>453</td>\n      <td>926</td>\n    </tr>\n    <tr>\n      <th>7</th>\n      <td>224</td>\n      <td>223</td>\n      <td>447</td>\n    </tr>\n    <tr>\n      <th>8</th>\n      <td>152</td>\n      <td>113</td>\n      <td>265</td>\n    </tr>\n    <tr>\n      <th>Totals</th>\n      <td>15,976</td>\n      <td>16,037</td>\n      <td>32,013</td>\n    </tr>\n  </tbody>\n</table>\n</div>"
     },
     "metadata": {},
     "execution_count": 30
    }
   ],
   "source": [
    "caption = \"Number of matched domains per note\" \n",
    "label = \"kwd_covid_n_matched domains\"\n",
    "\n",
    "results.query(q_no_ann).query(q_match).pivot_table(\n",
    "    columns=['institution',],\n",
    "    index=['n_domains'],\n",
    "    aggfunc='count',\n",
    "    values='NotitieID',\n",
    "    margins=True,\n",
    "    margins_name='Totals',\n",
    ").pipe(show_latex, caption, label)"
   ]
  },
  {
   "cell_type": "code",
   "execution_count": 31,
   "metadata": {},
   "outputs": [],
   "source": [
    "prefix = 'kwd_covid'\n",
    "for idx, table in enumerate(TABLES):\n",
    "    with open(f'./tables/{prefix}_{idx}.tex', 'w', encoding='utf8') as f:\n",
    "        f.write(table)"
   ]
  },
  {
   "cell_type": "code",
   "execution_count": null,
   "metadata": {},
   "outputs": [],
   "source": []
  }
 ]
}