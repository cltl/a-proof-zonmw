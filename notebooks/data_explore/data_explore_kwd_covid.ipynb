{
 "metadata": {
  "language_info": {
   "codemirror_mode": {
    "name": "ipython",
    "version": 3
   },
   "file_extension": ".py",
   "mimetype": "text/x-python",
   "name": "python",
   "nbconvert_exporter": "python",
   "pygments_lexer": "ipython3",
   "version": "3.8.5-final"
  },
  "orig_nbformat": 2,
  "kernelspec": {
   "name": "python3",
   "display_name": "Python 3",
   "language": "python"
  }
 },
 "nbformat": 4,
 "nbformat_minor": 2,
 "cells": [
  {
   "cell_type": "code",
   "execution_count": 1,
   "metadata": {},
   "outputs": [],
   "source": [
    "import pandas as pd\n",
    "from functools import partial\n",
    "from pathlib import Path\n",
    "\n",
    "import sys\n",
    "sys.path.insert(0, '../..')\n",
    "from src.utils.latex import show_latex, TABLES"
   ]
  },
  {
   "source": [
    "# Load data"
   ],
   "cell_type": "markdown",
   "metadata": {}
  },
  {
   "cell_type": "code",
   "execution_count": 2,
   "metadata": {},
   "outputs": [],
   "source": [
    "path = Path('../../data')\n",
    "\n",
    "cov_2020 = pd.read_pickle(path / '2020_raw/ICD_U07.1/notes_[U07.1]_2020_q1_q2_q3.pkl')\n",
    "kwd_cov_2020 = pd.read_pickle(path / 'keyword_results/cov_2020_kwd_v1.pkl')\n",
    "annotated = pd.read_csv(path / 'annotated_notes_ids.csv', dtype={'MDN': str, 'NotitieID': str})"
   ]
  },
  {
   "cell_type": "code",
   "execution_count": 3,
   "metadata": {},
   "outputs": [],
   "source": [
    "df = cov_2020.drop_duplicates(subset=['institution', 'MDN', 'NotitieID', 'all_text'], keep='first'\n",
    ")[['institution', 'MDN', 'NotitieID']\n",
    "].merge(kwd_cov_2020, on=['institution', 'MDN', 'NotitieID'], how='left'\n",
    ").merge(annotated.iloc[:,:-1], on=['institution', 'MDN', 'NotitieID'], how='left')"
   ]
  },
  {
   "source": [
    "# Stats"
   ],
   "cell_type": "markdown",
   "metadata": {}
  },
  {
   "cell_type": "code",
   "execution_count": 4,
   "metadata": {},
   "outputs": [],
   "source": [
    "domains = ['ENR', 'ATT', 'STM', 'ADM', 'INS', 'MBW', 'FAC', 'BER']\n",
    "matched_domains = [f\"matched_{domain}\" for domain in domains]\n",
    "count_domains = [f\"n_{domain}\" for domain in domains]\n",
    "\n",
    "def op_count(df, domain):\n",
    "    \"Number of matches for `domain` keywords.\"\n",
    "    return df[domain].apply(lambda x: len(x) if x==x else 0)\n",
    "\n",
    "def op_bool(df, domain):\n",
    "    \"Are there any matches for `domain` keywords (boolean).\"\n",
    "    return df[domain].fillna(0).apply(bool)\n",
    "\n",
    "ops_count = {f\"n_{domain}\":partial(op_count, domain=domain) for domain in domains}\n",
    "ops_bool = {f\"matched_{domain}\":partial(op_bool, domain=domain) for domain in domains}"
   ]
  },
  {
   "cell_type": "code",
   "execution_count": 5,
   "metadata": {},
   "outputs": [],
   "source": [
    "results = df.assign(**ops_count, **ops_bool\n",
    ").assign(\n",
    "    kwd_match=lambda df: df[domains].any(axis=1),\n",
    "    batch=lambda df: df.batch.fillna('not annotated'),\n",
    "    n_domains=lambda df: df[matched_domains].sum(axis=1)\n",
    ")"
   ]
  },
  {
   "source": [
    "### Overview"
   ],
   "cell_type": "markdown",
   "metadata": {}
  },
  {
   "cell_type": "code",
   "execution_count": 6,
   "metadata": {},
   "outputs": [
    {
     "output_type": "execute_result",
     "data": {
      "text/plain": [
       "kwd_match                  False    True  Totals\n",
       "batch         institution                       \n",
       "not annotated amc          4,765  17,014  21,779\n",
       "              vumc         4,837  17,101  21,938\n",
       "pilot         amc             34     919     953\n",
       "              vumc            34     727     761\n",
       "Totals                     9,670  35,761  45,431"
      ],
      "text/html": "<div>\n<style scoped>\n    .dataframe tbody tr th:only-of-type {\n        vertical-align: middle;\n    }\n\n    .dataframe tbody tr th {\n        vertical-align: top;\n    }\n\n    .dataframe thead th {\n        text-align: right;\n    }\n</style>\n<table border=\"1\" class=\"dataframe\">\n  <thead>\n    <tr style=\"text-align: right;\">\n      <th></th>\n      <th>kwd_match</th>\n      <th>False</th>\n      <th>True</th>\n      <th>Totals</th>\n    </tr>\n    <tr>\n      <th>batch</th>\n      <th>institution</th>\n      <th></th>\n      <th></th>\n      <th></th>\n    </tr>\n  </thead>\n  <tbody>\n    <tr>\n      <th rowspan=\"2\" valign=\"top\">not annotated</th>\n      <th>amc</th>\n      <td>4,765</td>\n      <td>17,014</td>\n      <td>21,779</td>\n    </tr>\n    <tr>\n      <th>vumc</th>\n      <td>4,837</td>\n      <td>17,101</td>\n      <td>21,938</td>\n    </tr>\n    <tr>\n      <th rowspan=\"2\" valign=\"top\">pilot</th>\n      <th>amc</th>\n      <td>34</td>\n      <td>919</td>\n      <td>953</td>\n    </tr>\n    <tr>\n      <th>vumc</th>\n      <td>34</td>\n      <td>727</td>\n      <td>761</td>\n    </tr>\n    <tr>\n      <th>Totals</th>\n      <th></th>\n      <td>9,670</td>\n      <td>35,761</td>\n      <td>45,431</td>\n    </tr>\n  </tbody>\n</table>\n</div>"
     },
     "metadata": {},
     "execution_count": 6
    }
   ],
   "source": [
    "caption = \"Num. notes with/without keyword matches in the COVID data\" \n",
    "label = \"kwd_covid_overview\"\n",
    "\n",
    "results.pivot_table(\n",
    "    index=['batch','institution',],\n",
    "    columns=['kwd_match'],\n",
    "    values='NotitieID',\n",
    "    aggfunc='count',\n",
    "    margins=True,\n",
    "    margins_name='Totals',\n",
    ").pipe(show_latex, caption, label)"
   ]
  },
  {
   "source": [
    "### Stats by domain (non-annotated notes only)"
   ],
   "cell_type": "markdown",
   "metadata": {}
  },
  {
   "cell_type": "code",
   "execution_count": 8,
   "metadata": {},
   "outputs": [],
   "source": [
    "q_no_ann = \"batch == 'not annotated'\"\n",
    "q_match = \"n_domains > 0\""
   ]
  },
  {
   "cell_type": "code",
   "execution_count": 9,
   "metadata": {},
   "outputs": [
    {
     "output_type": "execute_result",
     "data": {
      "text/plain": [
       "institution     amc    vumc  Totals\n",
       "matched_ADM  12,172  11,558  23,730\n",
       "matched_MBW   9,371   9,389  18,760\n",
       "matched_BER   5,717   5,032  10,749\n",
       "matched_FAC   4,526   4,567   9,093\n",
       "matched_ENR   3,990   4,019   8,009\n",
       "matched_INS   2,904   3,630   6,534\n",
       "matched_STM   2,813   3,067   5,880\n",
       "matched_ATT   2,559   2,498   5,057"
      ],
      "text/html": "<div>\n<style scoped>\n    .dataframe tbody tr th:only-of-type {\n        vertical-align: middle;\n    }\n\n    .dataframe tbody tr th {\n        vertical-align: top;\n    }\n\n    .dataframe thead th {\n        text-align: right;\n    }\n</style>\n<table border=\"1\" class=\"dataframe\">\n  <thead>\n    <tr style=\"text-align: right;\">\n      <th>institution</th>\n      <th>amc</th>\n      <th>vumc</th>\n      <th>Totals</th>\n    </tr>\n  </thead>\n  <tbody>\n    <tr>\n      <th>matched_ADM</th>\n      <td>12,172</td>\n      <td>11,558</td>\n      <td>23,730</td>\n    </tr>\n    <tr>\n      <th>matched_MBW</th>\n      <td>9,371</td>\n      <td>9,389</td>\n      <td>18,760</td>\n    </tr>\n    <tr>\n      <th>matched_BER</th>\n      <td>5,717</td>\n      <td>5,032</td>\n      <td>10,749</td>\n    </tr>\n    <tr>\n      <th>matched_FAC</th>\n      <td>4,526</td>\n      <td>4,567</td>\n      <td>9,093</td>\n    </tr>\n    <tr>\n      <th>matched_ENR</th>\n      <td>3,990</td>\n      <td>4,019</td>\n      <td>8,009</td>\n    </tr>\n    <tr>\n      <th>matched_INS</th>\n      <td>2,904</td>\n      <td>3,630</td>\n      <td>6,534</td>\n    </tr>\n    <tr>\n      <th>matched_STM</th>\n      <td>2,813</td>\n      <td>3,067</td>\n      <td>5,880</td>\n    </tr>\n    <tr>\n      <th>matched_ATT</th>\n      <td>2,559</td>\n      <td>2,498</td>\n      <td>5,057</td>\n    </tr>\n  </tbody>\n</table>\n</div>"
     },
     "metadata": {},
     "execution_count": 9
    }
   ],
   "source": [
    "caption = \"Domains overview: num. notes with at least one keyword match\" \n",
    "label = \"kwd_covid_matched_domains\"\n",
    "\n",
    "results.query(q_no_ann).pivot_table(\n",
    "    index=['institution',],\n",
    "    values=matched_domains,\n",
    "    aggfunc='sum',\n",
    "    margins=True,\n",
    "    margins_name='Totals',\n",
    ").T.sort_values('Totals', ascending=False).pipe(show_latex, caption, label)"
   ]
  },
  {
   "cell_type": "code",
   "execution_count": 10,
   "metadata": {},
   "outputs": [
    {
     "output_type": "execute_result",
     "data": {
      "text/plain": [
       "     mean median  max\n",
       "ADM  3.32      2   39\n",
       "MBW   3.1      2  134\n",
       "BER  2.06      1   22\n",
       "INS  1.98      1   23\n",
       "FAC  1.87      1   27\n",
       "ENR  1.84      1   13\n",
       "STM  1.56      1   31\n",
       "ATT  1.39      1   13"
      ],
      "text/html": "<div>\n<style scoped>\n    .dataframe tbody tr th:only-of-type {\n        vertical-align: middle;\n    }\n\n    .dataframe tbody tr th {\n        vertical-align: top;\n    }\n\n    .dataframe thead th {\n        text-align: right;\n    }\n</style>\n<table border=\"1\" class=\"dataframe\">\n  <thead>\n    <tr style=\"text-align: right;\">\n      <th></th>\n      <th>mean</th>\n      <th>median</th>\n      <th>max</th>\n    </tr>\n  </thead>\n  <tbody>\n    <tr>\n      <th>ADM</th>\n      <td>3.32</td>\n      <td>2</td>\n      <td>39</td>\n    </tr>\n    <tr>\n      <th>MBW</th>\n      <td>3.1</td>\n      <td>2</td>\n      <td>134</td>\n    </tr>\n    <tr>\n      <th>BER</th>\n      <td>2.06</td>\n      <td>1</td>\n      <td>22</td>\n    </tr>\n    <tr>\n      <th>INS</th>\n      <td>1.98</td>\n      <td>1</td>\n      <td>23</td>\n    </tr>\n    <tr>\n      <th>FAC</th>\n      <td>1.87</td>\n      <td>1</td>\n      <td>27</td>\n    </tr>\n    <tr>\n      <th>ENR</th>\n      <td>1.84</td>\n      <td>1</td>\n      <td>13</td>\n    </tr>\n    <tr>\n      <th>STM</th>\n      <td>1.56</td>\n      <td>1</td>\n      <td>31</td>\n    </tr>\n    <tr>\n      <th>ATT</th>\n      <td>1.39</td>\n      <td>1</td>\n      <td>13</td>\n    </tr>\n  </tbody>\n</table>\n</div>"
     },
     "metadata": {},
     "execution_count": 10
    }
   ],
   "source": [
    "caption = \" Mean/median/max num. keyword matches per domain\" \n",
    "label = \"kwd_covid_kwd_per_dom\"\n",
    "\n",
    "dfs = [results.query(q_no_ann).query(f\"n_{dom} > 0\")[f\"n_{dom}\"].agg(['mean', 'median', 'max']) for dom in domains]\n",
    "pd.concat(dfs, keys=domains).unstack(1).sort_values('mean', ascending=False).round(2\n",
    ").astype({\n",
    "    'median': int,\n",
    "    'max': int,\n",
    "}).pipe(show_latex, caption, label)"
   ]
  },
  {
   "cell_type": "code",
   "execution_count": 11,
   "metadata": {},
   "outputs": [
    {
     "output_type": "execute_result",
     "data": {
      "text/plain": [
       "institution     amc    vumc  Totals\n",
       "n_domains                          \n",
       "1             5,107   5,133  10,240\n",
       "2             4,418   4,528   8,946\n",
       "3             3,323   3,461   6,784\n",
       "4             2,127   2,047   4,174\n",
       "5             1,148   1,084   2,232\n",
       "6               501     484     985\n",
       "7               234     236     470\n",
       "8               156     128     284\n",
       "Totals       17,014  17,101  34,115"
      ],
      "text/html": "<div>\n<style scoped>\n    .dataframe tbody tr th:only-of-type {\n        vertical-align: middle;\n    }\n\n    .dataframe tbody tr th {\n        vertical-align: top;\n    }\n\n    .dataframe thead th {\n        text-align: right;\n    }\n</style>\n<table border=\"1\" class=\"dataframe\">\n  <thead>\n    <tr style=\"text-align: right;\">\n      <th>institution</th>\n      <th>amc</th>\n      <th>vumc</th>\n      <th>Totals</th>\n    </tr>\n    <tr>\n      <th>n_domains</th>\n      <th></th>\n      <th></th>\n      <th></th>\n    </tr>\n  </thead>\n  <tbody>\n    <tr>\n      <th>1</th>\n      <td>5,107</td>\n      <td>5,133</td>\n      <td>10,240</td>\n    </tr>\n    <tr>\n      <th>2</th>\n      <td>4,418</td>\n      <td>4,528</td>\n      <td>8,946</td>\n    </tr>\n    <tr>\n      <th>3</th>\n      <td>3,323</td>\n      <td>3,461</td>\n      <td>6,784</td>\n    </tr>\n    <tr>\n      <th>4</th>\n      <td>2,127</td>\n      <td>2,047</td>\n      <td>4,174</td>\n    </tr>\n    <tr>\n      <th>5</th>\n      <td>1,148</td>\n      <td>1,084</td>\n      <td>2,232</td>\n    </tr>\n    <tr>\n      <th>6</th>\n      <td>501</td>\n      <td>484</td>\n      <td>985</td>\n    </tr>\n    <tr>\n      <th>7</th>\n      <td>234</td>\n      <td>236</td>\n      <td>470</td>\n    </tr>\n    <tr>\n      <th>8</th>\n      <td>156</td>\n      <td>128</td>\n      <td>284</td>\n    </tr>\n    <tr>\n      <th>Totals</th>\n      <td>17,014</td>\n      <td>17,101</td>\n      <td>34,115</td>\n    </tr>\n  </tbody>\n</table>\n</div>"
     },
     "metadata": {},
     "execution_count": 11
    }
   ],
   "source": [
    "caption = \"Number of matched domains per note\" \n",
    "label = \"kwd_covid_n_matched domains\"\n",
    "\n",
    "results.query(q_no_ann).query(q_match).pivot_table(\n",
    "    columns=['institution',],\n",
    "    index=['n_domains'],\n",
    "    aggfunc='count',\n",
    "    values='NotitieID',\n",
    "    margins=True,\n",
    "    margins_name='Totals',\n",
    ").pipe(show_latex, caption, label)"
   ]
  },
  {
   "cell_type": "code",
   "execution_count": 12,
   "metadata": {},
   "outputs": [],
   "source": [
    "prefix = 'kwd_covid'\n",
    "for idx, table in enumerate(TABLES):\n",
    "    with open(f'./tables/{prefix}_{idx}.tex', 'w', encoding='utf8') as f:\n",
    "        f.write(table)"
   ]
  },
  {
   "cell_type": "code",
   "execution_count": null,
   "metadata": {},
   "outputs": [],
   "source": []
  }
 ]
}