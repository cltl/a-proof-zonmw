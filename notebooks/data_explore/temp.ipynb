{
 "metadata": {
  "language_info": {
   "codemirror_mode": {
    "name": "ipython",
    "version": 3
   },
   "file_extension": ".py",
   "mimetype": "text/x-python",
   "name": "python",
   "nbconvert_exporter": "python",
   "pygments_lexer": "ipython3",
   "version": "3.8.5-final"
  },
  "orig_nbformat": 2,
  "kernelspec": {
   "name": "python3",
   "display_name": "Python 3.8.5 64-bit ('zonmw': conda)",
   "metadata": {
    "interpreter": {
     "hash": "759c8d74059880da9492837f37a8bd85250e2964d41a425be356ad2481960633"
    }
   }
  }
 },
 "nbformat": 4,
 "nbformat_minor": 2,
 "cells": [
  {
   "cell_type": "code",
   "execution_count": 1,
   "metadata": {},
   "outputs": [],
   "source": [
    "import spacy\n",
    "import re\n",
    "import pandas as pd\n",
    "from pathlib import Path"
   ]
  },
  {
   "cell_type": "code",
   "execution_count": 2,
   "metadata": {},
   "outputs": [],
   "source": [
    "df = pd.read_csv('../../dummy_data/dummy_data.csv', sep=';', index_col=0)\n",
    "df['all_text'] = df.iloc[:,-3:].apply(lambda s: ' '.join([i for i in s.values if i==i]), axis=1)"
   ]
  },
  {
   "cell_type": "code",
   "execution_count": 3,
   "metadata": {},
   "outputs": [
    {
     "output_type": "execute_result",
     "data": {
      "text/plain": [
       "         MDN  NotitieID  NotitieCSN        Typenotitie Notitiedatum  \\\n",
       "0   22325359    1428986           2  Eten/drank Ketens   2014-20-02   \n",
       "1  ﻿60235486    1647774           2  Eten/drank Ketens   2012-31-03   \n",
       "2   80564281    2027552           5        Smartphones   2014-19-02   \n",
       "3   24105019    2267912           2  Eten/drank Ketens   2014-21-02   \n",
       "4   51373767    2453958           5        Smartphones   2014-23-02   \n",
       "\n",
       "                                       Notitietekst1 Notitietekst2  \\\n",
       "0  Nog geen twee stappen had ik in de zaak gezet ...          TEST   \n",
       "1  Deze keten is één van de slechtste plaatsen wa...           NaN   \n",
       "2  Sinds Apple in 2007 de eerste iPhone op de mar...           NaN   \n",
       "3  De laatste jaren zijn koffiebars een ‘place to...           NaN   \n",
       "4  Apple has done it again! Sinds de ontwikkeling...           NaN   \n",
       "\n",
       "  Notitietekst3                                           all_text  \n",
       "0          TEST  Nog geen twee stappen had ik in de zaak gezet ...  \n",
       "1           NaN  Deze keten is één van de slechtste plaatsen wa...  \n",
       "2           NaN  Sinds Apple in 2007 de eerste iPhone op de mar...  \n",
       "3           NaN  De laatste jaren zijn koffiebars een ‘place to...  \n",
       "4           NaN  Apple has done it again! Sinds de ontwikkeling...  "
      ],
      "text/html": "<div>\n<style scoped>\n    .dataframe tbody tr th:only-of-type {\n        vertical-align: middle;\n    }\n\n    .dataframe tbody tr th {\n        vertical-align: top;\n    }\n\n    .dataframe thead th {\n        text-align: right;\n    }\n</style>\n<table border=\"1\" class=\"dataframe\">\n  <thead>\n    <tr style=\"text-align: right;\">\n      <th></th>\n      <th>MDN</th>\n      <th>NotitieID</th>\n      <th>NotitieCSN</th>\n      <th>Typenotitie</th>\n      <th>Notitiedatum</th>\n      <th>Notitietekst1</th>\n      <th>Notitietekst2</th>\n      <th>Notitietekst3</th>\n      <th>all_text</th>\n    </tr>\n  </thead>\n  <tbody>\n    <tr>\n      <th>0</th>\n      <td>22325359</td>\n      <td>1428986</td>\n      <td>2</td>\n      <td>Eten/drank Ketens</td>\n      <td>2014-20-02</td>\n      <td>Nog geen twee stappen had ik in de zaak gezet ...</td>\n      <td>TEST</td>\n      <td>TEST</td>\n      <td>Nog geen twee stappen had ik in de zaak gezet ...</td>\n    </tr>\n    <tr>\n      <th>1</th>\n      <td>﻿60235486</td>\n      <td>1647774</td>\n      <td>2</td>\n      <td>Eten/drank Ketens</td>\n      <td>2012-31-03</td>\n      <td>Deze keten is één van de slechtste plaatsen wa...</td>\n      <td>NaN</td>\n      <td>NaN</td>\n      <td>Deze keten is één van de slechtste plaatsen wa...</td>\n    </tr>\n    <tr>\n      <th>2</th>\n      <td>80564281</td>\n      <td>2027552</td>\n      <td>5</td>\n      <td>Smartphones</td>\n      <td>2014-19-02</td>\n      <td>Sinds Apple in 2007 de eerste iPhone op de mar...</td>\n      <td>NaN</td>\n      <td>NaN</td>\n      <td>Sinds Apple in 2007 de eerste iPhone op de mar...</td>\n    </tr>\n    <tr>\n      <th>3</th>\n      <td>24105019</td>\n      <td>2267912</td>\n      <td>2</td>\n      <td>Eten/drank Ketens</td>\n      <td>2014-21-02</td>\n      <td>De laatste jaren zijn koffiebars een ‘place to...</td>\n      <td>NaN</td>\n      <td>NaN</td>\n      <td>De laatste jaren zijn koffiebars een ‘place to...</td>\n    </tr>\n    <tr>\n      <th>4</th>\n      <td>51373767</td>\n      <td>2453958</td>\n      <td>5</td>\n      <td>Smartphones</td>\n      <td>2014-23-02</td>\n      <td>Apple has done it again! Sinds de ontwikkeling...</td>\n      <td>NaN</td>\n      <td>NaN</td>\n      <td>Apple has done it again! Sinds de ontwikkeling...</td>\n    </tr>\n  </tbody>\n</table>\n</div>"
     },
     "metadata": {},
     "execution_count": 3
    }
   ],
   "source": [
    "df.head()"
   ]
  },
  {
   "cell_type": "code",
   "execution_count": 6,
   "metadata": {},
   "outputs": [],
   "source": [
    "def get_regex(keyword, template):\n",
    "    if template == 1:\n",
    "        return r'\\b'+keyword+r'\\b'\n",
    "    elif template == 2:\n",
    "        keyword = keyword.split(' ')\n",
    "        return r'(\\b'+keyword[0]+r'\\b[^.]*?\\b'+keyword[1]+r'\\b|\\b'+keyword[1]+r'\\b[^.]*?\\b'+keyword[0]+r'\\b)'\n",
    "    elif template == 3:\n",
    "        keyword = keyword.split(' ')\n",
    "        return r'\\b'+keyword[0]+r'\\b[^.]*?\\b'+keyword[1]+r'\\b[^.]*?\\b'+keyword[2]+r'\\b'"
   ]
  },
  {
   "cell_type": "code",
   "execution_count": 7,
   "metadata": {},
   "outputs": [
    {
     "output_type": "execute_result",
     "data": {
      "text/plain": [
       "  domain  keyword  regex_template_id        regex\n",
       "0    FAC    lopen                  1    \\blopen\\b\n",
       "1    FAC  gelopen                  1  \\bgelopen\\b\n",
       "2    FAC     liep                  1     \\bliep\\b\n",
       "3    FAC    loopt                  1    \\bloopt\\b\n",
       "4    BER   beroep                  1   \\bberoep\\b\n",
       "5    BER     werk                  1     \\bwerk\\b\n",
       "6    BER     baan                  1     \\bbaan\\b\n",
       "7    BER    banen                  1    \\bbanen\\b"
      ],
      "text/html": "<div>\n<style scoped>\n    .dataframe tbody tr th:only-of-type {\n        vertical-align: middle;\n    }\n\n    .dataframe tbody tr th {\n        vertical-align: top;\n    }\n\n    .dataframe thead th {\n        text-align: right;\n    }\n</style>\n<table border=\"1\" class=\"dataframe\">\n  <thead>\n    <tr style=\"text-align: right;\">\n      <th></th>\n      <th>domain</th>\n      <th>keyword</th>\n      <th>regex_template_id</th>\n      <th>regex</th>\n    </tr>\n  </thead>\n  <tbody>\n    <tr>\n      <th>0</th>\n      <td>FAC</td>\n      <td>lopen</td>\n      <td>1</td>\n      <td>\\blopen\\b</td>\n    </tr>\n    <tr>\n      <th>1</th>\n      <td>FAC</td>\n      <td>gelopen</td>\n      <td>1</td>\n      <td>\\bgelopen\\b</td>\n    </tr>\n    <tr>\n      <th>2</th>\n      <td>FAC</td>\n      <td>liep</td>\n      <td>1</td>\n      <td>\\bliep\\b</td>\n    </tr>\n    <tr>\n      <th>3</th>\n      <td>FAC</td>\n      <td>loopt</td>\n      <td>1</td>\n      <td>\\bloopt\\b</td>\n    </tr>\n    <tr>\n      <th>4</th>\n      <td>BER</td>\n      <td>beroep</td>\n      <td>1</td>\n      <td>\\bberoep\\b</td>\n    </tr>\n    <tr>\n      <th>5</th>\n      <td>BER</td>\n      <td>werk</td>\n      <td>1</td>\n      <td>\\bwerk\\b</td>\n    </tr>\n    <tr>\n      <th>6</th>\n      <td>BER</td>\n      <td>baan</td>\n      <td>1</td>\n      <td>\\bbaan\\b</td>\n    </tr>\n    <tr>\n      <th>7</th>\n      <td>BER</td>\n      <td>banen</td>\n      <td>1</td>\n      <td>\\bbanen\\b</td>\n    </tr>\n  </tbody>\n</table>\n</div>"
     },
     "metadata": {},
     "execution_count": 7
    }
   ],
   "source": [
    "kwd = pd.read_excel('../../keywords/keywords.xlsx')\n",
    "kwd['regex'] = kwd.apply(lambda row: get_regex(row.keyword, row.regex_template_id), axis=1)\n",
    "kwd"
   ]
  },
  {
   "cell_type": "code",
   "execution_count": 8,
   "metadata": {},
   "outputs": [
    {
     "output_type": "execute_result",
     "data": {
      "text/plain": [
       "{'FAC': '\\\\blopen\\\\b|\\\\bgelopen\\\\b|\\\\bliep\\\\b|\\\\bloopt\\\\b',\n",
       " 'BER': '\\\\bberoep\\\\b|\\\\bwerk\\\\b|\\\\bbaan\\\\b|\\\\bbanen\\\\b'}"
      ]
     },
     "metadata": {},
     "execution_count": 8
    }
   ],
   "source": [
    "reg_dict = dict()\n",
    "for domain in kwd.domain.unique():\n",
    "    reg_dict[domain] = '|'.join(kwd.query(\"domain == @domain\").regex)\n",
    "reg_dict"
   ]
  },
  {
   "cell_type": "code",
   "execution_count": 9,
   "metadata": {},
   "outputs": [],
   "source": [
    "for k, v in reg_dict.items():\n",
    "    df[k] = df.all_text.str.findall(v, flags=re.IGNORECASE)"
   ]
  },
  {
   "cell_type": "code",
   "execution_count": 10,
   "metadata": {},
   "outputs": [
    {
     "output_type": "execute_result",
     "data": {
      "text/plain": [
       "            MDN  NotitieID  NotitieCSN        Typenotitie Notitiedatum  \\\n",
       "0      22325359    1428986           2  Eten/drank Ketens   2014-20-02   \n",
       "1     ﻿60235486    1647774           2  Eten/drank Ketens   2012-31-03   \n",
       "2      80564281    2027552           5        Smartphones   2014-19-02   \n",
       "3      24105019    2267912           2  Eten/drank Ketens   2014-21-02   \n",
       "4      51373767    2453958           5        Smartphones   2014-23-02   \n",
       "...         ...        ...         ...                ...          ...   \n",
       "1295   49254354    4727838           1             Boeken   2015-20-12   \n",
       "1296   29322831    3093347           4         Muzikanten   2015-28-12   \n",
       "1297   88754703    1499889           4         Muzikanten   12/12/2015   \n",
       "1298   58390637    2402111           5        Smartphones   2012-30-03   \n",
       "1299   51358801    4809989           1             Boeken   01/09/2016   \n",
       "\n",
       "                                          Notitietekst1 Notitietekst2  \\\n",
       "0     Nog geen twee stappen had ik in de zaak gezet ...          TEST   \n",
       "1     Deze keten is één van de slechtste plaatsen wa...           NaN   \n",
       "2     Sinds Apple in 2007 de eerste iPhone op de mar...           NaN   \n",
       "3     De laatste jaren zijn koffiebars een ‘place to...           NaN   \n",
       "4     Apple has done it again! Sinds de ontwikkeling...           NaN   \n",
       "...                                                 ...           ...   \n",
       "1295  Het boek ouderlijke onrust zal waarschijnlijk ...           NaN   \n",
       "1296  Ik vind dat deze persoon zelfs niet in de cate...           NaN   \n",
       "1297  Lana's nieuwe album gooit het over een hele ni...           NaN   \n",
       "1298  Steve zou trots geweest zijn, de nieuwste iPho...           NaN   \n",
       "1299  Als je 'Ken ik jou van ergens??' vastneemt, is...           NaN   \n",
       "\n",
       "     Notitietekst3                                           all_text  \\\n",
       "0             TEST  Nog geen twee stappen had ik in de zaak gezet ...   \n",
       "1              NaN  Deze keten is één van de slechtste plaatsen wa...   \n",
       "2              NaN  Sinds Apple in 2007 de eerste iPhone op de mar...   \n",
       "3              NaN  De laatste jaren zijn koffiebars een ‘place to...   \n",
       "4              NaN  Apple has done it again! Sinds de ontwikkeling...   \n",
       "...            ...                                                ...   \n",
       "1295           NaN  Het boek ouderlijke onrust zal waarschijnlijk ...   \n",
       "1296           NaN  Ik vind dat deze persoon zelfs niet in de cate...   \n",
       "1297           NaN  Lana's nieuwe album gooit het over een hele ni...   \n",
       "1298           NaN  Steve zou trots geweest zijn, de nieuwste iPho...   \n",
       "1299           NaN  Als je 'Ken ik jou van ergens??' vastneemt, is...   \n",
       "\n",
       "          FAC     BER  \n",
       "0          []      []  \n",
       "1          []      []  \n",
       "2     [lopen]      []  \n",
       "3          []      []  \n",
       "4          []      []  \n",
       "...       ...     ...  \n",
       "1295       []  [werk]  \n",
       "1296       []      []  \n",
       "1297       []      []  \n",
       "1298       []      []  \n",
       "1299       []  [werk]  \n",
       "\n",
       "[1300 rows x 11 columns]"
      ],
      "text/html": "<div>\n<style scoped>\n    .dataframe tbody tr th:only-of-type {\n        vertical-align: middle;\n    }\n\n    .dataframe tbody tr th {\n        vertical-align: top;\n    }\n\n    .dataframe thead th {\n        text-align: right;\n    }\n</style>\n<table border=\"1\" class=\"dataframe\">\n  <thead>\n    <tr style=\"text-align: right;\">\n      <th></th>\n      <th>MDN</th>\n      <th>NotitieID</th>\n      <th>NotitieCSN</th>\n      <th>Typenotitie</th>\n      <th>Notitiedatum</th>\n      <th>Notitietekst1</th>\n      <th>Notitietekst2</th>\n      <th>Notitietekst3</th>\n      <th>all_text</th>\n      <th>FAC</th>\n      <th>BER</th>\n    </tr>\n  </thead>\n  <tbody>\n    <tr>\n      <th>0</th>\n      <td>22325359</td>\n      <td>1428986</td>\n      <td>2</td>\n      <td>Eten/drank Ketens</td>\n      <td>2014-20-02</td>\n      <td>Nog geen twee stappen had ik in de zaak gezet ...</td>\n      <td>TEST</td>\n      <td>TEST</td>\n      <td>Nog geen twee stappen had ik in de zaak gezet ...</td>\n      <td>[]</td>\n      <td>[]</td>\n    </tr>\n    <tr>\n      <th>1</th>\n      <td>﻿60235486</td>\n      <td>1647774</td>\n      <td>2</td>\n      <td>Eten/drank Ketens</td>\n      <td>2012-31-03</td>\n      <td>Deze keten is één van de slechtste plaatsen wa...</td>\n      <td>NaN</td>\n      <td>NaN</td>\n      <td>Deze keten is één van de slechtste plaatsen wa...</td>\n      <td>[]</td>\n      <td>[]</td>\n    </tr>\n    <tr>\n      <th>2</th>\n      <td>80564281</td>\n      <td>2027552</td>\n      <td>5</td>\n      <td>Smartphones</td>\n      <td>2014-19-02</td>\n      <td>Sinds Apple in 2007 de eerste iPhone op de mar...</td>\n      <td>NaN</td>\n      <td>NaN</td>\n      <td>Sinds Apple in 2007 de eerste iPhone op de mar...</td>\n      <td>[lopen]</td>\n      <td>[]</td>\n    </tr>\n    <tr>\n      <th>3</th>\n      <td>24105019</td>\n      <td>2267912</td>\n      <td>2</td>\n      <td>Eten/drank Ketens</td>\n      <td>2014-21-02</td>\n      <td>De laatste jaren zijn koffiebars een ‘place to...</td>\n      <td>NaN</td>\n      <td>NaN</td>\n      <td>De laatste jaren zijn koffiebars een ‘place to...</td>\n      <td>[]</td>\n      <td>[]</td>\n    </tr>\n    <tr>\n      <th>4</th>\n      <td>51373767</td>\n      <td>2453958</td>\n      <td>5</td>\n      <td>Smartphones</td>\n      <td>2014-23-02</td>\n      <td>Apple has done it again! Sinds de ontwikkeling...</td>\n      <td>NaN</td>\n      <td>NaN</td>\n      <td>Apple has done it again! Sinds de ontwikkeling...</td>\n      <td>[]</td>\n      <td>[]</td>\n    </tr>\n    <tr>\n      <th>...</th>\n      <td>...</td>\n      <td>...</td>\n      <td>...</td>\n      <td>...</td>\n      <td>...</td>\n      <td>...</td>\n      <td>...</td>\n      <td>...</td>\n      <td>...</td>\n      <td>...</td>\n      <td>...</td>\n    </tr>\n    <tr>\n      <th>1295</th>\n      <td>49254354</td>\n      <td>4727838</td>\n      <td>1</td>\n      <td>Boeken</td>\n      <td>2015-20-12</td>\n      <td>Het boek ouderlijke onrust zal waarschijnlijk ...</td>\n      <td>NaN</td>\n      <td>NaN</td>\n      <td>Het boek ouderlijke onrust zal waarschijnlijk ...</td>\n      <td>[]</td>\n      <td>[werk]</td>\n    </tr>\n    <tr>\n      <th>1296</th>\n      <td>29322831</td>\n      <td>3093347</td>\n      <td>4</td>\n      <td>Muzikanten</td>\n      <td>2015-28-12</td>\n      <td>Ik vind dat deze persoon zelfs niet in de cate...</td>\n      <td>NaN</td>\n      <td>NaN</td>\n      <td>Ik vind dat deze persoon zelfs niet in de cate...</td>\n      <td>[]</td>\n      <td>[]</td>\n    </tr>\n    <tr>\n      <th>1297</th>\n      <td>88754703</td>\n      <td>1499889</td>\n      <td>4</td>\n      <td>Muzikanten</td>\n      <td>12/12/2015</td>\n      <td>Lana's nieuwe album gooit het over een hele ni...</td>\n      <td>NaN</td>\n      <td>NaN</td>\n      <td>Lana's nieuwe album gooit het over een hele ni...</td>\n      <td>[]</td>\n      <td>[]</td>\n    </tr>\n    <tr>\n      <th>1298</th>\n      <td>58390637</td>\n      <td>2402111</td>\n      <td>5</td>\n      <td>Smartphones</td>\n      <td>2012-30-03</td>\n      <td>Steve zou trots geweest zijn, de nieuwste iPho...</td>\n      <td>NaN</td>\n      <td>NaN</td>\n      <td>Steve zou trots geweest zijn, de nieuwste iPho...</td>\n      <td>[]</td>\n      <td>[]</td>\n    </tr>\n    <tr>\n      <th>1299</th>\n      <td>51358801</td>\n      <td>4809989</td>\n      <td>1</td>\n      <td>Boeken</td>\n      <td>01/09/2016</td>\n      <td>Als je 'Ken ik jou van ergens??' vastneemt, is...</td>\n      <td>NaN</td>\n      <td>NaN</td>\n      <td>Als je 'Ken ik jou van ergens??' vastneemt, is...</td>\n      <td>[]</td>\n      <td>[werk]</td>\n    </tr>\n  </tbody>\n</table>\n<p>1300 rows × 11 columns</p>\n</div>"
     },
     "metadata": {},
     "execution_count": 10
    }
   ],
   "source": [
    "df"
   ]
  },
  {
   "cell_type": "code",
   "execution_count": 11,
   "metadata": {},
   "outputs": [
    {
     "output_type": "execute_result",
     "data": {
      "text/plain": [
       "           MDN  NotitieID  NotitieCSN      FAC     BER\n",
       "2     80564281    2027552           5  [lopen]      []\n",
       "7     36964375    4516363           2  [loopt]      []\n",
       "29    40424709    1803902           2  [loopt]      []\n",
       "43    31948827    2952502           5  [loopt]      []\n",
       "53    34450736    2574526           3  [loopt]      []\n",
       "...        ...        ...         ...      ...     ...\n",
       "1266  72882086    2167824           2   [liep]      []\n",
       "1282  27301037    2424486           5  [loopt]      []\n",
       "1285  63965676    4781575           1  [loopt]      []\n",
       "1295  49254354    4727838           1       []  [werk]\n",
       "1299  51358801    4809989           1       []  [werk]\n",
       "\n",
       "[130 rows x 5 columns]"
      ],
      "text/html": "<div>\n<style scoped>\n    .dataframe tbody tr th:only-of-type {\n        vertical-align: middle;\n    }\n\n    .dataframe tbody tr th {\n        vertical-align: top;\n    }\n\n    .dataframe thead th {\n        text-align: right;\n    }\n</style>\n<table border=\"1\" class=\"dataframe\">\n  <thead>\n    <tr style=\"text-align: right;\">\n      <th></th>\n      <th>MDN</th>\n      <th>NotitieID</th>\n      <th>NotitieCSN</th>\n      <th>FAC</th>\n      <th>BER</th>\n    </tr>\n  </thead>\n  <tbody>\n    <tr>\n      <th>2</th>\n      <td>80564281</td>\n      <td>2027552</td>\n      <td>5</td>\n      <td>[lopen]</td>\n      <td>[]</td>\n    </tr>\n    <tr>\n      <th>7</th>\n      <td>36964375</td>\n      <td>4516363</td>\n      <td>2</td>\n      <td>[loopt]</td>\n      <td>[]</td>\n    </tr>\n    <tr>\n      <th>29</th>\n      <td>40424709</td>\n      <td>1803902</td>\n      <td>2</td>\n      <td>[loopt]</td>\n      <td>[]</td>\n    </tr>\n    <tr>\n      <th>43</th>\n      <td>31948827</td>\n      <td>2952502</td>\n      <td>5</td>\n      <td>[loopt]</td>\n      <td>[]</td>\n    </tr>\n    <tr>\n      <th>53</th>\n      <td>34450736</td>\n      <td>2574526</td>\n      <td>3</td>\n      <td>[loopt]</td>\n      <td>[]</td>\n    </tr>\n    <tr>\n      <th>...</th>\n      <td>...</td>\n      <td>...</td>\n      <td>...</td>\n      <td>...</td>\n      <td>...</td>\n    </tr>\n    <tr>\n      <th>1266</th>\n      <td>72882086</td>\n      <td>2167824</td>\n      <td>2</td>\n      <td>[liep]</td>\n      <td>[]</td>\n    </tr>\n    <tr>\n      <th>1282</th>\n      <td>27301037</td>\n      <td>2424486</td>\n      <td>5</td>\n      <td>[loopt]</td>\n      <td>[]</td>\n    </tr>\n    <tr>\n      <th>1285</th>\n      <td>63965676</td>\n      <td>4781575</td>\n      <td>1</td>\n      <td>[loopt]</td>\n      <td>[]</td>\n    </tr>\n    <tr>\n      <th>1295</th>\n      <td>49254354</td>\n      <td>4727838</td>\n      <td>1</td>\n      <td>[]</td>\n      <td>[werk]</td>\n    </tr>\n    <tr>\n      <th>1299</th>\n      <td>51358801</td>\n      <td>4809989</td>\n      <td>1</td>\n      <td>[]</td>\n      <td>[werk]</td>\n    </tr>\n  </tbody>\n</table>\n<p>130 rows × 5 columns</p>\n</div>"
     },
     "metadata": {},
     "execution_count": 11
    }
   ],
   "source": [
    "df.loc[df[['FAC', 'BER']].apply(any, axis=1)][['MDN', 'NotitieID', 'NotitieCSN', 'FAC', 'BER']]"
   ]
  },
  {
   "cell_type": "code",
   "execution_count": 17,
   "metadata": {},
   "outputs": [],
   "source": [
    "def text_to_conll(text, nlp):\n",
    "    \"\"\"\n",
    "    tbd\n",
    "    \"\"\"\n",
    "    text = text.strip()\n",
    "    doc = nlp(text)\n",
    "    \n",
    "    # add empty line before each sentence start\n",
    "    add_emptyline = lambda token: '' if token.is_sent_start else None\n",
    "    tups = [(add_emptyline(token), token.text) for token in doc]\n",
    "\n",
    "    # flatten tuples into list and drop first empty line\n",
    "    tokens = [item for token in tups for item in token if item is not None][1:]\n",
    "    \n",
    "    # add a dummy ent_type (\"O\") value to each token except empty line\n",
    "    tok_ents = [f\"{token} O\" if token != '' else '' for token in tokens]\n",
    "    \n",
    "    conll = '\\n'.join(tok_ents)\n",
    "    \n",
    "    return conll"
   ]
  },
  {
   "cell_type": "code",
   "execution_count": 18,
   "metadata": {},
   "outputs": [],
   "source": [
    "def row_to_conllfile(row, nlp, outdir, hospital, batch):\n",
    "    \"\"\"\n",
    "    tbd\n",
    "    \"\"\"\n",
    "    outfile = outdir / f\"{hospital}--{row.MDN}--{row.NotitieID}--{row.NotitieCSN}--{batch}.conll\"\n",
    "    with open(outfile, 'w', encoding=\"utf-8\") as f:\n",
    "        f.write(text_to_conll(row.all_text, nlp))"
   ]
  },
  {
   "cell_type": "code",
   "execution_count": 23,
   "metadata": {},
   "outputs": [],
   "source": [
    "import re"
   ]
  },
  {
   "cell_type": "code",
   "execution_count": 26,
   "metadata": {},
   "outputs": [
    {
     "output_type": "execute_result",
     "data": {
      "text/plain": [
       "<re.Match object; span=(17, 40), match='eten is een portie poep'>"
      ]
     },
     "metadata": {},
     "execution_count": 26
    }
   ],
   "source": [
    "kwd1 = 'poep'\n",
    "kwd2 = 'eten'\n",
    "regex = re.compile(rf\"\\b{kwd1}\\b[^.]*?\\b{kwd2}\\b|\\b{kwd2}\\b[^.]*?\\b{kwd1}\\b\")\n",
    "test = \"ik wil poep heel graag met mijn handen eten, jij ook?\"\n",
    "test = \"wat ik graag wil eten is een portie poep.\"\n",
    "regex.search(test)"
   ]
  },
  {
   "cell_type": "code",
   "execution_count": 19,
   "metadata": {},
   "outputs": [
    {
     "output_type": "execute_result",
     "data": {
      "text/plain": [
       "1290    None\n",
       "1291    None\n",
       "1292    None\n",
       "1293    None\n",
       "1294    None\n",
       "1295    None\n",
       "1296    None\n",
       "1297    None\n",
       "1298    None\n",
       "1299    None\n",
       "dtype: object"
      ]
     },
     "metadata": {},
     "execution_count": 19
    }
   ],
   "source": [
    "nlp = spacy.load(\"nl_core_news_sm\")\n",
    "outdir = Path('./test')\n",
    "\n",
    "_ = df.tail(10).apply(lambda row: row_to_conllfile(row, nlp, outdir, 'vumc', 'batch-2021-1'), axis=1)"
   ]
  },
  {
   "cell_type": "code",
   "execution_count": null,
   "metadata": {},
   "outputs": [],
   "source": []
  }
 ]
}