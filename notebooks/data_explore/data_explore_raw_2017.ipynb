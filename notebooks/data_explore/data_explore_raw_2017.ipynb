{
 "metadata": {
  "language_info": {
   "codemirror_mode": {
    "name": "ipython",
    "version": 3
   },
   "file_extension": ".py",
   "mimetype": "text/x-python",
   "name": "python",
   "nbconvert_exporter": "python",
   "pygments_lexer": "ipython3",
   "version": "3.8.5-final"
  },
  "orig_nbformat": 2,
  "kernelspec": {
   "name": "python3",
   "display_name": "Python 3.8.5 64-bit ('zonmw': conda)",
   "metadata": {
    "interpreter": {
     "hash": "5a0a696a2c4562c805ef24bd77b26c70704f51e5d276869b3745fd7123bf8c36"
    }
   }
  }
 },
 "nbformat": 4,
 "nbformat_minor": 2,
 "cells": [
  {
   "cell_type": "code",
   "execution_count": 1,
   "metadata": {},
   "outputs": [],
   "source": [
    "import pandas as pd\n",
    "from pathlib import Path\n",
    "\n",
    "import sys\n",
    "sys.path.insert(0, '../..')\n",
    "from src.utils.latex import show_latex, TABLES"
   ]
  },
  {
   "source": [
    "# Load data"
   ],
   "cell_type": "markdown",
   "metadata": {}
  },
  {
   "cell_type": "code",
   "execution_count": 2,
   "metadata": {},
   "outputs": [],
   "source": [
    "datapath = Path('../../data/2017_raw')\n",
    "\n",
    "notes = pd.read_pickle(datapath / 'processed.pkl')\n",
    "annotated = pd.read_csv('../../data/annotated_notes_ids.csv', dtype={'MDN': str, 'NotitieID': str})"
   ]
  },
  {
   "source": [
    "# Stats"
   ],
   "cell_type": "markdown",
   "metadata": {}
  },
  {
   "cell_type": "code",
   "execution_count": 3,
   "metadata": {},
   "outputs": [
    {
     "output_type": "execute_result",
     "data": {
      "text/plain": [
       "institution        amc       vumc      total\n",
       "n_unique                                    \n",
       "patients        99,867     79,970    179,837\n",
       "notes        2,375,627  1,869,079  4,244,706"
      ],
      "text/html": "<div>\n<style scoped>\n    .dataframe tbody tr th:only-of-type {\n        vertical-align: middle;\n    }\n\n    .dataframe tbody tr th {\n        vertical-align: top;\n    }\n\n    .dataframe thead th {\n        text-align: right;\n    }\n</style>\n<table border=\"1\" class=\"dataframe\">\n  <thead>\n    <tr style=\"text-align: right;\">\n      <th>institution</th>\n      <th>amc</th>\n      <th>vumc</th>\n      <th>total</th>\n    </tr>\n    <tr>\n      <th>n_unique</th>\n      <th></th>\n      <th></th>\n      <th></th>\n    </tr>\n  </thead>\n  <tbody>\n    <tr>\n      <th>patients</th>\n      <td>99,867</td>\n      <td>79,970</td>\n      <td>179,837</td>\n    </tr>\n    <tr>\n      <th>notes</th>\n      <td>2,375,627</td>\n      <td>1,869,079</td>\n      <td>4,244,706</td>\n    </tr>\n  </tbody>\n</table>\n</div>"
     },
     "metadata": {},
     "execution_count": 3
    }
   ],
   "source": [
    "caption = \"All data: num patients, num notes\"\n",
    "label = \"2017_all_overview\"\n",
    "\n",
    "pd.concat([\n",
    "    notes.groupby('institution').MDN.nunique().rename('patients'),\n",
    "    notes.groupby('institution').NotitieID.nunique().rename('notes'),\n",
    "    ], axis=1\n",
    ").T.assign(total=lambda df: df.sum(axis=1)).rename_axis('n_unique').pipe(show_latex, caption, label)"
   ]
  },
  {
   "cell_type": "code",
   "execution_count": 4,
   "metadata": {},
   "outputs": [
    {
     "output_type": "execute_result",
     "data": {
      "text/plain": [
       "                         all annotated       rest\n",
       "institution                                      \n",
       "amc         notes  2,375,627         0  2,375,627\n",
       "vumc        notes  1,869,079     3,377  1,865,702\n",
       "total       notes  4,244,706     3,377  4,241,329"
      ],
      "text/html": "<div>\n<style scoped>\n    .dataframe tbody tr th:only-of-type {\n        vertical-align: middle;\n    }\n\n    .dataframe tbody tr th {\n        vertical-align: top;\n    }\n\n    .dataframe thead th {\n        text-align: right;\n    }\n</style>\n<table border=\"1\" class=\"dataframe\">\n  <thead>\n    <tr style=\"text-align: right;\">\n      <th></th>\n      <th></th>\n      <th>all</th>\n      <th>annotated</th>\n      <th>rest</th>\n    </tr>\n    <tr>\n      <th>institution</th>\n      <th></th>\n      <th></th>\n      <th></th>\n      <th></th>\n    </tr>\n  </thead>\n  <tbody>\n    <tr>\n      <th>amc</th>\n      <th>notes</th>\n      <td>2,375,627</td>\n      <td>0</td>\n      <td>2,375,627</td>\n    </tr>\n    <tr>\n      <th>vumc</th>\n      <th>notes</th>\n      <td>1,869,079</td>\n      <td>3,377</td>\n      <td>1,865,702</td>\n    </tr>\n    <tr>\n      <th>total</th>\n      <th>notes</th>\n      <td>4,244,706</td>\n      <td>3,377</td>\n      <td>4,241,329</td>\n    </tr>\n  </tbody>\n</table>\n</div>"
     },
     "metadata": {},
     "execution_count": 4
    }
   ],
   "source": [
    "caption = \"Overview annotated data\"\n",
    "label = \"2017_annot\"\n",
    "\n",
    "selection = annotated.query(\"year==2017\")\n",
    "piv = pd.concat([\n",
    "    selection.groupby('institution')[['NotitieID']].nunique(),\n",
    "    notes.groupby('institution')[['NotitieID']].nunique(),\n",
    "], keys=['annotated', 'all']).rename(columns={'NotitieID':'notes'}\n",
    ").unstack(0).stack(0).fillna(0).astype(int\n",
    ").assign(rest=lambda df: df['all'] - df.annotated\n",
    ").reindex(['all', 'annotated', 'rest'], axis=1)\n",
    "\n",
    "piv.append(pd.concat([piv.xs('amc') + piv.xs('vumc')], keys=['total'])).pipe(show_latex, caption, label)"
   ]
  },
  {
   "cell_type": "code",
   "execution_count": 5,
   "metadata": {},
   "outputs": [],
   "source": [
    "prefix = '2017'\n",
    "for idx, table in enumerate(TABLES):\n",
    "    with open(f'./tables/{prefix}_{idx}.tex', 'w', encoding='utf8') as f:\n",
    "        f.write(table)"
   ]
  },
  {
   "cell_type": "code",
   "execution_count": null,
   "metadata": {},
   "outputs": [],
   "source": []
  }
 ]
}