{
 "metadata": {
  "language_info": {
   "codemirror_mode": {
    "name": "ipython",
    "version": 3
   },
   "file_extension": ".py",
   "mimetype": "text/x-python",
   "name": "python",
   "nbconvert_exporter": "python",
   "pygments_lexer": "ipython3",
   "version": "3.8.5-final"
  },
  "orig_nbformat": 2,
  "kernelspec": {
   "name": "python3",
   "display_name": "Python 3.8.5 64-bit ('zonmw': conda)",
   "metadata": {
    "interpreter": {
     "hash": "5a0a696a2c4562c805ef24bd77b26c70704f51e5d276869b3745fd7123bf8c36"
    }
   }
  }
 },
 "nbformat": 4,
 "nbformat_minor": 2,
 "cells": [
  {
   "cell_type": "code",
   "execution_count": 1,
   "metadata": {},
   "outputs": [],
   "source": [
    "import pandas as pd\n",
    "from pathlib import Path\n",
    "from string import Template\n",
    "from textwrap import indent"
   ]
  },
  {
   "source": [
    "# Load data"
   ],
   "cell_type": "markdown",
   "metadata": {}
  },
  {
   "cell_type": "code",
   "execution_count": 2,
   "metadata": {},
   "outputs": [
    {
     "output_type": "execute_result",
     "data": {
      "text/plain": [
       "(1869079, 7)"
      ]
     },
     "metadata": {},
     "execution_count": 2
    }
   ],
   "source": [
    "datapath = Path('/data/notes/vumc/all_data')\n",
    "raw = [datapath / 'notities_2017_deel1.csv', datapath / 'notities_2017_deel2.csv']\n",
    "cols = ['MDN', 'NotitieID', 'Typenotitie', 'Notitiedatum', 'Notitietekst1', 'Notitietekst2', 'Notitietekst3']\n",
    "df = pd.concat(pd.read_csv(f, sep=';', names=cols, encoding='utf-8-sig') for f in raw).drop_duplicates(ignore_index=True)\n",
    "df.shape"
   ]
  },
  {
   "cell_type": "code",
   "execution_count": 3,
   "metadata": {},
   "outputs": [],
   "source": [
    "annotated = pd.read_csv('../../../Non_covid_data_15oct/from_inception_tsv/annotated_notes_ids.csv')"
   ]
  },
  {
   "source": [
    "### Template and function for saving tables to LaTeX"
   ],
   "cell_type": "markdown",
   "metadata": {}
  },
  {
   "cell_type": "code",
   "execution_count": 6,
   "metadata": {},
   "outputs": [],
   "source": [
    "TABLES = list()\n",
    "\n",
    "def show_latex(df, caption, label, column_format=None):\n",
    "    template = Template('\\n'.join([\n",
    "        r\"\\begin{table}[]\",\n",
    "        r\"    \\centering\",\n",
    "        r\"$tabular\",\n",
    "        r\"    \\caption{$caption}\",\n",
    "        r\"    \\label{tab:$label}\",\n",
    "        r\"\\end{table}\",\n",
    "    ]))\n",
    "    alignment = {'int64': 'r', 'float64': 'r'}\n",
    "    if column_format is None:\n",
    "        col_formats = [alignment.get(str(i), 'l') for i in df.dtypes.values]\n",
    "        idx_formats = ['l'] * df.index.nlevels\n",
    "        column_format = ''.join(idx_formats + col_formats)\n",
    "    df = df.applymap(lambda x: f'{x:,}')\n",
    "    tab = ' ' * 4\n",
    "    tabular = indent(df.to_latex(column_format=column_format), tab).rstrip('\\n')\n",
    "    table = template.substitute(tabular=tabular, caption=caption, label=label)\n",
    "    TABLES.append(table)\n",
    "    return df"
   ]
  },
  {
   "source": [
    "# Stats"
   ],
   "cell_type": "markdown",
   "metadata": {}
  },
  {
   "cell_type": "code",
   "execution_count": 11,
   "metadata": {},
   "outputs": [
    {
     "output_type": "execute_result",
     "data": {
      "text/plain": [
       "                all  annot       rest\n",
       "patients     79,970  2,456     77,514\n",
       "notes     1,869,079  3,377  1,865,702"
      ],
      "text/html": "<div>\n<style scoped>\n    .dataframe tbody tr th:only-of-type {\n        vertical-align: middle;\n    }\n\n    .dataframe tbody tr th {\n        vertical-align: top;\n    }\n\n    .dataframe thead th {\n        text-align: right;\n    }\n</style>\n<table border=\"1\" class=\"dataframe\">\n  <thead>\n    <tr style=\"text-align: right;\">\n      <th></th>\n      <th>all</th>\n      <th>annot</th>\n      <th>rest</th>\n    </tr>\n  </thead>\n  <tbody>\n    <tr>\n      <th>patients</th>\n      <td>79,970</td>\n      <td>2,456</td>\n      <td>77,514</td>\n    </tr>\n    <tr>\n      <th>notes</th>\n      <td>1,869,079</td>\n      <td>3,377</td>\n      <td>1,865,702</td>\n    </tr>\n  </tbody>\n</table>\n</div>"
     },
     "metadata": {},
     "execution_count": 11
    }
   ],
   "source": [
    "caption = \"All data: num patients, num notes\"\n",
    "label = \"2017_all_overview\"\n",
    "\n",
    "\n",
    "def find_nunique(df):\n",
    "    return pd.Series([\n",
    "        df.MDN.nunique(),\n",
    "        df.NotitieID.nunique(),\n",
    "    ], index=['patients', 'notes'])\n",
    "\n",
    "add_label = lambda df,lbl: pd.concat([df], keys=[lbl], axis=1)\n",
    "\n",
    "all = find_nunique(df)\n",
    "annot = find_nunique(df.query(\"NotitieID.isin(@annotated.NotitieID)\"))\n",
    "rst = all - annot\n",
    "\n",
    "pd.concat([\n",
    "    all.pipe(add_label, 'all'),\n",
    "    annot.pipe(add_label, 'annot'),\n",
    "    rst.pipe(add_label, 'rest'),\n",
    "], axis=1).pipe(show_latex, caption, label)"
   ]
  },
  {
   "cell_type": "code",
   "execution_count": 12,
   "metadata": {},
   "outputs": [],
   "source": [
    "prefix = '2017'\n",
    "for idx, table in enumerate(TABLES):\n",
    "    with open(f'./tables/{prefix}_{idx}.tex', 'w', encoding='utf8') as f:\n",
    "        f.write(table)"
   ]
  },
  {
   "cell_type": "code",
   "execution_count": null,
   "metadata": {},
   "outputs": [],
   "source": []
  }
 ]
}