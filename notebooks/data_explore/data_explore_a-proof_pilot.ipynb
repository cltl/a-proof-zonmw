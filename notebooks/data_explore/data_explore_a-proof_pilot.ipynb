{
 "cells": [
  {
   "cell_type": "code",
   "execution_count": 25,
   "id": "independent-planning",
   "metadata": {},
   "outputs": [],
   "source": [
    "import json\n",
    "import re\n",
    "import pandas as pd\n",
    "from pathlib import Path"
   ]
  },
  {
   "source": [
    "# Annotated data"
   ],
   "cell_type": "markdown",
   "metadata": {}
  },
  {
   "source": [
    "(check that all 2020 data is COVID diagnosis)\n",
    "\n",
    "COVID / non-COVID / total\n",
    "\n",
    "- number notes (total, per institution)\n",
    "- number disregarded notes\n",
    "- mean/min/max number sentences per note\n",
    "- mean/min/max number notes/sentences per annotator\n",
    "- number sentences (total)\n",
    "- number sentences by domain label\n",
    "- number sentences by dimain-level label"
   ],
   "cell_type": "markdown",
   "metadata": {}
  },
  {
   "source": [
    "## Parse labels"
   ],
   "cell_type": "markdown",
   "metadata": {}
  },
  {
   "cell_type": "code",
   "execution_count": 2,
   "metadata": {},
   "outputs": [
    {
     "output_type": "execute_result",
     "data": {
      "text/plain": [
       "35"
      ]
     },
     "metadata": {},
     "execution_count": 2
    }
   ],
   "source": [
    "with open('../../tagsets/legacy_stella.json', 'r') as f:\n",
    "    tagset = json.load(f)['tags']\n",
    "len(tagset)"
   ]
  },
  {
   "cell_type": "code",
   "execution_count": 36,
   "metadata": {},
   "outputs": [],
   "source": [
    "def categorize_tags(tagset):\n",
    "    \"tbd\"\n",
    "    tag_names = [i['tag_name'].split(':')[0] for i in tagset]\n",
    "    # define regexes\n",
    "    rdomain = re.compile('\\..*')\n",
    "    rlevel = re.compile('[A-Z]{3} \\d')\n",
    "    rdisregard = re.compile('disregard_file')\n",
    "    # find categories\n",
    "    domains = [tag for tag in tag_names if rdomain.match(tag)]\n",
    "    levels = [tag for tag in tag_names if rlevel.match(tag)]\n",
    "    disregard = [tag for tag in tag_names if rdisregard.match(tag)]\n",
    "    other = [tag for tag in tag_names if tag not in domains + levels + disregard]\n",
    "    return dict(\n",
    "        domains=domains,\n",
    "        levels=levels,\n",
    "        disregard=disregard,\n",
    "        other=other,\n",
    "    )\n",
    "\n",
    "def create_parse_index(conversions):\n",
    "    domainlevels = zip(conversions.values(), [f\"{i}_lvl\" for i in conversions.values()])\n",
    "    domainlevels = [i for domlev in domainlevels for i in domlev]\n",
    "    return  pd.Index(domainlevels+['disregard', 'other'])\n",
    "\n",
    "def parse_label(label, parse_index, cols_to_lbl, reg_others):\n",
    "    s = pd.Series(index=parse_index)\n",
    "    for idx in s.index:\n",
    "        if idx in cols_to_lbl:\n",
    "            s[idx] = cols_to_lbl[idx] in label\n",
    "        elif '_lvl' in idx:\n",
    "            regex = re.compile(f\"{idx[:3]} (\\d)\")\n",
    "            if regex.search(label):\n",
    "                s[idx] = int(regex.search(label).group(1))\n",
    "        else:\n",
    "            s[idx] = reg_others.findall(label)\n",
    "    return s\n",
    "\n",
    "def parse_df(df, tagset):\n",
    "    cat_tags = categorize_tags(tagset)\n",
    "    conversions = {\n",
    "        '.B152': 'STM',\n",
    "        '.B455': 'INS',\n",
    "        '.D450': 'FAC',\n",
    "        '.D840-859': 'BER',\n",
    "    }\n",
    "    parse_index = create_parse_index(conversions)\n",
    "    reg_others = re.compile('|'.join(cat_tags['other']))\n",
    "    cols_to_lbl = {v:k for k,v in conversions.items()}\n",
    "    cols_to_lbl['disregard'] = 'disregard\\\\_file'\n",
    "\n",
    "    parse_label_from_row = lambda row: parse_label(row.label, parse_index, cols_to_lbl, reg_others)\n",
    "    select_labels = (df.label != '_') & df.label.notna()\n",
    "    parsed = df.loc[select_labels].apply(parse_label_from_row, result_type='expand', axis=1)\n",
    "    return df.join(parsed)"
   ]
  },
  {
   "cell_type": "code",
   "execution_count": 5,
   "metadata": {},
   "outputs": [],
   "source": [
    "def preprocessing(df):\n",
    "    return df.assign(\n",
    "        sen_id = lambda df: df.NotitieID.astype(str) + '_' + df.sen_tok.str.split('-').str[0],\n",
    "        tok = lambda df: df.sen_tok.str.split('-').str[1],\n",
    "    )"
   ]
  },
  {
   "source": [
    "## Non-COVID (2017)"
   ],
   "cell_type": "markdown",
   "metadata": {}
  },
  {
   "cell_type": "code",
   "execution_count": 44,
   "metadata": {},
   "outputs": [],
   "source": [
    "noncovpath = Path('../../../Non_covid_data_15oct/from_inception_tsv')"
   ]
  },
  {
   "cell_type": "code",
   "execution_count": 32,
   "metadata": {},
   "outputs": [],
   "source": [
    "# noncov = pd.read_pickle(noncovpath / 'annotated_df_Batch1_pilot.pkl').pipe(preprocessing).pipe(parse_df, tagset)\n",
    "# noncov.to_pickle(noncovpath / 'annotated_df_Batch1_pilot_parsed.pkl')"
   ]
  },
  {
   "cell_type": "code",
   "execution_count": null,
   "metadata": {},
   "outputs": [],
   "source": [
    "noncov = pd.read_pickle(noncovpath / 'annotated_df_Batch1_pilot_parsed.pkl')"
   ]
  },
  {
   "cell_type": "code",
   "execution_count": 45,
   "metadata": {},
   "outputs": [
    {
     "output_type": "execute_result",
     "data": {
      "text/plain": [
       "(1589820, 24)"
      ]
     },
     "metadata": {},
     "execution_count": 45
    }
   ],
   "source": [
    "noncov.shape"
   ]
  },
  {
   "source": [
    "## COVID (2020)"
   ],
   "cell_type": "markdown",
   "metadata": {}
  },
  {
   "cell_type": "code",
   "execution_count": 41,
   "metadata": {},
   "outputs": [],
   "source": [
    "covpath = Path('../../../Covid_data_11nov/from_inception_tsv')"
   ]
  },
  {
   "cell_type": "code",
   "execution_count": 40,
   "metadata": {},
   "outputs": [],
   "source": [
    "# cov = pd.read_pickle(covpath / 'annotated_df_CovidBatch_pilot.pkl').pipe(preprocessing).pipe(parse_df, tagset)\n",
    "# cov.to_pickle(covpath / 'annotated_df_CovidBatch_pilot_parsed.pkl')"
   ]
  },
  {
   "cell_type": "code",
   "execution_count": 42,
   "metadata": {},
   "outputs": [],
   "source": [
    "cov = pd.read_pickle(covpath / 'annotated_df_CovidBatch_pilot_parsed.pkl')"
   ]
  },
  {
   "cell_type": "code",
   "execution_count": 43,
   "metadata": {},
   "outputs": [
    {
     "output_type": "execute_result",
     "data": {
      "text/plain": [
       "(589329, 24)"
      ]
     },
     "metadata": {},
     "execution_count": 43
    }
   ],
   "source": [
    "cov.shape"
   ]
  },
  {
   "cell_type": "code",
   "execution_count": null,
   "metadata": {},
   "outputs": [],
   "source": []
  }
 ],
 "metadata": {
  "kernelspec": {
   "display_name": "zonmw",
   "language": "python",
   "name": "zonmw"
  },
  "language_info": {
   "codemirror_mode": {
    "name": "ipython",
    "version": 3
   },
   "file_extension": ".py",
   "mimetype": "text/x-python",
   "name": "python",
   "nbconvert_exporter": "python",
   "pygments_lexer": "ipython3",
   "version": "3.8.5-final"
  }
 },
 "nbformat": 4,
 "nbformat_minor": 5
}