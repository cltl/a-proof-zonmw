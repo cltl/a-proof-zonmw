{
 "cells": [
  {
   "cell_type": "markdown",
   "source": [
    "# Evaluation of domain classifiers\n",
    "\n",
    "- Multi-label classification on sentence-level;\n",
    "- Evaluation on sentence-level + aggregation on note-level;\n",
    "- Each domain is evaluated independently."
   ],
   "metadata": {}
  },
  {
   "cell_type": "code",
   "execution_count": 1,
   "source": [
    "import pandas as pd\n",
    "from pathlib import Path\n",
    "from sklearn.metrics import precision_score, recall_score, f1_score"
   ],
   "outputs": [],
   "metadata": {}
  },
  {
   "cell_type": "code",
   "execution_count": 2,
   "source": [
    "pd.set_option('max_columns', None)\n",
    "pd.set_option('max_colwidth', None)"
   ],
   "outputs": [],
   "metadata": {}
  },
  {
   "cell_type": "markdown",
   "source": [
    "# Config\n",
    "\n",
    "Define:\n",
    "\n",
    "- list of domains,\n",
    "- path to dir where a pickled test file with predictions is located,\n",
    "- the predictions column to be evaluated."
   ],
   "metadata": {}
  },
  {
   "cell_type": "code",
   "execution_count": 3,
   "source": [
    "domains = ['ADM', 'ATT', 'BER', 'ENR', 'ETN', 'FAC', 'INS', 'MBW', 'STM']\n",
    "\n",
    "path = Path('../../data/expr_july/clf_domains/')\n",
    "\n",
    "pred_col = 'pred_domains_spacy_default'"
   ],
   "outputs": [],
   "metadata": {}
  },
  {
   "cell_type": "markdown",
   "source": [
    "# Load and process data"
   ],
   "metadata": {}
  },
  {
   "cell_type": "code",
   "execution_count": 4,
   "source": [
    "# raw predictions are a list in a list, e.g. [[0, 1, 0, 0]];\n",
    "# `preds` columns flattens them to a list.\n",
    "# domains column is needed for the explosion in the next cell.\n",
    "\n",
    "df = pd.read_pickle(path / 'test.pkl').assign(\n",
    "    preds = lambda df: df[pred_col].str[0],\n",
    "    domains = lambda df: [domains] * len(df),\n",
    ")"
   ],
   "outputs": [],
   "metadata": {}
  },
  {
   "cell_type": "code",
   "execution_count": 5,
   "source": [
    "results = df.explode(\n",
    "    ['domains', 'labels', 'preds']\n",
    ")[['pad_sen_id', 'NotitieID', 'annotator', 'domains', 'labels', 'preds']].reset_index()"
   ],
   "outputs": [],
   "metadata": {}
  },
  {
   "cell_type": "markdown",
   "source": [
    "# Sentence level evaluation"
   ],
   "metadata": {}
  },
  {
   "cell_type": "markdown",
   "source": [
    "## Precision, recall, F1-score"
   ],
   "metadata": {}
  },
  {
   "cell_type": "code",
   "execution_count": 6,
   "source": [
    "def make_classreport(domain):\n",
    "    y_true = results.query(f\"domains == '{domain}'\").labels.astype(int)\n",
    "    y_pred = results.query(f\"domains == '{domain}'\").preds.astype(int)\n",
    "    precision = precision_score(y_true, y_pred).round(2)\n",
    "    recall = recall_score(y_true, y_pred).round(2)\n",
    "    f1 = f1_score(y_true, y_pred).round(2)\n",
    "    return pd.Series(\n",
    "        index = ['precision', 'recall', 'f1_score'],\n",
    "        data = [precision, recall, f1],\n",
    "        name = domain,\n",
    "    )\n",
    "\n",
    "pd.concat([make_classreport(domain) for domain in domains], axis=1)"
   ],
   "outputs": [
    {
     "output_type": "execute_result",
     "data": {
      "text/plain": [
       "            ADM   ATT   BER   ENR   ETN   FAC   INS   MBW   STM\n",
       "precision  0.69  0.88  1.00  0.69  0.61  0.68  0.59  0.55  0.66\n",
       "recall     0.61  0.47  0.08  0.73  0.51  0.71  0.17  0.73  0.64\n",
       "f1_score   0.65  0.61  0.14  0.71  0.56  0.70  0.27  0.63  0.65"
      ],
      "text/html": [
       "<div>\n",
       "<style scoped>\n",
       "    .dataframe tbody tr th:only-of-type {\n",
       "        vertical-align: middle;\n",
       "    }\n",
       "\n",
       "    .dataframe tbody tr th {\n",
       "        vertical-align: top;\n",
       "    }\n",
       "\n",
       "    .dataframe thead th {\n",
       "        text-align: right;\n",
       "    }\n",
       "</style>\n",
       "<table border=\"1\" class=\"dataframe\">\n",
       "  <thead>\n",
       "    <tr style=\"text-align: right;\">\n",
       "      <th></th>\n",
       "      <th>ADM</th>\n",
       "      <th>ATT</th>\n",
       "      <th>BER</th>\n",
       "      <th>ENR</th>\n",
       "      <th>ETN</th>\n",
       "      <th>FAC</th>\n",
       "      <th>INS</th>\n",
       "      <th>MBW</th>\n",
       "      <th>STM</th>\n",
       "    </tr>\n",
       "  </thead>\n",
       "  <tbody>\n",
       "    <tr>\n",
       "      <th>precision</th>\n",
       "      <td>0.69</td>\n",
       "      <td>0.88</td>\n",
       "      <td>1.00</td>\n",
       "      <td>0.69</td>\n",
       "      <td>0.61</td>\n",
       "      <td>0.68</td>\n",
       "      <td>0.59</td>\n",
       "      <td>0.55</td>\n",
       "      <td>0.66</td>\n",
       "    </tr>\n",
       "    <tr>\n",
       "      <th>recall</th>\n",
       "      <td>0.61</td>\n",
       "      <td>0.47</td>\n",
       "      <td>0.08</td>\n",
       "      <td>0.73</td>\n",
       "      <td>0.51</td>\n",
       "      <td>0.71</td>\n",
       "      <td>0.17</td>\n",
       "      <td>0.73</td>\n",
       "      <td>0.64</td>\n",
       "    </tr>\n",
       "    <tr>\n",
       "      <th>f1_score</th>\n",
       "      <td>0.65</td>\n",
       "      <td>0.61</td>\n",
       "      <td>0.14</td>\n",
       "      <td>0.71</td>\n",
       "      <td>0.56</td>\n",
       "      <td>0.70</td>\n",
       "      <td>0.27</td>\n",
       "      <td>0.63</td>\n",
       "      <td>0.65</td>\n",
       "    </tr>\n",
       "  </tbody>\n",
       "</table>\n",
       "</div>"
      ]
     },
     "metadata": {},
     "execution_count": 6
    }
   ],
   "metadata": {}
  },
  {
   "cell_type": "markdown",
   "source": [
    "## Error analysis"
   ],
   "metadata": {}
  },
  {
   "cell_type": "code",
   "execution_count": 7,
   "source": [
    "results = results.merge(\n",
    "    df[['pad_sen_id', 'background_sent', 'target_sent']],\n",
    "    how='left',\n",
    "    on='pad_sen_id',\n",
    ").assign(\n",
    "    background = lambda df: df.background_sent | df.target_sent,\n",
    "    correct = lambda df: df.labels == df.preds,\n",
    ")"
   ],
   "outputs": [],
   "metadata": {}
  },
  {
   "cell_type": "code",
   "execution_count": 8,
   "source": [
    "not_correct = results.query(\"not correct\")\n",
    "false_pos = results.query(\"not correct and labels == 0\")\n",
    "false_neg = results.query(\"not correct and labels == 1\")"
   ],
   "outputs": [],
   "metadata": {}
  },
  {
   "cell_type": "markdown",
   "source": [
    "### False positives"
   ],
   "metadata": {}
  },
  {
   "cell_type": "markdown",
   "source": [
    "#### Background/target sentences"
   ],
   "metadata": {}
  },
  {
   "cell_type": "code",
   "execution_count": 9,
   "source": [
    "# proportion of background out of false positives\n",
    "\n",
    "pd.concat([\n",
    "    pd.crosstab(\n",
    "        index=false_pos.domains,\n",
    "        columns=false_pos.background,\n",
    "        aggfunc='count',\n",
    "        values=false_pos.pad_sen_id,\n",
    "        normalize='index',\n",
    "    ).mul(100).round(1),\n",
    "    pd.crosstab(\n",
    "        index=false_pos.domains,\n",
    "        columns=false_pos.background,\n",
    "        aggfunc='count',\n",
    "        values=false_pos.pad_sen_id,\n",
    "    ).fillna(0).astype(int),\n",
    "], keys=['percentage', 'count'], axis=1\n",
    ")"
   ],
   "outputs": [
    {
     "output_type": "execute_result",
     "data": {
      "text/plain": [
       "           percentage       count     \n",
       "background      False  True False True\n",
       "domains                               \n",
       "ADM              81.2  18.8    91   21\n",
       "ATT             100.0   0.0     2    0\n",
       "ENR              57.6  42.4    19   14\n",
       "ETN              82.8  17.2    48   10\n",
       "FAC              82.6  17.4    38    8\n",
       "INS              68.8  31.2    11    5\n",
       "MBW              82.1  17.9    32    7\n",
       "STM              76.0  24.0    38   12"
      ],
      "text/html": [
       "<div>\n",
       "<style scoped>\n",
       "    .dataframe tbody tr th:only-of-type {\n",
       "        vertical-align: middle;\n",
       "    }\n",
       "\n",
       "    .dataframe tbody tr th {\n",
       "        vertical-align: top;\n",
       "    }\n",
       "\n",
       "    .dataframe thead tr th {\n",
       "        text-align: left;\n",
       "    }\n",
       "\n",
       "    .dataframe thead tr:last-of-type th {\n",
       "        text-align: right;\n",
       "    }\n",
       "</style>\n",
       "<table border=\"1\" class=\"dataframe\">\n",
       "  <thead>\n",
       "    <tr>\n",
       "      <th></th>\n",
       "      <th colspan=\"2\" halign=\"left\">percentage</th>\n",
       "      <th colspan=\"2\" halign=\"left\">count</th>\n",
       "    </tr>\n",
       "    <tr>\n",
       "      <th>background</th>\n",
       "      <th>False</th>\n",
       "      <th>True</th>\n",
       "      <th>False</th>\n",
       "      <th>True</th>\n",
       "    </tr>\n",
       "    <tr>\n",
       "      <th>domains</th>\n",
       "      <th></th>\n",
       "      <th></th>\n",
       "      <th></th>\n",
       "      <th></th>\n",
       "    </tr>\n",
       "  </thead>\n",
       "  <tbody>\n",
       "    <tr>\n",
       "      <th>ADM</th>\n",
       "      <td>81.2</td>\n",
       "      <td>18.8</td>\n",
       "      <td>91</td>\n",
       "      <td>21</td>\n",
       "    </tr>\n",
       "    <tr>\n",
       "      <th>ATT</th>\n",
       "      <td>100.0</td>\n",
       "      <td>0.0</td>\n",
       "      <td>2</td>\n",
       "      <td>0</td>\n",
       "    </tr>\n",
       "    <tr>\n",
       "      <th>ENR</th>\n",
       "      <td>57.6</td>\n",
       "      <td>42.4</td>\n",
       "      <td>19</td>\n",
       "      <td>14</td>\n",
       "    </tr>\n",
       "    <tr>\n",
       "      <th>ETN</th>\n",
       "      <td>82.8</td>\n",
       "      <td>17.2</td>\n",
       "      <td>48</td>\n",
       "      <td>10</td>\n",
       "    </tr>\n",
       "    <tr>\n",
       "      <th>FAC</th>\n",
       "      <td>82.6</td>\n",
       "      <td>17.4</td>\n",
       "      <td>38</td>\n",
       "      <td>8</td>\n",
       "    </tr>\n",
       "    <tr>\n",
       "      <th>INS</th>\n",
       "      <td>68.8</td>\n",
       "      <td>31.2</td>\n",
       "      <td>11</td>\n",
       "      <td>5</td>\n",
       "    </tr>\n",
       "    <tr>\n",
       "      <th>MBW</th>\n",
       "      <td>82.1</td>\n",
       "      <td>17.9</td>\n",
       "      <td>32</td>\n",
       "      <td>7</td>\n",
       "    </tr>\n",
       "    <tr>\n",
       "      <th>STM</th>\n",
       "      <td>76.0</td>\n",
       "      <td>24.0</td>\n",
       "      <td>38</td>\n",
       "      <td>12</td>\n",
       "    </tr>\n",
       "  </tbody>\n",
       "</table>\n",
       "</div>"
      ]
     },
     "metadata": {},
     "execution_count": 9
    }
   ],
   "metadata": {}
  },
  {
   "cell_type": "code",
   "execution_count": 10,
   "source": [
    "# random example\n",
    "\n",
    "q = \"domains == 'STM' and background\"\n",
    "example = false_pos.query(q).pad_sen_id.sample(1)\n",
    "df.query(f\"pad_sen_id == '{example.iloc[0]}'\")[['pad_sen_id', 'text']]"
   ],
   "outputs": [
    {
     "output_type": "execute_result",
     "data": {
      "text/plain": [
       "         pad_sen_id                         text\n",
       "890  237672660_0102  Mama was er ook bang voor ."
      ],
      "text/html": [
       "<div>\n",
       "<style scoped>\n",
       "    .dataframe tbody tr th:only-of-type {\n",
       "        vertical-align: middle;\n",
       "    }\n",
       "\n",
       "    .dataframe tbody tr th {\n",
       "        vertical-align: top;\n",
       "    }\n",
       "\n",
       "    .dataframe thead th {\n",
       "        text-align: right;\n",
       "    }\n",
       "</style>\n",
       "<table border=\"1\" class=\"dataframe\">\n",
       "  <thead>\n",
       "    <tr style=\"text-align: right;\">\n",
       "      <th></th>\n",
       "      <th>pad_sen_id</th>\n",
       "      <th>text</th>\n",
       "    </tr>\n",
       "  </thead>\n",
       "  <tbody>\n",
       "    <tr>\n",
       "      <th>890</th>\n",
       "      <td>237672660_0102</td>\n",
       "      <td>Mama was er ook bang voor .</td>\n",
       "    </tr>\n",
       "  </tbody>\n",
       "</table>\n",
       "</div>"
      ]
     },
     "metadata": {},
     "execution_count": 10
    }
   ],
   "metadata": {}
  },
  {
   "cell_type": "markdown",
   "source": [
    "#### Not background/target"
   ],
   "metadata": {}
  },
  {
   "cell_type": "code",
   "execution_count": 11,
   "source": [
    "# random example\n",
    "\n",
    "q = \"domains == 'MBW' and not background\"\n",
    "example = false_pos.query(q).pad_sen_id.sample(1)\n",
    "df.query(f\"pad_sen_id == '{example.iloc[0]}'\")[['pad_sen_id', 'text']]"
   ],
   "outputs": [
    {
     "output_type": "execute_result",
     "data": {
      "text/plain": [
       "            pad_sen_id  \\\n",
       "161678  435636274_0059   \n",
       "\n",
       "                                                                                                                                   text  \n",
       "161678  Gewicht wisselt altijd , weegt nu 130 wat ook ongeveer het gewicht was in 2016 toen de verhoogde leverwaarden werden gevonden .  "
      ],
      "text/html": [
       "<div>\n",
       "<style scoped>\n",
       "    .dataframe tbody tr th:only-of-type {\n",
       "        vertical-align: middle;\n",
       "    }\n",
       "\n",
       "    .dataframe tbody tr th {\n",
       "        vertical-align: top;\n",
       "    }\n",
       "\n",
       "    .dataframe thead th {\n",
       "        text-align: right;\n",
       "    }\n",
       "</style>\n",
       "<table border=\"1\" class=\"dataframe\">\n",
       "  <thead>\n",
       "    <tr style=\"text-align: right;\">\n",
       "      <th></th>\n",
       "      <th>pad_sen_id</th>\n",
       "      <th>text</th>\n",
       "    </tr>\n",
       "  </thead>\n",
       "  <tbody>\n",
       "    <tr>\n",
       "      <th>161678</th>\n",
       "      <td>435636274_0059</td>\n",
       "      <td>Gewicht wisselt altijd , weegt nu 130 wat ook ongeveer het gewicht was in 2016 toen de verhoogde leverwaarden werden gevonden .</td>\n",
       "    </tr>\n",
       "  </tbody>\n",
       "</table>\n",
       "</div>"
      ]
     },
     "metadata": {},
     "execution_count": 11
    }
   ],
   "metadata": {}
  },
  {
   "cell_type": "markdown",
   "source": [
    "### False negatives"
   ],
   "metadata": {}
  },
  {
   "cell_type": "code",
   "execution_count": 12,
   "source": [
    "# random example\n",
    "\n",
    "q = \"domains == 'INS'\"\n",
    "example = false_neg.query(q).pad_sen_id.sample(1)\n",
    "df.query(f\"pad_sen_id == '{example.iloc[0]}'\")[['pad_sen_id', 'text']]"
   ],
   "outputs": [
    {
     "output_type": "execute_result",
     "data": {
      "text/plain": [
       "           pad_sen_id                                                    text\n",
       "20156  415914113_0006  Ademhaling nu weer normaal , wel nog minder conditie ."
      ],
      "text/html": [
       "<div>\n",
       "<style scoped>\n",
       "    .dataframe tbody tr th:only-of-type {\n",
       "        vertical-align: middle;\n",
       "    }\n",
       "\n",
       "    .dataframe tbody tr th {\n",
       "        vertical-align: top;\n",
       "    }\n",
       "\n",
       "    .dataframe thead th {\n",
       "        text-align: right;\n",
       "    }\n",
       "</style>\n",
       "<table border=\"1\" class=\"dataframe\">\n",
       "  <thead>\n",
       "    <tr style=\"text-align: right;\">\n",
       "      <th></th>\n",
       "      <th>pad_sen_id</th>\n",
       "      <th>text</th>\n",
       "    </tr>\n",
       "  </thead>\n",
       "  <tbody>\n",
       "    <tr>\n",
       "      <th>20156</th>\n",
       "      <td>415914113_0006</td>\n",
       "      <td>Ademhaling nu weer normaal , wel nog minder conditie .</td>\n",
       "    </tr>\n",
       "  </tbody>\n",
       "</table>\n",
       "</div>"
      ]
     },
     "metadata": {},
     "execution_count": 12
    }
   ],
   "metadata": {}
  },
  {
   "cell_type": "markdown",
   "source": [
    "# Note level evaluation"
   ],
   "metadata": {}
  },
  {
   "cell_type": "code",
   "execution_count": 13,
   "source": [
    "notes = results.astype({\n",
    "    'labels': bool, 'preds': bool\n",
    "}).groupby([\n",
    "    'NotitieID', 'domains',\n",
    "])[['labels', 'preds']].any().assign(\n",
    "    correct = lambda df: df.labels == df.preds,\n",
    ").reset_index(level=1)"
   ],
   "outputs": [],
   "metadata": {}
  },
  {
   "cell_type": "markdown",
   "source": [
    "## Precision, recall, F1-score"
   ],
   "metadata": {}
  },
  {
   "cell_type": "code",
   "execution_count": 14,
   "source": [
    "def make_classreport(domain):\n",
    "    y_true = notes.query(f\"domains == '{domain}'\").labels.astype(int)\n",
    "    y_pred = notes.query(f\"domains == '{domain}'\").preds.astype(int)\n",
    "    precision = precision_score(y_true, y_pred).round(2)\n",
    "    recall = recall_score(y_true, y_pred).round(2)\n",
    "    f1 = f1_score(y_true, y_pred).round(2)\n",
    "    return pd.Series(\n",
    "        index = ['precision', 'recall', 'f1_score'],\n",
    "        data = [precision, recall, f1],\n",
    "        name = domain,\n",
    "    )\n",
    "\n",
    "pd.concat([make_classreport(domain) for domain in domains], axis=1)"
   ],
   "outputs": [
    {
     "output_type": "execute_result",
     "data": {
      "text/plain": [
       "            ADM   ATT   BER   ENR   ETN   FAC   INS   MBW   STM\n",
       "precision  0.87  0.88  1.00  0.78  0.74  0.78  0.79  0.67  0.76\n",
       "recall     0.86  0.67  0.09  0.81  0.63  0.79  0.31  0.84  0.76\n",
       "f1_score   0.87  0.76  0.17  0.79  0.68  0.78  0.44  0.75  0.76"
      ],
      "text/html": [
       "<div>\n",
       "<style scoped>\n",
       "    .dataframe tbody tr th:only-of-type {\n",
       "        vertical-align: middle;\n",
       "    }\n",
       "\n",
       "    .dataframe tbody tr th {\n",
       "        vertical-align: top;\n",
       "    }\n",
       "\n",
       "    .dataframe thead th {\n",
       "        text-align: right;\n",
       "    }\n",
       "</style>\n",
       "<table border=\"1\" class=\"dataframe\">\n",
       "  <thead>\n",
       "    <tr style=\"text-align: right;\">\n",
       "      <th></th>\n",
       "      <th>ADM</th>\n",
       "      <th>ATT</th>\n",
       "      <th>BER</th>\n",
       "      <th>ENR</th>\n",
       "      <th>ETN</th>\n",
       "      <th>FAC</th>\n",
       "      <th>INS</th>\n",
       "      <th>MBW</th>\n",
       "      <th>STM</th>\n",
       "    </tr>\n",
       "  </thead>\n",
       "  <tbody>\n",
       "    <tr>\n",
       "      <th>precision</th>\n",
       "      <td>0.87</td>\n",
       "      <td>0.88</td>\n",
       "      <td>1.00</td>\n",
       "      <td>0.78</td>\n",
       "      <td>0.74</td>\n",
       "      <td>0.78</td>\n",
       "      <td>0.79</td>\n",
       "      <td>0.67</td>\n",
       "      <td>0.76</td>\n",
       "    </tr>\n",
       "    <tr>\n",
       "      <th>recall</th>\n",
       "      <td>0.86</td>\n",
       "      <td>0.67</td>\n",
       "      <td>0.09</td>\n",
       "      <td>0.81</td>\n",
       "      <td>0.63</td>\n",
       "      <td>0.79</td>\n",
       "      <td>0.31</td>\n",
       "      <td>0.84</td>\n",
       "      <td>0.76</td>\n",
       "    </tr>\n",
       "    <tr>\n",
       "      <th>f1_score</th>\n",
       "      <td>0.87</td>\n",
       "      <td>0.76</td>\n",
       "      <td>0.17</td>\n",
       "      <td>0.79</td>\n",
       "      <td>0.68</td>\n",
       "      <td>0.78</td>\n",
       "      <td>0.44</td>\n",
       "      <td>0.75</td>\n",
       "      <td>0.76</td>\n",
       "    </tr>\n",
       "  </tbody>\n",
       "</table>\n",
       "</div>"
      ]
     },
     "metadata": {},
     "execution_count": 14
    }
   ],
   "metadata": {}
  },
  {
   "cell_type": "markdown",
   "source": [
    "## Impact background/target\n",
    "\n",
    "To estimate the impact of background/target sentences, I remove them from the test set and repeat the evaluation."
   ],
   "metadata": {}
  },
  {
   "cell_type": "code",
   "execution_count": 15,
   "source": [
    "no_bckgrnd = notes = results.query(\"not background\").astype({\n",
    "    'labels': bool, 'preds': bool\n",
    "}).groupby([\n",
    "    'NotitieID', 'domains',\n",
    "])[['labels', 'preds']].any().assign(\n",
    "    correct = lambda df: df.labels == df.preds,\n",
    ").reset_index(level=1)"
   ],
   "outputs": [],
   "metadata": {}
  },
  {
   "cell_type": "code",
   "execution_count": 16,
   "source": [
    "def make_classreport(domain):\n",
    "    y_true = no_bckgrnd.query(f\"domains == '{domain}'\").labels.astype(int)\n",
    "    y_pred = no_bckgrnd.query(f\"domains == '{domain}'\").preds.astype(int)\n",
    "    precision = precision_score(y_true, y_pred).round(2)\n",
    "    recall = recall_score(y_true, y_pred).round(2)\n",
    "    f1 = f1_score(y_true, y_pred).round(2)\n",
    "    return pd.Series(\n",
    "        index = ['precision', 'recall', 'f1_score'],\n",
    "        data = [precision, recall, f1],\n",
    "        name = domain,\n",
    "    )\n",
    "\n",
    "pd.concat([make_classreport(domain) for domain in domains], axis=1)"
   ],
   "outputs": [
    {
     "output_type": "execute_result",
     "data": {
      "text/plain": [
       "            ADM   ATT   BER   ENR   ETN   FAC   INS   MBW   STM\n",
       "precision  0.89  0.88  1.00  0.83  0.75  0.79  0.88  0.70  0.78\n",
       "recall     0.87  0.67  0.05  0.78  0.61  0.79  0.29  0.82  0.75\n",
       "f1_score   0.88  0.76  0.10  0.80  0.68  0.79  0.44  0.76  0.77"
      ],
      "text/html": [
       "<div>\n",
       "<style scoped>\n",
       "    .dataframe tbody tr th:only-of-type {\n",
       "        vertical-align: middle;\n",
       "    }\n",
       "\n",
       "    .dataframe tbody tr th {\n",
       "        vertical-align: top;\n",
       "    }\n",
       "\n",
       "    .dataframe thead th {\n",
       "        text-align: right;\n",
       "    }\n",
       "</style>\n",
       "<table border=\"1\" class=\"dataframe\">\n",
       "  <thead>\n",
       "    <tr style=\"text-align: right;\">\n",
       "      <th></th>\n",
       "      <th>ADM</th>\n",
       "      <th>ATT</th>\n",
       "      <th>BER</th>\n",
       "      <th>ENR</th>\n",
       "      <th>ETN</th>\n",
       "      <th>FAC</th>\n",
       "      <th>INS</th>\n",
       "      <th>MBW</th>\n",
       "      <th>STM</th>\n",
       "    </tr>\n",
       "  </thead>\n",
       "  <tbody>\n",
       "    <tr>\n",
       "      <th>precision</th>\n",
       "      <td>0.89</td>\n",
       "      <td>0.88</td>\n",
       "      <td>1.00</td>\n",
       "      <td>0.83</td>\n",
       "      <td>0.75</td>\n",
       "      <td>0.79</td>\n",
       "      <td>0.88</td>\n",
       "      <td>0.70</td>\n",
       "      <td>0.78</td>\n",
       "    </tr>\n",
       "    <tr>\n",
       "      <th>recall</th>\n",
       "      <td>0.87</td>\n",
       "      <td>0.67</td>\n",
       "      <td>0.05</td>\n",
       "      <td>0.78</td>\n",
       "      <td>0.61</td>\n",
       "      <td>0.79</td>\n",
       "      <td>0.29</td>\n",
       "      <td>0.82</td>\n",
       "      <td>0.75</td>\n",
       "    </tr>\n",
       "    <tr>\n",
       "      <th>f1_score</th>\n",
       "      <td>0.88</td>\n",
       "      <td>0.76</td>\n",
       "      <td>0.10</td>\n",
       "      <td>0.80</td>\n",
       "      <td>0.68</td>\n",
       "      <td>0.79</td>\n",
       "      <td>0.44</td>\n",
       "      <td>0.76</td>\n",
       "      <td>0.77</td>\n",
       "    </tr>\n",
       "  </tbody>\n",
       "</table>\n",
       "</div>"
      ]
     },
     "metadata": {},
     "execution_count": 16
    }
   ],
   "metadata": {}
  },
  {
   "cell_type": "code",
   "execution_count": null,
   "source": [],
   "outputs": [],
   "metadata": {}
  }
 ],
 "metadata": {
  "orig_nbformat": 4,
  "language_info": {
   "name": "python",
   "version": "3.8.5",
   "mimetype": "text/x-python",
   "codemirror_mode": {
    "name": "ipython",
    "version": 3
   },
   "pygments_lexer": "ipython3",
   "nbconvert_exporter": "python",
   "file_extension": ".py"
  },
  "kernelspec": {
   "name": "python3",
   "display_name": "Python 3.8.5 64-bit ('zonmw': conda)"
  },
  "interpreter": {
   "hash": "5a0a696a2c4562c805ef24bd77b26c70704f51e5d276869b3745fd7123bf8c36"
  }
 },
 "nbformat": 4,
 "nbformat_minor": 2
}