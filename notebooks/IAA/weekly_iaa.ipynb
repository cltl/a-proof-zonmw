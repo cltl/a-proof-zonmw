{
 "cells": [
  {
   "cell_type": "code",
   "execution_count": 1,
   "metadata": {},
   "outputs": [],
   "source": [
    "import pandas as pd"
   ]
  },
  {
   "cell_type": "code",
   "execution_count": 2,
   "metadata": {},
   "outputs": [],
   "source": [
    "pd.set_option('max_columns', None)\n",
    "pd.set_option('max_colwidth', None)"
   ]
  },
  {
   "cell_type": "code",
   "execution_count": 3,
   "metadata": {},
   "outputs": [
    {
     "data": {
      "text/html": "<div>\n<style scoped>\n    .dataframe tbody tr th:only-of-type {\n        vertical-align: middle;\n    }\n\n    .dataframe tbody tr th {\n        vertical-align: top;\n    }\n\n    .dataframe thead th {\n        text-align: right;\n    }\n</style>\n<table border=\"1\" class=\"dataframe\">\n  <thead>\n    <tr style=\"text-align: right;\">\n      <th></th>\n      <th>sen_tok</th>\n      <th>char</th>\n      <th>token</th>\n      <th>label</th>\n      <th>relation</th>\n      <th>annotator</th>\n      <th>institution</th>\n      <th>year</th>\n      <th>MDN</th>\n      <th>NotitieID</th>\n      <th>batch</th>\n      <th>legacy_rawfile</th>\n      <th>sen_id</th>\n      <th>tok</th>\n      <th>STM</th>\n      <th>STM_lvl</th>\n      <th>INS</th>\n      <th>INS_lvl</th>\n      <th>FAC</th>\n      <th>FAC_lvl</th>\n      <th>BER</th>\n      <th>BER_lvl</th>\n      <th>disregard</th>\n      <th>target</th>\n      <th>background</th>\n      <th>other</th>\n    </tr>\n  </thead>\n  <tbody>\n    <tr>\n      <th>0</th>\n      <td>1-1</td>\n      <td>427-429</td>\n      <td>Op</td>\n      <td>type\\_Background[1]</td>\n      <td>_</td>\n      <td>avelli</td>\n      <td>vumc</td>\n      <td>2017</td>\n      <td></td>\n      <td>175982538</td>\n      <td>pilot</td>\n      <td>notities_2017_deel1_cleaned.csv</td>\n      <td>175982538_1</td>\n      <td>1</td>\n      <td>False</td>\n      <td>NaN</td>\n      <td>False</td>\n      <td>NaN</td>\n      <td>False</td>\n      <td>NaN</td>\n      <td>False</td>\n      <td>NaN</td>\n      <td>False</td>\n      <td>False</td>\n      <td>True</td>\n      <td>[]</td>\n    </tr>\n    <tr>\n      <th>1</th>\n      <td>1-2</td>\n      <td>430-439</td>\n      <td>Dd-mm-jjjj</td>\n      <td>type\\_Background[1]</td>\n      <td>_</td>\n      <td>avelli</td>\n      <td>vumc</td>\n      <td>2017</td>\n      <td></td>\n      <td>175982538</td>\n      <td>pilot</td>\n      <td>notities_2017_deel1_cleaned.csv</td>\n      <td>175982538_1</td>\n      <td>2</td>\n      <td>False</td>\n      <td>NaN</td>\n      <td>False</td>\n      <td>NaN</td>\n      <td>False</td>\n      <td>NaN</td>\n      <td>False</td>\n      <td>NaN</td>\n      <td>False</td>\n      <td>False</td>\n      <td>True</td>\n      <td>[]</td>\n    </tr>\n    <tr>\n      <th>2</th>\n      <td>1-3</td>\n      <td>440-444</td>\n      <td>werd</td>\n      <td>type\\_Background[1]</td>\n      <td>_</td>\n      <td>avelli</td>\n      <td>vumc</td>\n      <td>2017</td>\n      <td></td>\n      <td>175982538</td>\n      <td>pilot</td>\n      <td>notities_2017_deel1_cleaned.csv</td>\n      <td>175982538_1</td>\n      <td>3</td>\n      <td>False</td>\n      <td>NaN</td>\n      <td>False</td>\n      <td>NaN</td>\n      <td>False</td>\n      <td>NaN</td>\n      <td>False</td>\n      <td>NaN</td>\n      <td>False</td>\n      <td>False</td>\n      <td>True</td>\n      <td>[]</td>\n    </tr>\n    <tr>\n      <th>3</th>\n      <td>1-4</td>\n      <td>445-458</td>\n      <td>bovengenoemde</td>\n      <td>type\\_Background[1]</td>\n      <td>_</td>\n      <td>avelli</td>\n      <td>vumc</td>\n      <td>2017</td>\n      <td></td>\n      <td>175982538</td>\n      <td>pilot</td>\n      <td>notities_2017_deel1_cleaned.csv</td>\n      <td>175982538_1</td>\n      <td>4</td>\n      <td>False</td>\n      <td>NaN</td>\n      <td>False</td>\n      <td>NaN</td>\n      <td>False</td>\n      <td>NaN</td>\n      <td>False</td>\n      <td>NaN</td>\n      <td>False</td>\n      <td>False</td>\n      <td>True</td>\n      <td>[]</td>\n    </tr>\n    <tr>\n      <th>4</th>\n      <td>1-5</td>\n      <td>459-466</td>\n      <td>patiënt</td>\n      <td>type\\_Background[1]</td>\n      <td>_</td>\n      <td>avelli</td>\n      <td>vumc</td>\n      <td>2017</td>\n      <td></td>\n      <td>175982538</td>\n      <td>pilot</td>\n      <td>notities_2017_deel1_cleaned.csv</td>\n      <td>175982538_1</td>\n      <td>5</td>\n      <td>False</td>\n      <td>NaN</td>\n      <td>False</td>\n      <td>NaN</td>\n      <td>False</td>\n      <td>NaN</td>\n      <td>False</td>\n      <td>NaN</td>\n      <td>False</td>\n      <td>False</td>\n      <td>True</td>\n      <td>[]</td>\n    </tr>\n    <tr>\n      <th>...</th>\n      <td>...</td>\n      <td>...</td>\n      <td>...</td>\n      <td>...</td>\n      <td>...</td>\n      <td>...</td>\n      <td>...</td>\n      <td>...</td>\n      <td>...</td>\n      <td>...</td>\n      <td>...</td>\n      <td>...</td>\n      <td>...</td>\n      <td>...</td>\n      <td>...</td>\n      <td>...</td>\n      <td>...</td>\n      <td>...</td>\n      <td>...</td>\n      <td>...</td>\n      <td>...</td>\n      <td>...</td>\n      <td>...</td>\n      <td>...</td>\n      <td>...</td>\n      <td>...</td>\n    </tr>\n    <tr>\n      <th>375</th>\n      <td>2-18</td>\n      <td>563-567</td>\n      <td>hier</td>\n      <td>NaN</td>\n      <td>NaN</td>\n      <td>meskers</td>\n      <td>vumc</td>\n      <td>2017</td>\n      <td></td>\n      <td>147501746</td>\n      <td>pilot</td>\n      <td>notities_2017_deel1_cleaned.csv</td>\n      <td>147501746_2</td>\n      <td>18</td>\n      <td>NaN</td>\n      <td>NaN</td>\n      <td>NaN</td>\n      <td>NaN</td>\n      <td>NaN</td>\n      <td>NaN</td>\n      <td>NaN</td>\n      <td>NaN</td>\n      <td>NaN</td>\n      <td>NaN</td>\n      <td>NaN</td>\n      <td>NaN</td>\n    </tr>\n    <tr>\n      <th>376</th>\n      <td>2-19</td>\n      <td>568-572</td>\n      <td>veel</td>\n      <td>NaN</td>\n      <td>NaN</td>\n      <td>meskers</td>\n      <td>vumc</td>\n      <td>2017</td>\n      <td></td>\n      <td>147501746</td>\n      <td>pilot</td>\n      <td>notities_2017_deel1_cleaned.csv</td>\n      <td>147501746_2</td>\n      <td>19</td>\n      <td>NaN</td>\n      <td>NaN</td>\n      <td>NaN</td>\n      <td>NaN</td>\n      <td>NaN</td>\n      <td>NaN</td>\n      <td>NaN</td>\n      <td>NaN</td>\n      <td>NaN</td>\n      <td>NaN</td>\n      <td>NaN</td>\n      <td>NaN</td>\n    </tr>\n    <tr>\n      <th>377</th>\n      <td>2-20</td>\n      <td>573-579</td>\n      <td>zorgen</td>\n      <td>NaN</td>\n      <td>NaN</td>\n      <td>meskers</td>\n      <td>vumc</td>\n      <td>2017</td>\n      <td></td>\n      <td>147501746</td>\n      <td>pilot</td>\n      <td>notities_2017_deel1_cleaned.csv</td>\n      <td>147501746_2</td>\n      <td>20</td>\n      <td>NaN</td>\n      <td>NaN</td>\n      <td>NaN</td>\n      <td>NaN</td>\n      <td>NaN</td>\n      <td>NaN</td>\n      <td>NaN</td>\n      <td>NaN</td>\n      <td>NaN</td>\n      <td>NaN</td>\n      <td>NaN</td>\n      <td>NaN</td>\n    </tr>\n    <tr>\n      <th>378</th>\n      <td>2-21</td>\n      <td>580-582</td>\n      <td>om</td>\n      <td>NaN</td>\n      <td>NaN</td>\n      <td>meskers</td>\n      <td>vumc</td>\n      <td>2017</td>\n      <td></td>\n      <td>147501746</td>\n      <td>pilot</td>\n      <td>notities_2017_deel1_cleaned.csv</td>\n      <td>147501746_2</td>\n      <td>21</td>\n      <td>NaN</td>\n      <td>NaN</td>\n      <td>NaN</td>\n      <td>NaN</td>\n      <td>NaN</td>\n      <td>NaN</td>\n      <td>NaN</td>\n      <td>NaN</td>\n      <td>NaN</td>\n      <td>NaN</td>\n      <td>NaN</td>\n      <td>NaN</td>\n    </tr>\n    <tr>\n      <th>379</th>\n      <td>2-22</td>\n      <td>583-584</td>\n      <td>.</td>\n      <td>NaN</td>\n      <td>NaN</td>\n      <td>meskers</td>\n      <td>vumc</td>\n      <td>2017</td>\n      <td></td>\n      <td>147501746</td>\n      <td>pilot</td>\n      <td>notities_2017_deel1_cleaned.csv</td>\n      <td>147501746_2</td>\n      <td>22</td>\n      <td>NaN</td>\n      <td>NaN</td>\n      <td>NaN</td>\n      <td>NaN</td>\n      <td>NaN</td>\n      <td>NaN</td>\n      <td>NaN</td>\n      <td>NaN</td>\n      <td>NaN</td>\n      <td>NaN</td>\n      <td>NaN</td>\n      <td>NaN</td>\n    </tr>\n  </tbody>\n</table>\n<p>380 rows × 26 columns</p>\n</div>",
      "text/plain": "    sen_tok     char          token                label relation annotator  \\\n0       1-1  427-429             Op  type\\_Background[1]        _    avelli   \n1       1-2  430-439     Dd-mm-jjjj  type\\_Background[1]        _    avelli   \n2       1-3  440-444           werd  type\\_Background[1]        _    avelli   \n3       1-4  445-458  bovengenoemde  type\\_Background[1]        _    avelli   \n4       1-5  459-466        patiënt  type\\_Background[1]        _    avelli   \n..      ...      ...            ...                  ...      ...       ...   \n375    2-18  563-567           hier                  NaN      NaN   meskers   \n376    2-19  568-572           veel                  NaN      NaN   meskers   \n377    2-20  573-579         zorgen                  NaN      NaN   meskers   \n378    2-21  580-582             om                  NaN      NaN   meskers   \n379    2-22  583-584              .                  NaN      NaN   meskers   \n\n    institution  year MDN  NotitieID  batch                   legacy_rawfile  \\\n0          vumc  2017      175982538  pilot  notities_2017_deel1_cleaned.csv   \n1          vumc  2017      175982538  pilot  notities_2017_deel1_cleaned.csv   \n2          vumc  2017      175982538  pilot  notities_2017_deel1_cleaned.csv   \n3          vumc  2017      175982538  pilot  notities_2017_deel1_cleaned.csv   \n4          vumc  2017      175982538  pilot  notities_2017_deel1_cleaned.csv   \n..          ...   ...  ..        ...    ...                              ...   \n375        vumc  2017      147501746  pilot  notities_2017_deel1_cleaned.csv   \n376        vumc  2017      147501746  pilot  notities_2017_deel1_cleaned.csv   \n377        vumc  2017      147501746  pilot  notities_2017_deel1_cleaned.csv   \n378        vumc  2017      147501746  pilot  notities_2017_deel1_cleaned.csv   \n379        vumc  2017      147501746  pilot  notities_2017_deel1_cleaned.csv   \n\n          sen_id  tok    STM  STM_lvl    INS  INS_lvl    FAC  FAC_lvl    BER  \\\n0    175982538_1    1  False      NaN  False      NaN  False      NaN  False   \n1    175982538_1    2  False      NaN  False      NaN  False      NaN  False   \n2    175982538_1    3  False      NaN  False      NaN  False      NaN  False   \n3    175982538_1    4  False      NaN  False      NaN  False      NaN  False   \n4    175982538_1    5  False      NaN  False      NaN  False      NaN  False   \n..           ...  ...    ...      ...    ...      ...    ...      ...    ...   \n375  147501746_2   18    NaN      NaN    NaN      NaN    NaN      NaN    NaN   \n376  147501746_2   19    NaN      NaN    NaN      NaN    NaN      NaN    NaN   \n377  147501746_2   20    NaN      NaN    NaN      NaN    NaN      NaN    NaN   \n378  147501746_2   21    NaN      NaN    NaN      NaN    NaN      NaN    NaN   \n379  147501746_2   22    NaN      NaN    NaN      NaN    NaN      NaN    NaN   \n\n     BER_lvl disregard target background other  \n0        NaN     False  False       True    []  \n1        NaN     False  False       True    []  \n2        NaN     False  False       True    []  \n3        NaN     False  False       True    []  \n4        NaN     False  False       True    []  \n..       ...       ...    ...        ...   ...  \n375      NaN       NaN    NaN        NaN   NaN  \n376      NaN       NaN    NaN        NaN   NaN  \n377      NaN       NaN    NaN        NaN   NaN  \n378      NaN       NaN    NaN        NaN   NaN  \n379      NaN       NaN    NaN        NaN   NaN  \n\n[380 rows x 26 columns]"
     },
     "execution_count": 3,
     "metadata": {},
     "output_type": "execute_result"
    }
   ],
   "source": [
    "df = pd.read_pickle('../../data/annotated_df_iaa_sample_parsed.pkl')\r\n",
    "df"
   ]
  },
  {
   "cell_type": "code",
   "execution_count": 4,
   "metadata": {},
   "outputs": [],
   "source": [
    "levels = [col for col in df.columns if '_lvl' in col]\n",
    "domains = [col[:3] for col in levels]"
   ]
  },
  {
   "cell_type": "markdown",
   "metadata": {},
   "source": [
    "# Document-level"
   ]
  },
  {
   "cell_type": "code",
   "execution_count": 5,
   "metadata": {},
   "outputs": [
    {
     "data": {
      "text/html": "<div>\n<style scoped>\n    .dataframe tbody tr th:only-of-type {\n        vertical-align: middle;\n    }\n\n    .dataframe tbody tr th {\n        vertical-align: top;\n    }\n\n    .dataframe thead th {\n        text-align: right;\n    }\n</style>\n<table border=\"1\" class=\"dataframe\">\n  <thead>\n    <tr style=\"text-align: right;\">\n      <th></th>\n      <th>annotator</th>\n      <th>avelli</th>\n      <th>bos</th>\n      <th>meskers</th>\n    </tr>\n    <tr>\n      <th>NotitieID</th>\n      <th></th>\n      <th></th>\n      <th></th>\n      <th></th>\n    </tr>\n  </thead>\n  <tbody>\n    <tr>\n      <th rowspan=\"2\" valign=\"top\">147501746</th>\n      <th>STM</th>\n      <td>True</td>\n      <td>True</td>\n      <td>False</td>\n    </tr>\n    <tr>\n      <th>STM_lvl</th>\n      <td>[1.0, 0.0]</td>\n      <td>[1.0, 0.0]</td>\n      <td>[]</td>\n    </tr>\n    <tr>\n      <th rowspan=\"2\" valign=\"top\">175982538</th>\n      <th>FAC</th>\n      <td>True</td>\n      <td>True</td>\n      <td>True</td>\n    </tr>\n    <tr>\n      <th>FAC_lvl</th>\n      <td>[1.0]</td>\n      <td>[2.0]</td>\n      <td>[4.0]</td>\n    </tr>\n    <tr>\n      <th rowspan=\"2\" valign=\"top\">223867383</th>\n      <th>FAC</th>\n      <td>True</td>\n      <td>False</td>\n      <td>True</td>\n    </tr>\n    <tr>\n      <th>FAC_lvl</th>\n      <td>[]</td>\n      <td>[]</td>\n      <td>[3.0]</td>\n    </tr>\n  </tbody>\n</table>\n</div>",
      "text/plain": "annotator              avelli         bos meskers\nNotitieID                                        \n147501746 STM            True        True   False\n          STM_lvl  [1.0, 0.0]  [1.0, 0.0]      []\n175982538 FAC            True        True    True\n          FAC_lvl       [1.0]       [2.0]   [4.0]\n223867383 FAC            True       False    True\n          FAC_lvl          []          []   [3.0]"
     },
     "execution_count": 5,
     "metadata": {},
     "output_type": "execute_result"
    }
   ],
   "source": [
    "# domain\r\n",
    "domain = df.groupby(['NotitieID', 'annotator'])[domains].any().stack().unstack(1)\r\n",
    "domain = domain.loc[domain.any(axis=1)]\r\n",
    "\r\n",
    "# levels\r\n",
    "get_levels = lambda g, level: g[level].apply(lambda s: [i for i in s.unique() if i==i])\r\n",
    "grouped = df.groupby(['NotitieID', 'annotator'])   \r\n",
    "\r\n",
    "lvl_labels = pd.concat([get_levels(grouped, level) for level in levels], axis=1).stack().unstack(1)\r\n",
    "lvl_labels = lvl_labels.loc[lvl_labels.any(axis=1)]\r\n",
    "\r\n",
    "# overview\r\n",
    "pd.concat([domain, lvl_labels]).sort_index()"
   ]
  },
  {
   "cell_type": "markdown",
   "metadata": {},
   "source": [
    "# Sentence-level"
   ]
  },
  {
   "cell_type": "code",
   "execution_count": 6,
   "metadata": {},
   "outputs": [
    {
     "data": {
      "text/html": "<div>\n<style scoped>\n    .dataframe tbody tr th:only-of-type {\n        vertical-align: middle;\n    }\n\n    .dataframe tbody tr th {\n        vertical-align: top;\n    }\n\n    .dataframe thead th {\n        text-align: right;\n    }\n</style>\n<table border=\"1\" class=\"dataframe\">\n  <thead>\n    <tr style=\"text-align: right;\">\n      <th></th>\n      <th>annotator</th>\n      <th>avelli</th>\n      <th>bos</th>\n      <th>meskers</th>\n    </tr>\n    <tr>\n      <th>sen_id</th>\n      <th></th>\n      <th></th>\n      <th></th>\n      <th></th>\n    </tr>\n  </thead>\n  <tbody>\n    <tr>\n      <th rowspan=\"2\" valign=\"top\">147501746_2</th>\n      <th>STM</th>\n      <td>True</td>\n      <td>True</td>\n      <td>False</td>\n    </tr>\n    <tr>\n      <th>STM_lvl</th>\n      <td>[1.0, 0.0]</td>\n      <td>[1.0, 0.0]</td>\n      <td>[]</td>\n    </tr>\n    <tr>\n      <th>175982538_2</th>\n      <th>FAC</th>\n      <td>True</td>\n      <td>False</td>\n      <td>False</td>\n    </tr>\n    <tr>\n      <th rowspan=\"2\" valign=\"top\">175982538_3</th>\n      <th>FAC</th>\n      <td>True</td>\n      <td>True</td>\n      <td>True</td>\n    </tr>\n    <tr>\n      <th>FAC_lvl</th>\n      <td>[1.0]</td>\n      <td>[2.0]</td>\n      <td>[4.0]</td>\n    </tr>\n    <tr>\n      <th>223867383_2</th>\n      <th>FAC</th>\n      <td>True</td>\n      <td>False</td>\n      <td>True</td>\n    </tr>\n    <tr>\n      <th rowspan=\"2\" valign=\"top\">223867383_3</th>\n      <th>FAC</th>\n      <td>True</td>\n      <td>False</td>\n      <td>False</td>\n    </tr>\n    <tr>\n      <th>FAC_lvl</th>\n      <td>[]</td>\n      <td>[]</td>\n      <td>[3.0]</td>\n    </tr>\n  </tbody>\n</table>\n</div>",
      "text/plain": "annotator                avelli         bos meskers\nsen_id                                             \n147501746_2 STM            True        True   False\n            STM_lvl  [1.0, 0.0]  [1.0, 0.0]      []\n175982538_2 FAC            True       False   False\n175982538_3 FAC            True        True    True\n            FAC_lvl       [1.0]       [2.0]   [4.0]\n223867383_2 FAC            True       False    True\n223867383_3 FAC            True       False   False\n            FAC_lvl          []          []   [3.0]"
     },
     "execution_count": 6,
     "metadata": {},
     "output_type": "execute_result"
    }
   ],
   "source": [
    "# domain\r\n",
    "domain = df.groupby(['sen_id', 'annotator'])[domains].any().stack().unstack(1)\r\n",
    "domain = domain.loc[domain.any(axis=1)]\r\n",
    "\r\n",
    "# levels\r\n",
    "get_levels = lambda g, level: g[level].apply(lambda s: [i for i in s.unique() if i==i])\r\n",
    "grouped = df.groupby(['sen_id', 'annotator'])   \r\n",
    "\r\n",
    "lvl_labels = pd.concat([get_levels(grouped, level) for level in levels], axis=1).stack().unstack(1)\r\n",
    "lvl_labels = lvl_labels.loc[lvl_labels.any(axis=1)]\r\n",
    "\r\n",
    "# overview\r\n",
    "pd.concat([domain, lvl_labels]).sort_index()"
   ]
  },
  {
   "cell_type": "markdown",
   "metadata": {},
   "source": [
    "# Token-level"
   ]
  },
  {
   "cell_type": "code",
   "execution_count": 7,
   "metadata": {},
   "outputs": [
    {
     "data": {
      "text/html": "<div>\n<style scoped>\n    .dataframe tbody tr th:only-of-type {\n        vertical-align: middle;\n    }\n\n    .dataframe tbody tr th {\n        vertical-align: top;\n    }\n\n    .dataframe thead th {\n        text-align: right;\n    }\n</style>\n<table border=\"1\" class=\"dataframe\">\n  <thead>\n    <tr style=\"text-align: right;\">\n      <th></th>\n      <th>sen_id</th>\n      <th>tok</th>\n      <th>token</th>\n      <th>label_avelli</th>\n      <th>relation_avelli</th>\n      <th>label_bos</th>\n      <th>relation_bos</th>\n      <th>label_meskers</th>\n      <th>relation_meskers</th>\n    </tr>\n  </thead>\n  <tbody>\n    <tr>\n      <th>14</th>\n      <td>147501746_2</td>\n      <td>1</td>\n      <td>Mw</td>\n      <td>_</td>\n      <td>_</td>\n      <td>_</td>\n      <td>_</td>\n      <td>NaN</td>\n      <td>NaN</td>\n    </tr>\n    <tr>\n      <th>15</th>\n      <td>147501746_2</td>\n      <td>2</td>\n      <td>was</td>\n      <td>_</td>\n      <td>_</td>\n      <td>_</td>\n      <td>_</td>\n      <td>NaN</td>\n      <td>NaN</td>\n    </tr>\n    <tr>\n      <th>16</th>\n      <td>147501746_2</td>\n      <td>3</td>\n      <td>emotioneel</td>\n      <td>.B152: Stemming[1]|STM 1[2]</td>\n      <td>14-3[2_1]</td>\n      <td>.B152: Stemming[1]|STM 1[2]</td>\n      <td>14-3[2_1]</td>\n      <td>NaN</td>\n      <td>NaN</td>\n    </tr>\n    <tr>\n      <th>17</th>\n      <td>147501746_2</td>\n      <td>4</td>\n      <td>,</td>\n      <td>_</td>\n      <td>_</td>\n      <td>_</td>\n      <td>_</td>\n      <td>NaN</td>\n      <td>NaN</td>\n    </tr>\n    <tr>\n      <th>18</th>\n      <td>147501746_2</td>\n      <td>5</td>\n      <td>schoonzoon</td>\n      <td>stm\\_reaction[3]</td>\n      <td>_</td>\n      <td>_</td>\n      <td>_</td>\n      <td>NaN</td>\n      <td>NaN</td>\n    </tr>\n    <tr>\n      <th>...</th>\n      <td>...</td>\n      <td>...</td>\n      <td>...</td>\n      <td>...</td>\n      <td>...</td>\n      <td>...</td>\n      <td>...</td>\n      <td>...</td>\n      <td>...</td>\n    </tr>\n    <tr>\n      <th>122</th>\n      <td>223867383_3</td>\n      <td>5</td>\n      <td>en</td>\n      <td>type\\_Background[2]</td>\n      <td>_</td>\n      <td>type\\_Background[1]</td>\n      <td>_</td>\n      <td>type\\_Background[2]|type\\_Background[3]</td>\n      <td>_</td>\n    </tr>\n    <tr>\n      <th>123</th>\n      <td>223867383_3</td>\n      <td>6</td>\n      <td>meerdere</td>\n      <td>type\\_Background[2]</td>\n      <td>_</td>\n      <td>type\\_Background[1]</td>\n      <td>_</td>\n      <td>type\\_Background[2]|type\\_Background[3]</td>\n      <td>_</td>\n    </tr>\n    <tr>\n      <th>124</th>\n      <td>223867383_3</td>\n      <td>7</td>\n      <td>malen</td>\n      <td>type\\_Background[2]</td>\n      <td>_</td>\n      <td>type\\_Background[1]</td>\n      <td>_</td>\n      <td>type\\_Background[2]|type\\_Background[3]</td>\n      <td>_</td>\n    </tr>\n    <tr>\n      <th>125</th>\n      <td>223867383_3</td>\n      <td>8</td>\n      <td>gevallen</td>\n      <td>type\\_Background[2]</td>\n      <td>_</td>\n      <td>type\\_Background[1]</td>\n      <td>_</td>\n      <td>type\\_Background[2]|type\\_Background[3]</td>\n      <td>_</td>\n    </tr>\n    <tr>\n      <th>126</th>\n      <td>223867383_3</td>\n      <td>9</td>\n      <td>.</td>\n      <td>type\\_Background[2]</td>\n      <td>_</td>\n      <td>type\\_Background[1]</td>\n      <td>_</td>\n      <td>type\\_Background[2]|type\\_Background[3]</td>\n      <td>_</td>\n    </tr>\n  </tbody>\n</table>\n<p>113 rows × 9 columns</p>\n</div>",
      "text/plain": "          sen_id  tok       token                 label_avelli  \\\n14   147501746_2    1          Mw                            _   \n15   147501746_2    2         was                            _   \n16   147501746_2    3  emotioneel  .B152: Stemming[1]|STM 1[2]   \n17   147501746_2    4           ,                            _   \n18   147501746_2    5  schoonzoon             stm\\_reaction[3]   \n..           ...  ...         ...                          ...   \n122  223867383_3    5          en          type\\_Background[2]   \n123  223867383_3    6    meerdere          type\\_Background[2]   \n124  223867383_3    7       malen          type\\_Background[2]   \n125  223867383_3    8    gevallen          type\\_Background[2]   \n126  223867383_3    9           .          type\\_Background[2]   \n\n    relation_avelli                    label_bos relation_bos  \\\n14                _                            _            _   \n15                _                            _            _   \n16        14-3[2_1]  .B152: Stemming[1]|STM 1[2]    14-3[2_1]   \n17                _                            _            _   \n18                _                            _            _   \n..              ...                          ...          ...   \n122               _          type\\_Background[1]            _   \n123               _          type\\_Background[1]            _   \n124               _          type\\_Background[1]            _   \n125               _          type\\_Background[1]            _   \n126               _          type\\_Background[1]            _   \n\n                               label_meskers relation_meskers  \n14                                       NaN              NaN  \n15                                       NaN              NaN  \n16                                       NaN              NaN  \n17                                       NaN              NaN  \n18                                       NaN              NaN  \n..                                       ...              ...  \n122  type\\_Background[2]|type\\_Background[3]                _  \n123  type\\_Background[2]|type\\_Background[3]                _  \n124  type\\_Background[2]|type\\_Background[3]                _  \n125  type\\_Background[2]|type\\_Background[3]                _  \n126  type\\_Background[2]|type\\_Background[3]                _  \n\n[113 rows x 9 columns]"
     },
     "execution_count": 7,
     "metadata": {},
     "output_type": "execute_result"
    }
   ],
   "source": [
    "cols = ['label', 'relation']\n",
    "idx = ['sen_id', 'tok', 'token']\n",
    "annotators = df.annotator.unique()\n",
    "\n",
    "def assign_annotator(df, annotator):\n",
    "    to_rename = {'label': f'label_{annotator}', 'relation': f'relation_{annotator}'}\n",
    "    return df.set_index(idx).query(f\"annotator == '{annotator}'\")[cols].rename(columns=to_rename)\n",
    "\n",
    "dfs = [assign_annotator(df, ann) for ann in annotators]\n",
    "overview = pd.concat(dfs, axis=1).reset_index()\n",
    "non_empty_rows = overview.iloc[:, 3:].applymap(lambda x: x == x and x != '_').any(axis=1)\n",
    "non_empty_sen_ids = overview.loc[non_empty_rows].sen_id.unique()\n",
    "overview.loc[overview.sen_id.isin(non_empty_sen_ids)]"
   ]
  },
  {
   "cell_type": "code",
   "execution_count": null,
   "metadata": {},
   "outputs": [],
   "source": []
  }
 ],
 "metadata": {
  "kernelspec": {
   "display_name": "Python 3.8.5 64-bit ('zonmw': conda)",
   "metadata": {
    "interpreter": {
     "hash": "5a0a696a2c4562c805ef24bd77b26c70704f51e5d276869b3745fd7123bf8c36"
    }
   },
   "name": "python3"
  },
  "language_info": {
   "codemirror_mode": {
    "name": "ipython",
    "version": 3
   },
   "file_extension": ".py",
   "mimetype": "text/x-python",
   "name": "python",
   "nbconvert_exporter": "python",
   "pygments_lexer": "ipython3",
   "version": "3.8.5-final"
  },
  "orig_nbformat": 2
 },
 "nbformat": 4,
 "nbformat_minor": 2
}