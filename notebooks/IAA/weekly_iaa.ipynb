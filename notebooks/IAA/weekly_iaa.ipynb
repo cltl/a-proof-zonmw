{
 "cells": [
  {
   "cell_type": "code",
   "execution_count": null,
   "metadata": {},
   "outputs": [],
   "source": [
    "import pandas as pd\n",
    "\n",
    "import sys\n",
    "sys.path.insert(0, '../..')\n",
    "from src.utils.latex import show_latex, TABLES"
   ]
  },
  {
   "source": [
    "# Load data"
   ],
   "cell_type": "markdown",
   "metadata": {}
  },
  {
   "cell_type": "code",
   "execution_count": null,
   "metadata": {},
   "outputs": [],
   "source": [
    "df = pd.read_pickle('../../data/from_inception_tsv/annotated_df_week14_part1_parsed.pkl')\n",
    "len(df)"
   ]
  },
  {
   "cell_type": "code",
   "execution_count": null,
   "metadata": {},
   "outputs": [],
   "source": [
    "batch_info = pd.read_pickle('../../data/to_inception_conll/week_14.pkl')"
   ]
  },
  {
   "cell_type": "code",
   "execution_count": null,
   "metadata": {},
   "outputs": [],
   "source": [
    "iaa = batch_info.query(\"samp_meth == 'kwd_iaa'\").NotitieID.unique()\n",
    "df = df.query(\"NotitieID.isin(@iaa)\")\n",
    "len(df)"
   ]
  },
  {
   "cell_type": "code",
   "execution_count": null,
   "metadata": {},
   "outputs": [],
   "source": [
    "levels = [col for col in df.columns if '_lvl' in col]\n",
    "domains = [col[:3] for col in levels]\n",
    "other = ['disregard', 'background', 'target', 'plus']"
   ]
  },
  {
   "cell_type": "code",
   "execution_count": null,
   "metadata": {},
   "outputs": [],
   "source": [
    "pd.set_option('max_columns', None)\n",
    "pd.set_option('max_colwidth', None)"
   ]
  },
  {
   "cell_type": "markdown",
   "metadata": {},
   "source": [
    "# Document-level"
   ]
  },
  {
   "cell_type": "code",
   "execution_count": null,
   "metadata": {},
   "outputs": [],
   "source": [
    "# domain\n",
    "domain = df.groupby(['NotitieID', 'annotator'])[domains].any().stack().unstack(1)\n",
    "domain = domain.loc[domain.any(axis=1)]\n",
    "\n",
    "# levels\n",
    "get_levels = lambda g, level: g[level].apply(lambda s: [i for i in s.unique() if i==i])\n",
    "grouped = df.groupby(['NotitieID', 'annotator'])   \n",
    "\n",
    "lvl_labels = pd.concat([get_levels(grouped, level) for level in levels], axis=1).stack().unstack(1)\n",
    "lvl_labels = lvl_labels.loc[lvl_labels.any(axis=1)]\n",
    "\n",
    "# disregard, background, target, plus\n",
    "othr = df.groupby(['NotitieID', 'annotator'])[other].any().stack().unstack(1)\n",
    "othr = othr.loc[othr.any(axis=1)]\n",
    "\n",
    "# overview\n",
    "overview = pd.concat([domain, lvl_labels, othr]).sort_index()\n",
    "overview"
   ]
  },
  {
   "source": [
    "### Save table per note to latex"
   ],
   "cell_type": "markdown",
   "metadata": {}
  },
  {
   "cell_type": "code",
   "execution_count": null,
   "metadata": {},
   "outputs": [],
   "source": [
    "for noteID in iaa:\n",
    "    caption = f'{noteID} - overview of annotations (document level)'\n",
    "    label = f'{noteID}_overview'\n",
    "    overview.loc[noteID].pipe(show_latex, caption, label, cell_format=str)"
   ]
  },
  {
   "cell_type": "code",
   "execution_count": null,
   "metadata": {},
   "outputs": [],
   "source": [
    "prefix = 'iaa_week_14'\n",
    "for idx, table in enumerate(TABLES):\n",
    "    with open(f'./tables/{prefix}_{idx}.tex', 'w', encoding='utf8') as f:\n",
    "        f.write(table)"
   ]
  },
  {
   "cell_type": "markdown",
   "metadata": {},
   "source": [
    "# Sentence-level"
   ]
  },
  {
   "cell_type": "code",
   "execution_count": null,
   "metadata": {},
   "outputs": [],
   "source": [
    "# domain\n",
    "domain = df.groupby(['sen_id', 'annotator'])[domains].any().stack().unstack(1)\n",
    "domain = domain.loc[domain.any(axis=1)]\n",
    "\n",
    "# levels\n",
    "get_levels = lambda g, level: g[level].apply(lambda s: [i for i in s.unique() if i==i])\n",
    "grouped = df.groupby(['sen_id', 'annotator'])   \n",
    "\n",
    "lvl_labels = pd.concat([get_levels(grouped, level) for level in levels], axis=1).stack().unstack(1)\n",
    "lvl_labels = lvl_labels.loc[lvl_labels.any(axis=1)]\n",
    "\n",
    "# disregard, background, target, plus\n",
    "othr = df.groupby(['sen_id', 'annotator'])[other].any().stack().unstack(1)\n",
    "othr = othr.loc[othr.any(axis=1)]\n",
    "\n",
    "# overview\n",
    "pd.concat([domain, lvl_labels, othr]).sort_index()"
   ]
  },
  {
   "cell_type": "markdown",
   "metadata": {},
   "source": [
    "# Token-level"
   ]
  },
  {
   "cell_type": "code",
   "execution_count": null,
   "metadata": {},
   "outputs": [],
   "source": [
    "cols = ['label', 'relation']\n",
    "idx = ['sen_id', 'tok', 'token']\n",
    "annotators = df.annotator.unique()\n",
    "\n",
    "def assign_annotator(df, annotator):\n",
    "    to_rename = {'label': f'label_{annotator}', 'relation': f'relation_{annotator}'}\n",
    "    return df.set_index(idx).query(f\"annotator == '{annotator}'\")[cols].rename(columns=to_rename)\n",
    "\n",
    "dfs = [assign_annotator(df, ann) for ann in annotators]\n",
    "overview = pd.concat(dfs, axis=1).reset_index()\n",
    "non_empty_rows = overview.iloc[:, 3:].applymap(lambda x: x == x and x != '_').any(axis=1)\n",
    "non_empty_sen_ids = overview.loc[non_empty_rows].sen_id.unique()\n",
    "overview.loc[overview.sen_id.isin(non_empty_sen_ids)]"
   ]
  },
  {
   "cell_type": "code",
   "execution_count": null,
   "metadata": {},
   "outputs": [],
   "source": [
    "sen_id = '428039733_114'\n",
    "annotator = 'meskers'\n",
    "df.query(\"(sen_id == @sen_id) & (annotator == @annotator)\")"
   ]
  },
  {
   "cell_type": "code",
   "execution_count": null,
   "metadata": {},
   "outputs": [],
   "source": []
  }
 ],
 "metadata": {
  "kernelspec": {
   "name": "python3",
   "display_name": "Python 3.8.5 64-bit ('zonmw': conda)",
   "metadata": {
    "interpreter": {
     "hash": "5a0a696a2c4562c805ef24bd77b26c70704f51e5d276869b3745fd7123bf8c36"
    }
   }
  },
  "language_info": {
   "codemirror_mode": {
    "name": "ipython",
    "version": 3
   },
   "file_extension": ".py",
   "mimetype": "text/x-python",
   "name": "python",
   "nbconvert_exporter": "python",
   "pygments_lexer": "ipython3",
   "version": "3.8.5-final"
  },
  "orig_nbformat": 2
 },
 "nbformat": 4,
 "nbformat_minor": 2
}