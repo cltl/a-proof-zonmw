{
 "cells": [
  {
   "cell_type": "code",
   "execution_count": 1,
   "metadata": {},
   "outputs": [],
   "source": [
    "import pandas as pd\n",
    "\n",
    "import sys\n",
    "sys.path.insert(0, '../..')\n",
    "from src.utils.latex import show_latex, TABLES"
   ]
  },
  {
   "source": [
    "# Load data"
   ],
   "cell_type": "markdown",
   "metadata": {}
  },
  {
   "cell_type": "code",
   "execution_count": 2,
   "metadata": {},
   "outputs": [],
   "source": [
    "week = 'week_18'"
   ]
  },
  {
   "cell_type": "code",
   "execution_count": 3,
   "metadata": {},
   "outputs": [
    {
     "output_type": "execute_result",
     "data": {
      "text/plain": [
       "245525"
      ]
     },
     "metadata": {},
     "execution_count": 3
    }
   ],
   "source": [
    "df = pd.read_pickle(f'../../data/from_inception_tsv/annotated_df_{week}_parsed.pkl')\n",
    "ze = pd.read_pickle('../../data/from_inception_tsv/annotated_df_ze_iaa_files_parsed.pkl')\n",
    "df = pd.concat([df, ze])\n",
    "len(df)"
   ]
  },
  {
   "cell_type": "code",
   "execution_count": 4,
   "metadata": {},
   "outputs": [],
   "source": [
    "batch_info = pd.read_pickle(f'../../data/to_inception_conll/{week}.pkl')"
   ]
  },
  {
   "cell_type": "code",
   "execution_count": 5,
   "metadata": {},
   "outputs": [
    {
     "output_type": "execute_result",
     "data": {
      "text/plain": [
       "8987"
      ]
     },
     "metadata": {},
     "execution_count": 5
    }
   ],
   "source": [
    "iaa = batch_info.query(\"samp_meth == 'kwd_iaa'\").NotitieID.unique()\n",
    "df = df.query(\"NotitieID.isin(@iaa)\")\n",
    "len(df)"
   ]
  },
  {
   "cell_type": "code",
   "execution_count": 6,
   "metadata": {},
   "outputs": [],
   "source": [
    "levels = [col for col in df.columns if '_lvl' in col]\n",
    "domains = [col[:3] for col in levels]\n",
    "other = ['disregard', 'background', 'target', 'plus']"
   ]
  },
  {
   "cell_type": "code",
   "execution_count": 7,
   "metadata": {},
   "outputs": [],
   "source": [
    "pd.set_option('max_columns', None)\n",
    "pd.set_option('max_colwidth', None)"
   ]
  },
  {
   "cell_type": "markdown",
   "metadata": {},
   "source": [
    "# Document-level"
   ]
  },
  {
   "cell_type": "code",
   "execution_count": 8,
   "metadata": {},
   "outputs": [
    {
     "output_type": "execute_result",
     "data": {
      "text/plain": [
       "annotator                 avelli       edwin katsburg     meskers opsomer  \\\n",
       "NotitieID                                                                   \n",
       "413949805 ADM               True        True     True        True   False   \n",
       "          ADM_lvl          [4.0]       [4.0]    [4.0]       [4.0]      []   \n",
       "          ENR               True       False     True        True   False   \n",
       "          ENR_lvl          [4.0]          []    [4.0]       [4.0]      []   \n",
       "          disregard        False       False    False       False    True   \n",
       "433007000 ADM               True        True     True        True    True   \n",
       "          ADM_lvl     [4.0, 3.0]       [4.0]    [4.0]       [4.0]   [4.0]   \n",
       "          ENR              False       False    False        True   False   \n",
       "          ENR_lvl             []          []       []       [3.0]      []   \n",
       "          ETN               True       False     True       False   False   \n",
       "          ETN_lvl     [3.0, 4.0]          []    [3.0]          []      []   \n",
       "          INS              False        True    False       False   False   \n",
       "          INS_lvl             []       [2.0]       []          []      []   \n",
       "          STM              False        True    False       False   False   \n",
       "          STM_lvl             []       [4.0]       []          []      []   \n",
       "435165836 ADM              False       False     True       False   False   \n",
       "          ADM_lvl             []          []    [4.0]          []      []   \n",
       "          BER               True        True    False        True   False   \n",
       "          BER_lvl     [2.0, 0.0]  [2.0, 0.0]       []       [0.0]      []   \n",
       "          ETN               True        True    False       False   False   \n",
       "          ETN_lvl     [4.0, 2.0]       [2.0]       []          []      []   \n",
       "          INS               True        True    False        True   False   \n",
       "          INS_lvl     [5.0, 3.0]       [3.0]       []  [5.0, 3.0]      []   \n",
       "          MBW               True        True     True        True   False   \n",
       "          MBW_lvl          [2.0]       [3.0]    [3.0]       [4.0]      []   \n",
       "          background       False       False    False        True   False   \n",
       "\n",
       "annotator               ron    vervaart  \n",
       "NotitieID                                \n",
       "413949805 ADM         False        True  \n",
       "          ADM_lvl        []       [4.0]  \n",
       "          ENR          True        True  \n",
       "          ENR_lvl     [1.0]       [4.0]  \n",
       "          disregard   False       False  \n",
       "433007000 ADM         False        True  \n",
       "          ADM_lvl        []       [4.0]  \n",
       "          ENR         False       False  \n",
       "          ENR_lvl        []          []  \n",
       "          ETN          True        True  \n",
       "          ETN_lvl     [3.0]       [3.0]  \n",
       "          INS         False       False  \n",
       "          INS_lvl        []          []  \n",
       "          STM         False       False  \n",
       "          STM_lvl        []          []  \n",
       "435165836 ADM          True       False  \n",
       "          ADM_lvl     [4.0]          []  \n",
       "          BER         False       False  \n",
       "          BER_lvl        []          []  \n",
       "          ETN          True       False  \n",
       "          ETN_lvl     [4.0]          []  \n",
       "          INS          True        True  \n",
       "          INS_lvl     [4.0]  [5.0, 4.0]  \n",
       "          MBW         False        True  \n",
       "          MBW_lvl        []  [4.0, 3.0]  \n",
       "          background  False       False  "
      ],
      "text/html": "<div>\n<style scoped>\n    .dataframe tbody tr th:only-of-type {\n        vertical-align: middle;\n    }\n\n    .dataframe tbody tr th {\n        vertical-align: top;\n    }\n\n    .dataframe thead th {\n        text-align: right;\n    }\n</style>\n<table border=\"1\" class=\"dataframe\">\n  <thead>\n    <tr style=\"text-align: right;\">\n      <th></th>\n      <th>annotator</th>\n      <th>avelli</th>\n      <th>edwin</th>\n      <th>katsburg</th>\n      <th>meskers</th>\n      <th>opsomer</th>\n      <th>ron</th>\n      <th>vervaart</th>\n    </tr>\n    <tr>\n      <th>NotitieID</th>\n      <th></th>\n      <th></th>\n      <th></th>\n      <th></th>\n      <th></th>\n      <th></th>\n      <th></th>\n      <th></th>\n    </tr>\n  </thead>\n  <tbody>\n    <tr>\n      <th rowspan=\"5\" valign=\"top\">413949805</th>\n      <th>ADM</th>\n      <td>True</td>\n      <td>True</td>\n      <td>True</td>\n      <td>True</td>\n      <td>False</td>\n      <td>False</td>\n      <td>True</td>\n    </tr>\n    <tr>\n      <th>ADM_lvl</th>\n      <td>[4.0]</td>\n      <td>[4.0]</td>\n      <td>[4.0]</td>\n      <td>[4.0]</td>\n      <td>[]</td>\n      <td>[]</td>\n      <td>[4.0]</td>\n    </tr>\n    <tr>\n      <th>ENR</th>\n      <td>True</td>\n      <td>False</td>\n      <td>True</td>\n      <td>True</td>\n      <td>False</td>\n      <td>True</td>\n      <td>True</td>\n    </tr>\n    <tr>\n      <th>ENR_lvl</th>\n      <td>[4.0]</td>\n      <td>[]</td>\n      <td>[4.0]</td>\n      <td>[4.0]</td>\n      <td>[]</td>\n      <td>[1.0]</td>\n      <td>[4.0]</td>\n    </tr>\n    <tr>\n      <th>disregard</th>\n      <td>False</td>\n      <td>False</td>\n      <td>False</td>\n      <td>False</td>\n      <td>True</td>\n      <td>False</td>\n      <td>False</td>\n    </tr>\n    <tr>\n      <th rowspan=\"10\" valign=\"top\">433007000</th>\n      <th>ADM</th>\n      <td>True</td>\n      <td>True</td>\n      <td>True</td>\n      <td>True</td>\n      <td>True</td>\n      <td>False</td>\n      <td>True</td>\n    </tr>\n    <tr>\n      <th>ADM_lvl</th>\n      <td>[4.0, 3.0]</td>\n      <td>[4.0]</td>\n      <td>[4.0]</td>\n      <td>[4.0]</td>\n      <td>[4.0]</td>\n      <td>[]</td>\n      <td>[4.0]</td>\n    </tr>\n    <tr>\n      <th>ENR</th>\n      <td>False</td>\n      <td>False</td>\n      <td>False</td>\n      <td>True</td>\n      <td>False</td>\n      <td>False</td>\n      <td>False</td>\n    </tr>\n    <tr>\n      <th>ENR_lvl</th>\n      <td>[]</td>\n      <td>[]</td>\n      <td>[]</td>\n      <td>[3.0]</td>\n      <td>[]</td>\n      <td>[]</td>\n      <td>[]</td>\n    </tr>\n    <tr>\n      <th>ETN</th>\n      <td>True</td>\n      <td>False</td>\n      <td>True</td>\n      <td>False</td>\n      <td>False</td>\n      <td>True</td>\n      <td>True</td>\n    </tr>\n    <tr>\n      <th>ETN_lvl</th>\n      <td>[3.0, 4.0]</td>\n      <td>[]</td>\n      <td>[3.0]</td>\n      <td>[]</td>\n      <td>[]</td>\n      <td>[3.0]</td>\n      <td>[3.0]</td>\n    </tr>\n    <tr>\n      <th>INS</th>\n      <td>False</td>\n      <td>True</td>\n      <td>False</td>\n      <td>False</td>\n      <td>False</td>\n      <td>False</td>\n      <td>False</td>\n    </tr>\n    <tr>\n      <th>INS_lvl</th>\n      <td>[]</td>\n      <td>[2.0]</td>\n      <td>[]</td>\n      <td>[]</td>\n      <td>[]</td>\n      <td>[]</td>\n      <td>[]</td>\n    </tr>\n    <tr>\n      <th>STM</th>\n      <td>False</td>\n      <td>True</td>\n      <td>False</td>\n      <td>False</td>\n      <td>False</td>\n      <td>False</td>\n      <td>False</td>\n    </tr>\n    <tr>\n      <th>STM_lvl</th>\n      <td>[]</td>\n      <td>[4.0]</td>\n      <td>[]</td>\n      <td>[]</td>\n      <td>[]</td>\n      <td>[]</td>\n      <td>[]</td>\n    </tr>\n    <tr>\n      <th rowspan=\"11\" valign=\"top\">435165836</th>\n      <th>ADM</th>\n      <td>False</td>\n      <td>False</td>\n      <td>True</td>\n      <td>False</td>\n      <td>False</td>\n      <td>True</td>\n      <td>False</td>\n    </tr>\n    <tr>\n      <th>ADM_lvl</th>\n      <td>[]</td>\n      <td>[]</td>\n      <td>[4.0]</td>\n      <td>[]</td>\n      <td>[]</td>\n      <td>[4.0]</td>\n      <td>[]</td>\n    </tr>\n    <tr>\n      <th>BER</th>\n      <td>True</td>\n      <td>True</td>\n      <td>False</td>\n      <td>True</td>\n      <td>False</td>\n      <td>False</td>\n      <td>False</td>\n    </tr>\n    <tr>\n      <th>BER_lvl</th>\n      <td>[2.0, 0.0]</td>\n      <td>[2.0, 0.0]</td>\n      <td>[]</td>\n      <td>[0.0]</td>\n      <td>[]</td>\n      <td>[]</td>\n      <td>[]</td>\n    </tr>\n    <tr>\n      <th>ETN</th>\n      <td>True</td>\n      <td>True</td>\n      <td>False</td>\n      <td>False</td>\n      <td>False</td>\n      <td>True</td>\n      <td>False</td>\n    </tr>\n    <tr>\n      <th>ETN_lvl</th>\n      <td>[4.0, 2.0]</td>\n      <td>[2.0]</td>\n      <td>[]</td>\n      <td>[]</td>\n      <td>[]</td>\n      <td>[4.0]</td>\n      <td>[]</td>\n    </tr>\n    <tr>\n      <th>INS</th>\n      <td>True</td>\n      <td>True</td>\n      <td>False</td>\n      <td>True</td>\n      <td>False</td>\n      <td>True</td>\n      <td>True</td>\n    </tr>\n    <tr>\n      <th>INS_lvl</th>\n      <td>[5.0, 3.0]</td>\n      <td>[3.0]</td>\n      <td>[]</td>\n      <td>[5.0, 3.0]</td>\n      <td>[]</td>\n      <td>[4.0]</td>\n      <td>[5.0, 4.0]</td>\n    </tr>\n    <tr>\n      <th>MBW</th>\n      <td>True</td>\n      <td>True</td>\n      <td>True</td>\n      <td>True</td>\n      <td>False</td>\n      <td>False</td>\n      <td>True</td>\n    </tr>\n    <tr>\n      <th>MBW_lvl</th>\n      <td>[2.0]</td>\n      <td>[3.0]</td>\n      <td>[3.0]</td>\n      <td>[4.0]</td>\n      <td>[]</td>\n      <td>[]</td>\n      <td>[4.0, 3.0]</td>\n    </tr>\n    <tr>\n      <th>background</th>\n      <td>False</td>\n      <td>False</td>\n      <td>False</td>\n      <td>True</td>\n      <td>False</td>\n      <td>False</td>\n      <td>False</td>\n    </tr>\n  </tbody>\n</table>\n</div>"
     },
     "metadata": {},
     "execution_count": 8
    }
   ],
   "source": [
    "# domain\n",
    "domain = df.groupby(['NotitieID', 'annotator'])[domains].any().stack().unstack(1)\n",
    "domain = domain.loc[domain.any(axis=1)]\n",
    "\n",
    "# levels\n",
    "get_levels = lambda g, level: g[level].apply(lambda s: [i for i in s.unique() if i==i])\n",
    "grouped = df.groupby(['NotitieID', 'annotator'])   \n",
    "\n",
    "lvl_labels = pd.concat([get_levels(grouped, level) for level in levels], axis=1).stack().unstack(1)\n",
    "lvl_labels = lvl_labels.loc[lvl_labels.any(axis=1)]\n",
    "\n",
    "# disregard, background, target, plus\n",
    "othr = df.groupby(['NotitieID', 'annotator'])[other].any().stack().unstack(1)\n",
    "othr = othr.loc[othr.any(axis=1)]\n",
    "\n",
    "# overview\n",
    "doc_overview = pd.concat([domain, lvl_labels, othr]).sort_index()\n",
    "doc_overview"
   ]
  },
  {
   "source": [
    "### Save table per note to latex"
   ],
   "cell_type": "markdown",
   "metadata": {}
  },
  {
   "cell_type": "code",
   "execution_count": 9,
   "metadata": {},
   "outputs": [],
   "source": [
    "for noteID in iaa:\n",
    "    caption = f'{noteID} - overview of annotations (document level)'\n",
    "    label = f'{noteID}_overview'\n",
    "    doc_overview.loc[noteID].pipe(show_latex, caption, label, cell_format=str)"
   ]
  },
  {
   "cell_type": "code",
   "execution_count": 10,
   "metadata": {},
   "outputs": [],
   "source": [
    "prefix = f'iaa_{week}'\n",
    "for idx, table in enumerate(TABLES):\n",
    "    with open(f'./tables/{prefix}_{idx}.tex', 'w', encoding='utf8') as f:\n",
    "        f.write(table)"
   ]
  },
  {
   "cell_type": "markdown",
   "metadata": {},
   "source": [
    "# Sentence-level"
   ]
  },
  {
   "cell_type": "code",
   "execution_count": 11,
   "metadata": {},
   "outputs": [
    {
     "output_type": "execute_result",
     "data": {
      "text/plain": [
       "annotator               avelli  edwin katsburg meskers opsomer    ron vervaart\n",
       "sen_id                                                                        \n",
       "413949805_1  disregard   False  False    False   False    True  False    False\n",
       "413949805_15 ADM          True   True     True    True   False  False     True\n",
       "             ADM_lvl        []     []    [4.0]   [4.0]      []     []       []\n",
       "413949805_16 ADM_lvl     [4.0]  [4.0]    [4.0]   [4.0]      []     []    [4.0]\n",
       "413949805_21 ENR          True  False     True    True   False   True     True\n",
       "             ENR_lvl        []     []    [4.0]   [4.0]      []  [1.0]       []\n",
       "413949805_22 ENR_lvl     [4.0]     []    [4.0]   [4.0]      []     []    [4.0]\n",
       "433007000_10 STM         False   True    False   False   False  False    False\n",
       "             STM_lvl        []  [4.0]       []      []      []     []       []\n",
       "433007000_19 ADM          True   True     True    True    True  False     True\n",
       "433007000_20 ADM_lvl     [4.0]  [4.0]    [4.0]   [4.0]   [4.0]     []    [4.0]\n",
       "433007000_22 ADM          True  False    False   False   False  False    False\n",
       "433007000_23 ADM_lvl     [3.0]     []       []      []      []     []       []\n",
       "433007000_3  ETN          True  False     True   False   False   True    False\n",
       "             ETN_lvl     [3.0]     []    [3.0]      []      []  [3.0]       []\n",
       "433007000_5  ETN          True  False    False   False   False  False    False\n",
       "             ETN_lvl     [4.0]     []       []      []      []     []       []\n",
       "433007000_6  ETN         False  False    False   False   False  False     True\n",
       "             ETN_lvl        []     []       []      []      []     []    [3.0]\n",
       "433007000_8  ENR         False  False    False    True   False  False    False\n",
       "             ENR_lvl        []     []       []   [3.0]      []     []       []\n",
       "             INS         False   True    False   False   False  False    False\n",
       "             INS_lvl        []  [2.0]       []      []      []     []       []\n",
       "435165836_39 INS          True   True    False    True   False   True     True\n",
       "             INS_lvl     [5.0]  [3.0]       []   [5.0]      []  [4.0]    [5.0]\n",
       "435165836_42 ADM         False  False     True   False   False  False    False\n",
       "             ADM_lvl        []     []    [4.0]      []      []     []       []\n",
       "435165836_43 ETN          True  False    False   False   False   True    False\n",
       "             ETN_lvl     [4.0]     []       []      []      []  [4.0]       []\n",
       "             MBW         False   True    False    True   False  False     True\n",
       "             MBW_lvl        []  [3.0]       []   [4.0]      []     []    [4.0]\n",
       "435165836_44 MBW          True  False     True   False   False  False     True\n",
       "             MBW_lvl     [2.0]     []    [3.0]      []      []     []    [3.0]\n",
       "             background  False  False    False    True   False  False    False\n",
       "435165836_45 ETN          True   True    False   False   False  False    False\n",
       "             ETN_lvl     [2.0]  [2.0]       []      []      []     []       []\n",
       "435165836_52 INS          True   True    False    True   False  False     True\n",
       "             INS_lvl     [3.0]  [3.0]       []   [3.0]      []     []    [4.0]\n",
       "435165836_63 BER          True   True    False   False   False  False    False\n",
       "             BER_lvl     [2.0]  [2.0]       []      []      []     []       []\n",
       "             background  False  False    False    True   False  False    False\n",
       "435165836_64 BER          True   True    False    True   False  False    False\n",
       "             BER_lvl     [0.0]  [0.0]       []   [0.0]      []     []       []\n",
       "435165836_93 ADM         False  False    False   False   False   True    False\n",
       "             ADM_lvl        []     []       []      []      []  [4.0]       []"
      ],
      "text/html": "<div>\n<style scoped>\n    .dataframe tbody tr th:only-of-type {\n        vertical-align: middle;\n    }\n\n    .dataframe tbody tr th {\n        vertical-align: top;\n    }\n\n    .dataframe thead th {\n        text-align: right;\n    }\n</style>\n<table border=\"1\" class=\"dataframe\">\n  <thead>\n    <tr style=\"text-align: right;\">\n      <th></th>\n      <th>annotator</th>\n      <th>avelli</th>\n      <th>edwin</th>\n      <th>katsburg</th>\n      <th>meskers</th>\n      <th>opsomer</th>\n      <th>ron</th>\n      <th>vervaart</th>\n    </tr>\n    <tr>\n      <th>sen_id</th>\n      <th></th>\n      <th></th>\n      <th></th>\n      <th></th>\n      <th></th>\n      <th></th>\n      <th></th>\n      <th></th>\n    </tr>\n  </thead>\n  <tbody>\n    <tr>\n      <th>413949805_1</th>\n      <th>disregard</th>\n      <td>False</td>\n      <td>False</td>\n      <td>False</td>\n      <td>False</td>\n      <td>True</td>\n      <td>False</td>\n      <td>False</td>\n    </tr>\n    <tr>\n      <th rowspan=\"2\" valign=\"top\">413949805_15</th>\n      <th>ADM</th>\n      <td>True</td>\n      <td>True</td>\n      <td>True</td>\n      <td>True</td>\n      <td>False</td>\n      <td>False</td>\n      <td>True</td>\n    </tr>\n    <tr>\n      <th>ADM_lvl</th>\n      <td>[]</td>\n      <td>[]</td>\n      <td>[4.0]</td>\n      <td>[4.0]</td>\n      <td>[]</td>\n      <td>[]</td>\n      <td>[]</td>\n    </tr>\n    <tr>\n      <th>413949805_16</th>\n      <th>ADM_lvl</th>\n      <td>[4.0]</td>\n      <td>[4.0]</td>\n      <td>[4.0]</td>\n      <td>[4.0]</td>\n      <td>[]</td>\n      <td>[]</td>\n      <td>[4.0]</td>\n    </tr>\n    <tr>\n      <th rowspan=\"2\" valign=\"top\">413949805_21</th>\n      <th>ENR</th>\n      <td>True</td>\n      <td>False</td>\n      <td>True</td>\n      <td>True</td>\n      <td>False</td>\n      <td>True</td>\n      <td>True</td>\n    </tr>\n    <tr>\n      <th>ENR_lvl</th>\n      <td>[]</td>\n      <td>[]</td>\n      <td>[4.0]</td>\n      <td>[4.0]</td>\n      <td>[]</td>\n      <td>[1.0]</td>\n      <td>[]</td>\n    </tr>\n    <tr>\n      <th>413949805_22</th>\n      <th>ENR_lvl</th>\n      <td>[4.0]</td>\n      <td>[]</td>\n      <td>[4.0]</td>\n      <td>[4.0]</td>\n      <td>[]</td>\n      <td>[]</td>\n      <td>[4.0]</td>\n    </tr>\n    <tr>\n      <th rowspan=\"2\" valign=\"top\">433007000_10</th>\n      <th>STM</th>\n      <td>False</td>\n      <td>True</td>\n      <td>False</td>\n      <td>False</td>\n      <td>False</td>\n      <td>False</td>\n      <td>False</td>\n    </tr>\n    <tr>\n      <th>STM_lvl</th>\n      <td>[]</td>\n      <td>[4.0]</td>\n      <td>[]</td>\n      <td>[]</td>\n      <td>[]</td>\n      <td>[]</td>\n      <td>[]</td>\n    </tr>\n    <tr>\n      <th>433007000_19</th>\n      <th>ADM</th>\n      <td>True</td>\n      <td>True</td>\n      <td>True</td>\n      <td>True</td>\n      <td>True</td>\n      <td>False</td>\n      <td>True</td>\n    </tr>\n    <tr>\n      <th>433007000_20</th>\n      <th>ADM_lvl</th>\n      <td>[4.0]</td>\n      <td>[4.0]</td>\n      <td>[4.0]</td>\n      <td>[4.0]</td>\n      <td>[4.0]</td>\n      <td>[]</td>\n      <td>[4.0]</td>\n    </tr>\n    <tr>\n      <th>433007000_22</th>\n      <th>ADM</th>\n      <td>True</td>\n      <td>False</td>\n      <td>False</td>\n      <td>False</td>\n      <td>False</td>\n      <td>False</td>\n      <td>False</td>\n    </tr>\n    <tr>\n      <th>433007000_23</th>\n      <th>ADM_lvl</th>\n      <td>[3.0]</td>\n      <td>[]</td>\n      <td>[]</td>\n      <td>[]</td>\n      <td>[]</td>\n      <td>[]</td>\n      <td>[]</td>\n    </tr>\n    <tr>\n      <th rowspan=\"2\" valign=\"top\">433007000_3</th>\n      <th>ETN</th>\n      <td>True</td>\n      <td>False</td>\n      <td>True</td>\n      <td>False</td>\n      <td>False</td>\n      <td>True</td>\n      <td>False</td>\n    </tr>\n    <tr>\n      <th>ETN_lvl</th>\n      <td>[3.0]</td>\n      <td>[]</td>\n      <td>[3.0]</td>\n      <td>[]</td>\n      <td>[]</td>\n      <td>[3.0]</td>\n      <td>[]</td>\n    </tr>\n    <tr>\n      <th rowspan=\"2\" valign=\"top\">433007000_5</th>\n      <th>ETN</th>\n      <td>True</td>\n      <td>False</td>\n      <td>False</td>\n      <td>False</td>\n      <td>False</td>\n      <td>False</td>\n      <td>False</td>\n    </tr>\n    <tr>\n      <th>ETN_lvl</th>\n      <td>[4.0]</td>\n      <td>[]</td>\n      <td>[]</td>\n      <td>[]</td>\n      <td>[]</td>\n      <td>[]</td>\n      <td>[]</td>\n    </tr>\n    <tr>\n      <th rowspan=\"2\" valign=\"top\">433007000_6</th>\n      <th>ETN</th>\n      <td>False</td>\n      <td>False</td>\n      <td>False</td>\n      <td>False</td>\n      <td>False</td>\n      <td>False</td>\n      <td>True</td>\n    </tr>\n    <tr>\n      <th>ETN_lvl</th>\n      <td>[]</td>\n      <td>[]</td>\n      <td>[]</td>\n      <td>[]</td>\n      <td>[]</td>\n      <td>[]</td>\n      <td>[3.0]</td>\n    </tr>\n    <tr>\n      <th rowspan=\"4\" valign=\"top\">433007000_8</th>\n      <th>ENR</th>\n      <td>False</td>\n      <td>False</td>\n      <td>False</td>\n      <td>True</td>\n      <td>False</td>\n      <td>False</td>\n      <td>False</td>\n    </tr>\n    <tr>\n      <th>ENR_lvl</th>\n      <td>[]</td>\n      <td>[]</td>\n      <td>[]</td>\n      <td>[3.0]</td>\n      <td>[]</td>\n      <td>[]</td>\n      <td>[]</td>\n    </tr>\n    <tr>\n      <th>INS</th>\n      <td>False</td>\n      <td>True</td>\n      <td>False</td>\n      <td>False</td>\n      <td>False</td>\n      <td>False</td>\n      <td>False</td>\n    </tr>\n    <tr>\n      <th>INS_lvl</th>\n      <td>[]</td>\n      <td>[2.0]</td>\n      <td>[]</td>\n      <td>[]</td>\n      <td>[]</td>\n      <td>[]</td>\n      <td>[]</td>\n    </tr>\n    <tr>\n      <th rowspan=\"2\" valign=\"top\">435165836_39</th>\n      <th>INS</th>\n      <td>True</td>\n      <td>True</td>\n      <td>False</td>\n      <td>True</td>\n      <td>False</td>\n      <td>True</td>\n      <td>True</td>\n    </tr>\n    <tr>\n      <th>INS_lvl</th>\n      <td>[5.0]</td>\n      <td>[3.0]</td>\n      <td>[]</td>\n      <td>[5.0]</td>\n      <td>[]</td>\n      <td>[4.0]</td>\n      <td>[5.0]</td>\n    </tr>\n    <tr>\n      <th rowspan=\"2\" valign=\"top\">435165836_42</th>\n      <th>ADM</th>\n      <td>False</td>\n      <td>False</td>\n      <td>True</td>\n      <td>False</td>\n      <td>False</td>\n      <td>False</td>\n      <td>False</td>\n    </tr>\n    <tr>\n      <th>ADM_lvl</th>\n      <td>[]</td>\n      <td>[]</td>\n      <td>[4.0]</td>\n      <td>[]</td>\n      <td>[]</td>\n      <td>[]</td>\n      <td>[]</td>\n    </tr>\n    <tr>\n      <th rowspan=\"4\" valign=\"top\">435165836_43</th>\n      <th>ETN</th>\n      <td>True</td>\n      <td>False</td>\n      <td>False</td>\n      <td>False</td>\n      <td>False</td>\n      <td>True</td>\n      <td>False</td>\n    </tr>\n    <tr>\n      <th>ETN_lvl</th>\n      <td>[4.0]</td>\n      <td>[]</td>\n      <td>[]</td>\n      <td>[]</td>\n      <td>[]</td>\n      <td>[4.0]</td>\n      <td>[]</td>\n    </tr>\n    <tr>\n      <th>MBW</th>\n      <td>False</td>\n      <td>True</td>\n      <td>False</td>\n      <td>True</td>\n      <td>False</td>\n      <td>False</td>\n      <td>True</td>\n    </tr>\n    <tr>\n      <th>MBW_lvl</th>\n      <td>[]</td>\n      <td>[3.0]</td>\n      <td>[]</td>\n      <td>[4.0]</td>\n      <td>[]</td>\n      <td>[]</td>\n      <td>[4.0]</td>\n    </tr>\n    <tr>\n      <th rowspan=\"3\" valign=\"top\">435165836_44</th>\n      <th>MBW</th>\n      <td>True</td>\n      <td>False</td>\n      <td>True</td>\n      <td>False</td>\n      <td>False</td>\n      <td>False</td>\n      <td>True</td>\n    </tr>\n    <tr>\n      <th>MBW_lvl</th>\n      <td>[2.0]</td>\n      <td>[]</td>\n      <td>[3.0]</td>\n      <td>[]</td>\n      <td>[]</td>\n      <td>[]</td>\n      <td>[3.0]</td>\n    </tr>\n    <tr>\n      <th>background</th>\n      <td>False</td>\n      <td>False</td>\n      <td>False</td>\n      <td>True</td>\n      <td>False</td>\n      <td>False</td>\n      <td>False</td>\n    </tr>\n    <tr>\n      <th rowspan=\"2\" valign=\"top\">435165836_45</th>\n      <th>ETN</th>\n      <td>True</td>\n      <td>True</td>\n      <td>False</td>\n      <td>False</td>\n      <td>False</td>\n      <td>False</td>\n      <td>False</td>\n    </tr>\n    <tr>\n      <th>ETN_lvl</th>\n      <td>[2.0]</td>\n      <td>[2.0]</td>\n      <td>[]</td>\n      <td>[]</td>\n      <td>[]</td>\n      <td>[]</td>\n      <td>[]</td>\n    </tr>\n    <tr>\n      <th rowspan=\"2\" valign=\"top\">435165836_52</th>\n      <th>INS</th>\n      <td>True</td>\n      <td>True</td>\n      <td>False</td>\n      <td>True</td>\n      <td>False</td>\n      <td>False</td>\n      <td>True</td>\n    </tr>\n    <tr>\n      <th>INS_lvl</th>\n      <td>[3.0]</td>\n      <td>[3.0]</td>\n      <td>[]</td>\n      <td>[3.0]</td>\n      <td>[]</td>\n      <td>[]</td>\n      <td>[4.0]</td>\n    </tr>\n    <tr>\n      <th rowspan=\"3\" valign=\"top\">435165836_63</th>\n      <th>BER</th>\n      <td>True</td>\n      <td>True</td>\n      <td>False</td>\n      <td>False</td>\n      <td>False</td>\n      <td>False</td>\n      <td>False</td>\n    </tr>\n    <tr>\n      <th>BER_lvl</th>\n      <td>[2.0]</td>\n      <td>[2.0]</td>\n      <td>[]</td>\n      <td>[]</td>\n      <td>[]</td>\n      <td>[]</td>\n      <td>[]</td>\n    </tr>\n    <tr>\n      <th>background</th>\n      <td>False</td>\n      <td>False</td>\n      <td>False</td>\n      <td>True</td>\n      <td>False</td>\n      <td>False</td>\n      <td>False</td>\n    </tr>\n    <tr>\n      <th rowspan=\"2\" valign=\"top\">435165836_64</th>\n      <th>BER</th>\n      <td>True</td>\n      <td>True</td>\n      <td>False</td>\n      <td>True</td>\n      <td>False</td>\n      <td>False</td>\n      <td>False</td>\n    </tr>\n    <tr>\n      <th>BER_lvl</th>\n      <td>[0.0]</td>\n      <td>[0.0]</td>\n      <td>[]</td>\n      <td>[0.0]</td>\n      <td>[]</td>\n      <td>[]</td>\n      <td>[]</td>\n    </tr>\n    <tr>\n      <th rowspan=\"2\" valign=\"top\">435165836_93</th>\n      <th>ADM</th>\n      <td>False</td>\n      <td>False</td>\n      <td>False</td>\n      <td>False</td>\n      <td>False</td>\n      <td>True</td>\n      <td>False</td>\n    </tr>\n    <tr>\n      <th>ADM_lvl</th>\n      <td>[]</td>\n      <td>[]</td>\n      <td>[]</td>\n      <td>[]</td>\n      <td>[]</td>\n      <td>[4.0]</td>\n      <td>[]</td>\n    </tr>\n  </tbody>\n</table>\n</div>"
     },
     "metadata": {},
     "execution_count": 11
    }
   ],
   "source": [
    "# domain\n",
    "domain = df.groupby(['sen_id', 'annotator'])[domains].any().stack().unstack(1)\n",
    "domain = domain.loc[domain.any(axis=1)]\n",
    "\n",
    "# levels\n",
    "get_levels = lambda g, level: g[level].apply(lambda s: [i for i in s.unique() if i==i])\n",
    "grouped = df.groupby(['sen_id', 'annotator'])   \n",
    "\n",
    "lvl_labels = pd.concat([get_levels(grouped, level) for level in levels], axis=1).stack().unstack(1)\n",
    "lvl_labels = lvl_labels.loc[lvl_labels.any(axis=1)]\n",
    "\n",
    "# disregard, background, target, plus\n",
    "othr = df.groupby(['sen_id', 'annotator'])[other].any().stack().unstack(1)\n",
    "othr = othr.loc[othr.any(axis=1)]\n",
    "\n",
    "# overview\n",
    "sen_overview = pd.concat([domain, lvl_labels, othr]).sort_index()\n",
    "sen_overview"
   ]
  },
  {
   "cell_type": "code",
   "execution_count": 16,
   "metadata": {},
   "outputs": [
    {
     "output_type": "execute_result",
     "data": {
      "text/plain": [
       "annotator            avelli  edwin katsburg meskers opsomer    ron vervaart\n",
       "sen_id                                                                     \n",
       "433007000_10 STM      False   True    False   False   False  False    False\n",
       "             STM_lvl     []  [4.0]       []      []      []     []       []\n",
       "433007000_19 ADM       True   True     True    True    True  False     True\n",
       "433007000_20 ADM_lvl  [4.0]  [4.0]    [4.0]   [4.0]   [4.0]     []    [4.0]\n",
       "433007000_22 ADM       True  False    False   False   False  False    False\n",
       "433007000_23 ADM_lvl  [3.0]     []       []      []      []     []       []\n",
       "433007000_3  ETN       True  False     True   False   False   True    False\n",
       "             ETN_lvl  [3.0]     []    [3.0]      []      []  [3.0]       []\n",
       "433007000_5  ETN       True  False    False   False   False  False    False\n",
       "             ETN_lvl  [4.0]     []       []      []      []     []       []\n",
       "433007000_6  ETN      False  False    False   False   False  False     True\n",
       "             ETN_lvl     []     []       []      []      []     []    [3.0]\n",
       "433007000_8  ENR      False  False    False    True   False  False    False\n",
       "             ENR_lvl     []     []       []   [3.0]      []     []       []\n",
       "             INS      False   True    False   False   False  False    False\n",
       "             INS_lvl     []  [2.0]       []      []      []     []       []"
      ],
      "text/html": "<div>\n<style scoped>\n    .dataframe tbody tr th:only-of-type {\n        vertical-align: middle;\n    }\n\n    .dataframe tbody tr th {\n        vertical-align: top;\n    }\n\n    .dataframe thead th {\n        text-align: right;\n    }\n</style>\n<table border=\"1\" class=\"dataframe\">\n  <thead>\n    <tr style=\"text-align: right;\">\n      <th></th>\n      <th>annotator</th>\n      <th>avelli</th>\n      <th>edwin</th>\n      <th>katsburg</th>\n      <th>meskers</th>\n      <th>opsomer</th>\n      <th>ron</th>\n      <th>vervaart</th>\n    </tr>\n    <tr>\n      <th>sen_id</th>\n      <th></th>\n      <th></th>\n      <th></th>\n      <th></th>\n      <th></th>\n      <th></th>\n      <th></th>\n      <th></th>\n    </tr>\n  </thead>\n  <tbody>\n    <tr>\n      <th rowspan=\"2\" valign=\"top\">433007000_10</th>\n      <th>STM</th>\n      <td>False</td>\n      <td>True</td>\n      <td>False</td>\n      <td>False</td>\n      <td>False</td>\n      <td>False</td>\n      <td>False</td>\n    </tr>\n    <tr>\n      <th>STM_lvl</th>\n      <td>[]</td>\n      <td>[4.0]</td>\n      <td>[]</td>\n      <td>[]</td>\n      <td>[]</td>\n      <td>[]</td>\n      <td>[]</td>\n    </tr>\n    <tr>\n      <th>433007000_19</th>\n      <th>ADM</th>\n      <td>True</td>\n      <td>True</td>\n      <td>True</td>\n      <td>True</td>\n      <td>True</td>\n      <td>False</td>\n      <td>True</td>\n    </tr>\n    <tr>\n      <th>433007000_20</th>\n      <th>ADM_lvl</th>\n      <td>[4.0]</td>\n      <td>[4.0]</td>\n      <td>[4.0]</td>\n      <td>[4.0]</td>\n      <td>[4.0]</td>\n      <td>[]</td>\n      <td>[4.0]</td>\n    </tr>\n    <tr>\n      <th>433007000_22</th>\n      <th>ADM</th>\n      <td>True</td>\n      <td>False</td>\n      <td>False</td>\n      <td>False</td>\n      <td>False</td>\n      <td>False</td>\n      <td>False</td>\n    </tr>\n    <tr>\n      <th>433007000_23</th>\n      <th>ADM_lvl</th>\n      <td>[3.0]</td>\n      <td>[]</td>\n      <td>[]</td>\n      <td>[]</td>\n      <td>[]</td>\n      <td>[]</td>\n      <td>[]</td>\n    </tr>\n    <tr>\n      <th rowspan=\"2\" valign=\"top\">433007000_3</th>\n      <th>ETN</th>\n      <td>True</td>\n      <td>False</td>\n      <td>True</td>\n      <td>False</td>\n      <td>False</td>\n      <td>True</td>\n      <td>False</td>\n    </tr>\n    <tr>\n      <th>ETN_lvl</th>\n      <td>[3.0]</td>\n      <td>[]</td>\n      <td>[3.0]</td>\n      <td>[]</td>\n      <td>[]</td>\n      <td>[3.0]</td>\n      <td>[]</td>\n    </tr>\n    <tr>\n      <th rowspan=\"2\" valign=\"top\">433007000_5</th>\n      <th>ETN</th>\n      <td>True</td>\n      <td>False</td>\n      <td>False</td>\n      <td>False</td>\n      <td>False</td>\n      <td>False</td>\n      <td>False</td>\n    </tr>\n    <tr>\n      <th>ETN_lvl</th>\n      <td>[4.0]</td>\n      <td>[]</td>\n      <td>[]</td>\n      <td>[]</td>\n      <td>[]</td>\n      <td>[]</td>\n      <td>[]</td>\n    </tr>\n    <tr>\n      <th rowspan=\"2\" valign=\"top\">433007000_6</th>\n      <th>ETN</th>\n      <td>False</td>\n      <td>False</td>\n      <td>False</td>\n      <td>False</td>\n      <td>False</td>\n      <td>False</td>\n      <td>True</td>\n    </tr>\n    <tr>\n      <th>ETN_lvl</th>\n      <td>[]</td>\n      <td>[]</td>\n      <td>[]</td>\n      <td>[]</td>\n      <td>[]</td>\n      <td>[]</td>\n      <td>[3.0]</td>\n    </tr>\n    <tr>\n      <th rowspan=\"4\" valign=\"top\">433007000_8</th>\n      <th>ENR</th>\n      <td>False</td>\n      <td>False</td>\n      <td>False</td>\n      <td>True</td>\n      <td>False</td>\n      <td>False</td>\n      <td>False</td>\n    </tr>\n    <tr>\n      <th>ENR_lvl</th>\n      <td>[]</td>\n      <td>[]</td>\n      <td>[]</td>\n      <td>[3.0]</td>\n      <td>[]</td>\n      <td>[]</td>\n      <td>[]</td>\n    </tr>\n    <tr>\n      <th>INS</th>\n      <td>False</td>\n      <td>True</td>\n      <td>False</td>\n      <td>False</td>\n      <td>False</td>\n      <td>False</td>\n      <td>False</td>\n    </tr>\n    <tr>\n      <th>INS_lvl</th>\n      <td>[]</td>\n      <td>[2.0]</td>\n      <td>[]</td>\n      <td>[]</td>\n      <td>[]</td>\n      <td>[]</td>\n      <td>[]</td>\n    </tr>\n  </tbody>\n</table>\n</div>"
     },
     "metadata": {},
     "execution_count": 16
    }
   ],
   "source": [
    "# all sentences of a note\n",
    "\n",
    "note_id = '433007000'\n",
    "sen_overview.query(f\"sen_id.str.contains('{note_id}')\")"
   ]
  },
  {
   "source": [
    "### View sentence(s) annotations of a specific annotator"
   ],
   "cell_type": "markdown",
   "metadata": {}
  },
  {
   "cell_type": "code",
   "execution_count": null,
   "metadata": {},
   "outputs": [],
   "source": [
    "sen_id = ['240792918_5', '240792918_6', '240792918_7', '240792918_8']\n",
    "# annotator = 'avelli'\n",
    "# annotator = 'katsburg'\n",
    "# annotator = 'meskers'\n",
    "# annotator = 'opsomer'\n",
    "# annotator = 'swartjes'\n",
    "annotator = 'vervaart'\n",
    "# annotator = 'edwin'\n",
    "# annotator = 'edith'\n",
    "# annotator = 'hinke'\n",
    "# annotator = 'ron'\n",
    "\n",
    "query = \"(sen_id == @sen_id) & (annotator == @annotator)\"\n",
    "print(' '.join(df.query(query).token.to_list()))\n",
    "print()\n",
    "\n",
    "df.query(query)"
   ]
  },
  {
   "source": [
    "### Save table per sentence to latex"
   ],
   "cell_type": "markdown",
   "metadata": {}
  },
  {
   "cell_type": "code",
   "execution_count": null,
   "metadata": {},
   "outputs": [],
   "source": [
    "# sen_ids = ['404161434_10', '251665715_56']\n",
    "# for sen_id in sen_ids:\n",
    "#     caption = f'{sen_id} - overview of annotations (sentence level)'\n",
    "#     label = f'{sen_id}_overview'\n",
    "#     sen_overview.query(\"sen_id == @sen_id\").pipe(show_latex, caption, label, cell_format=str)"
   ]
  },
  {
   "cell_type": "code",
   "execution_count": null,
   "metadata": {},
   "outputs": [],
   "source": [
    "# prefix = f'iaa_{week}_444788701'\n",
    "# for idx, table in enumerate(TABLES):\n",
    "#     with open(f'./tables/{prefix}_{idx}.tex', 'w', encoding='utf8') as f:\n",
    "#         f.write(table)"
   ]
  },
  {
   "cell_type": "markdown",
   "metadata": {},
   "source": [
    "# Token-level"
   ]
  },
  {
   "cell_type": "code",
   "execution_count": null,
   "metadata": {},
   "outputs": [],
   "source": [
    "cols = ['label', 'relation']\n",
    "idx = ['sen_id', 'tok', 'token']\n",
    "annotators = df.annotator.unique()\n",
    "\n",
    "def assign_annotator(df, annotator):\n",
    "    to_rename = {'label': f'label_{annotator}', 'relation': f'relation_{annotator}'}\n",
    "    return df.set_index(idx).query(f\"annotator == '{annotator}'\")[cols].rename(columns=to_rename)\n",
    "\n",
    "dfs = [assign_annotator(df, ann) for ann in annotators]\n",
    "overview = pd.concat(dfs, axis=1).reset_index()\n",
    "non_empty_rows = overview.iloc[:, 3:].applymap(lambda x: x == x and x != '_').any(axis=1)\n",
    "non_empty_sen_ids = overview.loc[non_empty_rows].sen_id.unique()\n",
    "overview.loc[overview.sen_id.isin(non_empty_sen_ids)]"
   ]
  },
  {
   "cell_type": "code",
   "execution_count": null,
   "metadata": {},
   "outputs": [],
   "source": []
  }
 ],
 "metadata": {
  "kernelspec": {
   "name": "python385jvsc74a57bd05a0a696a2c4562c805ef24bd77b26c70704f51e5d276869b3745fd7123bf8c36",
   "display_name": "Python 3.8.5 64-bit ('zonmw': conda)"
  },
  "language_info": {
   "codemirror_mode": {
    "name": "ipython",
    "version": 3
   },
   "file_extension": ".py",
   "mimetype": "text/x-python",
   "name": "python",
   "nbconvert_exporter": "python",
   "pygments_lexer": "ipython3",
   "version": "3.8.5"
  },
  "orig_nbformat": 2
 },
 "nbformat": 4,
 "nbformat_minor": 2
}