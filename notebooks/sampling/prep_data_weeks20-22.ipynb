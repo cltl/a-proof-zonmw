{
 "metadata": {
  "language_info": {
   "codemirror_mode": {
    "name": "ipython",
    "version": 3
   },
   "file_extension": ".py",
   "mimetype": "text/x-python",
   "name": "python",
   "nbconvert_exporter": "python",
   "pygments_lexer": "ipython3",
   "version": "3.8.5"
  },
  "orig_nbformat": 2,
  "kernelspec": {
   "name": "python385jvsc74a57bd05a0a696a2c4562c805ef24bd77b26c70704f51e5d276869b3745fd7123bf8c36",
   "display_name": "Python 3.8.5 64-bit ('zonmw': conda)"
  }
 },
 "nbformat": 4,
 "nbformat_minor": 2,
 "cells": [
  {
   "cell_type": "code",
   "execution_count": 1,
   "metadata": {},
   "outputs": [],
   "source": [
    "import spacy\n",
    "import pandas as pd\n",
    "from pathlib import Path\n",
    "from datetime import datetime\n",
    "\n",
    "import sys\n",
    "sys.path.insert(0, '../..')\n",
    "from src.data_process.keyword_search import get_regex, get_reg_dict, find_keywords\n",
    "from src.data_process.select_batch_for_annotation import select_notes\n",
    "from src.data_process.text_to_conll import row_to_conllfile\n",
    "from src.utils.df_funcs import remove_on_multikeys"
   ]
  },
  {
   "source": [
    "# Load data"
   ],
   "cell_type": "markdown",
   "metadata": {}
  },
  {
   "cell_type": "code",
   "execution_count": 2,
   "metadata": {},
   "outputs": [],
   "source": [
    "path = Path('../../data')"
   ]
  },
  {
   "cell_type": "code",
   "execution_count": 3,
   "metadata": {},
   "outputs": [],
   "source": [
    "all_2017 = pd.read_pickle(path / '2017_raw/processed.pkl')\n",
    "all_2018 = pd.read_pickle(path / '2018_raw/processed.pkl')\n",
    "all_2020 = pd.read_pickle(path / '2020_raw/processed.pkl')\n",
    "cov_2020 = pd.read_pickle(path / '2020_raw/ICD_U07.1/notes_[U07.1]_2020_q1_q2_q3.pkl')\n",
    "non_cov_2020 = remove_on_multikeys(all_2020, cov_2020, ['MDN', 'NotitieID'])"
   ]
  },
  {
   "cell_type": "code",
   "execution_count": 42,
   "metadata": {},
   "outputs": [],
   "source": [
    "annotated = pd.read_csv(path / 'annotated_notes_ids.csv', dtype={'MDN': str, 'NotitieID': str})\n",
    "\n",
    "in_annotation = pd.read_pickle(path / 'to_inception_conll/week_18.pkl').append([\n",
    "    pd.read_pickle(path / 'to_inception_conll/week_19.pkl'),\n",
    "])\n",
    "\n",
    "exclude = annotated.NotitieID.append(in_annotation.NotitieID)"
   ]
  },
  {
   "cell_type": "code",
   "execution_count": 43,
   "metadata": {},
   "outputs": [],
   "source": [
    "keywords = pd.read_excel('../../keywords/keywords_v3.xlsx')"
   ]
  },
  {
   "source": [
    "# Exclude annotated and select note type"
   ],
   "cell_type": "markdown",
   "metadata": {}
  },
  {
   "cell_type": "code",
   "execution_count": 44,
   "metadata": {},
   "outputs": [
    {
     "output_type": "stream",
     "name": "stdout",
     "text": [
      "2017:\n",
      "Before exclusion: len(df)=4244705\n",
      "After exclusion: len(df)=4240551\n",
      "After type selection: len(df)=65700\n",
      "2018:\n",
      "Before exclusion: len(df)=2451973\n",
      "After exclusion: len(df)=2451643\n",
      "After type selection: len(df)=22853\n",
      "cov_2020:\n",
      "Before exclusion: len(df)=44938\n",
      "After exclusion: len(df)=42069\n",
      "After type selection: len(df)=916\n",
      "non_cov_2020:\n",
      "Before exclusion: len(df)=2603090\n",
      "After exclusion: len(df)=2602676\n",
      "After type selection: len(df)=33490\n"
     ]
    }
   ],
   "source": [
    "data = {'2017': all_2017, '2018': all_2018, 'cov_2020': cov_2020, 'non_cov_2020': non_cov_2020}\n",
    "\n",
    "def exclude_annotated_and_sample(df, annotated, n_sample=50000, random_state=20):\n",
    "    print(f\"Before exclusion: {len(df)=}\")\n",
    "    df = df.loc[~df.NotitieID.isin(annotated)].copy()\n",
    "    print(f\"After exclusion: {len(df)=}\")\n",
    "    if len(df) > n_sample:\n",
    "        df = df.sample(n_sample, random_state=random_state)\n",
    "    print(f\"After sampling: {len(df)=}\")\n",
    "    return df\n",
    "\n",
    "def exclude_annotated_and_select_type(df, annotated, note_types):\n",
    "    print(f\"Before exclusion: {len(df)=}\")\n",
    "    df = df.loc[~df.NotitieID.isin(annotated)].copy()\n",
    "    print(f\"After exclusion: {len(df)=}\")\n",
    "    df = df.query(f\"Typenotitie == {note_types}\")\n",
    "    print(f\"After type selection: {len(df)=}\")\n",
    "    return df\n",
    "\n",
    "for source, df in data.items():\n",
    "    print(f\"{source}:\")\n",
    "    data[source] = exclude_annotated_and_select_type(df, exclude, note_types=['Consulten (niet-arts)'])"
   ]
  },
  {
   "source": [
    "# Keyword search"
   ],
   "cell_type": "markdown",
   "metadata": {}
  },
  {
   "cell_type": "code",
   "execution_count": 45,
   "metadata": {},
   "outputs": [
    {
     "output_type": "stream",
     "name": "stdout",
     "text": [
      "2017: len(df)=65700\n",
      "0:01:17.873327\n",
      "2018: len(df)=22853\n",
      "0:00:26.020856\n",
      "cov_2020: len(df)=916\n",
      "0:00:01.052641\n",
      "non_cov_2020: len(df)=33490\n",
      "0:00:45.982318\n"
     ]
    }
   ],
   "source": [
    "keywords['regex'] = keywords.apply(lambda row: get_regex(row.keyword, row.regex_template_id), axis=1)\n",
    "reg_dict = get_reg_dict(keywords)\n",
    "\n",
    "for source, df in data.items():\n",
    "    print(f\"{source}: {len(df)=}\")   \n",
    "    start_time = datetime.now()\n",
    "    data[source] = find_keywords(df, reg_dict)\n",
    "    print(datetime.now() - start_time)"
   ]
  },
  {
   "source": [
    "# Select notes"
   ],
   "cell_type": "markdown",
   "metadata": {}
  },
  {
   "cell_type": "code",
   "execution_count": 47,
   "metadata": {},
   "outputs": [],
   "source": [
    "annotators = ['avelli', 'katsburg', 'meskers', 'opsomer', 'swartjes', 'vervaart', 'ze_edwin']\n",
    "\n",
    "week_20 = select_notes(data, annotators=annotators, min_matched_domains=1)"
   ]
  },
  {
   "cell_type": "code",
   "execution_count": 48,
   "metadata": {},
   "outputs": [
    {
     "output_type": "execute_result",
     "data": {
      "text/plain": [
       "source    2017      2018      cov_2020              non_cov_2020      Total\n",
       "samp_meth  kwd rndm  kwd rndm      kwd kwd_iaa rndm          kwd rndm      \n",
       "annotator                                                                  \n",
       "avelli       9    5    9    5       10       3    5            9    5    60\n",
       "katsburg     9    5    9    5       10       3    5            9    5    60\n",
       "meskers      9    5    9    5       10       3    5            9    5    60\n",
       "opsomer      9    5    9    5       10       3    5            9    5    60\n",
       "swartjes     9    5    9    5       10       3    5            9    5    60\n",
       "vervaart     9    5    9    5       10       3    5            9    5    60\n",
       "ze_edwin     9    5    9    5       10       3    5            9    5    60\n",
       "Total       63   35   63   35       70      21   35           63   35   420"
      ],
      "text/html": "<div>\n<style scoped>\n    .dataframe tbody tr th:only-of-type {\n        vertical-align: middle;\n    }\n\n    .dataframe tbody tr th {\n        vertical-align: top;\n    }\n\n    .dataframe thead tr th {\n        text-align: left;\n    }\n\n    .dataframe thead tr:last-of-type th {\n        text-align: right;\n    }\n</style>\n<table border=\"1\" class=\"dataframe\">\n  <thead>\n    <tr>\n      <th>source</th>\n      <th colspan=\"2\" halign=\"left\">2017</th>\n      <th colspan=\"2\" halign=\"left\">2018</th>\n      <th colspan=\"3\" halign=\"left\">cov_2020</th>\n      <th colspan=\"2\" halign=\"left\">non_cov_2020</th>\n      <th>Total</th>\n    </tr>\n    <tr>\n      <th>samp_meth</th>\n      <th>kwd</th>\n      <th>rndm</th>\n      <th>kwd</th>\n      <th>rndm</th>\n      <th>kwd</th>\n      <th>kwd_iaa</th>\n      <th>rndm</th>\n      <th>kwd</th>\n      <th>rndm</th>\n      <th></th>\n    </tr>\n    <tr>\n      <th>annotator</th>\n      <th></th>\n      <th></th>\n      <th></th>\n      <th></th>\n      <th></th>\n      <th></th>\n      <th></th>\n      <th></th>\n      <th></th>\n      <th></th>\n    </tr>\n  </thead>\n  <tbody>\n    <tr>\n      <th>avelli</th>\n      <td>9</td>\n      <td>5</td>\n      <td>9</td>\n      <td>5</td>\n      <td>10</td>\n      <td>3</td>\n      <td>5</td>\n      <td>9</td>\n      <td>5</td>\n      <td>60</td>\n    </tr>\n    <tr>\n      <th>katsburg</th>\n      <td>9</td>\n      <td>5</td>\n      <td>9</td>\n      <td>5</td>\n      <td>10</td>\n      <td>3</td>\n      <td>5</td>\n      <td>9</td>\n      <td>5</td>\n      <td>60</td>\n    </tr>\n    <tr>\n      <th>meskers</th>\n      <td>9</td>\n      <td>5</td>\n      <td>9</td>\n      <td>5</td>\n      <td>10</td>\n      <td>3</td>\n      <td>5</td>\n      <td>9</td>\n      <td>5</td>\n      <td>60</td>\n    </tr>\n    <tr>\n      <th>opsomer</th>\n      <td>9</td>\n      <td>5</td>\n      <td>9</td>\n      <td>5</td>\n      <td>10</td>\n      <td>3</td>\n      <td>5</td>\n      <td>9</td>\n      <td>5</td>\n      <td>60</td>\n    </tr>\n    <tr>\n      <th>swartjes</th>\n      <td>9</td>\n      <td>5</td>\n      <td>9</td>\n      <td>5</td>\n      <td>10</td>\n      <td>3</td>\n      <td>5</td>\n      <td>9</td>\n      <td>5</td>\n      <td>60</td>\n    </tr>\n    <tr>\n      <th>vervaart</th>\n      <td>9</td>\n      <td>5</td>\n      <td>9</td>\n      <td>5</td>\n      <td>10</td>\n      <td>3</td>\n      <td>5</td>\n      <td>9</td>\n      <td>5</td>\n      <td>60</td>\n    </tr>\n    <tr>\n      <th>ze_edwin</th>\n      <td>9</td>\n      <td>5</td>\n      <td>9</td>\n      <td>5</td>\n      <td>10</td>\n      <td>3</td>\n      <td>5</td>\n      <td>9</td>\n      <td>5</td>\n      <td>60</td>\n    </tr>\n    <tr>\n      <th>Total</th>\n      <td>63</td>\n      <td>35</td>\n      <td>63</td>\n      <td>35</td>\n      <td>70</td>\n      <td>21</td>\n      <td>35</td>\n      <td>63</td>\n      <td>35</td>\n      <td>420</td>\n    </tr>\n  </tbody>\n</table>\n</div>"
     },
     "metadata": {},
     "execution_count": 48
    }
   ],
   "source": [
    "week_20.pivot_table(\n",
    "    index=['annotator'],\n",
    "    columns=['source', 'samp_meth'],\n",
    "    values='NotitieID',\n",
    "    aggfunc='count',\n",
    "    margins=True,\n",
    "    margins_name='Total',\n",
    ")"
   ]
  },
  {
   "cell_type": "code",
   "execution_count": 49,
   "metadata": {},
   "outputs": [],
   "source": [
    "# exclude week 20 sample from data before selecting notes for week 21\n",
    "data = {source:df.query(\"NotitieID not in @week_20.NotitieID\") for source, df in data.items()}\n",
    "\n",
    "annotators = ['avelli', 'katsburg', 'meskers', 'opsomer', 'swartjes', 'vervaart']\n",
    "week_21 = select_notes(data, annotators=annotators, min_matched_domains=1, iaa_sources=['2017'])"
   ]
  },
  {
   "cell_type": "code",
   "execution_count": 50,
   "metadata": {},
   "outputs": [
    {
     "output_type": "execute_result",
     "data": {
      "text/plain": [
       "source    2017              2018      cov_2020      non_cov_2020      Total\n",
       "samp_meth  kwd kwd_iaa rndm  kwd rndm      kwd rndm          kwd rndm      \n",
       "annotator                                                                  \n",
       "avelli       7       3    4    9    5       12    6            9    5    60\n",
       "katsburg     7       3    4    9    5       12    6            9    5    60\n",
       "meskers      7       3    4    9    5       12    6            9    5    60\n",
       "opsomer      7       3    4    9    5       12    6            9    5    60\n",
       "swartjes     7       3    4    9    5       12    6            9    5    60\n",
       "vervaart     7       3    4    9    5       12    6            9    5    60\n",
       "Total       42      18   24   54   30       72   36           54   30   360"
      ],
      "text/html": "<div>\n<style scoped>\n    .dataframe tbody tr th:only-of-type {\n        vertical-align: middle;\n    }\n\n    .dataframe tbody tr th {\n        vertical-align: top;\n    }\n\n    .dataframe thead tr th {\n        text-align: left;\n    }\n\n    .dataframe thead tr:last-of-type th {\n        text-align: right;\n    }\n</style>\n<table border=\"1\" class=\"dataframe\">\n  <thead>\n    <tr>\n      <th>source</th>\n      <th colspan=\"3\" halign=\"left\">2017</th>\n      <th colspan=\"2\" halign=\"left\">2018</th>\n      <th colspan=\"2\" halign=\"left\">cov_2020</th>\n      <th colspan=\"2\" halign=\"left\">non_cov_2020</th>\n      <th>Total</th>\n    </tr>\n    <tr>\n      <th>samp_meth</th>\n      <th>kwd</th>\n      <th>kwd_iaa</th>\n      <th>rndm</th>\n      <th>kwd</th>\n      <th>rndm</th>\n      <th>kwd</th>\n      <th>rndm</th>\n      <th>kwd</th>\n      <th>rndm</th>\n      <th></th>\n    </tr>\n    <tr>\n      <th>annotator</th>\n      <th></th>\n      <th></th>\n      <th></th>\n      <th></th>\n      <th></th>\n      <th></th>\n      <th></th>\n      <th></th>\n      <th></th>\n      <th></th>\n    </tr>\n  </thead>\n  <tbody>\n    <tr>\n      <th>avelli</th>\n      <td>7</td>\n      <td>3</td>\n      <td>4</td>\n      <td>9</td>\n      <td>5</td>\n      <td>12</td>\n      <td>6</td>\n      <td>9</td>\n      <td>5</td>\n      <td>60</td>\n    </tr>\n    <tr>\n      <th>katsburg</th>\n      <td>7</td>\n      <td>3</td>\n      <td>4</td>\n      <td>9</td>\n      <td>5</td>\n      <td>12</td>\n      <td>6</td>\n      <td>9</td>\n      <td>5</td>\n      <td>60</td>\n    </tr>\n    <tr>\n      <th>meskers</th>\n      <td>7</td>\n      <td>3</td>\n      <td>4</td>\n      <td>9</td>\n      <td>5</td>\n      <td>12</td>\n      <td>6</td>\n      <td>9</td>\n      <td>5</td>\n      <td>60</td>\n    </tr>\n    <tr>\n      <th>opsomer</th>\n      <td>7</td>\n      <td>3</td>\n      <td>4</td>\n      <td>9</td>\n      <td>5</td>\n      <td>12</td>\n      <td>6</td>\n      <td>9</td>\n      <td>5</td>\n      <td>60</td>\n    </tr>\n    <tr>\n      <th>swartjes</th>\n      <td>7</td>\n      <td>3</td>\n      <td>4</td>\n      <td>9</td>\n      <td>5</td>\n      <td>12</td>\n      <td>6</td>\n      <td>9</td>\n      <td>5</td>\n      <td>60</td>\n    </tr>\n    <tr>\n      <th>vervaart</th>\n      <td>7</td>\n      <td>3</td>\n      <td>4</td>\n      <td>9</td>\n      <td>5</td>\n      <td>12</td>\n      <td>6</td>\n      <td>9</td>\n      <td>5</td>\n      <td>60</td>\n    </tr>\n    <tr>\n      <th>Total</th>\n      <td>42</td>\n      <td>18</td>\n      <td>24</td>\n      <td>54</td>\n      <td>30</td>\n      <td>72</td>\n      <td>36</td>\n      <td>54</td>\n      <td>30</td>\n      <td>360</td>\n    </tr>\n  </tbody>\n</table>\n</div>"
     },
     "metadata": {},
     "execution_count": 50
    }
   ],
   "source": [
    "week_21.pivot_table(\n",
    "    index=['annotator'],\n",
    "    columns=['source', 'samp_meth'],\n",
    "    values='NotitieID',\n",
    "    aggfunc='count',\n",
    "    margins=True,\n",
    "    margins_name='Total',\n",
    ")"
   ]
  },
  {
   "cell_type": "code",
   "execution_count": 51,
   "metadata": {},
   "outputs": [],
   "source": [
    "# exclude weeks 20 and 21 from data before selecting notes for week 22\n",
    "q = \"(NotitieID not in @week_20.NotitieID) & (NotitieID not in @week_21.NotitieID)\"\n",
    "data = {source:df.query(q) for source, df in data.items()}\n",
    "\n",
    "annotators = ['avelli', 'katsburg', 'meskers', 'opsomer', 'swartjes', 'vervaart']\n",
    "week_22 = select_notes(data, annotators=annotators, min_matched_domains=1, iaa_sources=['2018'])"
   ]
  },
  {
   "cell_type": "code",
   "execution_count": 52,
   "metadata": {},
   "outputs": [
    {
     "output_type": "execute_result",
     "data": {
      "text/plain": [
       "source    2017      2018              cov_2020      non_cov_2020      Total\n",
       "samp_meth  kwd rndm  kwd kwd_iaa rndm      kwd rndm          kwd rndm      \n",
       "annotator                                                                  \n",
       "avelli       9    5    7       3    4       12    6            9    5    60\n",
       "katsburg     9    5    7       3    4       12    6            9    5    60\n",
       "meskers      9    5    7       3    4       12    6            9    5    60\n",
       "opsomer      9    5    7       3    4       12    6            9    5    60\n",
       "swartjes     9    5    7       3    4       12    6            9    5    60\n",
       "vervaart     9    5    7       3    4       12    6            9    5    60\n",
       "Total       54   30   42      18   24       72   36           54   30   360"
      ],
      "text/html": "<div>\n<style scoped>\n    .dataframe tbody tr th:only-of-type {\n        vertical-align: middle;\n    }\n\n    .dataframe tbody tr th {\n        vertical-align: top;\n    }\n\n    .dataframe thead tr th {\n        text-align: left;\n    }\n\n    .dataframe thead tr:last-of-type th {\n        text-align: right;\n    }\n</style>\n<table border=\"1\" class=\"dataframe\">\n  <thead>\n    <tr>\n      <th>source</th>\n      <th colspan=\"2\" halign=\"left\">2017</th>\n      <th colspan=\"3\" halign=\"left\">2018</th>\n      <th colspan=\"2\" halign=\"left\">cov_2020</th>\n      <th colspan=\"2\" halign=\"left\">non_cov_2020</th>\n      <th>Total</th>\n    </tr>\n    <tr>\n      <th>samp_meth</th>\n      <th>kwd</th>\n      <th>rndm</th>\n      <th>kwd</th>\n      <th>kwd_iaa</th>\n      <th>rndm</th>\n      <th>kwd</th>\n      <th>rndm</th>\n      <th>kwd</th>\n      <th>rndm</th>\n      <th></th>\n    </tr>\n    <tr>\n      <th>annotator</th>\n      <th></th>\n      <th></th>\n      <th></th>\n      <th></th>\n      <th></th>\n      <th></th>\n      <th></th>\n      <th></th>\n      <th></th>\n      <th></th>\n    </tr>\n  </thead>\n  <tbody>\n    <tr>\n      <th>avelli</th>\n      <td>9</td>\n      <td>5</td>\n      <td>7</td>\n      <td>3</td>\n      <td>4</td>\n      <td>12</td>\n      <td>6</td>\n      <td>9</td>\n      <td>5</td>\n      <td>60</td>\n    </tr>\n    <tr>\n      <th>katsburg</th>\n      <td>9</td>\n      <td>5</td>\n      <td>7</td>\n      <td>3</td>\n      <td>4</td>\n      <td>12</td>\n      <td>6</td>\n      <td>9</td>\n      <td>5</td>\n      <td>60</td>\n    </tr>\n    <tr>\n      <th>meskers</th>\n      <td>9</td>\n      <td>5</td>\n      <td>7</td>\n      <td>3</td>\n      <td>4</td>\n      <td>12</td>\n      <td>6</td>\n      <td>9</td>\n      <td>5</td>\n      <td>60</td>\n    </tr>\n    <tr>\n      <th>opsomer</th>\n      <td>9</td>\n      <td>5</td>\n      <td>7</td>\n      <td>3</td>\n      <td>4</td>\n      <td>12</td>\n      <td>6</td>\n      <td>9</td>\n      <td>5</td>\n      <td>60</td>\n    </tr>\n    <tr>\n      <th>swartjes</th>\n      <td>9</td>\n      <td>5</td>\n      <td>7</td>\n      <td>3</td>\n      <td>4</td>\n      <td>12</td>\n      <td>6</td>\n      <td>9</td>\n      <td>5</td>\n      <td>60</td>\n    </tr>\n    <tr>\n      <th>vervaart</th>\n      <td>9</td>\n      <td>5</td>\n      <td>7</td>\n      <td>3</td>\n      <td>4</td>\n      <td>12</td>\n      <td>6</td>\n      <td>9</td>\n      <td>5</td>\n      <td>60</td>\n    </tr>\n    <tr>\n      <th>Total</th>\n      <td>54</td>\n      <td>30</td>\n      <td>42</td>\n      <td>18</td>\n      <td>24</td>\n      <td>72</td>\n      <td>36</td>\n      <td>54</td>\n      <td>30</td>\n      <td>360</td>\n    </tr>\n  </tbody>\n</table>\n</div>"
     },
     "metadata": {},
     "execution_count": 52
    }
   ],
   "source": [
    "week_22.pivot_table(\n",
    "    index=['annotator'],\n",
    "    columns=['source', 'samp_meth'],\n",
    "    values='NotitieID',\n",
    "    aggfunc='count',\n",
    "    margins=True,\n",
    "    margins_name='Total',\n",
    ")"
   ]
  },
  {
   "cell_type": "code",
   "execution_count": 53,
   "metadata": {},
   "outputs": [],
   "source": [
    "week_20.to_pickle(path / 'to_inception_conll/week_20.pkl')\n",
    "week_21.to_pickle(path / 'to_inception_conll/week_21.pkl')\n",
    "week_22.to_pickle(path / 'to_inception_conll/week_22.pkl')"
   ]
  },
  {
   "source": [
    "# Convert to CoNLL"
   ],
   "cell_type": "markdown",
   "metadata": {}
  },
  {
   "cell_type": "code",
   "execution_count": 54,
   "metadata": {},
   "outputs": [],
   "source": [
    "annotators = ['avelli', 'katsburg', 'meskers', 'opsomer', 'swartjes', 'vervaart']\n",
    "ze = ['ze_edwin']\n",
    "\n",
    "conllpath = path / 'to_inception_conll'\n",
    "\n",
    "nlp = spacy.load('nl_core_news_sm')\n",
    "\n",
    "for annotator in annotators:\n",
    "\n",
    "    outdir_w20 = conllpath / 'week_20' / annotator\n",
    "    outdir_w20.mkdir(exist_ok=True, parents=True)\n",
    "\n",
    "    outdir_w21 = conllpath / 'week_21' / annotator\n",
    "    outdir_w21.mkdir(exist_ok=True, parents=True)\n",
    "\n",
    "    outdir_w22 = conllpath / 'week_22' / annotator\n",
    "    outdir_w22.mkdir(exist_ok=True, parents=True)\n",
    "\n",
    "    df = week_20.query(\"annotator == @annotator\")\n",
    "    df.apply(row_to_conllfile, axis=1, nlp=nlp, outdir=outdir_w20, batch='week_20')\n",
    "2\n",
    "    df = week_21.query(\"annotator == @annotator\")\n",
    "    df.apply(row_to_conllfile, axis=1, nlp=nlp, outdir=outdir_w21, batch='week_21')\n",
    "\n",
    "    df = week_22.query(\"annotator == @annotator\")\n",
    "    df.apply(row_to_conllfile, axis=1, nlp=nlp, outdir=outdir_w22, batch='week_22')\n",
    "\n",
    "for annotator in ze:\n",
    "\n",
    "    outdir = conllpath / 'ze_batch3' / annotator\n",
    "    outdir.mkdir(exist_ok=True, parents=True)\n",
    "\n",
    "    df = week_20.query(\"annotator == @annotator\")\n",
    "    df.apply(row_to_conllfile, axis=1, nlp=nlp, outdir=outdir, batch='ze_batch3')"
   ]
  },
  {
   "cell_type": "code",
   "execution_count": null,
   "metadata": {},
   "outputs": [],
   "source": []
  }
 ]
}