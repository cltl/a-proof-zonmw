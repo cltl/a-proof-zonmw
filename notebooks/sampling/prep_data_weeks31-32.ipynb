{
 "metadata": {
  "language_info": {
   "codemirror_mode": {
    "name": "ipython",
    "version": 3
   },
   "file_extension": ".py",
   "mimetype": "text/x-python",
   "name": "python",
   "nbconvert_exporter": "python",
   "pygments_lexer": "ipython3",
   "version": "3.8.5"
  },
  "orig_nbformat": 2,
  "kernelspec": {
   "name": "python3",
   "display_name": "Python 3.8.5 64-bit ('zonmw': conda)"
  },
  "interpreter": {
   "hash": "5a0a696a2c4562c805ef24bd77b26c70704f51e5d276869b3745fd7123bf8c36"
  }
 },
 "nbformat": 4,
 "nbformat_minor": 2,
 "cells": [
  {
   "cell_type": "code",
   "execution_count": 1,
   "source": [
    "import spacy\n",
    "import pandas as pd\n",
    "from pathlib import Path\n",
    "from datetime import datetime\n",
    "\n",
    "import sys\n",
    "sys.path.insert(0, '../..')\n",
    "from scripts.data_process_to_inception.keyword_search import get_regex, get_reg_dict, find_keywords\n",
    "from scripts.data_process_to_inception.select_batch_for_annotation import select_notes\n",
    "from scripts.data_process_to_inception.text_to_conll import row_to_conllfile\n",
    "from scripts.utils.df_funcs import remove_on_multikeys"
   ],
   "outputs": [],
   "metadata": {}
  },
  {
   "cell_type": "markdown",
   "source": [
    "# Load data"
   ],
   "metadata": {}
  },
  {
   "cell_type": "code",
   "execution_count": 2,
   "source": [
    "path = Path('../../data')"
   ],
   "outputs": [],
   "metadata": {}
  },
  {
   "cell_type": "code",
   "execution_count": 3,
   "source": [
    "all_2017 = pd.read_pickle(path / '2017_raw/processed.pkl')\n",
    "all_2018 = pd.read_pickle(path / '2018_raw/processed.pkl')\n",
    "all_2020 = pd.read_pickle(path / '2020_raw/processed.pkl')\n",
    "cov_2020 = pd.read_pickle(path / '2020_raw/ICD_U07.1/notes_[U07.1]_2020_q1_q2_q3.pkl')\n",
    "non_cov_2020 = remove_on_multikeys(all_2020, cov_2020, ['MDN', 'NotitieID'])"
   ],
   "outputs": [],
   "metadata": {}
  },
  {
   "cell_type": "code",
   "execution_count": 5,
   "source": [
    "annotated = pd.read_csv(path / 'annotated_notes_ids.csv', dtype={'MDN': str, 'NotitieID': str})\n",
    "\n",
    "in_annotation = pd.read_pickle(path / 'to_inception_conll/week_22-26.pkl').append([\n",
    "        pd.read_pickle(path / 'to_inception_conll/week_27_30.pkl'),\n",
    "])\n",
    "\n",
    "exclude = annotated.NotitieID.append(in_annotation.NotitieID)"
   ],
   "outputs": [],
   "metadata": {}
  },
  {
   "cell_type": "code",
   "execution_count": 6,
   "source": [
    "keywords = pd.read_excel('../../keywords/keywords_v4.xlsx')"
   ],
   "outputs": [],
   "metadata": {}
  },
  {
   "cell_type": "markdown",
   "source": [
    "# Exclude annotated and select note type"
   ],
   "metadata": {}
  },
  {
   "cell_type": "code",
   "execution_count": 7,
   "source": [
    "data = {'2017': all_2017, '2018': all_2018, 'cov_2020': cov_2020, 'non_cov_2020': non_cov_2020}\n",
    "\n",
    "def exclude_annotated_and_sample(df, annotated, n_sample=50000, random_state=45):\n",
    "    print(f\"Before exclusion: {len(df)=}\")\n",
    "    df = df.loc[~df.NotitieID.isin(annotated)].copy()\n",
    "    print(f\"After exclusion: {len(df)=}\")\n",
    "    if len(df) > n_sample:\n",
    "        df = df.sample(n_sample, random_state=random_state)\n",
    "    print(f\"After sampling: {len(df)=}\")\n",
    "    return df\n",
    "\n",
    "def exclude_annotated_and_select_type(df, annotated, note_types):\n",
    "    print(f\"Before exclusion: {len(df)=}\")\n",
    "    df = df.loc[~df.NotitieID.isin(annotated)].copy()\n",
    "    print(f\"After exclusion: {len(df)=}\")\n",
    "    df = df.query(f\"Typenotitie == {note_types}\")\n",
    "    print(f\"After type selection: {len(df)=}\")\n",
    "    return df\n",
    "\n",
    "for source, df in data.items():\n",
    "    print(f\"{source}:\")\n",
    "    data[source] = exclude_annotated_and_sample(df, exclude)"
   ],
   "outputs": [
    {
     "output_type": "stream",
     "name": "stdout",
     "text": [
      "2017:\n",
      "Before exclusion: len(df)=4244705\n",
      "After exclusion: len(df)=4239666\n",
      "After sampling: len(df)=50000\n",
      "2018:\n",
      "Before exclusion: len(df)=2451973\n",
      "After exclusion: len(df)=2450830\n",
      "After sampling: len(df)=50000\n",
      "cov_2020:\n",
      "Before exclusion: len(df)=44938\n",
      "After exclusion: len(df)=40797\n",
      "After sampling: len(df)=40797\n",
      "non_cov_2020:\n",
      "Before exclusion: len(df)=2603090\n",
      "After exclusion: len(df)=2601678\n",
      "After sampling: len(df)=50000\n"
     ]
    }
   ],
   "metadata": {}
  },
  {
   "cell_type": "markdown",
   "source": [
    "# Keyword search"
   ],
   "metadata": {}
  },
  {
   "cell_type": "code",
   "execution_count": 8,
   "source": [
    "keywords['regex'] = keywords.apply(lambda row: get_regex(row.keyword, row.regex_template_id), axis=1)\n",
    "reg_dict = get_reg_dict(keywords)\n",
    "\n",
    "for source, df in data.items():\n",
    "    print(f\"{source}: {len(df)=}\")   \n",
    "    start_time = datetime.now()\n",
    "    data[source] = find_keywords(df, reg_dict)\n",
    "    print(datetime.now() - start_time)"
   ],
   "outputs": [
    {
     "output_type": "stream",
     "name": "stdout",
     "text": [
      "2017: len(df)=50000\n",
      "0:01:25.084611\n",
      "2018: len(df)=50000\n",
      "0:01:26.571226\n",
      "cov_2020: len(df)=40797\n",
      "0:01:14.499988\n",
      "non_cov_2020: len(df)=50000\n",
      "0:01:30.668178\n"
     ]
    }
   ],
   "metadata": {}
  },
  {
   "cell_type": "markdown",
   "source": [
    "# Select notes"
   ],
   "metadata": {}
  },
  {
   "cell_type": "code",
   "execution_count": 9,
   "source": [
    "annotators = ['avelli', 'katsburg', 'meskers', 'swartjes', 'vervaart']\n",
    "matched_domains = ['ENR', 'ATT', 'STM', 'INS', 'MBW', 'FAC', 'BER', 'ETN']\n",
    "\n",
    "week_31_32 = select_notes(\n",
    "    data,\n",
    "    annotators=annotators,\n",
    "    n_files=120,\n",
    "    pct_covid=0.4,\n",
    "    pct_kwd=0.8,\n",
    "    matched_domains=matched_domains,\n",
    "    min_matched_domains=3,\n",
    ")"
   ],
   "outputs": [],
   "metadata": {}
  },
  {
   "cell_type": "code",
   "execution_count": 10,
   "source": [
    "week_31_32.pivot_table(\n",
    "    index=['annotator'],\n",
    "    columns=['source', 'samp_meth'],\n",
    "    values='NotitieID',\n",
    "    aggfunc='count',\n",
    "    margins=True,\n",
    "    margins_name='Total',\n",
    ")"
   ],
   "outputs": [
    {
     "output_type": "execute_result",
     "data": {
      "text/plain": [
       "source    2017      2018      cov_2020              non_cov_2020      Total\n",
       "samp_meth  kwd rndm  kwd rndm      kwd kwd_iaa rndm          kwd rndm      \n",
       "annotator                                                                  \n",
       "avelli      19    5   19    5       36       3    9           19    5   120\n",
       "katsburg    19    5   19    5       36       3    9           19    5   120\n",
       "meskers     19    5   19    5       36       3    9           19    5   120\n",
       "swartjes    19    5   19    5       36       3    9           19    5   120\n",
       "vervaart    19    5   19    5       36       3    9           19    5   120\n",
       "Total       95   25   95   25      180      15   45           95   25   600"
      ],
      "text/html": [
       "<div>\n",
       "<style scoped>\n",
       "    .dataframe tbody tr th:only-of-type {\n",
       "        vertical-align: middle;\n",
       "    }\n",
       "\n",
       "    .dataframe tbody tr th {\n",
       "        vertical-align: top;\n",
       "    }\n",
       "\n",
       "    .dataframe thead tr th {\n",
       "        text-align: left;\n",
       "    }\n",
       "\n",
       "    .dataframe thead tr:last-of-type th {\n",
       "        text-align: right;\n",
       "    }\n",
       "</style>\n",
       "<table border=\"1\" class=\"dataframe\">\n",
       "  <thead>\n",
       "    <tr>\n",
       "      <th>source</th>\n",
       "      <th colspan=\"2\" halign=\"left\">2017</th>\n",
       "      <th colspan=\"2\" halign=\"left\">2018</th>\n",
       "      <th colspan=\"3\" halign=\"left\">cov_2020</th>\n",
       "      <th colspan=\"2\" halign=\"left\">non_cov_2020</th>\n",
       "      <th>Total</th>\n",
       "    </tr>\n",
       "    <tr>\n",
       "      <th>samp_meth</th>\n",
       "      <th>kwd</th>\n",
       "      <th>rndm</th>\n",
       "      <th>kwd</th>\n",
       "      <th>rndm</th>\n",
       "      <th>kwd</th>\n",
       "      <th>kwd_iaa</th>\n",
       "      <th>rndm</th>\n",
       "      <th>kwd</th>\n",
       "      <th>rndm</th>\n",
       "      <th></th>\n",
       "    </tr>\n",
       "    <tr>\n",
       "      <th>annotator</th>\n",
       "      <th></th>\n",
       "      <th></th>\n",
       "      <th></th>\n",
       "      <th></th>\n",
       "      <th></th>\n",
       "      <th></th>\n",
       "      <th></th>\n",
       "      <th></th>\n",
       "      <th></th>\n",
       "      <th></th>\n",
       "    </tr>\n",
       "  </thead>\n",
       "  <tbody>\n",
       "    <tr>\n",
       "      <th>avelli</th>\n",
       "      <td>19</td>\n",
       "      <td>5</td>\n",
       "      <td>19</td>\n",
       "      <td>5</td>\n",
       "      <td>36</td>\n",
       "      <td>3</td>\n",
       "      <td>9</td>\n",
       "      <td>19</td>\n",
       "      <td>5</td>\n",
       "      <td>120</td>\n",
       "    </tr>\n",
       "    <tr>\n",
       "      <th>katsburg</th>\n",
       "      <td>19</td>\n",
       "      <td>5</td>\n",
       "      <td>19</td>\n",
       "      <td>5</td>\n",
       "      <td>36</td>\n",
       "      <td>3</td>\n",
       "      <td>9</td>\n",
       "      <td>19</td>\n",
       "      <td>5</td>\n",
       "      <td>120</td>\n",
       "    </tr>\n",
       "    <tr>\n",
       "      <th>meskers</th>\n",
       "      <td>19</td>\n",
       "      <td>5</td>\n",
       "      <td>19</td>\n",
       "      <td>5</td>\n",
       "      <td>36</td>\n",
       "      <td>3</td>\n",
       "      <td>9</td>\n",
       "      <td>19</td>\n",
       "      <td>5</td>\n",
       "      <td>120</td>\n",
       "    </tr>\n",
       "    <tr>\n",
       "      <th>swartjes</th>\n",
       "      <td>19</td>\n",
       "      <td>5</td>\n",
       "      <td>19</td>\n",
       "      <td>5</td>\n",
       "      <td>36</td>\n",
       "      <td>3</td>\n",
       "      <td>9</td>\n",
       "      <td>19</td>\n",
       "      <td>5</td>\n",
       "      <td>120</td>\n",
       "    </tr>\n",
       "    <tr>\n",
       "      <th>vervaart</th>\n",
       "      <td>19</td>\n",
       "      <td>5</td>\n",
       "      <td>19</td>\n",
       "      <td>5</td>\n",
       "      <td>36</td>\n",
       "      <td>3</td>\n",
       "      <td>9</td>\n",
       "      <td>19</td>\n",
       "      <td>5</td>\n",
       "      <td>120</td>\n",
       "    </tr>\n",
       "    <tr>\n",
       "      <th>Total</th>\n",
       "      <td>95</td>\n",
       "      <td>25</td>\n",
       "      <td>95</td>\n",
       "      <td>25</td>\n",
       "      <td>180</td>\n",
       "      <td>15</td>\n",
       "      <td>45</td>\n",
       "      <td>95</td>\n",
       "      <td>25</td>\n",
       "      <td>600</td>\n",
       "    </tr>\n",
       "  </tbody>\n",
       "</table>\n",
       "</div>"
      ]
     },
     "metadata": {},
     "execution_count": 10
    }
   ],
   "metadata": {}
  },
  {
   "cell_type": "code",
   "execution_count": 11,
   "source": [
    "week_31_32.to_pickle(path / 'to_inception_conll/week_31_32.pkl')"
   ],
   "outputs": [],
   "metadata": {}
  },
  {
   "cell_type": "markdown",
   "source": [
    "# Convert to CoNLL"
   ],
   "metadata": {}
  },
  {
   "cell_type": "code",
   "execution_count": 12,
   "source": [
    "conllpath = path / 'to_inception_conll'\n",
    "\n",
    "nlp = spacy.load('nl_core_news_sm')\n",
    "\n",
    "for annotator in annotators:\n",
    "\n",
    "    outdir = conllpath / 'week_31_32' / annotator\n",
    "    outdir.mkdir(exist_ok=True, parents=True)\n",
    "\n",
    "    df = week_31_32.query(\"annotator == @annotator\")\n",
    "    df.apply(row_to_conllfile, axis=1, nlp=nlp, outdir=outdir, batch='week_31_32')"
   ],
   "outputs": [],
   "metadata": {}
  },
  {
   "cell_type": "code",
   "execution_count": null,
   "source": [],
   "outputs": [],
   "metadata": {}
  }
 ]
}