{
 "cells": [
  {
   "cell_type": "code",
   "execution_count": 1,
   "metadata": {},
   "outputs": [],
   "source": [
    "import pandas as pd\n",
    "import numpy as np\n",
    "import matplotlib.pyplot as plt\n",
    "import pickle as pkl\n"
   ]
  },
  {
   "cell_type": "markdown",
   "metadata": {},
   "source": [
    "## Data exploration from dataset without domains and labels\n",
    "### Selecting IDs from non-annotated dataset "
   ]
  },
  {
   "cell_type": "code",
   "execution_count": 28,
   "metadata": {},
   "outputs": [
    {
     "data": {
      "text/html": [
       "<div>\n",
       "<style scoped>\n",
       "    .dataframe tbody tr th:only-of-type {\n",
       "        vertical-align: middle;\n",
       "    }\n",
       "\n",
       "    .dataframe tbody tr th {\n",
       "        vertical-align: top;\n",
       "    }\n",
       "\n",
       "    .dataframe thead th {\n",
       "        text-align: right;\n",
       "    }\n",
       "</style>\n",
       "<table border=\"1\" class=\"dataframe\">\n",
       "  <thead>\n",
       "    <tr style=\"text-align: right;\">\n",
       "      <th></th>\n",
       "      <th>institution</th>\n",
       "      <th>MDN</th>\n",
       "      <th>NotitieID</th>\n",
       "      <th>Typenotitie</th>\n",
       "      <th>Notitiedatum</th>\n",
       "      <th>annotated</th>\n",
       "    </tr>\n",
       "  </thead>\n",
       "  <tbody>\n",
       "    <tr>\n",
       "      <th>0</th>\n",
       "      <td>amc</td>\n",
       "      <td>22519835415</td>\n",
       "      <td>441723070</td>\n",
       "      <td>Voortgangsverslag</td>\n",
       "      <td>2020-08-27</td>\n",
       "      <td>False</td>\n",
       "    </tr>\n",
       "    <tr>\n",
       "      <th>1</th>\n",
       "      <td>amc</td>\n",
       "      <td>14639256525</td>\n",
       "      <td>448286506</td>\n",
       "      <td>MDO-verslag</td>\n",
       "      <td>2020-09-17</td>\n",
       "      <td>False</td>\n",
       "    </tr>\n",
       "    <tr>\n",
       "      <th>2</th>\n",
       "      <td>amc</td>\n",
       "      <td>14433181440</td>\n",
       "      <td>430879587</td>\n",
       "      <td>MDO-verslag</td>\n",
       "      <td>2020-07-13</td>\n",
       "      <td>False</td>\n",
       "    </tr>\n",
       "    <tr>\n",
       "      <th>3</th>\n",
       "      <td>amc</td>\n",
       "      <td>14535299280</td>\n",
       "      <td>343255451</td>\n",
       "      <td>NaN</td>\n",
       "      <td>2020-07-24</td>\n",
       "      <td>False</td>\n",
       "    </tr>\n",
       "    <tr>\n",
       "      <th>4</th>\n",
       "      <td>amc</td>\n",
       "      <td>14535299280</td>\n",
       "      <td>432744119</td>\n",
       "      <td>Voortgangsverslag</td>\n",
       "      <td>2020-07-20</td>\n",
       "      <td>False</td>\n",
       "    </tr>\n",
       "  </tbody>\n",
       "</table>\n",
       "</div>"
      ],
      "text/plain": [
       "  institution          MDN  NotitieID        Typenotitie Notitiedatum  \\\n",
       "0         amc  22519835415  441723070  Voortgangsverslag   2020-08-27   \n",
       "1         amc  14639256525  448286506        MDO-verslag   2020-09-17   \n",
       "2         amc  14433181440  430879587        MDO-verslag   2020-07-13   \n",
       "3         amc  14535299280  343255451                NaN   2020-07-24   \n",
       "4         amc  14535299280  432744119  Voortgangsverslag   2020-07-20   \n",
       "\n",
       "   annotated  \n",
       "0      False  \n",
       "1      False  \n",
       "2      False  \n",
       "3      False  \n",
       "4      False  "
      ]
     },
     "execution_count": 28,
     "metadata": {},
     "output_type": "execute_result"
    }
   ],
   "source": [
    "df = pd.read_table(\"./processed/covid_data_without_levels_anonimized.csv\", sep=',' , index_col=0)\n",
    "\n",
    "df.head()"
   ]
  },
  {
   "cell_type": "code",
   "execution_count": 26,
   "metadata": {},
   "outputs": [
    {
     "data": {
      "text/plain": [
       "1290"
      ]
     },
     "execution_count": 26,
     "metadata": {},
     "output_type": "execute_result"
    }
   ],
   "source": [
    "#number of unique patients\n",
    "unique_id = df['MDN'].unique()\n",
    "df['MDN'].nunique() #1290 unique ids"
   ]
  },
  {
   "cell_type": "code",
   "execution_count": 4,
   "metadata": {},
   "outputs": [
    {
     "data": {
      "text/html": [
       "<div>\n",
       "<style scoped>\n",
       "    .dataframe tbody tr th:only-of-type {\n",
       "        vertical-align: middle;\n",
       "    }\n",
       "\n",
       "    .dataframe tbody tr th {\n",
       "        vertical-align: top;\n",
       "    }\n",
       "\n",
       "    .dataframe thead th {\n",
       "        text-align: right;\n",
       "    }\n",
       "</style>\n",
       "<table border=\"1\" class=\"dataframe\">\n",
       "  <thead>\n",
       "    <tr style=\"text-align: right;\">\n",
       "      <th></th>\n",
       "      <th>institution</th>\n",
       "      <th>NotitieID</th>\n",
       "      <th>Typenotitie</th>\n",
       "      <th>Notitiedatum</th>\n",
       "      <th>annotated</th>\n",
       "    </tr>\n",
       "    <tr>\n",
       "      <th>MDN</th>\n",
       "      <th></th>\n",
       "      <th></th>\n",
       "      <th></th>\n",
       "      <th></th>\n",
       "      <th></th>\n",
       "    </tr>\n",
       "  </thead>\n",
       "  <tbody>\n",
       "    <tr>\n",
       "      <th>11572</th>\n",
       "      <td>37</td>\n",
       "      <td>37</td>\n",
       "      <td>34</td>\n",
       "      <td>37</td>\n",
       "      <td>37</td>\n",
       "    </tr>\n",
       "    <tr>\n",
       "      <th>20483</th>\n",
       "      <td>82</td>\n",
       "      <td>82</td>\n",
       "      <td>63</td>\n",
       "      <td>82</td>\n",
       "      <td>82</td>\n",
       "    </tr>\n",
       "    <tr>\n",
       "      <th>54466</th>\n",
       "      <td>127</td>\n",
       "      <td>127</td>\n",
       "      <td>112</td>\n",
       "      <td>127</td>\n",
       "      <td>127</td>\n",
       "    </tr>\n",
       "    <tr>\n",
       "      <th>54800</th>\n",
       "      <td>4</td>\n",
       "      <td>4</td>\n",
       "      <td>4</td>\n",
       "      <td>4</td>\n",
       "      <td>4</td>\n",
       "    </tr>\n",
       "    <tr>\n",
       "      <th>65329</th>\n",
       "      <td>53</td>\n",
       "      <td>53</td>\n",
       "      <td>47</td>\n",
       "      <td>53</td>\n",
       "      <td>53</td>\n",
       "    </tr>\n",
       "    <tr>\n",
       "      <th>...</th>\n",
       "      <td>...</td>\n",
       "      <td>...</td>\n",
       "      <td>...</td>\n",
       "      <td>...</td>\n",
       "      <td>...</td>\n",
       "    </tr>\n",
       "    <tr>\n",
       "      <th>9919616</th>\n",
       "      <td>31</td>\n",
       "      <td>31</td>\n",
       "      <td>29</td>\n",
       "      <td>31</td>\n",
       "      <td>31</td>\n",
       "    </tr>\n",
       "    <tr>\n",
       "      <th>9924555</th>\n",
       "      <td>63</td>\n",
       "      <td>63</td>\n",
       "      <td>60</td>\n",
       "      <td>63</td>\n",
       "      <td>63</td>\n",
       "    </tr>\n",
       "    <tr>\n",
       "      <th>9932109</th>\n",
       "      <td>33</td>\n",
       "      <td>33</td>\n",
       "      <td>32</td>\n",
       "      <td>33</td>\n",
       "      <td>33</td>\n",
       "    </tr>\n",
       "    <tr>\n",
       "      <th>9937064</th>\n",
       "      <td>59</td>\n",
       "      <td>59</td>\n",
       "      <td>53</td>\n",
       "      <td>59</td>\n",
       "      <td>59</td>\n",
       "    </tr>\n",
       "    <tr>\n",
       "      <th>9964647</th>\n",
       "      <td>144</td>\n",
       "      <td>144</td>\n",
       "      <td>128</td>\n",
       "      <td>144</td>\n",
       "      <td>144</td>\n",
       "    </tr>\n",
       "  </tbody>\n",
       "</table>\n",
       "<p>1290 rows × 5 columns</p>\n",
       "</div>"
      ],
      "text/plain": [
       "         institution  NotitieID  Typenotitie  Notitiedatum  annotated\n",
       "MDN                                                                  \n",
       "11572             37         37           34            37         37\n",
       "20483             82         82           63            82         82\n",
       "54466            127        127          112           127        127\n",
       "54800              4          4            4             4          4\n",
       "65329             53         53           47            53         53\n",
       "...              ...        ...          ...           ...        ...\n",
       "9919616           31         31           29            31         31\n",
       "9924555           63         63           60            63         63\n",
       "9932109           33         33           32            33         33\n",
       "9937064           59         59           53            59         59\n",
       "9964647          144        144          128           144        144\n",
       "\n",
       "[1290 rows x 5 columns]"
      ]
     },
     "execution_count": 4,
     "metadata": {},
     "output_type": "execute_result"
    }
   ],
   "source": [
    "#group by unique patients\n",
    "df_grouped_ind = df.groupby(['MDN']).count()\n",
    "df_grouped_ind"
   ]
  },
  {
   "cell_type": "code",
   "execution_count": 5,
   "metadata": {},
   "outputs": [],
   "source": [
    "df_filtered100 =df.groupby(['MDN']).filter(lambda x: len(x) > 100)\n",
    "df_filtered100.nunique()\n",
    "\n",
    "df_filtered500 =df.groupby(['MDN']).filter(lambda x: len(x) > 500)\n",
    "df_filtered1000 =df.groupby(['MDN']).filter(lambda x: len(x) > 1000)"
   ]
  },
  {
   "cell_type": "code",
   "execution_count": 6,
   "metadata": {},
   "outputs": [
    {
     "name": "stderr",
     "output_type": "stream",
     "text": [
      "/Users/brunaguedes/opt/anaconda3/envs/smenv/lib/python3.7/site-packages/pandas/plotting/_matplotlib/core.py:1235: UserWarning: FixedFormatter should only be used together with FixedLocator\n",
      "  ax.set_xticklabels(xticklabels)\n"
     ]
    },
    {
     "data": {
      "text/plain": [
       "<AxesSubplot:title={'center':'Annotations frequency over time - over 1000 notes'}, xlabel='Notitiedatum'>"
      ]
     },
     "execution_count": 6,
     "metadata": {},
     "output_type": "execute_result"
    },
    {
     "data": {
      "image/png": "[encoded data removed]",
      "text/plain": [
       "<Figure size 432x288 with 1 Axes>"
      ]
     },
     "metadata": {
      "needs_background": "light"
     },
     "output_type": "display_data"
    }
   ],
   "source": [
    "pd.crosstab(df_filtered1000['Notitiedatum'], df_filtered1000['MDN']).plot(title= 'Annotations frequency over time - over 1000 notes')"
   ]
  },
  {
   "cell_type": "code",
   "execution_count": 7,
   "metadata": {},
   "outputs": [
    {
     "name": "stderr",
     "output_type": "stream",
     "text": [
      "/Users/brunaguedes/opt/anaconda3/envs/smenv/lib/python3.7/site-packages/pandas/plotting/_matplotlib/core.py:1235: UserWarning: FixedFormatter should only be used together with FixedLocator\n",
      "  ax.set_xticklabels(xticklabels)\n"
     ]
    },
    {
     "data": {
      "text/plain": [
       "<AxesSubplot:title={'center':'Annotations frequency over time - over 500 notes'}, xlabel='Notitiedatum'>"
      ]
     },
     "execution_count": 7,
     "metadata": {},
     "output_type": "execute_result"
    },
    {
     "data": {
      "image/png": "[encoded data removed]",
      "text/plain": [
       "<Figure size 432x288 with 1 Axes>"
      ]
     },
     "metadata": {
      "needs_background": "light"
     },
     "output_type": "display_data"
    }
   ],
   "source": [
    "pd.crosstab(df_filtered500['Notitiedatum'], df_filtered500['MDN']).plot(legend=False, title= 'Annotations frequency over time - over 500 notes')"
   ]
  },
  {
   "cell_type": "code",
   "execution_count": 8,
   "metadata": {},
   "outputs": [
    {
     "data": {
      "text/html": [
       "<div>\n",
       "<style scoped>\n",
       "    .dataframe tbody tr th:only-of-type {\n",
       "        vertical-align: middle;\n",
       "    }\n",
       "\n",
       "    .dataframe tbody tr th {\n",
       "        vertical-align: top;\n",
       "    }\n",
       "\n",
       "    .dataframe thead th {\n",
       "        text-align: right;\n",
       "    }\n",
       "</style>\n",
       "<table border=\"1\" class=\"dataframe\">\n",
       "  <thead>\n",
       "    <tr style=\"text-align: right;\">\n",
       "      <th></th>\n",
       "      <th></th>\n",
       "      <th>institution</th>\n",
       "      <th>NotitieID</th>\n",
       "      <th>Typenotitie</th>\n",
       "      <th>annotated</th>\n",
       "    </tr>\n",
       "    <tr>\n",
       "      <th>MDN</th>\n",
       "      <th>Notitiedatum</th>\n",
       "      <th></th>\n",
       "      <th></th>\n",
       "      <th></th>\n",
       "      <th></th>\n",
       "    </tr>\n",
       "  </thead>\n",
       "  <tbody>\n",
       "    <tr>\n",
       "      <th rowspan=\"5\" valign=\"top\">11572</th>\n",
       "      <th>2020-12-27</th>\n",
       "      <td>4</td>\n",
       "      <td>4</td>\n",
       "      <td>3</td>\n",
       "      <td>4</td>\n",
       "    </tr>\n",
       "    <tr>\n",
       "      <th>2020-12-28</th>\n",
       "      <td>7</td>\n",
       "      <td>7</td>\n",
       "      <td>7</td>\n",
       "      <td>7</td>\n",
       "    </tr>\n",
       "    <tr>\n",
       "      <th>2020-12-29</th>\n",
       "      <td>7</td>\n",
       "      <td>7</td>\n",
       "      <td>7</td>\n",
       "      <td>7</td>\n",
       "    </tr>\n",
       "    <tr>\n",
       "      <th>2020-12-30</th>\n",
       "      <td>9</td>\n",
       "      <td>9</td>\n",
       "      <td>7</td>\n",
       "      <td>9</td>\n",
       "    </tr>\n",
       "    <tr>\n",
       "      <th>2020-12-31</th>\n",
       "      <td>4</td>\n",
       "      <td>4</td>\n",
       "      <td>4</td>\n",
       "      <td>4</td>\n",
       "    </tr>\n",
       "    <tr>\n",
       "      <th>...</th>\n",
       "      <th>...</th>\n",
       "      <td>...</td>\n",
       "      <td>...</td>\n",
       "      <td>...</td>\n",
       "      <td>...</td>\n",
       "    </tr>\n",
       "    <tr>\n",
       "      <th rowspan=\"5\" valign=\"top\">9964647</th>\n",
       "      <th>2020-06-19</th>\n",
       "      <td>1</td>\n",
       "      <td>1</td>\n",
       "      <td>0</td>\n",
       "      <td>1</td>\n",
       "    </tr>\n",
       "    <tr>\n",
       "      <th>2020-09-01</th>\n",
       "      <td>1</td>\n",
       "      <td>1</td>\n",
       "      <td>1</td>\n",
       "      <td>1</td>\n",
       "    </tr>\n",
       "    <tr>\n",
       "      <th>2020-09-02</th>\n",
       "      <td>3</td>\n",
       "      <td>3</td>\n",
       "      <td>2</td>\n",
       "      <td>3</td>\n",
       "    </tr>\n",
       "    <tr>\n",
       "      <th>2020-09-04</th>\n",
       "      <td>2</td>\n",
       "      <td>2</td>\n",
       "      <td>0</td>\n",
       "      <td>2</td>\n",
       "    </tr>\n",
       "    <tr>\n",
       "      <th>2020-09-22</th>\n",
       "      <td>1</td>\n",
       "      <td>1</td>\n",
       "      <td>0</td>\n",
       "      <td>1</td>\n",
       "    </tr>\n",
       "  </tbody>\n",
       "</table>\n",
       "<p>26195 rows × 4 columns</p>\n",
       "</div>"
      ],
      "text/plain": [
       "                      institution  NotitieID  Typenotitie  annotated\n",
       "MDN     Notitiedatum                                                \n",
       "11572   2020-12-27              4          4            3          4\n",
       "        2020-12-28              7          7            7          7\n",
       "        2020-12-29              7          7            7          7\n",
       "        2020-12-30              9          9            7          9\n",
       "        2020-12-31              4          4            4          4\n",
       "...                           ...        ...          ...        ...\n",
       "9964647 2020-06-19              1          1            0          1\n",
       "        2020-09-01              1          1            1          1\n",
       "        2020-09-02              3          3            2          3\n",
       "        2020-09-04              2          2            0          2\n",
       "        2020-09-22              1          1            0          1\n",
       "\n",
       "[26195 rows x 4 columns]"
      ]
     },
     "execution_count": 8,
     "metadata": {},
     "output_type": "execute_result"
    }
   ],
   "source": [
    "#grouped by patients and date to see the spread on notes within each patient\n",
    "df.groupby(['MDN', 'Notitiedatum']).count()"
   ]
  },
  {
   "cell_type": "code",
   "execution_count": 9,
   "metadata": {},
   "outputs": [
    {
     "name": "stdout",
     "output_type": "stream",
     "text": [
      "False    84494\n",
      "True      1361\n",
      "Name: annotated, dtype: int64\n",
      "False    18443\n",
      "True       196\n",
      "Name: annotated, dtype: int64\n",
      "False    6453\n",
      "True       65\n",
      "Name: annotated, dtype: int64\n"
     ]
    }
   ],
   "source": [
    "#how many annotated data per group\n",
    "print(df_filtered100.annotated.value_counts())\n",
    "print(df_filtered500.annotated.value_counts())\n",
    "print(df_filtered1000.annotated.value_counts())"
   ]
  },
  {
   "cell_type": "code",
   "execution_count": 10,
   "metadata": {},
   "outputs": [
    {
     "data": {
      "text/html": [
       "<div>\n",
       "<style scoped>\n",
       "    .dataframe tbody tr th:only-of-type {\n",
       "        vertical-align: middle;\n",
       "    }\n",
       "\n",
       "    .dataframe tbody tr th {\n",
       "        vertical-align: top;\n",
       "    }\n",
       "\n",
       "    .dataframe thead th {\n",
       "        text-align: right;\n",
       "    }\n",
       "</style>\n",
       "<table border=\"1\" class=\"dataframe\">\n",
       "  <thead>\n",
       "    <tr style=\"text-align: right;\">\n",
       "      <th></th>\n",
       "      <th>uniqueID</th>\n",
       "      <th>annotated</th>\n",
       "      <th>not annoated</th>\n",
       "      <th>total notes</th>\n",
       "    </tr>\n",
       "  </thead>\n",
       "  <tbody>\n",
       "    <tr>\n",
       "      <th>&gt;100 per ID</th>\n",
       "      <td>353</td>\n",
       "      <td>1361</td>\n",
       "      <td>84494</td>\n",
       "      <td>85855</td>\n",
       "    </tr>\n",
       "    <tr>\n",
       "      <th>&gt;500 per ID</th>\n",
       "      <td>25</td>\n",
       "      <td>196</td>\n",
       "      <td>18443</td>\n",
       "      <td>18639</td>\n",
       "    </tr>\n",
       "    <tr>\n",
       "      <th>&gt;1000 per ID</th>\n",
       "      <td>5</td>\n",
       "      <td>65</td>\n",
       "      <td>6453</td>\n",
       "      <td>6518</td>\n",
       "    </tr>\n",
       "  </tbody>\n",
       "</table>\n",
       "</div>"
      ],
      "text/plain": [
       "              uniqueID  annotated  not annoated  total notes\n",
       ">100 per ID        353       1361         84494        85855\n",
       ">500 per ID         25        196         18443        18639\n",
       ">1000 per ID         5         65          6453         6518"
      ]
     },
     "execution_count": 10,
     "metadata": {},
     "output_type": "execute_result"
    }
   ],
   "source": [
    "data = [{'uniqueID':df_filtered100['MDN'].nunique(), 'annotated': df_filtered100.annotated.value_counts()[1], 'not annoated': df_filtered100.annotated.value_counts()[0], 'total notes':df_filtered100.shape[0]},\n",
    "        {'uniqueID':df_filtered500['MDN'].nunique(), 'annotated': df_filtered500.annotated.value_counts()[1], 'not annoated': df_filtered500.annotated.value_counts()[0], 'total notes':df_filtered500.shape[0]},\n",
    "        {'uniqueID':df_filtered1000['MDN'].nunique(), 'annotated': df_filtered1000.annotated.value_counts()[1], 'not annoated': df_filtered1000.annotated.value_counts()[0], 'total notes':df_filtered1000.shape[0]}]\n",
    " \n",
    "# Creates DataFrame.\n",
    "df_summary = pd.DataFrame(data, index =['>100 per ID', '>500 per ID', '>1000 per ID'])\n",
    "df_summary"
   ]
  },
  {
   "cell_type": "code",
   "execution_count": 11,
   "metadata": {},
   "outputs": [
    {
     "data": {
      "text/plain": [
       "array([5704617, 8089852, 4321077, 9256011, 1610429, 4326354, 2149576,\n",
       "       1831037, 6094811, 7090139, 1920820, 5039126, 3157119, 2793467,\n",
       "        138098, 1785709, 2962659, 7567665, 4605556, 1948163, 1451793,\n",
       "       1901604, 1907258, 4507976, 1903219])"
      ]
     },
     "execution_count": 11,
     "metadata": {},
     "output_type": "execute_result"
    }
   ],
   "source": [
    "df_filtered500['MDN'].unique()"
   ]
  }
 ],
 "metadata": {
  "interpreter": {
   "hash": "6c27b44a796834241583bdbeb42ee814e418b274306334baf51704bc7770d60b"
  },
  "kernelspec": {
   "display_name": "Python 3.7.11 64-bit ('smenv': conda)",
   "name": "python3"
  },
  "language_info": {
   "codemirror_mode": {
    "name": "ipython",
    "version": 3
   },
   "file_extension": ".py",
   "mimetype": "text/x-python",
   "name": "python",
   "nbconvert_exporter": "python",
   "pygments_lexer": "ipython3",
   "version": "3.7.11"
  }
 },
 "nbformat": 4,
 "nbformat_minor": 4
}
